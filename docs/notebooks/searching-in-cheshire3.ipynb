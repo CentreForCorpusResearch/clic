{
 "metadata": {
  "name": ""
 },
 "nbformat": 3,
 "nbformat_minor": 0,
 "worksheets": [
  {
   "cells": [
    {
     "cell_type": "heading",
     "level": 1,
     "metadata": {},
     "source": [
      "Basic Cheshire Searching and Retrieving"
     ]
    },
    {
     "cell_type": "markdown",
     "metadata": {},
     "source": [
      "This file wants to document how one can use Cheshire to query the CLiC database. \n",
      "It fills in the gaps of the official cheshire documentation and it \n",
      "provides a number of very specific, hands-on examples.\n",
      "\n",
      "Author: Johan de Joode\n",
      "\n",
      "Date: 10/2/2015\n",
      "\n",
      "Database: Dickens\n",
      "\n"
     ]
    },
    {
     "cell_type": "heading",
     "level": 2,
     "metadata": {},
     "source": [
      "Setup"
     ]
    },
    {
     "cell_type": "code",
     "collapsed": false,
     "input": [
      "# coding: utf-8\n",
      "\n",
      "import os\n",
      "\n",
      "from cheshire3.baseObjects import Session\n",
      "from cheshire3.document import StringDocument\n",
      "from cheshire3.internal import cheshire3Root\n",
      "from cheshire3.server import SimpleServer   \n",
      "\n",
      "session = Session()\n",
      "session.database = 'db_dickens'\n",
      "serv = SimpleServer(session, os.path.join(cheshire3Root, 'configs', 'serverConfig.xml'))\n",
      "db = serv.get_object(session, session.database)\n",
      "qf = db.get_object(session, 'defaultQueryFactory')\n",
      "resultSetStore = db.get_object(session, 'resultSetStore')\n",
      "idxStore = db.get_object(session, 'indexStore')"
     ],
     "language": "python",
     "metadata": {},
     "outputs": [],
     "prompt_number": 2
    },
    {
     "cell_type": "heading",
     "level": 2,
     "metadata": {},
     "source": [
      "Querying"
     ]
    },
    {
     "cell_type": "markdown",
     "metadata": {},
     "source": [
      "Build a query. This does not hit the database itself. "
     ]
    },
    {
     "cell_type": "code",
     "collapsed": false,
     "input": [
      "query = qf.get_query(session, 'c3.subcorpus-idx = \"dickens\" and/cql.proxinfo c3.chapter-idx = \"fog\"')"
     ],
     "language": "python",
     "metadata": {},
     "outputs": [],
     "prompt_number": 3
    },
    {
     "cell_type": "markdown",
     "metadata": {},
     "source": [
      "A query can be printed as CQL or as XCQL"
     ]
    },
    {
     "cell_type": "code",
     "collapsed": false,
     "input": [
      "print query.toCQL()"
     ],
     "language": "python",
     "metadata": {},
     "outputs": [
      {
       "output_type": "stream",
       "stream": "stdout",
       "text": [
        "(c3.subcorpus-idx = \"dickens\" and/cql.proxinfo c3.chapter-idx = \"fog\")\n"
       ]
      }
     ],
     "prompt_number": 4
    },
    {
     "cell_type": "code",
     "collapsed": false,
     "input": [
      "print query.toXCQL()"
     ],
     "language": "python",
     "metadata": {},
     "outputs": [
      {
       "output_type": "stream",
       "stream": "stdout",
       "text": [
        "<triple xmlns=\"http://www.loc.gov/zing/cql/xcql/\">\n",
        "  <boolean>\n",
        "    <value>and</value>\n",
        "    <modifiers>\n",
        "      <modifier>\n",
        "                     <type>cql.proxinfo</type>\n",
        "      </modifier>    </modifiers>\n",
        "  </boolean>\n",
        "  <leftOperand>\n",
        "    <searchClause>\n",
        "      <index>\n",
        "        <value>c3.subcorpus-idx</value>\n",
        "      </index>\n",
        "      <relation>\n",
        "        <value>=</value>\n",
        "      </relation>\n",
        "      <term>dickens</term>\n",
        "    </searchClause>\n",
        "  </leftOperand>\n",
        "  <rightOperand>\n",
        "    <searchClause>\n",
        "      <index>\n",
        "        <value>c3.chapter-idx</value>\n",
        "      </index>\n",
        "      <relation>\n",
        "        <value>=</value>\n",
        "      </relation>\n",
        "      <term>fog</term>\n",
        "    </searchClause>\n",
        "  </rightOperand>\n",
        "</triple>\n",
        "\n"
       ]
      }
     ],
     "prompt_number": 5
    },
    {
     "cell_type": "markdown",
     "metadata": {},
     "source": [
      "To search the database using this particular query, one needs to use the search method on a database object. This spits out a result set."
     ]
    },
    {
     "cell_type": "code",
     "collapsed": false,
     "input": [
      "result_set = db.search(session, query)\n",
      "result_set"
     ],
     "language": "python",
     "metadata": {},
     "outputs": [
      {
       "metadata": {},
       "output_type": "pyout",
       "prompt_number": 6,
       "text": [
        "<cheshire3.resultSet.SimpleResultSet at 0x7fba40803090>"
       ]
      }
     ],
     "prompt_number": 6
    },
    {
     "cell_type": "heading",
     "level": 2,
     "metadata": {},
     "source": [
      "Handling the results"
     ]
    },
    {
     "cell_type": "markdown",
     "metadata": {},
     "source": [
      "When using the chapter index, the result set is an iterable of results in which *each chapter* is one result. For the query above, there are thus 35 chapters that match the query."
     ]
    },
    {
     "cell_type": "code",
     "collapsed": false,
     "input": [
      "print len(result_set)"
     ],
     "language": "python",
     "metadata": {},
     "outputs": [
      {
       "output_type": "stream",
       "stream": "stdout",
       "text": [
        "35\n"
       ]
      }
     ],
     "prompt_number": 7
    },
    {
     "cell_type": "markdown",
     "metadata": {},
     "source": [
      "Each result in the result set refers to a particular recordStore in which, surprise surprise, the actual chapter is stored."
     ]
    },
    {
     "cell_type": "code",
     "collapsed": false,
     "input": [
      "for result in result_set:\n",
      "    print result"
     ],
     "language": "python",
     "metadata": {},
     "outputs": [
      {
       "output_type": "stream",
       "stream": "stdout",
       "text": [
        "recordStore/0\n",
        "recordStore/2\n",
        "recordStore/3\n",
        "recordStore/4\n",
        "recordStore/16\n",
        "recordStore/21\n",
        "recordStore/44\n",
        "recordStore/92\n",
        "recordStore/151\n",
        "recordStore/157\n",
        "recordStore/168\n",
        "recordStore/170\n",
        "recordStore/172\n",
        "recordStore/207\n",
        "recordStore/216\n",
        "recordStore/221\n",
        "recordStore/235\n",
        "recordStore/285\n",
        "recordStore/312\n",
        "recordStore/345\n",
        "recordStore/471\n",
        "recordStore/477\n",
        "recordStore/499\n",
        "recordStore/539\n",
        "recordStore/633\n",
        "recordStore/649\n",
        "recordStore/650\n",
        "recordStore/659\n",
        "recordStore/673\n",
        "recordStore/689\n",
        "recordStore/690\n",
        "recordStore/719\n",
        "recordStore/744\n",
        "recordStore/745\n",
        "recordStore/791\n"
       ]
      }
     ],
     "prompt_number": 8
    },
    {
     "cell_type": "markdown",
     "metadata": {},
     "source": [
      "## Understanding the results\n",
      "\n",
      "For each of these results a number of attributes can be accessed using the dot notation. The choices are:\n",
      "\n",
      "* result.attributesToSerialize  \n",
      "* result.id                     \n",
      "* result.recordStore\n",
      "* result.database\n",
      "* result.diagnostic\n",
      "* result.fetch_record\n",
      "* result.proxInfo\n",
      "* result.weight\n",
      "* result.numericId\n",
      "* result.resultSet\n",
      "* result.occurences\n",
      "* result.serialize\n",
      "* result.scaledWeight \n",
      "\n",
      "In our current setup it seems that results are not weighed. "
     ]
    },
    {
     "cell_type": "markdown",
     "metadata": {},
     "source": [
      "`proxInfo` is one of the most important attributes for our purposes.\n",
      "\n",
      "It describes the proximity information for a hit in a particular record,\n",
      "or in other words, where in a record the search string can be found.\n",
      "\n",
      "We currently assume the following values:\n",
      "* the first item is the id of the root element from\n",
      "which to start counting to find the word node\n",
      "for instance, 0 for a chapter view (because the chapter\n",
      "is the root element), but 151 for a search in quotes\n",
      "text.\n",
      "* the second item in the deepest list (169, 171)\n",
      "is the id of the <w> (word) node\n",
      "* the third element is the character offset, \n",
      "or the exact character (spaces, and\n",
      "and punctuation (stored in <n> (non-word) nodes\n",
      "at which the search term starts\n",
      "* the fourth element is the total amount of characters\n",
      " in the document"
     ]
    },
    {
     "cell_type": "code",
     "collapsed": false,
     "input": [
      "for result in result_set:\n",
      "    print 'result.id: ', result.id\n",
      "    print 'result.database: ', result.database\n",
      "    print 'result.occurrences: ', result.occurences\n",
      "    print 'result.proxInfo: ', result.proxInfo\n",
      "    print \"#########\""
     ],
     "language": "python",
     "metadata": {},
     "outputs": [
      {
       "output_type": "stream",
       "stream": "stdout",
       "text": [
        "result.id:  0\n",
        "result.database:  db_dickens\n",
        "result.occurrences:  22\n",
        "result.proxInfo:  [[[0, 169, 1033, 15292]], [[0, 171, 1049, 15292]], [[0, 206, 1241, 15292]], [[0, 216, 1295, 15292]], [[0, 247, 1471, 15292]], [[0, 183, 1112, 15292]], [[0, 211, 1267, 15292]], [[0, 223, 1344, 15292]], [[0, 237, 1415, 15292]], [[0, 264, 1574, 15292]], [[0, 283, 1671, 15292]], [[0, 312, 1836, 15292]], [[0, 314, 1846, 15292]], [[0, 336, 1955, 15292]], [[0, 392, 2248, 15292]], [[0, 433, 2499, 15292]], [[0, 449, 2586, 15292]], [[0, 556, 3190, 15292]], [[0, 727, 4181, 15292]], [[0, 2017, 11496, 15292]], [[0, 2365, 13596, 15292]], [[0, 2430, 13942, 15292]]]\n",
        "#########\n",
        "result.id:  2\n",
        "result.database:  db_dickens\n",
        "result.occurrences:  2\n",
        "result.proxInfo:  [[[0, 5841, 30641, 15292]], [[0, 7479, 39482, 15292]]]\n",
        "#########\n",
        "result.id:  3\n",
        "result.database:  db_dickens\n",
        "result.occurrences:  3\n",
        "result.proxInfo:  [[[0, 590, 3263, 15292]], [[0, 694, 3814, 15292]], [[0, 4848, 26290, 15292]]]\n",
        "#########\n",
        "result.id:  4\n",
        "result.database:  db_dickens\n",
        "result.occurrences:  1\n",
        "result.proxInfo:  [[[0, 8, 47, 15292]]]\n",
        "#########\n",
        "result.id:  16\n",
        "result.database:  db_dickens\n",
        "result.occurrences:  1\n",
        "result.proxInfo:  [[[0, 1988, 11147, 15292]]]\n",
        "#########\n",
        "result.id:  21\n",
        "result.database:  db_dickens\n",
        "result.occurrences:  1\n",
        "result.proxInfo:  [[[0, 39, 239, 15292]]]\n",
        "#########\n",
        "result.id:  44\n",
        "result.database:  db_dickens\n",
        "result.occurrences:  2\n",
        "result.proxInfo:  [[[0, 1756, 9305, 15292]], [[0, 1847, 9807, 15292]]]\n",
        "#########\n",
        "result.id:  92\n",
        "result.database:  db_dickens\n",
        "result.occurrences:  1\n",
        "result.proxInfo:  [[[0, 1076, 5846, 15292]]]\n",
        "#########\n",
        "result.id:  151\n",
        "result.database:  db_dickens\n",
        "result.occurrences:  1\n",
        "result.proxInfo:  [[[0, 1851, 9818, 15292]]]\n",
        "#########\n",
        "result.id:  157\n",
        "result.database:  db_dickens\n",
        "result.occurrences:  1\n",
        "result.proxInfo:  [[[0, 170, 914, 15292]]]\n",
        "#########\n",
        "result.id:  168\n",
        "result.database:  db_dickens\n",
        "result.occurrences:  1\n",
        "result.proxInfo:  [[[0, 149, 802, 15292]]]\n",
        "#########\n",
        "result.id:  170\n",
        "result.database:  db_dickens\n",
        "result.occurrences:  1\n",
        "result.proxInfo:  [[[0, 990, 5285, 15292]]]\n",
        "#########\n",
        "result.id:  172\n",
        "result.database:  db_dickens\n",
        "result.occurrences:  1\n",
        "result.proxInfo:  [[[0, 2639, 14398, 15292]]]\n",
        "#########\n",
        "result.id:  207\n",
        "result.database:  db_dickens\n",
        "result.occurrences:  1\n",
        "result.proxInfo:  [[[0, 18, 87, 15292]]]\n",
        "#########\n",
        "result.id:  216\n",
        "result.database:  db_dickens\n",
        "result.occurrences:  3\n",
        "result.proxInfo:  [[[0, 794, 4783, 15292]], [[0, 1810, 10416, 15292]], [[0, 2238, 12751, 15292]]]\n",
        "#########\n",
        "result.id:  221\n",
        "result.database:  db_dickens\n",
        "result.occurrences:  1\n",
        "result.proxInfo:  [[[0, 3485, 19832, 15292]]]\n",
        "#########\n",
        "result.id:  235\n",
        "result.database:  db_dickens\n",
        "result.occurrences:  1\n",
        "result.proxInfo:  [[[0, 6272, 35764, 15292]]]\n",
        "#########\n",
        "result.id:  285\n",
        "result.database:  db_dickens\n",
        "result.occurrences:  11\n",
        "result.proxInfo:  [[[0, 276, 1609, 15292]], [[0, 1030, 6003, 15292]], [[0, 1095, 6372, 15292]], [[0, 1188, 6862, 15292]], [[0, 1197, 6902, 15292]], [[0, 1240, 7133, 15292]], [[0, 2058, 11809, 15292]], [[0, 2208, 12675, 15292]], [[0, 2344, 13474, 15292]], [[0, 2356, 13540, 15292]], [[0, 4864, 27349, 15292]]]\n",
        "#########\n",
        "result.id:  312\n",
        "result.database:  db_dickens\n",
        "result.occurrences:  1\n",
        "result.proxInfo:  [[[0, 3603, 19274, 15292]]]\n",
        "#########\n",
        "result.id:  345\n",
        "result.database:  db_dickens\n",
        "result.occurrences:  1\n",
        "result.proxInfo:  [[[0, 284, 1568, 15292]]]\n",
        "#########\n",
        "result.id:  471\n",
        "result.database:  db_dickens\n",
        "result.occurrences:  2\n",
        "result.proxInfo:  [[[0, 2641, 14814, 15292]], [[0, 4230, 23638, 15292]]]\n",
        "#########\n",
        "result.id:  477\n",
        "result.database:  db_dickens\n",
        "result.occurrences:  4\n",
        "result.proxInfo:  [[[0, 372, 2016, 15292]], [[0, 801, 4378, 15292]], [[0, 1622, 8670, 15292]], [[0, 2338, 12433, 15292]]]\n",
        "#########\n",
        "result.id:  499\n",
        "result.database:  db_dickens\n",
        "result.occurrences:  1\n",
        "result.proxInfo:  [[[0, 2908, 16229, 15292]]]\n",
        "#########\n",
        "result.id:  539\n",
        "result.database:  db_dickens\n",
        "result.occurrences:  1\n",
        "result.proxInfo:  [[[0, 259, 1475, 15292]]]\n",
        "#########\n",
        "result.id:  633\n",
        "result.database:  db_dickens\n",
        "result.occurrences:  1\n",
        "result.proxInfo:  [[[0, 19, 128, 15292]]]\n",
        "#########\n",
        "result.id:  649\n",
        "result.database:  db_dickens\n",
        "result.occurrences:  3\n",
        "result.proxInfo:  [[[0, 343, 2003, 15292]], [[0, 941, 5189, 15292]], [[0, 2200, 12111, 15292]]]\n",
        "#########\n",
        "result.id:  650\n",
        "result.database:  db_dickens\n",
        "result.occurrences:  1\n",
        "result.proxInfo:  [[[0, 617, 3211, 15292]]]\n",
        "#########\n",
        "result.id:  659\n",
        "result.database:  db_dickens\n",
        "result.occurrences:  1\n",
        "result.proxInfo:  [[[0, 686, 4017, 15292]]]\n",
        "#########\n",
        "result.id:  673\n",
        "result.database:  db_dickens\n",
        "result.occurrences:  1\n",
        "result.proxInfo:  [[[0, 1940, 11218, 15292]]]\n",
        "#########\n",
        "result.id:  689\n",
        "result.database:  db_dickens\n",
        "result.occurrences:  8\n",
        "result.proxInfo:  [[[0, 9, 38, 15292]], [[0, 89, 522, 15292]], [[0, 116, 657, 15292]], [[0, 279, 1555, 15292]], [[0, 326, 1784, 15292]], [[0, 406, 2222, 15292]], [[0, 3067, 17157, 15292]], [[0, 4876, 27124, 15292]]]\n",
        "#########\n",
        "result.id:  690\n",
        "result.database:  db_dickens\n",
        "result.occurrences:  9\n",
        "result.proxInfo:  [[[0, 71, 375, 15292]], [[0, 362, 1953, 15292]], [[0, 2347, 12771, 15292]], [[0, 3046, 16639, 15292]], [[0, 3218, 17622, 15292]], [[0, 3252, 17829, 15292]], [[0, 3332, 18263, 15292]], [[0, 3432, 18828, 15292]], [[0, 3484, 19134, 15292]]]\n",
        "#########\n",
        "result.id:  719\n",
        "result.database:  db_dickens\n",
        "result.occurrences:  1\n",
        "result.proxInfo:  [[[0, 265, 1514, 15292]]]\n",
        "#########\n",
        "result.id:  744\n",
        "result.database:  db_dickens\n",
        "result.occurrences:  1\n",
        "result.proxInfo:  [[[0, 415, 2460, 15292]]]\n",
        "#########\n",
        "result.id:  745\n",
        "result.database:  db_dickens\n",
        "result.occurrences:  1\n",
        "result.proxInfo:  [[[0, 1205, 6922, 15292]]]\n",
        "#########\n",
        "result.id:  791\n",
        "result.database:  db_dickens\n",
        "result.occurrences:  2\n",
        "result.proxInfo:  [[[0, 3707, 21924, 15292]], [[0, 3709, 21940, 15292]]]\n",
        "#########\n"
       ]
      }
     ],
     "prompt_number": 9
    },
    {
     "cell_type": "code",
     "collapsed": false,
     "input": [
      "for result in result_set:\n",
      "    print result.attributesToSerialize"
     ],
     "language": "python",
     "metadata": {},
     "outputs": [
      {
       "output_type": "stream",
       "stream": "stdout",
       "text": [
        "[('id', 0), ('numericId', None), ('recordStore', ''), ('database', ''), ('occurences', 0), ('weight', 0.5), ('scaledWeight', 0.5)]\n",
        "[('id', 0), ('numericId', None), ('recordStore', ''), ('database', ''), ('occurences', 0), ('weight', 0.5), ('scaledWeight', 0.5)]\n",
        "[('id', 0), ('numericId', None), ('recordStore', ''), ('database', ''), ('occurences', 0), ('weight', 0.5), ('scaledWeight', 0.5)]\n",
        "[('id', 0), ('numericId', None), ('recordStore', ''), ('database', ''), ('occurences', 0), ('weight', 0.5), ('scaledWeight', 0.5)]\n",
        "[('id', 0), ('numericId', None), ('recordStore', ''), ('database', ''), ('occurences', 0), ('weight', 0.5), ('scaledWeight', 0.5)]\n",
        "[('id', 0), ('numericId', None), ('recordStore', ''), ('database', ''), ('occurences', 0), ('weight', 0.5), ('scaledWeight', 0.5)]\n",
        "[('id', 0), ('numericId', None), ('recordStore', ''), ('database', ''), ('occurences', 0), ('weight', 0.5), ('scaledWeight', 0.5)]\n",
        "[('id', 0), ('numericId', None), ('recordStore', ''), ('database', ''), ('occurences', 0), ('weight', 0.5), ('scaledWeight', 0.5)]\n",
        "[('id', 0), ('numericId', None), ('recordStore', ''), ('database', ''), ('occurences', 0), ('weight', 0.5), ('scaledWeight', 0.5)]\n",
        "[('id', 0), ('numericId', None), ('recordStore', ''), ('database', ''), ('occurences', 0), ('weight', 0.5), ('scaledWeight', 0.5)]\n",
        "[('id', 0), ('numericId', None), ('recordStore', ''), ('database', ''), ('occurences', 0), ('weight', 0.5), ('scaledWeight', 0.5)]\n",
        "[('id', 0), ('numericId', None), ('recordStore', ''), ('database', ''), ('occurences', 0), ('weight', 0.5), ('scaledWeight', 0.5)]\n",
        "[('id', 0), ('numericId', None), ('recordStore', ''), ('database', ''), ('occurences', 0), ('weight', 0.5), ('scaledWeight', 0.5)]\n",
        "[('id', 0), ('numericId', None), ('recordStore', ''), ('database', ''), ('occurences', 0), ('weight', 0.5), ('scaledWeight', 0.5)]\n",
        "[('id', 0), ('numericId', None), ('recordStore', ''), ('database', ''), ('occurences', 0), ('weight', 0.5), ('scaledWeight', 0.5)]\n",
        "[('id', 0), ('numericId', None), ('recordStore', ''), ('database', ''), ('occurences', 0), ('weight', 0.5), ('scaledWeight', 0.5)]\n",
        "[('id', 0), ('numericId', None), ('recordStore', ''), ('database', ''), ('occurences', 0), ('weight', 0.5), ('scaledWeight', 0.5)]\n",
        "[('id', 0), ('numericId', None), ('recordStore', ''), ('database', ''), ('occurences', 0), ('weight', 0.5), ('scaledWeight', 0.5)]\n",
        "[('id', 0), ('numericId', None), ('recordStore', ''), ('database', ''), ('occurences', 0), ('weight', 0.5), ('scaledWeight', 0.5)]\n",
        "[('id', 0), ('numericId', None), ('recordStore', ''), ('database', ''), ('occurences', 0), ('weight', 0.5), ('scaledWeight', 0.5)]\n",
        "[('id', 0), ('numericId', None), ('recordStore', ''), ('database', ''), ('occurences', 0), ('weight', 0.5), ('scaledWeight', 0.5)]\n",
        "[('id', 0), ('numericId', None), ('recordStore', ''), ('database', ''), ('occurences', 0), ('weight', 0.5), ('scaledWeight', 0.5)]\n",
        "[('id', 0), ('numericId', None), ('recordStore', ''), ('database', ''), ('occurences', 0), ('weight', 0.5), ('scaledWeight', 0.5)]\n",
        "[('id', 0), ('numericId', None), ('recordStore', ''), ('database', ''), ('occurences', 0), ('weight', 0.5), ('scaledWeight', 0.5)]\n",
        "[('id', 0), ('numericId', None), ('recordStore', ''), ('database', ''), ('occurences', 0), ('weight', 0.5), ('scaledWeight', 0.5)]\n",
        "[('id', 0), ('numericId', None), ('recordStore', ''), ('database', ''), ('occurences', 0), ('weight', 0.5), ('scaledWeight', 0.5)]\n",
        "[('id', 0), ('numericId', None), ('recordStore', ''), ('database', ''), ('occurences', 0), ('weight', 0.5), ('scaledWeight', 0.5)]\n",
        "[('id', 0), ('numericId', None), ('recordStore', ''), ('database', ''), ('occurences', 0), ('weight', 0.5), ('scaledWeight', 0.5)]\n",
        "[('id', 0), ('numericId', None), ('recordStore', ''), ('database', ''), ('occurences', 0), ('weight', 0.5), ('scaledWeight', 0.5)]\n",
        "[('id', 0), ('numericId', None), ('recordStore', ''), ('database', ''), ('occurences', 0), ('weight', 0.5), ('scaledWeight', 0.5)]\n",
        "[('id', 0), ('numericId', None), ('recordStore', ''), ('database', ''), ('occurences', 0), ('weight', 0.5), ('scaledWeight', 0.5)]\n",
        "[('id', 0), ('numericId', None), ('recordStore', ''), ('database', ''), ('occurences', 0), ('weight', 0.5), ('scaledWeight', 0.5)]\n",
        "[('id', 0), ('numericId', None), ('recordStore', ''), ('database', ''), ('occurences', 0), ('weight', 0.5), ('scaledWeight', 0.5)]\n",
        "[('id', 0), ('numericId', None), ('recordStore', ''), ('database', ''), ('occurences', 0), ('weight', 0.5), ('scaledWeight', 0.5)]\n",
        "[('id', 0), ('numericId', None), ('recordStore', ''), ('database', ''), ('occurences', 0), ('weight', 0.5), ('scaledWeight', 0.5)]\n"
       ]
      }
     ],
     "prompt_number": 10
    },
    {
     "cell_type": "markdown",
     "metadata": {},
     "source": [
      "From what I gather, a result in a resultSet is only a pointer to the document and not the document itself.\n",
      "The latter needs to be fetched and is generally called a record.\n",
      "\n",
      "Records have the following attributes (most of which seem irrelevant for our purposes and several of which\n",
      "only return empty strings):\n",
      "\n",
      "    rec.baseUri           rec.elementHash       rec.get_sax           rec.parent            rec.rights            \n",
      "    rec.byteCount         rec.fetch_proxVector  rec.get_xml           rec.processHistory    rec.sax               \n",
      "    rec.context           rec.fetch_vector      rec.history           rec.process_xpath     rec.size              \n",
      "    rec.digest            rec.filename          rec.id                rec.recordStore       rec.status            \n",
      "    rec.dom               rec.get_dom           rec.metadata          rec.resultSetItem     rec.tagName  \n",
      "    rec.wordCount         rec.xml"
     ]
    },
    {
     "cell_type": "code",
     "collapsed": false,
     "input": [
      "for result in result_set:\n",
      "    rec = result.fetch_record(session)\n",
      "    print type(rec), rec"
     ],
     "language": "python",
     "metadata": {},
     "outputs": [
      {
       "output_type": "stream",
       "stream": "stdout",
       "text": [
        "<class 'cheshire3.record.LxmlRecord'> recordStore/0\n",
        "<class 'cheshire3.record.LxmlRecord'> recordStore/2\n",
        "<class 'cheshire3.record.LxmlRecord'>"
       ]
      },
      {
       "output_type": "stream",
       "stream": "stdout",
       "text": [
        " recordStore/3\n",
        "<class 'cheshire3.record.LxmlRecord'> recordStore/4\n",
        "<class 'cheshire3.record.LxmlRecord'>"
       ]
      },
      {
       "output_type": "stream",
       "stream": "stdout",
       "text": [
        " recordStore/16\n",
        "<class 'cheshire3.record.LxmlRecord'> recordStore/21\n",
        "<class 'cheshire3.record.LxmlRecord'>"
       ]
      },
      {
       "output_type": "stream",
       "stream": "stdout",
       "text": [
        " recordStore/44\n",
        "<class 'cheshire3.record.LxmlRecord'> recordStore/92\n",
        "<class 'cheshire3.record.LxmlRecord'> recordStore/151\n",
        "<class 'cheshire3.record.LxmlRecord'>"
       ]
      },
      {
       "output_type": "stream",
       "stream": "stdout",
       "text": [
        " recordStore/157\n",
        "<class 'cheshire3.record.LxmlRecord'> recordStore/168\n",
        "<class 'cheshire3.record.LxmlRecord'>"
       ]
      },
      {
       "output_type": "stream",
       "stream": "stdout",
       "text": [
        " recordStore/170\n",
        "<class 'cheshire3.record.LxmlRecord'> recordStore/172\n",
        "<class 'cheshire3.record.LxmlRecord'>"
       ]
      },
      {
       "output_type": "stream",
       "stream": "stdout",
       "text": [
        " recordStore/207\n",
        "<class 'cheshire3.record.LxmlRecord'> recordStore/216\n",
        "<class 'cheshire3.record.LxmlRecord'>"
       ]
      },
      {
       "output_type": "stream",
       "stream": "stdout",
       "text": [
        " recordStore/221\n",
        "<class 'cheshire3.record.LxmlRecord'> recordStore/235\n",
        "<class 'cheshire3.record.LxmlRecord'>"
       ]
      },
      {
       "output_type": "stream",
       "stream": "stdout",
       "text": [
        " recordStore/285\n",
        "<class 'cheshire3.record.LxmlRecord'> recordStore/312\n",
        "<class 'cheshire3.record.LxmlRecord'> recordStore/345\n",
        "<class 'cheshire3.record.LxmlRecord'>"
       ]
      },
      {
       "output_type": "stream",
       "stream": "stdout",
       "text": [
        " recordStore/471\n",
        "<class 'cheshire3.record.LxmlRecord'> recordStore/477\n",
        "<class 'cheshire3.record.LxmlRecord'>"
       ]
      },
      {
       "output_type": "stream",
       "stream": "stdout",
       "text": [
        " recordStore/499\n",
        "<class 'cheshire3.record.LxmlRecord'> recordStore/539\n",
        "<class 'cheshire3.record.LxmlRecord'> recordStore/633\n",
        "<class 'cheshire3.record.LxmlRecord'>"
       ]
      },
      {
       "output_type": "stream",
       "stream": "stdout",
       "text": [
        " recordStore/649\n",
        "<class 'cheshire3.record.LxmlRecord'> recordStore/650\n",
        "<class 'cheshire3.record.LxmlRecord'> recordStore/659\n",
        "<class 'cheshire3.record.LxmlRecord'>"
       ]
      },
      {
       "output_type": "stream",
       "stream": "stdout",
       "text": [
        " recordStore/673\n",
        "<class 'cheshire3.record.LxmlRecord'> recordStore/689\n",
        "<class 'cheshire3.record.LxmlRecord'> recordStore/690\n",
        "<class 'cheshire3.record.LxmlRecord'>"
       ]
      },
      {
       "output_type": "stream",
       "stream": "stdout",
       "text": [
        " recordStore/719\n",
        "<class 'cheshire3.record.LxmlRecord'> recordStore/744\n",
        "<class 'cheshire3.record.LxmlRecord'> recordStore/745\n",
        "<class 'cheshire3.record.LxmlRecord'>"
       ]
      },
      {
       "output_type": "stream",
       "stream": "stdout",
       "text": [
        " recordStore/791\n"
       ]
      }
     ],
     "prompt_number": 11
    },
    {
     "cell_type": "markdown",
     "metadata": {},
     "source": [
      "The `get_dom(session)` method spits out the record in parsed xml.\n",
      "This is essential for our purposes."
     ]
    },
    {
     "cell_type": "code",
     "collapsed": false,
     "input": [
      "for result in result_set:\n",
      "    rec = result.fetch_record(session)\n",
      "    print \"rec.id: \", rec.id\n",
      "    print 'rec.wordCount: ', rec.wordCount\n",
      "    print 'rec.get_dom(session): ', rec.get_dom(session)\n",
      "    print \"#######\""
     ],
     "language": "python",
     "metadata": {},
     "outputs": [
      {
       "output_type": "stream",
       "stream": "stdout",
       "text": [
        "rec.id:  0\n",
        "rec.wordCount:  5008\n",
        "rec.get_dom(session):  <Element div at 0x7fba4013bef0>\n",
        "#######\n",
        "rec.id:  2\n",
        "rec.wordCount:  14902\n",
        "rec.get_dom(session):  <Element div at 0x7fba4013bfc8>\n",
        "#######\n",
        "rec.id: "
       ]
      },
      {
       "output_type": "stream",
       "stream": "stdout",
       "text": [
        " 3\n",
        "rec.wordCount:  9279\n",
        "rec.get_dom(session):  <Element div at 0x7fba4013b7e8>\n",
        "#######\n",
        "rec.id:  4\n",
        "rec.wordCount:  10716\n",
        "rec.get_dom(session):  <Element div at 0x7fba4013b8c0>\n",
        "#######\n",
        "rec.id: "
       ]
      },
      {
       "output_type": "stream",
       "stream": "stdout",
       "text": [
        " 16\n",
        "rec.wordCount:  10690\n",
        "rec.get_dom(session):  <Element div at 0x7fba4013bfc8>\n",
        "#######\n",
        "rec.id:  21\n",
        "rec.wordCount:  9765\n",
        "rec.get_dom(session):  <Element div at 0x7fba4013b4d0>\n",
        "#######\n",
        "rec.id: "
       ]
      },
      {
       "output_type": "stream",
       "stream": "stdout",
       "text": [
        " 44\n",
        "rec.wordCount:  10135\n",
        "rec.get_dom(session):  <Element div at 0x7fba4013bea8>\n",
        "#######\n",
        "rec.id:  92\n",
        "rec.wordCount:  3524\n",
        "rec.get_dom(session):  <Element div at 0x7fba4013b7e8>\n",
        "#######\n",
        "rec.id:  151\n",
        "rec.wordCount:  12178\n",
        "rec.get_dom(session):  <Element div at 0x7fba4013bb48>\n",
        "#######\n",
        "rec.id:  157\n",
        "rec.wordCount:  9454\n",
        "rec.get_dom(session):  <Element div at 0x7fba4013bfc8>\n",
        "#######\n",
        "rec.id: "
       ]
      },
      {
       "output_type": "stream",
       "stream": "stdout",
       "text": [
        " 168\n",
        "rec.wordCount:  6952\n",
        "rec.get_dom(session):  <Element div at 0x7fba4013bd88>\n",
        "#######\n",
        "rec.id:  170\n",
        "rec.wordCount:  17320\n",
        "rec.get_dom(session):  <Element div at 0x7fba4013bf80>\n",
        "#######\n",
        "rec.id:  172\n",
        "rec.wordCount:  6730\n",
        "rec.get_dom(session):  <Element div at 0x7fba4013bef0>\n",
        "#######\n",
        "rec.id: "
       ]
      },
      {
       "output_type": "stream",
       "stream": "stdout",
       "text": [
        " 207\n",
        "rec.wordCount:  12419\n",
        "rec.get_dom(session):  <Element div at 0x7fba4013bbd8>\n",
        "#######\n",
        "rec.id:  216\n",
        "rec.wordCount:  9205\n",
        "rec.get_dom(session):  <Element div at 0x7fba4013b8c0>\n",
        "#######\n",
        "rec.id:  221\n",
        "rec.wordCount:  10238\n",
        "rec.get_dom(session):  <Element div at 0x7fba4013b908>\n",
        "#######\n",
        "rec.id: "
       ]
      },
      {
       "output_type": "stream",
       "stream": "stdout",
       "text": [
        " 235\n",
        "rec.wordCount:  17818\n",
        "rec.get_dom(session):  <Element div at 0x7fba4013bf80>\n",
        "#######\n",
        "rec.id:  285\n",
        "rec.wordCount:  9972\n",
        "rec.get_dom(session):  <Element div at 0x7fba4013ba70>\n",
        "#######\n",
        "rec.id:  312\n",
        "rec.wordCount:  8117\n",
        "rec.get_dom(session):  <Element div at 0x7fba4013b908>\n",
        "#######\n",
        "rec.id:  345\n",
        "rec.wordCount:  5173\n",
        "rec.get_dom(session):  <Element div at 0x7fba4013ba28>\n",
        "#######\n",
        "rec.id: "
       ]
      },
      {
       "output_type": "stream",
       "stream": "stdout",
       "text": [
        " 471\n",
        "rec.wordCount:  8567\n",
        "rec.get_dom(session):  <Element div at 0x7fba4013b830>\n",
        "#######\n",
        "rec.id:  477\n",
        "rec.wordCount:  8821\n",
        "rec.get_dom(session):  <Element div at 0x7fba4013bbd8>\n",
        "#######\n",
        "rec.id:  499\n",
        "rec.wordCount:  16719\n",
        "rec.get_dom(session):  <Element div at 0x7fba4013bc68>\n",
        "#######\n",
        "rec.id: "
       ]
      },
      {
       "output_type": "stream",
       "stream": "stdout",
       "text": [
        " 539\n",
        "rec.wordCount:  11604\n",
        "rec.get_dom(session):  <Element div at 0x7fba4013ba28>\n",
        "#######\n",
        "rec.id:  633\n",
        "rec.wordCount:  4266\n",
        "rec.get_dom(session):  <Element div at 0x7fba4013bf38>\n",
        "#######\n",
        "rec.id:  649\n",
        "rec.wordCount:  6309\n",
        "rec.get_dom(session):  <Element div at 0x7fba4013b8c0>\n",
        "#######\n",
        "rec.id:  650\n",
        "rec.wordCount:  5158\n",
        "rec.get_dom(session):  <Element div at 0x7fba4013b488>\n",
        "#######\n",
        "rec.id:  659\n",
        "rec.wordCount:  8932\n",
        "rec.get_dom(session):  <Element div at 0x7fba4013bd88>\n",
        "#######\n",
        "rec.id: "
       ]
      },
      {
       "output_type": "stream",
       "stream": "stdout",
       "text": [
        " 673\n",
        "rec.wordCount:  13789\n",
        "rec.get_dom(session):  <Element div at 0x7fba4013bc68>\n",
        "#######\n",
        "rec.id:  689\n",
        "rec.wordCount:  9184\n",
        "rec.get_dom(session):  <Element div at 0x7fba4013b830>\n",
        "#######\n",
        "rec.id:  690\n",
        "rec.wordCount:  7505\n",
        "rec.get_dom(session):  <Element div at 0x7fba4013bb00>\n",
        "#######\n",
        "rec.id:  719\n",
        "rec.wordCount:  9340\n",
        "rec.get_dom(session):  <Element div at 0x7fba4013b4d0>\n",
        "#######\n",
        "rec.id:  744\n",
        "rec.wordCount:  4149\n",
        "rec.get_dom(session): "
       ]
      },
      {
       "output_type": "stream",
       "stream": "stdout",
       "text": [
        " <Element div at 0x7fba4013bb48>\n",
        "#######\n",
        "rec.id:  745\n",
        "rec.wordCount:  4651\n",
        "rec.get_dom(session):  <Element div at 0x7fba4013bc68>\n",
        "#######\n",
        "rec.id:  791\n",
        "rec.wordCount:  9450\n",
        "rec.get_dom(session):  <Element div at 0x7fba4013bd40>\n",
        "#######\n"
       ]
      }
     ],
     "prompt_number": 12
    },
    {
     "cell_type": "code",
     "collapsed": false,
     "input": [
      "result_set.attributesToSerialize"
     ],
     "language": "python",
     "metadata": {},
     "outputs": [
      {
       "metadata": {},
       "output_type": "pyout",
       "prompt_number": 13,
       "text": [
        "[('id', ''),\n",
        " ('termid', -1),\n",
        " ('totalOccs', 0),\n",
        " ('totalRecs', 0),\n",
        " ('expires', 0),\n",
        " ('queryTerm', ''),\n",
        " ('queryFreq', 0),\n",
        " ('queryPositions', []),\n",
        " ('relevancy', 0),\n",
        " ('maxWeight', 0),\n",
        " ('minWeight', 0),\n",
        " ('termWeight', 0.0),\n",
        " ('recordStore', ''),\n",
        " ('recordStoreSizes', 0),\n",
        " ('index', None),\n",
        " ('queryTime', 0.0),\n",
        " ('query', '')]"
       ]
      }
     ],
     "prompt_number": 13
    },
    {
     "cell_type": "code",
     "collapsed": false,
     "input": [
      "result.attributesToSerialize"
     ],
     "language": "python",
     "metadata": {},
     "outputs": [
      {
       "metadata": {},
       "output_type": "pyout",
       "prompt_number": 14,
       "text": [
        "[('id', 0),\n",
        " ('numericId', None),\n",
        " ('recordStore', ''),\n",
        " ('database', ''),\n",
        " ('occurences', 0),\n",
        " ('weight', 0.5),\n",
        " ('scaledWeight', 0.5)]"
       ]
      }
     ],
     "prompt_number": 14
    },
    {
     "cell_type": "code",
     "collapsed": false,
     "input": [
      "for result in result_set:\n",
      "    print result.serialize(session)"
     ],
     "language": "python",
     "metadata": {},
     "outputs": [
      {
       "output_type": "stream",
       "stream": "stdout",
       "text": [
        "<item><d n=\"recordStore\" t=\"str\">recordStore</d><d n=\"database\" t=\"str\">db_dickens</d><d n=\"occurences\" t=\"int\">22</d><proxInfo><hit><w e=\"0\" w=\"169\" o=\"1033\" t=\"15292\"/></hit><hit><w e=\"0\" w=\"171\" o=\"1049\" t=\"15292\"/></hit><hit><w e=\"0\" w=\"206\" o=\"1241\" t=\"15292\"/></hit><hit><w e=\"0\" w=\"216\" o=\"1295\" t=\"15292\"/></hit><hit><w e=\"0\" w=\"247\" o=\"1471\" t=\"15292\"/></hit><hit><w e=\"0\" w=\"183\" o=\"1112\" t=\"15292\"/></hit><hit><w e=\"0\" w=\"211\" o=\"1267\" t=\"15292\"/></hit><hit><w e=\"0\" w=\"223\" o=\"1344\" t=\"15292\"/></hit><hit><w e=\"0\" w=\"237\" o=\"1415\" t=\"15292\"/></hit><hit><w e=\"0\" w=\"264\" o=\"1574\" t=\"15292\"/></hit><hit><w e=\"0\" w=\"283\" o=\"1671\" t=\"15292\"/></hit><hit><w e=\"0\" w=\"312\" o=\"1836\" t=\"15292\"/></hit><hit><w e=\"0\" w=\"314\" o=\"1846\" t=\"15292\"/></hit><hit><w e=\"0\" w=\"336\" o=\"1955\" t=\"15292\"/></hit><hit><w e=\"0\" w=\"392\" o=\"2248\" t=\"15292\"/></hit><hit><w e=\"0\" w=\"433\" o=\"2499\" t=\"15292\"/></hit><hit><w e=\"0\" w=\"449\" o=\"2586\" t=\"15292\"/></hit><hit><w e=\"0\" w=\"556\" o=\"3190\" t=\"15292\"/></hit><hit><w e=\"0\" w=\"727\" o=\"4181\" t=\"15292\"/></hit><hit><w e=\"0\" w=\"2017\" o=\"11496\" t=\"15292\"/></hit><hit><w e=\"0\" w=\"2365\" o=\"13596\" t=\"15292\"/></hit><hit><w e=\"0\" w=\"2430\" o=\"13942\" t=\"15292\"/></hit></proxInfo></item>\n",
        "<item><d n=\"id\" t=\"int\">2</d><d n=\"recordStore\" t=\"str\">recordStore</d><d n=\"database\" t=\"str\">db_dickens</d><d n=\"occurences\" t=\"int\">2</d><proxInfo><hit><w e=\"0\" w=\"5841\" o=\"30641\" t=\"15292\"/></hit><hit><w e=\"0\" w=\"7479\" o=\"39482\" t=\"15292\"/></hit></proxInfo></item>\n",
        "<item><d n=\"id\" t=\"int\">3</d><d n=\"recordStore\" t=\"str\">recordStore</d><d n=\"database\" t=\"str\">db_dickens</d><d n=\"occurences\" t=\"int\">3</d><proxInfo><hit><w e=\"0\" w=\"590\" o=\"3263\" t=\"15292\"/></hit><hit><w e=\"0\" w=\"694\" o=\"3814\" t=\"15292\"/></hit><hit><w e=\"0\" w=\"4848\" o=\"26290\" t=\"15292\"/></hit></proxInfo></item>\n",
        "<item><d n=\"id\" t=\"int\">4</d><d n=\"recordStore\" t=\"str\">recordStore</d><d n=\"database\" t=\"str\">db_dickens</d><d n=\"occurences\" t=\"int\">1</d><proxInfo><hit><w e=\"0\" w=\"8\" o=\"47\" t=\"15292\"/></hit></proxInfo></item>\n",
        "<item><d n=\"id\" t=\"int\">16</d><d n=\"recordStore\" t=\"str\">recordStore</d><d n=\"database\" t=\"str\">db_dickens</d><d n=\"occurences\" t=\"int\">1</d><proxInfo><hit><w e=\"0\" w=\"1988\" o=\"11147\" t=\"15292\"/></hit></proxInfo></item>\n",
        "<item><d n=\"id\" t=\"int\">21</d><d n=\"recordStore\" t=\"str\">recordStore</d><d n=\"database\" t=\"str\">db_dickens</d><d n=\"occurences\" t=\"int\">1</d><proxInfo><hit><w e=\"0\" w=\"39\" o=\"239\" t=\"15292\"/></hit></proxInfo></item>\n",
        "<item><d n=\"id\" t=\"int\">44</d><d n=\"recordStore\" t=\"str\">recordStore</d><d n=\"database\" t=\"str\">db_dickens</d><d n=\"occurences\" t=\"int\">2</d><proxInfo><hit><w e=\"0\" w=\"1756\" o=\"9305\" t=\"15292\"/></hit><hit><w e=\"0\" w=\"1847\" o=\"9807\" t=\"15292\"/></hit></proxInfo></item>\n",
        "<item><d n=\"id\" t=\"int\">92</d><d n=\"recordStore\" t=\"str\">recordStore</d><d n=\"database\" t=\"str\">db_dickens</d><d n=\"occurences\" t=\"int\">1</d><proxInfo><hit><w e=\"0\" w=\"1076\" o=\"5846\" t=\"15292\"/></hit></proxInfo></item>\n",
        "<item><d n=\"id\" t=\"int\">151</d><d n=\"recordStore\" t=\"str\">recordStore</d><d n=\"database\" t=\"str\">db_dickens</d><d n=\"occurences\" t=\"int\">1</d><proxInfo><hit><w e=\"0\" w=\"1851\" o=\"9818\" t=\"15292\"/></hit></proxInfo></item>\n",
        "<item><d n=\"id\" t=\"int\">157</d><d n=\"recordStore\" t=\"str\">recordStore</d><d n=\"database\" t=\"str\">db_dickens</d><d n=\"occurences\" t=\"int\">1</d><proxInfo><hit><w e=\"0\" w=\"170\" o=\"914\" t=\"15292\"/></hit></proxInfo></item>\n",
        "<item><d n=\"id\" t=\"int\">168</d><d n=\"recordStore\" t=\"str\">recordStore</d><d n=\"database\" t=\"str\">db_dickens</d><d n=\"occurences\" t=\"int\">1</d><proxInfo><hit><w e=\"0\" w=\"149\" o=\"802\" t=\"15292\"/></hit></proxInfo></item>\n",
        "<item><d n=\"id\" t=\"int\">170</d><d n=\"recordStore\" t=\"str\">recordStore</d><d n=\"database\" t=\"str\">db_dickens</d><d n=\"occurences\" t=\"int\">1</d><proxInfo><hit><w e=\"0\" w=\"990\" o=\"5285\" t=\"15292\"/></hit></proxInfo></item>\n",
        "<item><d n=\"id\" t=\"int\">172</d><d n=\"recordStore\" t=\"str\">recordStore</d><d n=\"database\" t=\"str\">db_dickens</d><d n=\"occurences\" t=\"int\">1</d><proxInfo><hit><w e=\"0\" w=\"2639\" o=\"14398\" t=\"15292\"/></hit></proxInfo></item>\n",
        "<item><d n=\"id\" t=\"int\">207</d><d n=\"recordStore\" t=\"str\">recordStore</d><d n=\"database\" t=\"str\">db_dickens</d><d n=\"occurences\" t=\"int\">1</d><proxInfo><hit><w e=\"0\" w=\"18\" o=\"87\" t=\"15292\"/></hit></proxInfo></item>\n",
        "<item><d n=\"id\" t=\"int\">216</d><d n=\"recordStore\" t=\"str\">recordStore</d><d n=\"database\" t=\"str\">db_dickens</d><d n=\"occurences\" t=\"int\">3</d><proxInfo><hit><w e=\"0\" w=\"794\" o=\"4783\" t=\"15292\"/></hit><hit><w e=\"0\" w=\"1810\" o=\"10416\" t=\"15292\"/></hit><hit><w e=\"0\" w=\"2238\" o=\"12751\" t=\"15292\"/></hit></proxInfo></item>\n",
        "<item><d n=\"id\" t=\"int\">221</d><d n=\"recordStore\" t=\"str\">recordStore</d><d n=\"database\" t=\"str\">db_dickens</d><d n=\"occurences\" t=\"int\">1</d><proxInfo><hit><w e=\"0\" w=\"3485\" o=\"19832\" t=\"15292\"/></hit></proxInfo></item>\n",
        "<item><d n=\"id\" t=\"int\">235</d><d n=\"recordStore\" t=\"str\">recordStore</d><d n=\"database\" t=\"str\">db_dickens</d><d n=\"occurences\" t=\"int\">1</d><proxInfo><hit><w e=\"0\" w=\"6272\" o=\"35764\" t=\"15292\"/></hit></proxInfo></item>\n",
        "<item><d n=\"id\" t=\"int\">285</d><d n=\"recordStore\" t=\"str\">recordStore</d><d n=\"database\" t=\"str\">db_dickens</d><d n=\"occurences\" t=\"int\">11</d><proxInfo><hit><w e=\"0\" w=\"276\" o=\"1609\" t=\"15292\"/></hit><hit><w e=\"0\" w=\"1030\" o=\"6003\" t=\"15292\"/></hit><hit><w e=\"0\" w=\"1095\" o=\"6372\" t=\"15292\"/></hit><hit><w e=\"0\" w=\"1188\" o=\"6862\" t=\"15292\"/></hit><hit><w e=\"0\" w=\"1197\" o=\"6902\" t=\"15292\"/></hit><hit><w e=\"0\" w=\"1240\" o=\"7133\" t=\"15292\"/></hit><hit><w e=\"0\" w=\"2058\" o=\"11809\" t=\"15292\"/></hit><hit><w e=\"0\" w=\"2208\" o=\"12675\" t=\"15292\"/></hit><hit><w e=\"0\" w=\"2344\" o=\"13474\" t=\"15292\"/></hit><hit><w e=\"0\" w=\"2356\" o=\"13540\" t=\"15292\"/></hit><hit><w e=\"0\" w=\"4864\" o=\"27349\" t=\"15292\"/></hit></proxInfo></item>\n",
        "<item><d n=\"id\" t=\"int\">312</d><d n=\"recordStore\" t=\"str\">recordStore</d><d n=\"database\" t=\"str\">db_dickens</d><d n=\"occurences\" t=\"int\">1</d><proxInfo><hit><w e=\"0\" w=\"3603\" o=\"19274\" t=\"15292\"/></hit></proxInfo></item>\n",
        "<item><d n=\"id\" t=\"int\">345</d><d n=\"recordStore\" t=\"str\">recordStore</d><d n=\"database\" t=\"str\">db_dickens</d><d n=\"occurences\" t=\"int\">1</d><proxInfo><hit><w e=\"0\" w=\"284\" o=\"1568\" t=\"15292\"/></hit></proxInfo></item>\n",
        "<item><d n=\"id\" t=\"int\">471</d><d n=\"recordStore\" t=\"str\">recordStore</d><d n=\"database\" t=\"str\">db_dickens</d><d n=\"occurences\" t=\"int\">2</d><proxInfo><hit><w e=\"0\" w=\"2641\" o=\"14814\" t=\"15292\"/></hit><hit><w e=\"0\" w=\"4230\" o=\"23638\" t=\"15292\"/></hit></proxInfo></item>\n",
        "<item><d n=\"id\" t=\"int\">477</d><d n=\"recordStore\" t=\"str\">recordStore</d><d n=\"database\" t=\"str\">db_dickens</d><d n=\"occurences\" t=\"int\">4</d><proxInfo><hit><w e=\"0\" w=\"372\" o=\"2016\" t=\"15292\"/></hit><hit><w e=\"0\" w=\"801\" o=\"4378\" t=\"15292\"/></hit><hit><w e=\"0\" w=\"1622\" o=\"8670\" t=\"15292\"/></hit><hit><w e=\"0\" w=\"2338\" o=\"12433\" t=\"15292\"/></hit></proxInfo></item>\n",
        "<item><d n=\"id\" t=\"int\">499</d><d n=\"recordStore\" t=\"str\">recordStore</d><d n=\"database\" t=\"str\">db_dickens</d><d n=\"occurences\" t=\"int\">1</d><proxInfo><hit><w e=\"0\" w=\"2908\" o=\"16229\" t=\"15292\"/></hit></proxInfo></item>\n",
        "<item><d n=\"id\" t=\"int\">539</d><d n=\"recordStore\" t=\"str\">recordStore</d><d n=\"database\" t=\"str\">db_dickens</d><d n=\"occurences\" t=\"int\">1</d><proxInfo><hit><w e=\"0\" w=\"259\" o=\"1475\" t=\"15292\"/></hit></proxInfo></item>\n",
        "<item><d n=\"id\" t=\"int\">633</d><d n=\"recordStore\" t=\"str\">recordStore</d><d n=\"database\" t=\"str\">db_dickens</d><d n=\"occurences\" t=\"int\">1</d><proxInfo><hit><w e=\"0\" w=\"19\" o=\"128\" t=\"15292\"/></hit></proxInfo></item>\n",
        "<item><d n=\"id\" t=\"int\">649</d><d n=\"recordStore\" t=\"str\">recordStore</d><d n=\"database\" t=\"str\">db_dickens</d><d n=\"occurences\" t=\"int\">3</d><proxInfo><hit><w e=\"0\" w=\"343\" o=\"2003\" t=\"15292\"/></hit><hit><w e=\"0\" w=\"941\" o=\"5189\" t=\"15292\"/></hit><hit><w e=\"0\" w=\"2200\" o=\"12111\" t=\"15292\"/></hit></proxInfo></item>\n",
        "<item><d n=\"id\" t=\"int\">650</d><d n=\"recordStore\" t=\"str\">recordStore</d><d n=\"database\" t=\"str\">db_dickens</d><d n=\"occurences\" t=\"int\">1</d><proxInfo><hit><w e=\"0\" w=\"617\" o=\"3211\" t=\"15292\"/></hit></proxInfo></item>\n",
        "<item><d n=\"id\" t=\"int\">659</d><d n=\"recordStore\" t=\"str\">recordStore</d><d n=\"database\" t=\"str\">db_dickens</d><d n=\"occurences\" t=\"int\">1</d><proxInfo><hit><w e=\"0\" w=\"686\" o=\"4017\" t=\"15292\"/></hit></proxInfo></item>\n",
        "<item><d n=\"id\" t=\"int\">673</d><d n=\"recordStore\" t=\"str\">recordStore</d><d n=\"database\" t=\"str\">db_dickens</d><d n=\"occurences\" t=\"int\">1</d><proxInfo><hit><w e=\"0\" w=\"1940\" o=\"11218\" t=\"15292\"/></hit></proxInfo></item>\n",
        "<item><d n=\"id\" t=\"int\">689</d><d n=\"recordStore\" t=\"str\">recordStore</d><d n=\"database\" t=\"str\">db_dickens</d><d n=\"occurences\" t=\"int\">8</d><proxInfo><hit><w e=\"0\" w=\"9\" o=\"38\" t=\"15292\"/></hit><hit><w e=\"0\" w=\"89\" o=\"522\" t=\"15292\"/></hit><hit><w e=\"0\" w=\"116\" o=\"657\" t=\"15292\"/></hit><hit><w e=\"0\" w=\"279\" o=\"1555\" t=\"15292\"/></hit><hit><w e=\"0\" w=\"326\" o=\"1784\" t=\"15292\"/></hit><hit><w e=\"0\" w=\"406\" o=\"2222\" t=\"15292\"/></hit><hit><w e=\"0\" w=\"3067\" o=\"17157\" t=\"15292\"/></hit><hit><w e=\"0\" w=\"4876\" o=\"27124\" t=\"15292\"/></hit></proxInfo></item>\n",
        "<item><d n=\"id\" t=\"int\">690</d><d n=\"recordStore\" t=\"str\">recordStore</d><d n=\"database\" t=\"str\">db_dickens</d><d n=\"occurences\" t=\"int\">9</d><proxInfo><hit><w e=\"0\" w=\"71\" o=\"375\" t=\"15292\"/></hit><hit><w e=\"0\" w=\"362\" o=\"1953\" t=\"15292\"/></hit><hit><w e=\"0\" w=\"2347\" o=\"12771\" t=\"15292\"/></hit><hit><w e=\"0\" w=\"3046\" o=\"16639\" t=\"15292\"/></hit><hit><w e=\"0\" w=\"3218\" o=\"17622\" t=\"15292\"/></hit><hit><w e=\"0\" w=\"3252\" o=\"17829\" t=\"15292\"/></hit><hit><w e=\"0\" w=\"3332\" o=\"18263\" t=\"15292\"/></hit><hit><w e=\"0\" w=\"3432\" o=\"18828\" t=\"15292\"/></hit><hit><w e=\"0\" w=\"3484\" o=\"19134\" t=\"15292\"/></hit></proxInfo></item>\n",
        "<item><d n=\"id\" t=\"int\">719</d><d n=\"recordStore\" t=\"str\">recordStore</d><d n=\"database\" t=\"str\">db_dickens</d><d n=\"occurences\" t=\"int\">1</d><proxInfo><hit><w e=\"0\" w=\"265\" o=\"1514\" t=\"15292\"/></hit></proxInfo></item>\n",
        "<item><d n=\"id\" t=\"int\">744</d><d n=\"recordStore\" t=\"str\">recordStore</d><d n=\"database\" t=\"str\">db_dickens</d><d n=\"occurences\" t=\"int\">1</d><proxInfo><hit><w e=\"0\" w=\"415\" o=\"2460\" t=\"15292\"/></hit></proxInfo></item>\n",
        "<item><d n=\"id\" t=\"int\">745</d><d n=\"recordStore\" t=\"str\">recordStore</d><d n=\"database\" t=\"str\">db_dickens</d><d n=\"occurences\" t=\"int\">1</d><proxInfo><hit><w e=\"0\" w=\"1205\" o=\"6922\" t=\"15292\"/></hit></proxInfo></item>\n",
        "<item><d n=\"id\" t=\"int\">791</d><d n=\"recordStore\" t=\"str\">recordStore</d><d n=\"database\" t=\"str\">db_dickens</d><d n=\"occurences\" t=\"int\">2</d><proxInfo><hit><w e=\"0\" w=\"3707\" o=\"21924\" t=\"15292\"/></hit><hit><w e=\"0\" w=\"3709\" o=\"21940\" t=\"15292\"/></hit></proxInfo></item>\n"
       ]
      }
     ],
     "prompt_number": 15
    },
    {
     "cell_type": "markdown",
     "metadata": {},
     "source": [
      "A record can be transformed into raw xml (in order to understand it), using\n",
      "a method from lxml:"
     ]
    },
    {
     "cell_type": "code",
     "collapsed": false,
     "input": [
      "from lxml import etree\n",
      "rec_tostring = etree.tostring(rec2)\n",
      "print rec_tostring"
     ],
     "language": "python",
     "metadata": {},
     "outputs": [
      {
       "ename": "NameError",
       "evalue": "name 'rec2' is not defined",
       "output_type": "pyerr",
       "traceback": [
        "\u001b[0;31m---------------------------------------------------------------------------\u001b[0m\n\u001b[0;31mNameError\u001b[0m                                 Traceback (most recent call last)",
        "\u001b[0;32m<ipython-input-16-5a6ae3c1b644>\u001b[0m in \u001b[0;36m<module>\u001b[0;34m()\u001b[0m\n\u001b[1;32m      1\u001b[0m \u001b[0;32mfrom\u001b[0m \u001b[0mlxml\u001b[0m \u001b[0;32mimport\u001b[0m \u001b[0metree\u001b[0m\u001b[0;34m\u001b[0m\u001b[0m\n\u001b[0;32m----> 2\u001b[0;31m \u001b[0mrec_tostring\u001b[0m \u001b[0;34m=\u001b[0m \u001b[0metree\u001b[0m\u001b[0;34m.\u001b[0m\u001b[0mtostring\u001b[0m\u001b[0;34m(\u001b[0m\u001b[0mrec2\u001b[0m\u001b[0;34m)\u001b[0m\u001b[0;34m\u001b[0m\u001b[0m\n\u001b[0m\u001b[1;32m      3\u001b[0m \u001b[0;32mprint\u001b[0m \u001b[0mrec_tostring\u001b[0m\u001b[0;34m\u001b[0m\u001b[0m\n",
        "\u001b[0;31mNameError\u001b[0m: name 'rec2' is not defined"
       ]
      }
     ],
     "prompt_number": 16
    },
    {
     "cell_type": "markdown",
     "metadata": {},
     "source": [
      "This could also be used in simple python string manipulations. \n",
      "For instance, to highlight something in a chapter, or to build \n",
      "a concordance based on the raw string rather than an xml tree.\n",
      "\n",
      "In that case one should note that only each occurrence of a term is \n",
      "duplicated because it is present in `<txt>` and in its own word node."
     ]
    },
    {
     "cell_type": "code",
     "collapsed": false,
     "input": [
      "# find the first occurrence of the term love\n",
      "# because that is what we are all looking for\n",
      "love = rec_tostring.find('love')\n",
      "conc_line = rec_tostring[love-50 : love + len('love') + 50]\n",
      "conc_line.replace('love', 'LOVE')"
     ],
     "language": "python",
     "metadata": {},
     "outputs": []
    },
    {
     "cell_type": "heading",
     "level": 2,
     "metadata": {},
     "source": [
      "Transforming a result"
     ]
    },
    {
     "cell_type": "markdown",
     "metadata": {},
     "source": [
      "Rather than manually handling the xml like this, Cheshire has a class called a\n",
      "Transformer that can perform xsl transformations on the xml of a chapter.\n",
      "\n",
      "Transformers are defined in a configuration file. In our project they live in an\n",
      "xsl file.\n",
      "\n",
      "The following examples use a transformer that was not designed to work with our input, \n",
      "but they do illustrate how transformers can be invoked."
     ]
    },
    {
     "cell_type": "code",
     "collapsed": false,
     "input": [
      "kwicTransformer = db.get_object(session, 'kwic-Txr')"
     ],
     "language": "python",
     "metadata": {},
     "outputs": []
    },
    {
     "cell_type": "code",
     "collapsed": false,
     "input": [
      "print kwicTransformer"
     ],
     "language": "python",
     "metadata": {},
     "outputs": [
      {
       "ename": "NameError",
       "evalue": "name 'kwicTransformer' is not defined",
       "output_type": "pyerr",
       "traceback": [
        "\u001b[0;31m---------------------------------------------------------------------------\u001b[0m\n\u001b[0;31mNameError\u001b[0m                                 Traceback (most recent call last)",
        "\u001b[0;32m<ipython-input-17-303fe9de11b5>\u001b[0m in \u001b[0;36m<module>\u001b[0;34m()\u001b[0m\n\u001b[0;32m----> 1\u001b[0;31m \u001b[0;32mprint\u001b[0m \u001b[0mkwicTransformer\u001b[0m\u001b[0;34m\u001b[0m\u001b[0m\n\u001b[0m",
        "\u001b[0;31mNameError\u001b[0m: name 'kwicTransformer' is not defined"
       ]
      }
     ],
     "prompt_number": 17
    },
    {
     "cell_type": "code",
     "collapsed": false,
     "input": [
      "doc = kwicTransformer.process_record(session, rec).get_raw(session)"
     ],
     "language": "python",
     "metadata": {},
     "outputs": [
      {
       "ename": "NameError",
       "evalue": "name 'kwicTransformer' is not defined",
       "output_type": "pyerr",
       "traceback": [
        "\u001b[0;31m---------------------------------------------------------------------------\u001b[0m\n\u001b[0;31mNameError\u001b[0m                                 Traceback (most recent call last)",
        "\u001b[0;32m<ipython-input-18-05aba5952723>\u001b[0m in \u001b[0;36m<module>\u001b[0;34m()\u001b[0m\n\u001b[0;32m----> 1\u001b[0;31m \u001b[0mdoc\u001b[0m \u001b[0;34m=\u001b[0m \u001b[0mkwicTransformer\u001b[0m\u001b[0;34m.\u001b[0m\u001b[0mprocess_record\u001b[0m\u001b[0;34m(\u001b[0m\u001b[0msession\u001b[0m\u001b[0;34m,\u001b[0m \u001b[0mrec\u001b[0m\u001b[0;34m)\u001b[0m\u001b[0;34m.\u001b[0m\u001b[0mget_raw\u001b[0m\u001b[0;34m(\u001b[0m\u001b[0msession\u001b[0m\u001b[0;34m)\u001b[0m\u001b[0;34m\u001b[0m\u001b[0m\n\u001b[0m",
        "\u001b[0;31mNameError\u001b[0m: name 'kwicTransformer' is not defined"
       ]
      }
     ],
     "prompt_number": 18
    },
    {
     "cell_type": "code",
     "collapsed": false,
     "input": [
      "print doc"
     ],
     "language": "python",
     "metadata": {},
     "outputs": [
      {
       "ename": "NameError",
       "evalue": "name 'doc' is not defined",
       "output_type": "pyerr",
       "traceback": [
        "\u001b[0;31m---------------------------------------------------------------------------\u001b[0m\n\u001b[0;31mNameError\u001b[0m                                 Traceback (most recent call last)",
        "\u001b[0;32m<ipython-input-19-103e92ac4f4c>\u001b[0m in \u001b[0;36m<module>\u001b[0;34m()\u001b[0m\n\u001b[0;32m----> 1\u001b[0;31m \u001b[0;32mprint\u001b[0m \u001b[0mdoc\u001b[0m\u001b[0;34m\u001b[0m\u001b[0m\n\u001b[0m",
        "\u001b[0;31mNameError\u001b[0m: name 'doc' is not defined"
       ]
      }
     ],
     "prompt_number": 19
    },
    {
     "cell_type": "markdown",
     "metadata": {},
     "source": [
      "# Retrieving a chapter"
     ]
    },
    {
     "cell_type": "code",
     "collapsed": false,
     "input": [
      "query = qf.get_query(session, 'c3.book-idx = \"LD\"')\n",
      "result_set = db.search(session, query)"
     ],
     "language": "python",
     "metadata": {},
     "outputs": [],
     "prompt_number": 20
    },
    {
     "cell_type": "code",
     "collapsed": false,
     "input": [
      "chapter_1 = result_set[0]\n",
      "chapter_44 = result_set[43]"
     ],
     "language": "python",
     "metadata": {},
     "outputs": [],
     "prompt_number": 21
    },
    {
     "cell_type": "code",
     "collapsed": false,
     "input": [
      "chapter_1"
     ],
     "language": "python",
     "metadata": {},
     "outputs": [
      {
       "metadata": {},
       "output_type": "pyout",
       "prompt_number": 22,
       "text": [
        "Ptr:recordStore/394"
       ]
      }
     ],
     "prompt_number": 22
    },
    {
     "cell_type": "code",
     "collapsed": false,
     "input": [
      "rec = chapter_1.fetch_record(session).get_dom(session)\n",
      "print rec"
     ],
     "language": "python",
     "metadata": {},
     "outputs": [
      {
       "output_type": "stream",
       "stream": "stdout",
       "text": [
        "<Element div at 0x7fba401668c0>\n"
       ]
      }
     ],
     "prompt_number": 23
    },
    {
     "cell_type": "code",
     "collapsed": false,
     "input": [
      "rec.attrib"
     ],
     "language": "python",
     "metadata": {},
     "outputs": [
      {
       "metadata": {},
       "output_type": "pyout",
       "prompt_number": 24,
       "text": [
        "{'book': 'LD', 'type': 'chapter', 'id': 'LD.1', 'num': '1'}"
       ]
      }
     ],
     "prompt_number": 24
    },
    {
     "cell_type": "code",
     "collapsed": false,
     "input": [
      "rec.attrib['id']"
     ],
     "language": "python",
     "metadata": {},
     "outputs": [
      {
       "metadata": {},
       "output_type": "pyout",
       "prompt_number": 25,
       "text": [
        "'LD.1'"
       ]
      }
     ],
     "prompt_number": 25
    },
    {
     "cell_type": "code",
     "collapsed": false,
     "input": [
      "type(rec)"
     ],
     "language": "python",
     "metadata": {},
     "outputs": [
      {
       "metadata": {},
       "output_type": "pyout",
       "prompt_number": 26,
       "text": [
        "lxml.etree._Element"
       ]
      }
     ],
     "prompt_number": 26
    },
    {
     "cell_type": "code",
     "collapsed": false,
     "input": [
      "print rec"
     ],
     "language": "python",
     "metadata": {},
     "outputs": [
      {
       "output_type": "stream",
       "stream": "stdout",
       "text": [
        "<Element div at 0x7fba401668c0>\n"
       ]
      }
     ],
     "prompt_number": 27
    },
    {
     "cell_type": "code",
     "collapsed": false,
     "input": [
      "doc = kwicTransformer.process_record(session, chapter_1.fetch_record(session)).get_raw(session)"
     ],
     "language": "python",
     "metadata": {},
     "outputs": [
      {
       "ename": "NameError",
       "evalue": "name 'kwicTransformer' is not defined",
       "output_type": "pyerr",
       "traceback": [
        "\u001b[0;31m---------------------------------------------------------------------------\u001b[0m\n\u001b[0;31mNameError\u001b[0m                                 Traceback (most recent call last)",
        "\u001b[0;32m<ipython-input-28-76516e8fd6c7>\u001b[0m in \u001b[0;36m<module>\u001b[0;34m()\u001b[0m\n\u001b[0;32m----> 1\u001b[0;31m \u001b[0mdoc\u001b[0m \u001b[0;34m=\u001b[0m \u001b[0mkwicTransformer\u001b[0m\u001b[0;34m.\u001b[0m\u001b[0mprocess_record\u001b[0m\u001b[0;34m(\u001b[0m\u001b[0msession\u001b[0m\u001b[0;34m,\u001b[0m \u001b[0mchapter_1\u001b[0m\u001b[0;34m.\u001b[0m\u001b[0mfetch_record\u001b[0m\u001b[0;34m(\u001b[0m\u001b[0msession\u001b[0m\u001b[0;34m)\u001b[0m\u001b[0;34m)\u001b[0m\u001b[0;34m.\u001b[0m\u001b[0mget_raw\u001b[0m\u001b[0;34m(\u001b[0m\u001b[0msession\u001b[0m\u001b[0;34m)\u001b[0m\u001b[0;34m\u001b[0m\u001b[0m\n\u001b[0m",
        "\u001b[0;31mNameError\u001b[0m: name 'kwicTransformer' is not defined"
       ]
      }
     ],
     "prompt_number": 28
    },
    {
     "cell_type": "code",
     "collapsed": false,
     "input": [
      "print doc"
     ],
     "language": "python",
     "metadata": {},
     "outputs": [
      {
       "ename": "NameError",
       "evalue": "name 'doc' is not defined",
       "output_type": "pyerr",
       "traceback": [
        "\u001b[0;31m---------------------------------------------------------------------------\u001b[0m\n\u001b[0;31mNameError\u001b[0m                                 Traceback (most recent call last)",
        "\u001b[0;32m<ipython-input-29-103e92ac4f4c>\u001b[0m in \u001b[0;36m<module>\u001b[0;34m()\u001b[0m\n\u001b[0;32m----> 1\u001b[0;31m \u001b[0;32mprint\u001b[0m \u001b[0mdoc\u001b[0m\u001b[0;34m\u001b[0m\u001b[0m\n\u001b[0m",
        "\u001b[0;31mNameError\u001b[0m: name 'doc' is not defined"
       ]
      }
     ],
     "prompt_number": 29
    },
    {
     "cell_type": "code",
     "collapsed": false,
     "input": [
      "articleTransformer = db.get_object(session, 'article-Txr')"
     ],
     "language": "python",
     "metadata": {},
     "outputs": [],
     "prompt_number": 30
    },
    {
     "cell_type": "code",
     "collapsed": false,
     "input": [
      "doc = articleTransformer.process_record(session, chapter_1.fetch_record(session)).get_raw(session)"
     ],
     "language": "python",
     "metadata": {},
     "outputs": [],
     "prompt_number": 31
    },
    {
     "cell_type": "code",
     "collapsed": false,
     "input": [
      "print doc"
     ],
     "language": "python",
     "metadata": {},
     "outputs": [
      {
       "output_type": "stream",
       "stream": "stdout",
       "text": [
        "<?xml version=\"1.0\"?>\n",
        "<div class=\"chapterDiv\"><span>ID: LD.1</span><h3>Chapter 1</h3>\n",
        "CHAPTER 1 Sun and Shadow\n",
        "\n",
        "<p><span><span onclick=\"getCFP('Thirty')\">Thirty</span> <span onclick=\"getCFP('years')\">years</span> <span onclick=\"getCFP('ago')\">ago</span>, <span onclick=\"getCFP('Marseilles')\">Marseilles</span> <span onclick=\"getCFP('lay')\">lay</span> <span onclick=\"getCFP('burning')\">burning</span> <span onclick=\"getCFP('in')\">in</span> <span onclick=\"getCFP('the')\">the</span> <span onclick=\"getCFP('sun')\">sun</span>, <span onclick=\"getCFP('one')\">one</span> <span onclick=\"getCFP('day')\">day</span>.</span></p>\n",
        "\n",
        "<p><span><span onclick=\"getCFP('A')\">A</span> <span onclick=\"getCFP('blazing')\">blazing</span> <span onclick=\"getCFP('sun')\">sun</span> <span onclick=\"getCFP('upon')\">upon</span> <span onclick=\"getCFP('a')\">a</span> <span onclick=\"getCFP('fierce')\">fierce</span> <span onclick=\"getCFP('August')\">August</span> <span onclick=\"getCFP('day')\">day</span> <span onclick=\"getCFP('was')\">was</span> <span onclick=\"getCFP('no')\">no</span> <span onclick=\"getCFP('greater')\">greater</span> <span onclick=\"getCFP('rarity')\">rarity</span> <span onclick=\"getCFP('in')\">in</span> <span onclick=\"getCFP('southern')\">southern</span> <span onclick=\"getCFP('France')\">France</span> <span onclick=\"getCFP('then')\">then</span>, <span onclick=\"getCFP('than')\">than</span> <span onclick=\"getCFP('at')\">at</span> <span onclick=\"getCFP('any')\">any</span> <span onclick=\"getCFP('other')\">other</span> <span onclick=\"getCFP('time')\">time</span>, <span onclick=\"getCFP('before')\">before</span> <span onclick=\"getCFP('or')\">or</span> <span onclick=\"getCFP('since')\">since</span>.</span> <span><span onclick=\"getCFP('Everything')\">Everything</span> <span onclick=\"getCFP('in')\">in</span> <span onclick=\"getCFP('Marseilles')\">Marseilles</span>, <span onclick=\"getCFP('and')\">and</span> <span onclick=\"getCFP('about')\">about</span> <span onclick=\"getCFP('Marseilles')\">Marseilles</span>, <span onclick=\"getCFP('had')\">had</span> <span onclick=\"getCFP('stared')\">stared</span> <span onclick=\"getCFP('at')\">at</span> <span onclick=\"getCFP('the')\">the</span> <span onclick=\"getCFP('fervid')\">fervid</span> <span onclick=\"getCFP('sky')\">sky</span>, <span onclick=\"getCFP('and')\">and</span> <span onclick=\"getCFP('been')\">been</span> <span onclick=\"getCFP('stared')\">stared</span> <span onclick=\"getCFP('at')\">at</span> <span onclick=\"getCFP('in')\">in</span> <span onclick=\"getCFP('return')\">return</span>, <span onclick=\"getCFP('until')\">until</span> <span onclick=\"getCFP('a')\">a</span> <span onclick=\"getCFP('staring')\">staring</span> <span onclick=\"getCFP('habit')\">habit</span> <span onclick=\"getCFP('had')\">had</span> <span onclick=\"getCFP('become')\">become</span> <span onclick=\"getCFP('universal')\">universal</span> <span onclick=\"getCFP('there')\">there</span>.</span> <span><span onclick=\"getCFP('Strangers')\">Strangers</span> <span onclick=\"getCFP('were')\">were</span> <span onclick=\"getCFP('stared')\">stared</span> <span onclick=\"getCFP('out')\">out</span> <span onclick=\"getCFP('of')\">of</span> <span onclick=\"getCFP('countenance')\">countenance</span> <span onclick=\"getCFP('by')\">by</span> <span onclick=\"getCFP('staring')\">staring</span> <span onclick=\"getCFP('white')\">white</span> <span onclick=\"getCFP('houses')\">houses</span>, <span onclick=\"getCFP('staring')\">staring</span> <span onclick=\"getCFP('white')\">white</span> <span onclick=\"getCFP('walls')\">walls</span>, <span onclick=\"getCFP('staring')\">staring</span> <span onclick=\"getCFP('white')\">white</span> <span onclick=\"getCFP('streets')\">streets</span>, <span onclick=\"getCFP('staring')\">staring</span> <span onclick=\"getCFP('tracts')\">tracts</span> <span onclick=\"getCFP('of')\">of</span> <span onclick=\"getCFP('arid')\">arid</span> <span onclick=\"getCFP('road')\">road</span>, <span onclick=\"getCFP('staring')\">staring</span> <span onclick=\"getCFP('hills')\">hills</span> <span onclick=\"getCFP('from')\">from</span> <span onclick=\"getCFP('which')\">which</span> <span onclick=\"getCFP('verdure')\">verdure</span> <span onclick=\"getCFP('was')\">was</span> <span onclick=\"getCFP('burnt')\">burnt</span> <span onclick=\"getCFP('away')\">away</span>.</span> <span><span onclick=\"getCFP('The')\">The</span> <span onclick=\"getCFP('only')\">only</span> <span onclick=\"getCFP('things')\">things</span> <span onclick=\"getCFP('to')\">to</span> <span onclick=\"getCFP('be')\">be</span> <span onclick=\"getCFP('seen')\">seen</span> <span onclick=\"getCFP('not')\">not</span> <span onclick=\"getCFP('fixedly')\">fixedly</span> <span onclick=\"getCFP('staring')\">staring</span> <span onclick=\"getCFP('and')\">and</span> <span onclick=\"getCFP('glaring')\">glaring</span> <span onclick=\"getCFP('were')\">were</span> <span onclick=\"getCFP('the')\">the</span> <span onclick=\"getCFP('vines')\">vines</span> <span onclick=\"getCFP('drooping')\">drooping</span> <span onclick=\"getCFP('under')\">under</span> <span onclick=\"getCFP('their')\">their</span> <span onclick=\"getCFP('load')\">load</span> <span onclick=\"getCFP('of')\">of</span> <span onclick=\"getCFP('grapes')\">grapes</span>.</span> <span><span onclick=\"getCFP('These')\">These</span> <span onclick=\"getCFP('did')\">did</span> <span onclick=\"getCFP('occasionally')\">occasionally</span> <span onclick=\"getCFP('wink')\">wink</span> <span onclick=\"getCFP('a')\">a</span> <span onclick=\"getCFP('little')\">little</span>, <span onclick=\"getCFP('as')\">as</span> <span onclick=\"getCFP('the')\">the</span> <span onclick=\"getCFP('hot')\">hot</span> <span onclick=\"getCFP('air')\">air</span> <span onclick=\"getCFP('barely')\">barely</span> <span onclick=\"getCFP('moved')\">moved</span> <span onclick=\"getCFP('their')\">their</span> <span onclick=\"getCFP('faint')\">faint</span> <span onclick=\"getCFP('leaves')\">leaves</span>.</span></p>\n",
        "\n",
        "<p><span><span onclick=\"getCFP('There')\">There</span> <span onclick=\"getCFP('was')\">was</span> <span onclick=\"getCFP('no')\">no</span> <span onclick=\"getCFP('wind')\">wind</span> <span onclick=\"getCFP('to')\">to</span> <span onclick=\"getCFP('make')\">make</span> <span onclick=\"getCFP('a')\">a</span> <span onclick=\"getCFP('ripple')\">ripple</span> <span onclick=\"getCFP('on')\">on</span> <span onclick=\"getCFP('the')\">the</span> <span onclick=\"getCFP('foul')\">foul</span> <span onclick=\"getCFP('water')\">water</span> <span onclick=\"getCFP('within')\">within</span> <span onclick=\"getCFP('the')\">the</span> <span onclick=\"getCFP('harbour')\">harbour</span>, <span onclick=\"getCFP('or')\">or</span> <span onclick=\"getCFP('on')\">on</span> <span onclick=\"getCFP('the')\">the</span> <span onclick=\"getCFP('beautiful')\">beautiful</span> <span onclick=\"getCFP('sea')\">sea</span> <span onclick=\"getCFP('without')\">without</span>.</span> <span><span onclick=\"getCFP('The')\">The</span> <span onclick=\"getCFP('line')\">line</span> <span onclick=\"getCFP('of')\">of</span> <span onclick=\"getCFP('demarcation')\">demarcation</span> <span onclick=\"getCFP('between')\">between</span> <span onclick=\"getCFP('the')\">the</span> <span onclick=\"getCFP('two')\">two</span> <span onclick=\"getCFP('colours')\">colours</span>, <span onclick=\"getCFP('black')\">black</span> <span onclick=\"getCFP('and')\">and</span> <span onclick=\"getCFP('blue')\">blue</span>, <span onclick=\"getCFP('showed')\">showed</span> <span onclick=\"getCFP('the')\">the</span> <span onclick=\"getCFP('point')\">point</span> <span onclick=\"getCFP('which')\">which</span> <span onclick=\"getCFP('the')\">the</span> <span onclick=\"getCFP('pure')\">pure</span> <span onclick=\"getCFP('sea')\">sea</span> <span onclick=\"getCFP('would')\">would</span> <span onclick=\"getCFP('not')\">not</span> <span onclick=\"getCFP('pass')\">pass</span>; <span onclick=\"getCFP('but')\">but</span> <span onclick=\"getCFP('it')\">it</span> <span onclick=\"getCFP('lay')\">lay</span> <span onclick=\"getCFP('as')\">as</span> <span onclick=\"getCFP('quiet')\">quiet</span> <span onclick=\"getCFP('as')\">as</span> <span onclick=\"getCFP('the')\">the</span> <span onclick=\"getCFP('abominable')\">abominable</span> <span onclick=\"getCFP('pool')\">pool</span>, <span onclick=\"getCFP('with')\">with</span> <span onclick=\"getCFP('which')\">which</span> <span onclick=\"getCFP('it')\">it</span> <span onclick=\"getCFP('never')\">never</span> <span onclick=\"getCFP('mixed')\">mixed</span>.</span> <span><span onclick=\"getCFP('Boats')\">Boats</span> <span onclick=\"getCFP('without')\">without</span> <span onclick=\"getCFP('awnings')\">awnings</span> <span onclick=\"getCFP('were')\">were</span> <span onclick=\"getCFP('too')\">too</span> <span onclick=\"getCFP('hot')\">hot</span> <span onclick=\"getCFP('to')\">to</span> <span onclick=\"getCFP('touch')\">touch</span>; <span onclick=\"getCFP('ships')\">ships</span> <span onclick=\"getCFP('blistered')\">blistered</span> <span onclick=\"getCFP('at')\">at</span> <span onclick=\"getCFP('their')\">their</span> <span onclick=\"getCFP('moorings')\">moorings</span>; <span onclick=\"getCFP('the')\">the</span> <span onclick=\"getCFP('stones')\">stones</span> <span onclick=\"getCFP('of')\">of</span> <span onclick=\"getCFP('the')\">the</span> <span onclick=\"getCFP('quays')\">quays</span> <span onclick=\"getCFP('had')\">had</span> <span onclick=\"getCFP('not')\">not</span> <span onclick=\"getCFP('cooled')\">cooled</span>, <span onclick=\"getCFP('night')\">night</span> <span onclick=\"getCFP('or')\">or</span> <span onclick=\"getCFP('day')\">day</span>, <span onclick=\"getCFP('for')\">for</span> <span onclick=\"getCFP('months')\">months</span>.</span> <span><span onclick=\"getCFP('Hindoos')\">Hindoos</span>, <span onclick=\"getCFP('Russians')\">Russians</span>, <span onclick=\"getCFP('Chinese')\">Chinese</span>, <span onclick=\"getCFP('Spaniards')\">Spaniards</span>, <span onclick=\"getCFP('Portuguese')\">Portuguese</span>, <span onclick=\"getCFP('Englishmen')\">Englishmen</span>, <span onclick=\"getCFP('Frenchmen')\">Frenchmen</span>, <span onclick=\"getCFP('Genoese')\">Genoese</span>, <span onclick=\"getCFP('Neapolitans')\">Neapolitans</span>, <span onclick=\"getCFP('Venetians')\">Venetians</span>, <span onclick=\"getCFP('Greeks')\">Greeks</span>, <span onclick=\"getCFP('Turks')\">Turks</span>, <span onclick=\"getCFP('descendants')\">descendants</span> <span onclick=\"getCFP('from')\">from</span> <span onclick=\"getCFP('all')\">all</span> <span onclick=\"getCFP('the')\">the</span> <span onclick=\"getCFP('builders')\">builders</span> <span onclick=\"getCFP('of')\">of</span> <span onclick=\"getCFP('Babel')\">Babel</span>, <span onclick=\"getCFP('come')\">come</span> <span onclick=\"getCFP('to')\">to</span> <span onclick=\"getCFP('trade')\">trade</span> <span onclick=\"getCFP('at')\">at</span> <span onclick=\"getCFP('Marseilles')\">Marseilles</span>, <span onclick=\"getCFP('sought')\">sought</span> <span onclick=\"getCFP('the')\">the</span> <span onclick=\"getCFP('shade')\">shade</span> <span onclick=\"getCFP('alike')\">alike</span>--<span onclick=\"getCFP('taking')\">taking</span> <span onclick=\"getCFP('refuge')\">refuge</span> <span onclick=\"getCFP('in')\">in</span> <span onclick=\"getCFP('any')\">any</span> <span onclick=\"getCFP('hiding-place')\">hiding-place</span> <span onclick=\"getCFP('from')\">from</span> <span onclick=\"getCFP('a')\">a</span> <span onclick=\"getCFP('sea')\">sea</span> <span onclick=\"getCFP('too')\">too</span> <span onclick=\"getCFP('intensely')\">intensely</span> <span onclick=\"getCFP('blue')\">blue</span> <span onclick=\"getCFP('to')\">to</span> <span onclick=\"getCFP('be')\">be</span> <span onclick=\"getCFP('looked')\">looked</span> <span onclick=\"getCFP('at')\">at</span>, <span onclick=\"getCFP('and')\">and</span> <span onclick=\"getCFP('a')\">a</span> <span onclick=\"getCFP('sky')\">sky</span> <span onclick=\"getCFP('of')\">of</span> <span onclick=\"getCFP('purple')\">purple</span>, <span onclick=\"getCFP('set')\">set</span> <span onclick=\"getCFP('with')\">with</span> <span onclick=\"getCFP('one')\">one</span> <span onclick=\"getCFP('great')\">great</span> <span onclick=\"getCFP('flaming')\">flaming</span> <span onclick=\"getCFP('jewel')\">jewel</span> <span onclick=\"getCFP('of')\">of</span> <span onclick=\"getCFP('fire')\">fire</span>.</span></p>\n",
        "\n",
        "<p><span><span onclick=\"getCFP('The')\">The</span> <span onclick=\"getCFP('universal')\">universal</span> <span onclick=\"getCFP('stare')\">stare</span> <span onclick=\"getCFP('made')\">made</span> <span onclick=\"getCFP('the')\">the</span> <span onclick=\"getCFP('eyes')\">eyes</span> <span onclick=\"getCFP('ache')\">ache</span>.</span> <span><span onclick=\"getCFP('Towards')\">Towards</span> <span onclick=\"getCFP('the')\">the</span> <span onclick=\"getCFP('distant')\">distant</span> <span onclick=\"getCFP('line')\">line</span> <span onclick=\"getCFP('of')\">of</span> <span onclick=\"getCFP('Italian')\">Italian</span> <span onclick=\"getCFP('coast')\">coast</span>, <span onclick=\"getCFP('indeed')\">indeed</span>, <span onclick=\"getCFP('it')\">it</span> <span onclick=\"getCFP('was')\">was</span> <span onclick=\"getCFP('a')\">a</span> <span onclick=\"getCFP('little')\">little</span> <span onclick=\"getCFP('relieved')\">relieved</span> <span onclick=\"getCFP('by')\">by</span> <span onclick=\"getCFP('light')\">light</span> <span onclick=\"getCFP('clouds')\">clouds</span> <span onclick=\"getCFP('of')\">of</span> <span onclick=\"getCFP('mist')\">mist</span>, <span onclick=\"getCFP('slowly')\">slowly</span> <span onclick=\"getCFP('rising')\">rising</span> <span onclick=\"getCFP('from')\">from</span> <span onclick=\"getCFP('the')\">the</span> <span onclick=\"getCFP('evaporation')\">evaporation</span> <span onclick=\"getCFP('of')\">of</span> <span onclick=\"getCFP('the')\">the</span> <span onclick=\"getCFP('sea')\">sea</span>, <span onclick=\"getCFP('but')\">but</span> <span onclick=\"getCFP('it')\">it</span> <span onclick=\"getCFP('softened')\">softened</span> <span onclick=\"getCFP('nowhere')\">nowhere</span> <span onclick=\"getCFP('else')\">else</span>.</span> <span><span onclick=\"getCFP('Far')\">Far</span> <span onclick=\"getCFP('away')\">away</span> <span onclick=\"getCFP('the')\">the</span> <span onclick=\"getCFP('staring')\">staring</span> <span onclick=\"getCFP('roads')\">roads</span>, <span onclick=\"getCFP('deep')\">deep</span> <span onclick=\"getCFP('in')\">in</span> <span onclick=\"getCFP('dust')\">dust</span>, <span onclick=\"getCFP('stared')\">stared</span> <span onclick=\"getCFP('from')\">from</span> <span onclick=\"getCFP('the')\">the</span> <span onclick=\"getCFP('hill-side')\">hill-side</span>, <span onclick=\"getCFP('stared')\">stared</span> <span onclick=\"getCFP('from')\">from</span> <span onclick=\"getCFP('the')\">the</span> <span onclick=\"getCFP('hollow')\">hollow</span>, <span onclick=\"getCFP('stared')\">stared</span> <span onclick=\"getCFP('from')\">from</span> <span onclick=\"getCFP('the')\">the</span> <span onclick=\"getCFP('interminable')\">interminable</span> <span onclick=\"getCFP('plain')\">plain</span>.</span> <span><span onclick=\"getCFP('Far')\">Far</span> <span onclick=\"getCFP('away')\">away</span> <span onclick=\"getCFP('the')\">the</span> <span onclick=\"getCFP('dusty')\">dusty</span> <span onclick=\"getCFP('vines')\">vines</span> <span onclick=\"getCFP('overhanging')\">overhanging</span> <span onclick=\"getCFP('wayside')\">wayside</span> <span onclick=\"getCFP('cottages')\">cottages</span>, <span onclick=\"getCFP('and')\">and</span> <span onclick=\"getCFP('the')\">the</span> <span onclick=\"getCFP('monotonous')\">monotonous</span> <span onclick=\"getCFP('wayside')\">wayside</span> <span onclick=\"getCFP('avenues')\">avenues</span> <span onclick=\"getCFP('of')\">of</span> <span onclick=\"getCFP('parched')\">parched</span> <span onclick=\"getCFP('trees')\">trees</span> <span onclick=\"getCFP('without')\">without</span> <span onclick=\"getCFP('shade')\">shade</span>, <span onclick=\"getCFP('drooped')\">drooped</span> <span onclick=\"getCFP('beneath')\">beneath</span> <span onclick=\"getCFP('the')\">the</span> <span onclick=\"getCFP('stare')\">stare</span> <span onclick=\"getCFP('of')\">of</span> <span onclick=\"getCFP('earth')\">earth</span> <span onclick=\"getCFP('and')\">and</span> <span onclick=\"getCFP('sky')\">sky</span>.</span> <span><span onclick=\"getCFP('So')\">So</span> <span onclick=\"getCFP('did')\">did</span> <span onclick=\"getCFP('the')\">the</span> <span onclick=\"getCFP('horses')\">horses</span> <span onclick=\"getCFP('with')\">with</span> <span onclick=\"getCFP('drowsy')\">drowsy</span> <span onclick=\"getCFP('bells')\">bells</span>, <span onclick=\"getCFP('in')\">in</span> <span onclick=\"getCFP('long')\">long</span> <span onclick=\"getCFP('files')\">files</span> <span onclick=\"getCFP('of')\">of</span> <span onclick=\"getCFP('carts')\">carts</span>, <span onclick=\"getCFP('creeping')\">creeping</span> <span onclick=\"getCFP('slowly')\">slowly</span> <span onclick=\"getCFP('towards')\">towards</span> <span onclick=\"getCFP('the')\">the</span> <span onclick=\"getCFP('interior')\">interior</span>; <span onclick=\"getCFP('so')\">so</span> <span onclick=\"getCFP('did')\">did</span> <span onclick=\"getCFP('their')\">their</span> <span onclick=\"getCFP('recumbent')\">recumbent</span> <span onclick=\"getCFP('drivers')\">drivers</span>, <span onclick=\"getCFP('when')\">when</span> <span onclick=\"getCFP('they')\">they</span> <span onclick=\"getCFP('were')\">were</span> <span onclick=\"getCFP('awake')\">awake</span>, <span onclick=\"getCFP('which')\">which</span> <span onclick=\"getCFP('rarely')\">rarely</span> <span onclick=\"getCFP('happened')\">happened</span>; <span onclick=\"getCFP('so')\">so</span> <span onclick=\"getCFP('did')\">did</span> <span onclick=\"getCFP('the')\">the</span> <span onclick=\"getCFP('exhausted')\">exhausted</span> <span onclick=\"getCFP('labourers')\">labourers</span> <span onclick=\"getCFP('in')\">in</span> <span onclick=\"getCFP('the')\">the</span> <span onclick=\"getCFP('fields')\">fields</span>.</span> <span><span onclick=\"getCFP('Everything')\">Everything</span> <span onclick=\"getCFP('that')\">that</span> <span onclick=\"getCFP('lived')\">lived</span> <span onclick=\"getCFP('or')\">or</span> <span onclick=\"getCFP('grew')\">grew</span>, <span onclick=\"getCFP('was')\">was</span> <span onclick=\"getCFP('oppressed')\">oppressed</span> <span onclick=\"getCFP('by')\">by</span> <span onclick=\"getCFP('the')\">the</span> <span onclick=\"getCFP('glare')\">glare</span>; <span onclick=\"getCFP('except')\">except</span> <span onclick=\"getCFP('the')\">the</span> <span onclick=\"getCFP('lizard')\">lizard</span>, <span onclick=\"getCFP('passing')\">passing</span> <span onclick=\"getCFP('swiftly')\">swiftly</span> <span onclick=\"getCFP('over')\">over</span> <span onclick=\"getCFP('rough')\">rough</span> <span onclick=\"getCFP('stone')\">stone</span> <span onclick=\"getCFP('walls')\">walls</span>, <span onclick=\"getCFP('and')\">and</span> <span onclick=\"getCFP('the')\">the</span> <span onclick=\"getCFP('cicala')\">cicala</span>, <span onclick=\"getCFP('chirping')\">chirping</span> <span onclick=\"getCFP('his')\">his</span> <span onclick=\"getCFP('dry')\">dry</span> <span onclick=\"getCFP('hot')\">hot</span> <span onclick=\"getCFP('chirp')\">chirp</span>, <span onclick=\"getCFP('like')\">like</span> <span onclick=\"getCFP('a')\">a</span> <span onclick=\"getCFP('rattle')\">rattle</span>.</span> <span><span onclick=\"getCFP('The')\">The</span> <span onclick=\"getCFP('very')\">very</span> <span onclick=\"getCFP('dust')\">dust</span> <span onclick=\"getCFP('was')\">was</span> <span onclick=\"getCFP('scorched')\">scorched</span> <span onclick=\"getCFP('brown')\">brown</span>, <span onclick=\"getCFP('and')\">and</span> <span onclick=\"getCFP('something')\">something</span> <span onclick=\"getCFP('quivered')\">quivered</span> <span onclick=\"getCFP('in')\">in</span> <span onclick=\"getCFP('the')\">the</span> <span onclick=\"getCFP('atmosphere')\">atmosphere</span> <span onclick=\"getCFP('as')\">as</span> <span onclick=\"getCFP('if')\">if</span> <span onclick=\"getCFP('the')\">the</span> <span onclick=\"getCFP('air')\">air</span> <span onclick=\"getCFP('itself')\">itself</span> <span onclick=\"getCFP('were')\">were</span> <span onclick=\"getCFP('panting')\">panting</span>.</span></p>\n",
        "\n",
        "<p><span><span onclick=\"getCFP('Blinds')\">Blinds</span>, <span onclick=\"getCFP('shutters')\">shutters</span>, <span onclick=\"getCFP('curtains')\">curtains</span>, <span onclick=\"getCFP('awnings')\">awnings</span>, <span onclick=\"getCFP('were')\">were</span> <span onclick=\"getCFP('all')\">all</span> <span onclick=\"getCFP('closed')\">closed</span> <span onclick=\"getCFP('and')\">and</span> <span onclick=\"getCFP('drawn')\">drawn</span> <span onclick=\"getCFP('to')\">to</span> <span onclick=\"getCFP('keep')\">keep</span> <span onclick=\"getCFP('out')\">out</span> <span onclick=\"getCFP('the')\">the</span> <span onclick=\"getCFP('stare')\">stare</span>.</span> <span><span onclick=\"getCFP('Grant')\">Grant</span> <span onclick=\"getCFP('it')\">it</span> <span onclick=\"getCFP('but')\">but</span> <span onclick=\"getCFP('a')\">a</span> <span onclick=\"getCFP('chink')\">chink</span> <span onclick=\"getCFP('or')\">or</span> <span onclick=\"getCFP('keyhole')\">keyhole</span>, <span onclick=\"getCFP('and')\">and</span> <span onclick=\"getCFP('it')\">it</span> <span onclick=\"getCFP('shot')\">shot</span> <span onclick=\"getCFP('in')\">in</span> <span onclick=\"getCFP('like')\">like</span> <span onclick=\"getCFP('a')\">a</span> <span onclick=\"getCFP('white-hot')\">white-hot</span> <span onclick=\"getCFP('arrow')\">arrow</span>.</span> <span><span onclick=\"getCFP('The')\">The</span> <span onclick=\"getCFP('churches')\">churches</span> <span onclick=\"getCFP('were')\">were</span> <span onclick=\"getCFP('the')\">the</span> <span onclick=\"getCFP('freest')\">freest</span> <span onclick=\"getCFP('from')\">from</span> <span onclick=\"getCFP('it')\">it</span>.</span> <span><span onclick=\"getCFP('To')\">To</span> <span onclick=\"getCFP('come')\">come</span> <span onclick=\"getCFP('out')\">out</span> <span onclick=\"getCFP('of')\">of</span> <span onclick=\"getCFP('the')\">the</span> <span onclick=\"getCFP('twilight')\">twilight</span> <span onclick=\"getCFP('of')\">of</span> <span onclick=\"getCFP('pillars')\">pillars</span> <span onclick=\"getCFP('and')\">and</span> <span onclick=\"getCFP('arches')\">arches</span>--<span onclick=\"getCFP('dreamily')\">dreamily</span> <span onclick=\"getCFP('dotted')\">dotted</span> <span onclick=\"getCFP('with')\">with</span> <span onclick=\"getCFP('winking')\">winking</span> <span onclick=\"getCFP('lamps')\">lamps</span>, <span onclick=\"getCFP('dreamily')\">dreamily</span> <span onclick=\"getCFP('peopled')\">peopled</span> <span onclick=\"getCFP('with')\">with</span> <span onclick=\"getCFP('ugly')\">ugly</span> <span onclick=\"getCFP('old')\">old</span> <span onclick=\"getCFP('shadows')\">shadows</span> <span onclick=\"getCFP('piously')\">piously</span> <span onclick=\"getCFP('dozing')\">dozing</span>, <span onclick=\"getCFP('spitting')\">spitting</span>, <span onclick=\"getCFP('and')\">and</span> <span onclick=\"getCFP('begging')\">begging</span>--<span onclick=\"getCFP('was')\">was</span> <span onclick=\"getCFP('to')\">to</span> <span onclick=\"getCFP('plunge')\">plunge</span> <span onclick=\"getCFP('into')\">into</span> <span onclick=\"getCFP('a')\">a</span> <span onclick=\"getCFP('fiery')\">fiery</span> <span onclick=\"getCFP('river')\">river</span>, <span onclick=\"getCFP('and')\">and</span> <span onclick=\"getCFP('swim')\">swim</span> <span onclick=\"getCFP('for')\">for</span> <span onclick=\"getCFP('life')\">life</span> <span onclick=\"getCFP('to')\">to</span> <span onclick=\"getCFP('the')\">the</span> <span onclick=\"getCFP('nearest')\">nearest</span> <span onclick=\"getCFP('strip')\">strip</span> <span onclick=\"getCFP('of')\">of</span> <span onclick=\"getCFP('shade')\">shade</span>.</span> <span><span onclick=\"getCFP('So')\">So</span>, <span onclick=\"getCFP('with')\">with</span> <span onclick=\"getCFP('people')\">people</span> <span onclick=\"getCFP('lounging')\">lounging</span> <span onclick=\"getCFP('and')\">and</span> <span onclick=\"getCFP('lying')\">lying</span> <span onclick=\"getCFP('wherever')\">wherever</span> <span onclick=\"getCFP('shade')\">shade</span> <span onclick=\"getCFP('was')\">was</span>, <span onclick=\"getCFP('with')\">with</span> <span onclick=\"getCFP('but')\">but</span> <span onclick=\"getCFP('little')\">little</span> <span onclick=\"getCFP('hum')\">hum</span> <span onclick=\"getCFP('of')\">of</span> <span onclick=\"getCFP('tongues')\">tongues</span> <span onclick=\"getCFP('or')\">or</span> <span onclick=\"getCFP('barking')\">barking</span> <span onclick=\"getCFP('of')\">of</span> <span onclick=\"getCFP('dogs')\">dogs</span>, <span onclick=\"getCFP('with')\">with</span> <span onclick=\"getCFP('occasional')\">occasional</span> <span onclick=\"getCFP('jangling')\">jangling</span> <span onclick=\"getCFP('of')\">of</span> <span onclick=\"getCFP('discordant')\">discordant</span> <span onclick=\"getCFP('church')\">church</span> <span onclick=\"getCFP('bells')\">bells</span> <span onclick=\"getCFP('and')\">and</span> <span onclick=\"getCFP('rattling')\">rattling</span> <span onclick=\"getCFP('of')\">of</span> <span onclick=\"getCFP('vicious')\">vicious</span> <span onclick=\"getCFP('drums')\">drums</span>, <span onclick=\"getCFP('Marseilles')\">Marseilles</span>, <span onclick=\"getCFP('a')\">a</span> <span onclick=\"getCFP('fact')\">fact</span> <span onclick=\"getCFP('to')\">to</span> <span onclick=\"getCFP('be')\">be</span> <span onclick=\"getCFP('strongly')\">strongly</span> <span onclick=\"getCFP('smelt')\">smelt</span> <span onclick=\"getCFP('and')\">and</span> <span onclick=\"getCFP('tasted')\">tasted</span>, <span onclick=\"getCFP('lay')\">lay</span> <span onclick=\"getCFP('broiling')\">broiling</span> <span onclick=\"getCFP('in')\">in</span> <span onclick=\"getCFP('the')\">the</span> <span onclick=\"getCFP('sun')\">sun</span> <span onclick=\"getCFP('one')\">one</span> <span onclick=\"getCFP('day')\">day</span>.</span> <span><span onclick=\"getCFP('In')\">In</span> <span onclick=\"getCFP('Marseilles')\">Marseilles</span> <span onclick=\"getCFP('that')\">that</span> <span onclick=\"getCFP('day')\">day</span> <span onclick=\"getCFP('there')\">there</span> <span onclick=\"getCFP('was')\">was</span> <span onclick=\"getCFP('a')\">a</span> <span onclick=\"getCFP('villainous')\">villainous</span> <span onclick=\"getCFP('prison')\">prison</span>.</span> <span><span onclick=\"getCFP('In')\">In</span> <span onclick=\"getCFP('one')\">one</span> <span onclick=\"getCFP('of')\">of</span> <span onclick=\"getCFP('its')\">its</span> <span onclick=\"getCFP('chambers')\">chambers</span>, <span onclick=\"getCFP('so')\">so</span> <span onclick=\"getCFP('repulsive')\">repulsive</span> <span onclick=\"getCFP('a')\">a</span> <span onclick=\"getCFP('place')\">place</span> <span onclick=\"getCFP('that')\">that</span> <span onclick=\"getCFP('even')\">even</span> <span onclick=\"getCFP('the')\">the</span> <span onclick=\"getCFP('obtrusive')\">obtrusive</span> <span onclick=\"getCFP('stare')\">stare</span> <span onclick=\"getCFP('blinked')\">blinked</span> <span onclick=\"getCFP('at')\">at</span> <span onclick=\"getCFP('it')\">it</span>, <span onclick=\"getCFP('and')\">and</span> <span onclick=\"getCFP('left')\">left</span> <span onclick=\"getCFP('it')\">it</span> <span onclick=\"getCFP('to')\">to</span> <span onclick=\"getCFP('such')\">such</span> <span onclick=\"getCFP('refuse')\">refuse</span> <span onclick=\"getCFP('of')\">of</span> <span onclick=\"getCFP('reflected')\">reflected</span> <span onclick=\"getCFP('light')\">light</span> <span onclick=\"getCFP('as')\">as</span> <span onclick=\"getCFP('it')\">it</span> <span onclick=\"getCFP('could')\">could</span> <span onclick=\"getCFP('find')\">find</span> <span onclick=\"getCFP('for')\">for</span> <span onclick=\"getCFP('itself')\">itself</span>, <span onclick=\"getCFP('were')\">were</span> <span onclick=\"getCFP('two')\">two</span> <span onclick=\"getCFP('men')\">men</span>.</span> <span><span onclick=\"getCFP('Besides')\">Besides</span> <span onclick=\"getCFP('the')\">the</span> <span onclick=\"getCFP('two')\">two</span> <span onclick=\"getCFP('men')\">men</span>, <span onclick=\"getCFP('a')\">a</span> <span onclick=\"getCFP('notched')\">notched</span> <span onclick=\"getCFP('and')\">and</span> <span onclick=\"getCFP('disfigured')\">disfigured</span> <span onclick=\"getCFP('bench')\">bench</span>, <span onclick=\"getCFP('immovable')\">immovable</span> <span onclick=\"getCFP('from')\">from</span> <span onclick=\"getCFP('the')\">the</span> <span onclick=\"getCFP('wall')\">wall</span>, <span onclick=\"getCFP('with')\">with</span> <span onclick=\"getCFP('a')\">a</span> <span onclick=\"getCFP('draught-board')\">draught-board</span> <span onclick=\"getCFP('rudely')\">rudely</span> <span onclick=\"getCFP('hacked')\">hacked</span> <span onclick=\"getCFP('upon')\">upon</span> <span onclick=\"getCFP('it')\">it</span> <span onclick=\"getCFP('with')\">with</span> <span onclick=\"getCFP('a')\">a</span> <span onclick=\"getCFP('knife')\">knife</span>, <span onclick=\"getCFP('a')\">a</span> <span onclick=\"getCFP('set')\">set</span> <span onclick=\"getCFP('of')\">of</span> <span onclick=\"getCFP('draughts')\">draughts</span>, <span onclick=\"getCFP('made')\">made</span> <span onclick=\"getCFP('of')\">of</span> <span onclick=\"getCFP('old')\">old</span> <span onclick=\"getCFP('buttons')\">buttons</span> <span onclick=\"getCFP('and')\">and</span> <span onclick=\"getCFP('soup')\">soup</span> <span onclick=\"getCFP('bones')\">bones</span>, <span onclick=\"getCFP('a')\">a</span> <span onclick=\"getCFP('set')\">set</span> <span onclick=\"getCFP('of')\">of</span> <span onclick=\"getCFP('dominoes')\">dominoes</span>, <span onclick=\"getCFP('two')\">two</span> <span onclick=\"getCFP('mats')\">mats</span>, <span onclick=\"getCFP('and')\">and</span> <span onclick=\"getCFP('two')\">two</span> <span onclick=\"getCFP('or')\">or</span> <span onclick=\"getCFP('three')\">three</span> <span onclick=\"getCFP('wine')\">wine</span> <span onclick=\"getCFP('bottles')\">bottles</span>.</span> <span><span onclick=\"getCFP('That')\">That</span> <span onclick=\"getCFP('was')\">was</span> <span onclick=\"getCFP('all')\">all</span> <span onclick=\"getCFP('the')\">the</span> <span onclick=\"getCFP('chamber')\">chamber</span> <span onclick=\"getCFP('held')\">held</span>, <span onclick=\"getCFP('exclusive')\">exclusive</span> <span onclick=\"getCFP('of')\">of</span> <span onclick=\"getCFP('rats')\">rats</span> <span onclick=\"getCFP('and')\">and</span> <span onclick=\"getCFP('other')\">other</span> <span onclick=\"getCFP('unseen')\">unseen</span> <span onclick=\"getCFP('vermin')\">vermin</span>, <span onclick=\"getCFP('in')\">in</span> <span onclick=\"getCFP('addition')\">addition</span> <span onclick=\"getCFP('to')\">to</span> <span onclick=\"getCFP('the')\">the</span> <span onclick=\"getCFP('seen')\">seen</span> <span onclick=\"getCFP('vermin')\">vermin</span>, <span onclick=\"getCFP('the')\">the</span> <span onclick=\"getCFP('two')\">two</span> <span onclick=\"getCFP('men')\">men</span>.</span></p>\n",
        "\n",
        "<p><span><span onclick=\"getCFP('It')\">It</span> <span onclick=\"getCFP('received')\">received</span> <span onclick=\"getCFP('such')\">such</span> <span onclick=\"getCFP('light')\">light</span> <span onclick=\"getCFP('as')\">as</span> <span onclick=\"getCFP('it')\">it</span> <span onclick=\"getCFP('got')\">got</span> <span onclick=\"getCFP('through')\">through</span> <span onclick=\"getCFP('a')\">a</span> <span onclick=\"getCFP('grating')\">grating</span> <span onclick=\"getCFP('of')\">of</span> <span onclick=\"getCFP('iron')\">iron</span> <span onclick=\"getCFP('bars')\">bars</span> <span onclick=\"getCFP('fashioned')\">fashioned</span> <span onclick=\"getCFP('like')\">like</span> <span onclick=\"getCFP('a')\">a</span> <span onclick=\"getCFP('pretty')\">pretty</span> <span onclick=\"getCFP('large')\">large</span> <span onclick=\"getCFP('window')\">window</span>, <span onclick=\"getCFP('by')\">by</span> <span onclick=\"getCFP('means')\">means</span> <span onclick=\"getCFP('of')\">of</span> <span onclick=\"getCFP('which')\">which</span> <span onclick=\"getCFP('it')\">it</span> <span onclick=\"getCFP('could')\">could</span> <span onclick=\"getCFP('be')\">be</span> <span onclick=\"getCFP('always')\">always</span> <span onclick=\"getCFP('inspected')\">inspected</span> <span onclick=\"getCFP('from')\">from</span> <span onclick=\"getCFP('the')\">the</span> <span onclick=\"getCFP('gloomy')\">gloomy</span> <span onclick=\"getCFP('staircase')\">staircase</span> <span onclick=\"getCFP('on')\">on</span> <span onclick=\"getCFP('which')\">which</span> <span onclick=\"getCFP('the')\">the</span> <span onclick=\"getCFP('grating')\">grating</span> <span onclick=\"getCFP('gave')\">gave</span>.</span> <span><span onclick=\"getCFP('There')\">There</span> <span onclick=\"getCFP('was')\">was</span> <span onclick=\"getCFP('a')\">a</span> <span onclick=\"getCFP('broad')\">broad</span> <span onclick=\"getCFP('strong')\">strong</span> <span onclick=\"getCFP('ledge')\">ledge</span> <span onclick=\"getCFP('of')\">of</span> <span onclick=\"getCFP('stone')\">stone</span> <span onclick=\"getCFP('to')\">to</span> <span onclick=\"getCFP('this')\">this</span> <span onclick=\"getCFP('grating')\">grating</span> <span onclick=\"getCFP('where')\">where</span> <span onclick=\"getCFP('the')\">the</span> <span onclick=\"getCFP('bottom')\">bottom</span> <span onclick=\"getCFP('of')\">of</span> <span onclick=\"getCFP('it')\">it</span> <span onclick=\"getCFP('was')\">was</span> <span onclick=\"getCFP('let')\">let</span> <span onclick=\"getCFP('into')\">into</span> <span onclick=\"getCFP('the')\">the</span> <span onclick=\"getCFP('masonry')\">masonry</span>, <span onclick=\"getCFP('three')\">three</span> <span onclick=\"getCFP('or')\">or</span> <span onclick=\"getCFP('four')\">four</span> <span onclick=\"getCFP('feet')\">feet</span> <span onclick=\"getCFP('above')\">above</span> <span onclick=\"getCFP('the')\">the</span> <span onclick=\"getCFP('ground')\">ground</span>.</span> <span><span onclick=\"getCFP('Upon')\">Upon</span> <span onclick=\"getCFP('it')\">it</span>, <span onclick=\"getCFP('one')\">one</span> <span onclick=\"getCFP('of')\">of</span> <span onclick=\"getCFP('the')\">the</span> <span onclick=\"getCFP('two')\">two</span> <span onclick=\"getCFP('men')\">men</span> <span onclick=\"getCFP('lolled')\">lolled</span>, <span onclick=\"getCFP('half')\">half</span> <span onclick=\"getCFP('sitting')\">sitting</span> <span onclick=\"getCFP('and')\">and</span> <span onclick=\"getCFP('half')\">half</span> <span onclick=\"getCFP('lying')\">lying</span>, <span onclick=\"getCFP('with')\">with</span> <span onclick=\"getCFP('his')\">his</span> <span onclick=\"getCFP('knees')\">knees</span> <span onclick=\"getCFP('drawn')\">drawn</span> <span onclick=\"getCFP('up')\">up</span>, <span onclick=\"getCFP('and')\">and</span> <span onclick=\"getCFP('his')\">his</span> <span onclick=\"getCFP('feet')\">feet</span> <span onclick=\"getCFP('and')\">and</span> <span onclick=\"getCFP('shoulders')\">shoulders</span> <span onclick=\"getCFP('planted')\">planted</span> <span onclick=\"getCFP('against')\">against</span> <span onclick=\"getCFP('the')\">the</span> <span onclick=\"getCFP('opposite')\">opposite</span> <span onclick=\"getCFP('sides')\">sides</span> <span onclick=\"getCFP('of')\">of</span> <span onclick=\"getCFP('the')\">the</span> <span onclick=\"getCFP('aperture')\">aperture</span>.</span> <span><span onclick=\"getCFP('The')\">The</span> <span onclick=\"getCFP('bars')\">bars</span> <span onclick=\"getCFP('were')\">were</span> <span onclick=\"getCFP('wide')\">wide</span> <span onclick=\"getCFP('enough')\">enough</span> <span onclick=\"getCFP('apart')\">apart</span> <span onclick=\"getCFP('to')\">to</span> <span onclick=\"getCFP('admit')\">admit</span> <span onclick=\"getCFP('of')\">of</span> <span onclick=\"getCFP('his')\">his</span> <span onclick=\"getCFP('thrusting')\">thrusting</span> <span onclick=\"getCFP('his')\">his</span> <span onclick=\"getCFP('arm')\">arm</span> <span onclick=\"getCFP('through')\">through</span> <span onclick=\"getCFP('to')\">to</span> <span onclick=\"getCFP('the')\">the</span> <span onclick=\"getCFP('elbow')\">elbow</span>; <span onclick=\"getCFP('and')\">and</span> <span onclick=\"getCFP('so')\">so</span> <span onclick=\"getCFP('he')\">he</span> <span onclick=\"getCFP('held')\">held</span> <span onclick=\"getCFP('on')\">on</span> <span onclick=\"getCFP('negligently')\">negligently</span>, <span onclick=\"getCFP('for')\">for</span> <span onclick=\"getCFP('his')\">his</span> <span onclick=\"getCFP('greater')\">greater</span> <span onclick=\"getCFP('ease')\">ease</span>.</span></p>\n",
        "\n",
        "<p><span><span onclick=\"getCFP('A')\">A</span> <span onclick=\"getCFP('prison')\">prison</span> <span onclick=\"getCFP('taint')\">taint</span> <span onclick=\"getCFP('was')\">was</span> <span onclick=\"getCFP('on')\">on</span> <span onclick=\"getCFP('everything')\">everything</span> <span onclick=\"getCFP('there')\">there</span>.</span> <span><span onclick=\"getCFP('The')\">The</span> <span onclick=\"getCFP('imprisoned')\">imprisoned</span> <span onclick=\"getCFP('air')\">air</span>, <span onclick=\"getCFP('the')\">the</span> <span onclick=\"getCFP('imprisoned')\">imprisoned</span> <span onclick=\"getCFP('light')\">light</span>, <span onclick=\"getCFP('the')\">the</span> <span onclick=\"getCFP('imprisoned')\">imprisoned</span> <span onclick=\"getCFP('damps')\">damps</span>, <span onclick=\"getCFP('the')\">the</span> <span onclick=\"getCFP('imprisoned')\">imprisoned</span> <span onclick=\"getCFP('men')\">men</span>, <span onclick=\"getCFP('were')\">were</span> <span onclick=\"getCFP('all')\">all</span> <span onclick=\"getCFP('deteriorated')\">deteriorated</span> <span onclick=\"getCFP('by')\">by</span> <span onclick=\"getCFP('confinement')\">confinement</span>.</span> <span><span onclick=\"getCFP('As')\">As</span> <span onclick=\"getCFP('the')\">the</span> <span onclick=\"getCFP('captive')\">captive</span> <span onclick=\"getCFP('men')\">men</span> <span onclick=\"getCFP('were')\">were</span> <span onclick=\"getCFP('faded')\">faded</span> <span onclick=\"getCFP('and')\">and</span> <span onclick=\"getCFP('haggard')\">haggard</span>, <span onclick=\"getCFP('so')\">so</span> <span onclick=\"getCFP('the')\">the</span> <span onclick=\"getCFP('iron')\">iron</span> <span onclick=\"getCFP('was')\">was</span> <span onclick=\"getCFP('rusty')\">rusty</span>, <span onclick=\"getCFP('the')\">the</span> <span onclick=\"getCFP('stone')\">stone</span> <span onclick=\"getCFP('was')\">was</span> <span onclick=\"getCFP('slimy')\">slimy</span>, <span onclick=\"getCFP('the')\">the</span> <span onclick=\"getCFP('wood')\">wood</span> <span onclick=\"getCFP('was')\">was</span> <span onclick=\"getCFP('rotten')\">rotten</span>, <span onclick=\"getCFP('the')\">the</span> <span onclick=\"getCFP('air')\">air</span> <span onclick=\"getCFP('was')\">was</span> <span onclick=\"getCFP('faint')\">faint</span>, <span onclick=\"getCFP('the')\">the</span> <span onclick=\"getCFP('light')\">light</span> <span onclick=\"getCFP('was')\">was</span> <span onclick=\"getCFP('dim')\">dim</span>.</span> <span><span onclick=\"getCFP('Like')\">Like</span> <span onclick=\"getCFP('a')\">a</span> <span onclick=\"getCFP('well')\">well</span>, <span onclick=\"getCFP('like')\">like</span> <span onclick=\"getCFP('a')\">a</span> <span onclick=\"getCFP('vault')\">vault</span>, <span onclick=\"getCFP('like')\">like</span> <span onclick=\"getCFP('a')\">a</span> <span onclick=\"getCFP('tomb')\">tomb</span>, <span onclick=\"getCFP('the')\">the</span> <span onclick=\"getCFP('prison')\">prison</span> <span onclick=\"getCFP('had')\">had</span> <span onclick=\"getCFP('no')\">no</span> <span onclick=\"getCFP('knowledge')\">knowledge</span> <span onclick=\"getCFP('of')\">of</span> <span onclick=\"getCFP('the')\">the</span> <span onclick=\"getCFP('brightness')\">brightness</span> <span onclick=\"getCFP('outside')\">outside</span>, <span onclick=\"getCFP('and')\">and</span> <span onclick=\"getCFP('would')\">would</span> <span onclick=\"getCFP('have')\">have</span> <span onclick=\"getCFP('kept')\">kept</span> <span onclick=\"getCFP('its')\">its</span> <span onclick=\"getCFP('polluted')\">polluted</span> <span onclick=\"getCFP('atmosphere')\">atmosphere</span> <span onclick=\"getCFP('intact')\">intact</span> <span onclick=\"getCFP('in')\">in</span> <span onclick=\"getCFP('one')\">one</span> <span onclick=\"getCFP('of')\">of</span> <span onclick=\"getCFP('the')\">the</span> <span onclick=\"getCFP('spice')\">spice</span> <span onclick=\"getCFP('islands')\">islands</span> <span onclick=\"getCFP('of')\">of</span> <span onclick=\"getCFP('the')\">the</span> <span onclick=\"getCFP('Indian')\">Indian</span> <span onclick=\"getCFP('ocean')\">ocean</span>.</span></p>\n",
        "\n",
        "<p><span><span onclick=\"getCFP('The')\">The</span> <span onclick=\"getCFP('man')\">man</span> <span onclick=\"getCFP('who')\">who</span> <span onclick=\"getCFP('lay')\">lay</span> <span onclick=\"getCFP('on')\">on</span> <span onclick=\"getCFP('the')\">the</span> <span onclick=\"getCFP('ledge')\">ledge</span> <span onclick=\"getCFP('of')\">of</span> <span onclick=\"getCFP('the')\">the</span> <span onclick=\"getCFP('grating')\">grating</span> <span onclick=\"getCFP('was')\">was</span> <span onclick=\"getCFP('even')\">even</span> <span onclick=\"getCFP('chilled')\">chilled</span>.</span> <span><span onclick=\"getCFP('He')\">He</span> <span onclick=\"getCFP('jerked')\">jerked</span> <span onclick=\"getCFP('his')\">his</span> <span onclick=\"getCFP('great')\">great</span> <span onclick=\"getCFP('cloak')\">cloak</span> <span onclick=\"getCFP('more')\">more</span> <span onclick=\"getCFP('heavily')\">heavily</span> <span onclick=\"getCFP('upon')\">upon</span> <span onclick=\"getCFP('him')\">him</span> <span onclick=\"getCFP('by')\">by</span> <span onclick=\"getCFP('an')\">an</span> <span onclick=\"getCFP('impatient')\">impatient</span> <span onclick=\"getCFP('movement')\">movement</span> <span onclick=\"getCFP('of')\">of</span> <span onclick=\"getCFP('one')\">one</span> <span onclick=\"getCFP('shoulder')\">shoulder</span>, <span onclick=\"getCFP('and')\">and</span> <span onclick=\"getCFP('growled')\">growled</span>, '<span onclick=\"getCFP('To')\">To</span> <span onclick=\"getCFP('the')\">the</span> <span onclick=\"getCFP('devil')\">devil</span> <span onclick=\"getCFP('with')\">with</span> <span onclick=\"getCFP('this')\">this</span> <span onclick=\"getCFP('Brigand')\">Brigand</span> <span onclick=\"getCFP('of')\">of</span> <span onclick=\"getCFP('a')\">a</span> <span onclick=\"getCFP('Sun')\">Sun</span> <span onclick=\"getCFP('that')\">that</span> <span onclick=\"getCFP('never')\">never</span> <span onclick=\"getCFP('shines')\">shines</span> <span onclick=\"getCFP('in')\">in</span> <span onclick=\"getCFP('here')\">here</span>!'</span></p><p><span><span onclick=\"getCFP('He')\">He</span> <span onclick=\"getCFP('was')\">was</span> <span onclick=\"getCFP('waiting')\">waiting</span> <span onclick=\"getCFP('to')\">to</span> <span onclick=\"getCFP('be')\">be</span> <span onclick=\"getCFP('fed')\">fed</span>, <span onclick=\"getCFP('looking')\">looking</span> <span onclick=\"getCFP('sideways')\">sideways</span> <span onclick=\"getCFP('through')\">through</span> <span onclick=\"getCFP('the')\">the</span> <span onclick=\"getCFP('bars')\">bars</span> <span onclick=\"getCFP('that')\">that</span> <span onclick=\"getCFP('he')\">he</span> <span onclick=\"getCFP('might')\">might</span> <span onclick=\"getCFP('see')\">see</span> <span onclick=\"getCFP('the')\">the</span> <span onclick=\"getCFP('further')\">further</span> <span onclick=\"getCFP('down')\">down</span> <span onclick=\"getCFP('the')\">the</span> <span onclick=\"getCFP('stairs')\">stairs</span>, <span onclick=\"getCFP('with')\">with</span> <span onclick=\"getCFP('much')\">much</span> <span onclick=\"getCFP('of')\">of</span> <span onclick=\"getCFP('the')\">the</span> <span onclick=\"getCFP('expression')\">expression</span> <span onclick=\"getCFP('of')\">of</span> <span onclick=\"getCFP('a')\">a</span> <span onclick=\"getCFP('wild')\">wild</span> <span onclick=\"getCFP('beast')\">beast</span> <span onclick=\"getCFP('in')\">in</span> <span onclick=\"getCFP('similar')\">similar</span> <span onclick=\"getCFP('expectation')\">expectation</span>.</span> <span><span onclick=\"getCFP('But')\">But</span> <span onclick=\"getCFP('his')\">his</span> <span onclick=\"getCFP('eyes')\">eyes</span>, <span onclick=\"getCFP('too')\">too</span> <span onclick=\"getCFP('close')\">close</span> <span onclick=\"getCFP('together')\">together</span>, <span onclick=\"getCFP('were')\">were</span> <span onclick=\"getCFP('not')\">not</span> <span onclick=\"getCFP('so')\">so</span> <span onclick=\"getCFP('nobly')\">nobly</span> <span onclick=\"getCFP('set')\">set</span> <span onclick=\"getCFP('in')\">in</span> <span onclick=\"getCFP('his')\">his</span> <span onclick=\"getCFP('head')\">head</span> <span onclick=\"getCFP('as')\">as</span> <span onclick=\"getCFP('those')\">those</span> <span onclick=\"getCFP('of')\">of</span> <span onclick=\"getCFP('the')\">the</span> <span onclick=\"getCFP('king')\">king</span> <span onclick=\"getCFP('of')\">of</span> <span onclick=\"getCFP('beasts')\">beasts</span> <span onclick=\"getCFP('are')\">are</span> <span onclick=\"getCFP('in')\">in</span> <span onclick=\"getCFP('his')\">his</span>, <span onclick=\"getCFP('and')\">and</span> <span onclick=\"getCFP('they')\">they</span> <span onclick=\"getCFP('were')\">were</span> <span onclick=\"getCFP('sharp')\">sharp</span> <span onclick=\"getCFP('rather')\">rather</span> <span onclick=\"getCFP('than')\">than</span> <span onclick=\"getCFP('bright')\">bright</span>--<span onclick=\"getCFP('pointed')\">pointed</span> <span onclick=\"getCFP('weapons')\">weapons</span> <span onclick=\"getCFP('with')\">with</span> <span onclick=\"getCFP('little')\">little</span> <span onclick=\"getCFP('surface')\">surface</span> <span onclick=\"getCFP('to')\">to</span> <span onclick=\"getCFP('betray')\">betray</span> <span onclick=\"getCFP('them')\">them</span>.</span> <span><span onclick=\"getCFP('They')\">They</span> <span onclick=\"getCFP('had')\">had</span> <span onclick=\"getCFP('no')\">no</span> <span onclick=\"getCFP('depth')\">depth</span> <span onclick=\"getCFP('or')\">or</span> <span onclick=\"getCFP('change')\">change</span>; <span onclick=\"getCFP('they')\">they</span> <span onclick=\"getCFP('glittered')\">glittered</span>, <span onclick=\"getCFP('and')\">and</span> <span onclick=\"getCFP('they')\">they</span> <span onclick=\"getCFP('opened')\">opened</span> <span onclick=\"getCFP('and')\">and</span> <span onclick=\"getCFP('shut')\">shut</span>.</span> <span><span onclick=\"getCFP('So')\">So</span> <span onclick=\"getCFP('far')\">far</span>, <span onclick=\"getCFP('and')\">and</span> <span onclick=\"getCFP('waiving')\">waiving</span> <span onclick=\"getCFP('their')\">their</span> <span onclick=\"getCFP('use')\">use</span> <span onclick=\"getCFP('to')\">to</span> <span onclick=\"getCFP('himself')\">himself</span>, <span onclick=\"getCFP('a')\">a</span> <span onclick=\"getCFP('clockmaker')\">clockmaker</span> <span onclick=\"getCFP('could')\">could</span> <span onclick=\"getCFP('have')\">have</span> <span onclick=\"getCFP('made')\">made</span> <span onclick=\"getCFP('a')\">a</span> <span onclick=\"getCFP('better')\">better</span> <span onclick=\"getCFP('pair')\">pair</span>.</span> <span><span onclick=\"getCFP('He')\">He</span> <span onclick=\"getCFP('had')\">had</span> <span onclick=\"getCFP('a')\">a</span> <span onclick=\"getCFP('hook')\">hook</span> <span onclick=\"getCFP('nose')\">nose</span>, <span onclick=\"getCFP('handsome')\">handsome</span> <span onclick=\"getCFP('after')\">after</span> <span onclick=\"getCFP('its')\">its</span> <span onclick=\"getCFP('kind')\">kind</span>, <span onclick=\"getCFP('but')\">but</span> <span onclick=\"getCFP('too')\">too</span> <span onclick=\"getCFP('high')\">high</span> <span onclick=\"getCFP('between')\">between</span> <span onclick=\"getCFP('the')\">the</span> <span onclick=\"getCFP('eyes')\">eyes</span> <span onclick=\"getCFP('by')\">by</span> <span onclick=\"getCFP('probably')\">probably</span> <span onclick=\"getCFP('just')\">just</span> <span onclick=\"getCFP('as')\">as</span> <span onclick=\"getCFP('much')\">much</span> <span onclick=\"getCFP('as')\">as</span> <span onclick=\"getCFP('his')\">his</span> <span onclick=\"getCFP('eyes')\">eyes</span> <span onclick=\"getCFP('were')\">were</span> <span onclick=\"getCFP('too')\">too</span> <span onclick=\"getCFP('near')\">near</span> <span onclick=\"getCFP('to')\">to</span> <span onclick=\"getCFP('one')\">one</span> <span onclick=\"getCFP('another')\">another</span>.</span> <span><span onclick=\"getCFP('For')\">For</span> <span onclick=\"getCFP('the')\">the</span> <span onclick=\"getCFP('rest')\">rest</span>, <span onclick=\"getCFP('he')\">he</span> <span onclick=\"getCFP('was')\">was</span> <span onclick=\"getCFP('large')\">large</span> <span onclick=\"getCFP('and')\">and</span> <span onclick=\"getCFP('tall')\">tall</span> <span onclick=\"getCFP('in')\">in</span> <span onclick=\"getCFP('frame')\">frame</span>, <span onclick=\"getCFP('had')\">had</span> <span onclick=\"getCFP('thin')\">thin</span> <span onclick=\"getCFP('lips')\">lips</span>, <span onclick=\"getCFP('where')\">where</span> <span onclick=\"getCFP('his')\">his</span> <span onclick=\"getCFP('thick')\">thick</span> <span onclick=\"getCFP('moustache')\">moustache</span> <span onclick=\"getCFP('showed')\">showed</span> <span onclick=\"getCFP('them')\">them</span> <span onclick=\"getCFP('at')\">at</span> <span onclick=\"getCFP('all')\">all</span>, <span onclick=\"getCFP('and')\">and</span> <span onclick=\"getCFP('a')\">a</span> <span onclick=\"getCFP('quantity')\">quantity</span> <span onclick=\"getCFP('of')\">of</span> <span onclick=\"getCFP('dry')\">dry</span> <span onclick=\"getCFP('hair')\">hair</span>, <span onclick=\"getCFP('of')\">of</span> <span onclick=\"getCFP('no')\">no</span> <span onclick=\"getCFP('definable')\">definable</span> <span onclick=\"getCFP('colour')\">colour</span>, <span onclick=\"getCFP('in')\">in</span> <span onclick=\"getCFP('its')\">its</span> <span onclick=\"getCFP('shaggy')\">shaggy</span> <span onclick=\"getCFP('state')\">state</span>, <span onclick=\"getCFP('but')\">but</span> <span onclick=\"getCFP('shot')\">shot</span> <span onclick=\"getCFP('with')\">with</span> <span onclick=\"getCFP('red')\">red</span>.</span> <span><span onclick=\"getCFP('The')\">The</span> <span onclick=\"getCFP('hand')\">hand</span> <span onclick=\"getCFP('with')\">with</span> <span onclick=\"getCFP('which')\">which</span> <span onclick=\"getCFP('he')\">he</span> <span onclick=\"getCFP('held')\">held</span> <span onclick=\"getCFP('the')\">the</span> <span onclick=\"getCFP('grating')\">grating</span> (<span onclick=\"getCFP('seamed')\">seamed</span> <span onclick=\"getCFP('all')\">all</span> <span onclick=\"getCFP('over')\">over</span> <span onclick=\"getCFP('the')\">the</span> <span onclick=\"getCFP('back')\">back</span> <span onclick=\"getCFP('with')\">with</span> <span onclick=\"getCFP('ugly')\">ugly</span> <span onclick=\"getCFP('scratches')\">scratches</span> <span onclick=\"getCFP('newly')\">newly</span> <span onclick=\"getCFP('healed')\">healed</span>), <span onclick=\"getCFP('was')\">was</span> <span onclick=\"getCFP('unusually')\">unusually</span> <span onclick=\"getCFP('small')\">small</span> <span onclick=\"getCFP('and')\">and</span> <span onclick=\"getCFP('plump')\">plump</span>; <span onclick=\"getCFP('would')\">would</span> <span onclick=\"getCFP('have')\">have</span> <span onclick=\"getCFP('been')\">been</span> <span onclick=\"getCFP('unusually')\">unusually</span> <span onclick=\"getCFP('white')\">white</span> <span onclick=\"getCFP('but')\">but</span> <span onclick=\"getCFP('for')\">for</span> <span onclick=\"getCFP('the')\">the</span> <span onclick=\"getCFP('prison')\">prison</span> <span onclick=\"getCFP('grime')\">grime</span>.</span> <span><span onclick=\"getCFP('The')\">The</span> <span onclick=\"getCFP('other')\">other</span> <span onclick=\"getCFP('man')\">man</span> <span onclick=\"getCFP('was')\">was</span> <span onclick=\"getCFP('lying')\">lying</span> <span onclick=\"getCFP('on')\">on</span> <span onclick=\"getCFP('the')\">the</span> <span onclick=\"getCFP('stone')\">stone</span> <span onclick=\"getCFP('floor')\">floor</span>, <span onclick=\"getCFP('covered')\">covered</span> <span onclick=\"getCFP('with')\">with</span> <span onclick=\"getCFP('a')\">a</span> <span onclick=\"getCFP('coarse')\">coarse</span> <span onclick=\"getCFP('brown')\">brown</span> <span onclick=\"getCFP('coat')\">coat</span>.</span></p>\n",
        "\n",
        "<p><span>'<span onclick=\"getCFP('Get')\">Get</span> <span onclick=\"getCFP('up')\">up</span>, <span onclick=\"getCFP('pig')\">pig</span>!' <span onclick=\"getCFP('growled')\">growled</span> <span onclick=\"getCFP('the')\">the</span> <span onclick=\"getCFP('first')\">first</span>.</span> <span>'<span onclick=\"getCFP('Don't')\">Don't</span> <span onclick=\"getCFP('sleep')\">sleep</span> <span onclick=\"getCFP('when')\">when</span> <span onclick=\"getCFP('I')\">I</span> <span onclick=\"getCFP('am')\">am</span> <span onclick=\"getCFP('hungry')\">hungry</span>.'</span></p><p><span>'<span onclick=\"getCFP('It's')\">It's</span> <span onclick=\"getCFP('all')\">all</span> <span onclick=\"getCFP('one')\">one</span>, <span onclick=\"getCFP('master')\">master</span>,' <span onclick=\"getCFP('said')\">said</span> <span onclick=\"getCFP('the')\">the</span> <span onclick=\"getCFP('pig')\">pig</span>, <span onclick=\"getCFP('in')\">in</span> <span onclick=\"getCFP('a')\">a</span> <span onclick=\"getCFP('submissive')\">submissive</span> <span onclick=\"getCFP('manner')\">manner</span>, <span onclick=\"getCFP('and')\">and</span> <span onclick=\"getCFP('not')\">not</span> <span onclick=\"getCFP('without')\">without</span> <span onclick=\"getCFP('cheerfulness')\">cheerfulness</span>; '<span onclick=\"getCFP('I')\">I</span> <span onclick=\"getCFP('can')\">can</span> <span onclick=\"getCFP('wake')\">wake</span> <span onclick=\"getCFP('when')\">when</span> <span onclick=\"getCFP('I')\">I</span> <span onclick=\"getCFP('will')\">will</span>, <span onclick=\"getCFP('I')\">I</span> <span onclick=\"getCFP('can')\">can</span> <span onclick=\"getCFP('sleep')\">sleep</span> <span onclick=\"getCFP('when')\">when</span> <span onclick=\"getCFP('I')\">I</span> <span onclick=\"getCFP('will')\">will</span>.</span> <span><span onclick=\"getCFP('It's')\">It's</span> <span onclick=\"getCFP('all')\">all</span> <span onclick=\"getCFP('the')\">the</span> <span onclick=\"getCFP('same')\">same</span>.'</span></p><p><span><span onclick=\"getCFP('As')\">As</span> <span onclick=\"getCFP('he')\">he</span> <span onclick=\"getCFP('said')\">said</span> <span onclick=\"getCFP('it')\">it</span>, <span onclick=\"getCFP('he')\">he</span> <span onclick=\"getCFP('rose')\">rose</span>, <span onclick=\"getCFP('shook')\">shook</span> <span onclick=\"getCFP('himself')\">himself</span>, <span onclick=\"getCFP('scratched')\">scratched</span> <span onclick=\"getCFP('himself')\">himself</span>, <span onclick=\"getCFP('tied')\">tied</span> <span onclick=\"getCFP('his')\">his</span> <span onclick=\"getCFP('brown')\">brown</span> <span onclick=\"getCFP('coat')\">coat</span> <span onclick=\"getCFP('loosely')\">loosely</span> <span onclick=\"getCFP('round')\">round</span> <span onclick=\"getCFP('his')\">his</span> <span onclick=\"getCFP('neck')\">neck</span> <span onclick=\"getCFP('by')\">by</span> <span onclick=\"getCFP('the')\">the</span> <span onclick=\"getCFP('sleeves')\">sleeves</span> (<span onclick=\"getCFP('he')\">he</span> <span onclick=\"getCFP('had')\">had</span> <span onclick=\"getCFP('previously')\">previously</span> <span onclick=\"getCFP('used')\">used</span> <span onclick=\"getCFP('it')\">it</span> <span onclick=\"getCFP('as')\">as</span> <span onclick=\"getCFP('a')\">a</span> <span onclick=\"getCFP('coverlet')\">coverlet</span>), <span onclick=\"getCFP('and')\">and</span> <span onclick=\"getCFP('sat')\">sat</span> <span onclick=\"getCFP('down')\">down</span> <span onclick=\"getCFP('upon')\">upon</span> <span onclick=\"getCFP('the')\">the</span> <span onclick=\"getCFP('pavement')\">pavement</span> <span onclick=\"getCFP('yawning')\">yawning</span>, <span onclick=\"getCFP('with')\">with</span> <span onclick=\"getCFP('his')\">his</span> <span onclick=\"getCFP('back')\">back</span> <span onclick=\"getCFP('against')\">against</span> <span onclick=\"getCFP('the')\">the</span> <span onclick=\"getCFP('wall')\">wall</span> <span onclick=\"getCFP('opposite')\">opposite</span> <span onclick=\"getCFP('to')\">to</span> <span onclick=\"getCFP('the')\">the</span> <span onclick=\"getCFP('grating')\">grating</span>.</span></p>\n",
        "\n",
        "<p><span>'<span onclick=\"getCFP('Say')\">Say</span> <span onclick=\"getCFP('what')\">what</span> <span onclick=\"getCFP('the')\">the</span> <span onclick=\"getCFP('hour')\">hour</span> <span onclick=\"getCFP('is')\">is</span>,' <span onclick=\"getCFP('grumbled')\">grumbled</span> <span onclick=\"getCFP('the')\">the</span> <span onclick=\"getCFP('first')\">first</span> <span onclick=\"getCFP('man')\">man</span>.</span></p><p><span>'<span onclick=\"getCFP('The')\">The</span> <span onclick=\"getCFP('mid-day')\">mid-day</span> <span onclick=\"getCFP('bells')\">bells</span> <span onclick=\"getCFP('will')\">will</span> <span onclick=\"getCFP('ring')\">ring</span>--<span onclick=\"getCFP('in')\">in</span> <span onclick=\"getCFP('forty')\">forty</span> <span onclick=\"getCFP('minutes')\">minutes</span>.'</span> <span><span onclick=\"getCFP('When')\">When</span> <span onclick=\"getCFP('he')\">he</span> <span onclick=\"getCFP('made')\">made</span> <span onclick=\"getCFP('the')\">the</span> <span onclick=\"getCFP('little')\">little</span> <span onclick=\"getCFP('pause')\">pause</span>, <span onclick=\"getCFP('he')\">he</span> <span onclick=\"getCFP('had')\">had</span> <span onclick=\"getCFP('looked')\">looked</span> <span onclick=\"getCFP('round')\">round</span> <span onclick=\"getCFP('the')\">the</span> <span onclick=\"getCFP('prison-room')\">prison-room</span>, <span onclick=\"getCFP('as')\">as</span> <span onclick=\"getCFP('if')\">if</span> <span onclick=\"getCFP('for')\">for</span> <span onclick=\"getCFP('certain')\">certain</span> <span onclick=\"getCFP('information')\">information</span>.</span></p><p><span>'<span onclick=\"getCFP('You')\">You</span> <span onclick=\"getCFP('are')\">are</span> <span onclick=\"getCFP('a')\">a</span> <span onclick=\"getCFP('clock')\">clock</span>.</span> <span><span onclick=\"getCFP('How')\">How</span> <span onclick=\"getCFP('is')\">is</span> <span onclick=\"getCFP('it')\">it</span> <span onclick=\"getCFP('that')\">that</span> <span onclick=\"getCFP('you')\">you</span> <span onclick=\"getCFP('always')\">always</span> <span onclick=\"getCFP('know')\">know</span>?'</span></p><p><span>'<span onclick=\"getCFP('How')\">How</span> <span onclick=\"getCFP('can')\">can</span> <span onclick=\"getCFP('I')\">I</span> <span onclick=\"getCFP('say')\">say</span>?</span> <span><span onclick=\"getCFP('I')\">I</span> <span onclick=\"getCFP('always')\">always</span> <span onclick=\"getCFP('know')\">know</span> <span onclick=\"getCFP('what')\">what</span> <span onclick=\"getCFP('the')\">the</span> <span onclick=\"getCFP('hour')\">hour</span> <span onclick=\"getCFP('is')\">is</span>, <span onclick=\"getCFP('and')\">and</span> <span onclick=\"getCFP('where')\">where</span> <span onclick=\"getCFP('I')\">I</span> <span onclick=\"getCFP('am')\">am</span>.</span> <span><span onclick=\"getCFP('I')\">I</span> <span onclick=\"getCFP('was')\">was</span> <span onclick=\"getCFP('brought')\">brought</span> <span onclick=\"getCFP('in')\">in</span> <span onclick=\"getCFP('here')\">here</span> <span onclick=\"getCFP('at')\">at</span> <span onclick=\"getCFP('night')\">night</span>, <span onclick=\"getCFP('and')\">and</span> <span onclick=\"getCFP('out')\">out</span> <span onclick=\"getCFP('of')\">of</span> <span onclick=\"getCFP('a')\">a</span> <span onclick=\"getCFP('boat')\">boat</span>, <span onclick=\"getCFP('but')\">but</span> <span onclick=\"getCFP('I')\">I</span> <span onclick=\"getCFP('know')\">know</span> <span onclick=\"getCFP('where')\">where</span> <span onclick=\"getCFP('I')\">I</span> <span onclick=\"getCFP('am')\">am</span>.</span> <span><span onclick=\"getCFP('See')\">See</span> <span onclick=\"getCFP('here')\">here</span>!</span> <span><span onclick=\"getCFP('Marseilles')\">Marseilles</span> <span onclick=\"getCFP('harbour')\">harbour</span>;' <span onclick=\"getCFP('on')\">on</span> <span onclick=\"getCFP('his')\">his</span> <span onclick=\"getCFP('knees')\">knees</span> <span onclick=\"getCFP('on')\">on</span> <span onclick=\"getCFP('the')\">the</span> <span onclick=\"getCFP('pavement')\">pavement</span>, <span onclick=\"getCFP('mapping')\">mapping</span> <span onclick=\"getCFP('it')\">it</span> <span onclick=\"getCFP('all')\">all</span> <span onclick=\"getCFP('out')\">out</span> <span onclick=\"getCFP('with')\">with</span> <span onclick=\"getCFP('a')\">a</span> <span onclick=\"getCFP('swarthy')\">swarthy</span> <span onclick=\"getCFP('forefinger')\">forefinger</span>; '<span onclick=\"getCFP('Toulon')\">Toulon</span> (<span onclick=\"getCFP('where')\">where</span> <span onclick=\"getCFP('the')\">the</span> <span onclick=\"getCFP('galleys')\">galleys</span> <span onclick=\"getCFP('are')\">are</span>), <span onclick=\"getCFP('Spain')\">Spain</span> <span onclick=\"getCFP('over')\">over</span> <span onclick=\"getCFP('there')\">there</span>, <span onclick=\"getCFP('Algiers')\">Algiers</span> <span onclick=\"getCFP('over')\">over</span> <span onclick=\"getCFP('there')\">there</span>.</span> <span><span onclick=\"getCFP('Creeping')\">Creeping</span> <span onclick=\"getCFP('away')\">away</span> <span onclick=\"getCFP('to')\">to</span> <span onclick=\"getCFP('the')\">the</span> <span onclick=\"getCFP('left')\">left</span> <span onclick=\"getCFP('here')\">here</span>, <span onclick=\"getCFP('Nice')\">Nice</span>.</span> <span><span onclick=\"getCFP('Round')\">Round</span> <span onclick=\"getCFP('by')\">by</span> <span onclick=\"getCFP('the')\">the</span> <span onclick=\"getCFP('Cornice')\">Cornice</span> <span onclick=\"getCFP('to')\">to</span> <span onclick=\"getCFP('Genoa')\">Genoa</span>.</span> <span><span onclick=\"getCFP('Genoa')\">Genoa</span> <span onclick=\"getCFP('Mole')\">Mole</span> <span onclick=\"getCFP('and')\">and</span> <span onclick=\"getCFP('Harbour')\">Harbour</span>.</span> <span><span onclick=\"getCFP('Quarantine')\">Quarantine</span> <span onclick=\"getCFP('Ground')\">Ground</span>.</span> <span><span onclick=\"getCFP('City')\">City</span> <span onclick=\"getCFP('there')\">there</span>; <span onclick=\"getCFP('terrace')\">terrace</span> <span onclick=\"getCFP('gardens')\">gardens</span> <span onclick=\"getCFP('blushing')\">blushing</span> <span onclick=\"getCFP('with')\">with</span> <span onclick=\"getCFP('the')\">the</span> <span onclick=\"getCFP('bella')\">bella</span> <span onclick=\"getCFP('donna')\">donna</span>.</span> <span><span onclick=\"getCFP('Here')\">Here</span>, <span onclick=\"getCFP('Porto')\">Porto</span> <span onclick=\"getCFP('Fino')\">Fino</span>.</span> <span><span onclick=\"getCFP('Stand')\">Stand</span> <span onclick=\"getCFP('out')\">out</span> <span onclick=\"getCFP('for')\">for</span> <span onclick=\"getCFP('Leghorn')\">Leghorn</span>.</span> <span><span onclick=\"getCFP('Out')\">Out</span> <span onclick=\"getCFP('again')\">again</span> <span onclick=\"getCFP('for')\">for</span> <span onclick=\"getCFP('Civita')\">Civita</span> <span onclick=\"getCFP('Vecchia')\">Vecchia</span>. <span onclick=\"getCFP('so')\">so</span> <span onclick=\"getCFP('away')\">away</span> <span onclick=\"getCFP('to')\">to</span>-- <span onclick=\"getCFP('hey')\">hey</span>! <span onclick=\"getCFP('there's')\">there's</span> <span onclick=\"getCFP('no')\">no</span> <span onclick=\"getCFP('room')\">room</span> <span onclick=\"getCFP('for')\">for</span> <span onclick=\"getCFP('Naples')\">Naples</span>;' <span onclick=\"getCFP('he')\">he</span> <span onclick=\"getCFP('had')\">had</span> <span onclick=\"getCFP('got')\">got</span> <span onclick=\"getCFP('to')\">to</span> <span onclick=\"getCFP('the')\">the</span> <span onclick=\"getCFP('wall')\">wall</span> <span onclick=\"getCFP('by')\">by</span> <span onclick=\"getCFP('this')\">this</span> <span onclick=\"getCFP('time')\">time</span>; '<span onclick=\"getCFP('but')\">but</span> <span onclick=\"getCFP('it's')\">it's</span> <span onclick=\"getCFP('all')\">all</span> <span onclick=\"getCFP('one')\">one</span>; <span onclick=\"getCFP('it's')\">it's</span> <span onclick=\"getCFP('in')\">in</span> <span onclick=\"getCFP('there')\">there</span>!'</span></p><p><span><span onclick=\"getCFP('He')\">He</span> <span onclick=\"getCFP('remained')\">remained</span> <span onclick=\"getCFP('on')\">on</span> <span onclick=\"getCFP('his')\">his</span> <span onclick=\"getCFP('knees')\">knees</span>, <span onclick=\"getCFP('looking')\">looking</span> <span onclick=\"getCFP('up')\">up</span> <span onclick=\"getCFP('at')\">at</span> <span onclick=\"getCFP('his')\">his</span> <span onclick=\"getCFP('fellow-prisoner')\">fellow-prisoner</span> <span onclick=\"getCFP('with')\">with</span> <span onclick=\"getCFP('a')\">a</span> <span onclick=\"getCFP('lively')\">lively</span> <span onclick=\"getCFP('look')\">look</span> <span onclick=\"getCFP('for')\">for</span> <span onclick=\"getCFP('a')\">a</span> <span onclick=\"getCFP('prison')\">prison</span>.</span> <span><span onclick=\"getCFP('A')\">A</span> <span onclick=\"getCFP('sunburnt')\">sunburnt</span>, <span onclick=\"getCFP('quick')\">quick</span>, <span onclick=\"getCFP('lithe')\">lithe</span>, <span onclick=\"getCFP('little')\">little</span> <span onclick=\"getCFP('man')\">man</span>, <span onclick=\"getCFP('though')\">though</span> <span onclick=\"getCFP('rather')\">rather</span> <span onclick=\"getCFP('thickset')\">thickset</span>.</span> <span><span onclick=\"getCFP('Earrings')\">Earrings</span> <span onclick=\"getCFP('in')\">in</span> <span onclick=\"getCFP('his')\">his</span> <span onclick=\"getCFP('brown')\">brown</span> <span onclick=\"getCFP('ears')\">ears</span>, <span onclick=\"getCFP('white')\">white</span> <span onclick=\"getCFP('teeth')\">teeth</span> <span onclick=\"getCFP('lighting')\">lighting</span> <span onclick=\"getCFP('up')\">up</span> <span onclick=\"getCFP('his')\">his</span> <span onclick=\"getCFP('grotesque')\">grotesque</span> <span onclick=\"getCFP('brown')\">brown</span> <span onclick=\"getCFP('face')\">face</span>, <span onclick=\"getCFP('intensely')\">intensely</span> <span onclick=\"getCFP('black')\">black</span> <span onclick=\"getCFP('hair')\">hair</span> <span onclick=\"getCFP('clustering')\">clustering</span> <span onclick=\"getCFP('about')\">about</span> <span onclick=\"getCFP('his')\">his</span> <span onclick=\"getCFP('brown')\">brown</span> <span onclick=\"getCFP('throat')\">throat</span>, <span onclick=\"getCFP('a')\">a</span> <span onclick=\"getCFP('ragged')\">ragged</span> <span onclick=\"getCFP('red')\">red</span> <span onclick=\"getCFP('shirt')\">shirt</span> <span onclick=\"getCFP('open')\">open</span> <span onclick=\"getCFP('at')\">at</span> <span onclick=\"getCFP('his')\">his</span> <span onclick=\"getCFP('brown')\">brown</span> <span onclick=\"getCFP('breast')\">breast</span>.</span> <span><span onclick=\"getCFP('Loose')\">Loose</span>, <span onclick=\"getCFP('seaman-like')\">seaman-like</span> <span onclick=\"getCFP('trousers')\">trousers</span>, <span onclick=\"getCFP('decent')\">decent</span> <span onclick=\"getCFP('shoes')\">shoes</span>, <span onclick=\"getCFP('a')\">a</span> <span onclick=\"getCFP('long')\">long</span> <span onclick=\"getCFP('red')\">red</span> <span onclick=\"getCFP('cap')\">cap</span>, <span onclick=\"getCFP('a')\">a</span> <span onclick=\"getCFP('red')\">red</span> <span onclick=\"getCFP('sash')\">sash</span> <span onclick=\"getCFP('round')\">round</span> <span onclick=\"getCFP('his')\">his</span> <span onclick=\"getCFP('waist')\">waist</span>, <span onclick=\"getCFP('and')\">and</span> <span onclick=\"getCFP('a')\">a</span> <span onclick=\"getCFP('knife')\">knife</span> <span onclick=\"getCFP('in')\">in</span> <span onclick=\"getCFP('it')\">it</span>.</span></p>\n",
        "\n",
        "<p><span>'<span onclick=\"getCFP('Judge')\">Judge</span> <span onclick=\"getCFP('if')\">if</span> <span onclick=\"getCFP('I')\">I</span> <span onclick=\"getCFP('come')\">come</span> <span onclick=\"getCFP('back')\">back</span> <span onclick=\"getCFP('from')\">from</span> <span onclick=\"getCFP('Naples')\">Naples</span> <span onclick=\"getCFP('as')\">as</span> <span onclick=\"getCFP('I')\">I</span> <span onclick=\"getCFP('went')\">went</span>!</span> <span><span onclick=\"getCFP('See')\">See</span> <span onclick=\"getCFP('here')\">here</span>, <span onclick=\"getCFP('my')\">my</span> <span onclick=\"getCFP('master')\">master</span>!</span> <span><span onclick=\"getCFP('Civita')\">Civita</span> <span onclick=\"getCFP('Vecchia')\">Vecchia</span>, <span onclick=\"getCFP('Leghorn')\">Leghorn</span>, <span onclick=\"getCFP('Porto')\">Porto</span> <span onclick=\"getCFP('Fino')\">Fino</span>, <span onclick=\"getCFP('Genoa')\">Genoa</span>, <span onclick=\"getCFP('Cornice')\">Cornice</span>, <span onclick=\"getCFP('Off')\">Off</span> <span onclick=\"getCFP('Nice')\">Nice</span> (<span onclick=\"getCFP('which')\">which</span> <span onclick=\"getCFP('is')\">is</span> <span onclick=\"getCFP('in')\">in</span> <span onclick=\"getCFP('there')\">there</span>), <span onclick=\"getCFP('Marseilles')\">Marseilles</span>, <span onclick=\"getCFP('you')\">you</span> <span onclick=\"getCFP('and')\">and</span> <span onclick=\"getCFP('me')\">me</span>.</span> <span><span onclick=\"getCFP('The')\">The</span> <span onclick=\"getCFP('apartment')\">apartment</span> <span onclick=\"getCFP('of')\">of</span> <span onclick=\"getCFP('the')\">the</span> <span onclick=\"getCFP('jailer')\">jailer</span> <span onclick=\"getCFP('and')\">and</span> <span onclick=\"getCFP('his')\">his</span> <span onclick=\"getCFP('keys')\">keys</span> <span onclick=\"getCFP('is')\">is</span> <span onclick=\"getCFP('where')\">where</span> <span onclick=\"getCFP('I')\">I</span> <span onclick=\"getCFP('put')\">put</span> <span onclick=\"getCFP('this')\">this</span> <span onclick=\"getCFP('thumb')\">thumb</span>; <span onclick=\"getCFP('and')\">and</span> <span onclick=\"getCFP('here')\">here</span> <span onclick=\"getCFP('at')\">at</span> <span onclick=\"getCFP('my')\">my</span> <span onclick=\"getCFP('wrist')\">wrist</span> <span onclick=\"getCFP('they')\">they</span> <span onclick=\"getCFP('keep')\">keep</span> <span onclick=\"getCFP('the')\">the</span> <span onclick=\"getCFP('national')\">national</span> <span onclick=\"getCFP('razor')\">razor</span> <span onclick=\"getCFP('in')\">in</span> <span onclick=\"getCFP('its')\">its</span> <span onclick=\"getCFP('case')\">case</span>--<span onclick=\"getCFP('the')\">the</span> <span onclick=\"getCFP('guillotine')\">guillotine</span> <span onclick=\"getCFP('locked')\">locked</span> <span onclick=\"getCFP('up')\">up</span>.'</span></p><p><span><span onclick=\"getCFP('The')\">The</span> <span onclick=\"getCFP('other')\">other</span> <span onclick=\"getCFP('man')\">man</span> <span onclick=\"getCFP('spat')\">spat</span> <span onclick=\"getCFP('suddenly')\">suddenly</span> <span onclick=\"getCFP('on')\">on</span> <span onclick=\"getCFP('the')\">the</span> <span onclick=\"getCFP('pavement')\">pavement</span>, <span onclick=\"getCFP('and')\">and</span> <span onclick=\"getCFP('gurgled')\">gurgled</span> <span onclick=\"getCFP('in')\">in</span> <span onclick=\"getCFP('his')\">his</span> <span onclick=\"getCFP('throat')\">throat</span>.</span></p>\n",
        "\n",
        "<p><span><span onclick=\"getCFP('Some')\">Some</span> <span onclick=\"getCFP('lock')\">lock</span> <span onclick=\"getCFP('below')\">below</span> <span onclick=\"getCFP('gurgled')\">gurgled</span> <span onclick=\"getCFP('in')\">in</span> <span onclick=\"getCFP('its')\">its</span> <span onclick=\"getCFP('throat')\">throat</span> <span onclick=\"getCFP('immediately')\">immediately</span> <span onclick=\"getCFP('afterwards')\">afterwards</span>, <span onclick=\"getCFP('and')\">and</span> <span onclick=\"getCFP('then')\">then</span> <span onclick=\"getCFP('a')\">a</span> <span onclick=\"getCFP('door')\">door</span> <span onclick=\"getCFP('crashed')\">crashed</span>.</span> <span><span onclick=\"getCFP('Slow')\">Slow</span> <span onclick=\"getCFP('steps')\">steps</span> <span onclick=\"getCFP('began')\">began</span> <span onclick=\"getCFP('ascending')\">ascending</span> <span onclick=\"getCFP('the')\">the</span> <span onclick=\"getCFP('stairs')\">stairs</span>; <span onclick=\"getCFP('the')\">the</span> <span onclick=\"getCFP('prattle')\">prattle</span> <span onclick=\"getCFP('of')\">of</span> <span onclick=\"getCFP('a')\">a</span> <span onclick=\"getCFP('sweet')\">sweet</span> <span onclick=\"getCFP('little')\">little</span> <span onclick=\"getCFP('voice')\">voice</span> <span onclick=\"getCFP('mingled')\">mingled</span> <span onclick=\"getCFP('with')\">with</span> <span onclick=\"getCFP('the')\">the</span> <span onclick=\"getCFP('noise')\">noise</span> <span onclick=\"getCFP('they')\">they</span> <span onclick=\"getCFP('made')\">made</span>; <span onclick=\"getCFP('and')\">and</span> <span onclick=\"getCFP('the')\">the</span> <span onclick=\"getCFP('prison-keeper')\">prison-keeper</span> <span onclick=\"getCFP('appeared')\">appeared</span> <span onclick=\"getCFP('carrying')\">carrying</span> <span onclick=\"getCFP('his')\">his</span> <span onclick=\"getCFP('daughter')\">daughter</span>, <span onclick=\"getCFP('three')\">three</span> <span onclick=\"getCFP('or')\">or</span> <span onclick=\"getCFP('four')\">four</span> <span onclick=\"getCFP('years')\">years</span> <span onclick=\"getCFP('old')\">old</span>, <span onclick=\"getCFP('and')\">and</span> <span onclick=\"getCFP('a')\">a</span> <span onclick=\"getCFP('basket')\">basket</span>.</span></p>\n",
        "\n",
        "<p><span>'<span onclick=\"getCFP('How')\">How</span> <span onclick=\"getCFP('goes')\">goes</span> <span onclick=\"getCFP('the')\">the</span> <span onclick=\"getCFP('world')\">world</span> <span onclick=\"getCFP('this')\">this</span> <span onclick=\"getCFP('forenoon')\">forenoon</span>, <span onclick=\"getCFP('gentlemen')\">gentlemen</span>?</span> <span><span onclick=\"getCFP('My')\">My</span> <span onclick=\"getCFP('little')\">little</span> <span onclick=\"getCFP('one')\">one</span>, <span onclick=\"getCFP('you')\">you</span> <span onclick=\"getCFP('see')\">see</span>, <span onclick=\"getCFP('going')\">going</span> <span onclick=\"getCFP('round')\">round</span> <span onclick=\"getCFP('with')\">with</span> <span onclick=\"getCFP('me')\">me</span> <span onclick=\"getCFP('to')\">to</span> <span onclick=\"getCFP('have')\">have</span> <span onclick=\"getCFP('a')\">a</span> <span onclick=\"getCFP('peep')\">peep</span> <span onclick=\"getCFP('at')\">at</span> <span onclick=\"getCFP('her')\">her</span> <span onclick=\"getCFP('father's')\">father's</span> <span onclick=\"getCFP('birds')\">birds</span>.</span> <span><span onclick=\"getCFP('Fie')\">Fie</span>, <span onclick=\"getCFP('then')\">then</span>!</span> <span><span onclick=\"getCFP('Look')\">Look</span> <span onclick=\"getCFP('at')\">at</span> <span onclick=\"getCFP('the')\">the</span> <span onclick=\"getCFP('birds')\">birds</span>, <span onclick=\"getCFP('my')\">my</span> <span onclick=\"getCFP('pretty')\">pretty</span>, <span onclick=\"getCFP('look')\">look</span> <span onclick=\"getCFP('at')\">at</span> <span onclick=\"getCFP('the')\">the</span> <span onclick=\"getCFP('birds')\">birds</span>.'</span></p><p><span><span onclick=\"getCFP('He')\">He</span> <span onclick=\"getCFP('looked')\">looked</span> <span onclick=\"getCFP('sharply')\">sharply</span> <span onclick=\"getCFP('at')\">at</span> <span onclick=\"getCFP('the')\">the</span> <span onclick=\"getCFP('birds')\">birds</span> <span onclick=\"getCFP('himself')\">himself</span>, <span onclick=\"getCFP('as')\">as</span> <span onclick=\"getCFP('he')\">he</span> <span onclick=\"getCFP('held')\">held</span> <span onclick=\"getCFP('the')\">the</span> <span onclick=\"getCFP('child')\">child</span> <span onclick=\"getCFP('up')\">up</span> <span onclick=\"getCFP('at')\">at</span> <span onclick=\"getCFP('the')\">the</span> <span onclick=\"getCFP('grate')\">grate</span>, <span onclick=\"getCFP('especially')\">especially</span> <span onclick=\"getCFP('at')\">at</span> <span onclick=\"getCFP('the')\">the</span> <span onclick=\"getCFP('little')\">little</span> <span onclick=\"getCFP('bird')\">bird</span>, <span onclick=\"getCFP('whose')\">whose</span> <span onclick=\"getCFP('activity')\">activity</span> <span onclick=\"getCFP('he')\">he</span> <span onclick=\"getCFP('seemed')\">seemed</span> <span onclick=\"getCFP('to')\">to</span> <span onclick=\"getCFP('mistrust')\">mistrust</span>.</span> <span>'<span onclick=\"getCFP('I')\">I</span> <span onclick=\"getCFP('have')\">have</span> <span onclick=\"getCFP('brought')\">brought</span> <span onclick=\"getCFP('your')\">your</span> <span onclick=\"getCFP('bread')\">bread</span>, <span onclick=\"getCFP('Signor')\">Signor</span> <span onclick=\"getCFP('John')\">John</span> <span onclick=\"getCFP('Baptist')\">Baptist</span>,' <span onclick=\"getCFP('said')\">said</span> <span onclick=\"getCFP('he')\">he</span> (<span onclick=\"getCFP('they')\">they</span> <span onclick=\"getCFP('all')\">all</span> <span onclick=\"getCFP('spoke')\">spoke</span> <span onclick=\"getCFP('in')\">in</span> <span onclick=\"getCFP('French')\">French</span>, <span onclick=\"getCFP('but')\">but</span> <span onclick=\"getCFP('the')\">the</span> <span onclick=\"getCFP('little')\">little</span> <span onclick=\"getCFP('man')\">man</span> <span onclick=\"getCFP('was')\">was</span> <span onclick=\"getCFP('an')\">an</span> <span onclick=\"getCFP('Italian')\">Italian</span>); '<span onclick=\"getCFP('and')\">and</span> <span onclick=\"getCFP('if')\">if</span> <span onclick=\"getCFP('I')\">I</span> <span onclick=\"getCFP('might')\">might</span> <span onclick=\"getCFP('recommend')\">recommend</span> <span onclick=\"getCFP('you')\">you</span> <span onclick=\"getCFP('not')\">not</span> <span onclick=\"getCFP('to')\">to</span> <span onclick=\"getCFP('game')\">game</span>--'</span></p><p><span>'<span onclick=\"getCFP('You')\">You</span> <span onclick=\"getCFP('don't')\">don't</span> <span onclick=\"getCFP('recommend')\">recommend</span> <span onclick=\"getCFP('the')\">the</span> <span onclick=\"getCFP('master')\">master</span>!' <span onclick=\"getCFP('said')\">said</span> <span onclick=\"getCFP('John')\">John</span> <span onclick=\"getCFP('Baptist')\">Baptist</span>, <span onclick=\"getCFP('showing')\">showing</span> <span onclick=\"getCFP('his')\">his</span> <span onclick=\"getCFP('teeth')\">teeth</span> <span onclick=\"getCFP('as')\">as</span> <span onclick=\"getCFP('he')\">he</span> <span onclick=\"getCFP('smiled')\">smiled</span>.</span></p><p><span>'<span onclick=\"getCFP('Oh')\">Oh</span>! <span onclick=\"getCFP('but')\">but</span> <span onclick=\"getCFP('the')\">the</span> <span onclick=\"getCFP('master')\">master</span> <span onclick=\"getCFP('wins')\">wins</span>,' <span onclick=\"getCFP('returned')\">returned</span> <span onclick=\"getCFP('the')\">the</span> <span onclick=\"getCFP('jailer')\">jailer</span>, <span onclick=\"getCFP('with')\">with</span> <span onclick=\"getCFP('a')\">a</span> <span onclick=\"getCFP('passing')\">passing</span> <span onclick=\"getCFP('look')\">look</span> <span onclick=\"getCFP('of')\">of</span> <span onclick=\"getCFP('no')\">no</span> <span onclick=\"getCFP('particular')\">particular</span> <span onclick=\"getCFP('liking')\">liking</span> <span onclick=\"getCFP('at')\">at</span> <span onclick=\"getCFP('the')\">the</span> <span onclick=\"getCFP('other')\">other</span> <span onclick=\"getCFP('man')\">man</span>, '<span onclick=\"getCFP('and')\">and</span> <span onclick=\"getCFP('you')\">you</span> <span onclick=\"getCFP('lose')\">lose</span>.</span> <span><span onclick=\"getCFP('It's')\">It's</span> <span onclick=\"getCFP('quite')\">quite</span> <span onclick=\"getCFP('another')\">another</span> <span onclick=\"getCFP('thing')\">thing</span>.</span> <span><span onclick=\"getCFP('You')\">You</span> <span onclick=\"getCFP('get')\">get</span> <span onclick=\"getCFP('husky')\">husky</span> <span onclick=\"getCFP('bread')\">bread</span> <span onclick=\"getCFP('and')\">and</span> <span onclick=\"getCFP('sour')\">sour</span> <span onclick=\"getCFP('drink')\">drink</span> <span onclick=\"getCFP('by')\">by</span> <span onclick=\"getCFP('it')\">it</span>; <span onclick=\"getCFP('and')\">and</span> <span onclick=\"getCFP('he')\">he</span> <span onclick=\"getCFP('gets')\">gets</span> <span onclick=\"getCFP('sausage')\">sausage</span> <span onclick=\"getCFP('of')\">of</span> <span onclick=\"getCFP('Lyons')\">Lyons</span>, <span onclick=\"getCFP('veal')\">veal</span> <span onclick=\"getCFP('in')\">in</span> <span onclick=\"getCFP('savoury')\">savoury</span> <span onclick=\"getCFP('jelly')\">jelly</span>, <span onclick=\"getCFP('white')\">white</span> <span onclick=\"getCFP('bread')\">bread</span>, <span onclick=\"getCFP('strachino')\">strachino</span> <span onclick=\"getCFP('cheese')\">cheese</span>, <span onclick=\"getCFP('and')\">and</span> <span onclick=\"getCFP('good')\">good</span> <span onclick=\"getCFP('wine')\">wine</span> <span onclick=\"getCFP('by')\">by</span> <span onclick=\"getCFP('it')\">it</span>.</span> <span><span onclick=\"getCFP('Look')\">Look</span> <span onclick=\"getCFP('at')\">at</span> <span onclick=\"getCFP('the')\">the</span> <span onclick=\"getCFP('birds')\">birds</span>, <span onclick=\"getCFP('my')\">my</span> <span onclick=\"getCFP('pretty')\">pretty</span>!'</span></p><p><span>'<span onclick=\"getCFP('Poor')\">Poor</span> <span onclick=\"getCFP('birds')\">birds</span>!' <span onclick=\"getCFP('said')\">said</span> <span onclick=\"getCFP('the')\">the</span> <span onclick=\"getCFP('child')\">child</span>.</span></p><p><span><span onclick=\"getCFP('The')\">The</span> <span onclick=\"getCFP('fair')\">fair</span> <span onclick=\"getCFP('little')\">little</span> <span onclick=\"getCFP('face')\">face</span>, <span onclick=\"getCFP('touched')\">touched</span> <span onclick=\"getCFP('with')\">with</span> <span onclick=\"getCFP('divine')\">divine</span> <span onclick=\"getCFP('compassion')\">compassion</span>, <span onclick=\"getCFP('as')\">as</span> <span onclick=\"getCFP('it')\">it</span> <span onclick=\"getCFP('peeped')\">peeped</span> <span onclick=\"getCFP('shrinkingly')\">shrinkingly</span> <span onclick=\"getCFP('through')\">through</span> <span onclick=\"getCFP('the')\">the</span> <span onclick=\"getCFP('grate')\">grate</span>, <span onclick=\"getCFP('was')\">was</span> <span onclick=\"getCFP('like')\">like</span> <span onclick=\"getCFP('an')\">an</span> <span onclick=\"getCFP('angel's')\">angel's</span> <span onclick=\"getCFP('in')\">in</span> <span onclick=\"getCFP('the')\">the</span> <span onclick=\"getCFP('prison')\">prison</span>.</span> <span><span onclick=\"getCFP('John')\">John</span> <span onclick=\"getCFP('Baptist')\">Baptist</span> <span onclick=\"getCFP('rose')\">rose</span> <span onclick=\"getCFP('and')\">and</span> <span onclick=\"getCFP('moved')\">moved</span> <span onclick=\"getCFP('towards')\">towards</span> <span onclick=\"getCFP('it')\">it</span>, <span onclick=\"getCFP('as')\">as</span> <span onclick=\"getCFP('if')\">if</span> <span onclick=\"getCFP('it')\">it</span> <span onclick=\"getCFP('had')\">had</span> <span onclick=\"getCFP('a')\">a</span> <span onclick=\"getCFP('good')\">good</span> <span onclick=\"getCFP('attraction')\">attraction</span> <span onclick=\"getCFP('for')\">for</span> <span onclick=\"getCFP('him')\">him</span>.</span> <span><span onclick=\"getCFP('The')\">The</span> <span onclick=\"getCFP('other')\">other</span> <span onclick=\"getCFP('bird')\">bird</span> <span onclick=\"getCFP('remained')\">remained</span> <span onclick=\"getCFP('as')\">as</span> <span onclick=\"getCFP('before')\">before</span>, <span onclick=\"getCFP('except')\">except</span> <span onclick=\"getCFP('for')\">for</span> <span onclick=\"getCFP('an')\">an</span> <span onclick=\"getCFP('impatient')\">impatient</span> <span onclick=\"getCFP('glance')\">glance</span> <span onclick=\"getCFP('at')\">at</span> <span onclick=\"getCFP('the')\">the</span> <span onclick=\"getCFP('basket')\">basket</span>.</span></p>\n",
        "\n",
        "<p><span>'<span onclick=\"getCFP('Stay')\">Stay</span>!' <span onclick=\"getCFP('said')\">said</span> <span onclick=\"getCFP('the')\">the</span> <span onclick=\"getCFP('jailer')\">jailer</span>, <span onclick=\"getCFP('putting')\">putting</span> <span onclick=\"getCFP('his')\">his</span> <span onclick=\"getCFP('little')\">little</span> <span onclick=\"getCFP('daughter')\">daughter</span> <span onclick=\"getCFP('on')\">on</span> <span onclick=\"getCFP('the')\">the</span> <span onclick=\"getCFP('outer')\">outer</span> <span onclick=\"getCFP('ledge')\">ledge</span> <span onclick=\"getCFP('of')\">of</span> <span onclick=\"getCFP('the')\">the</span> <span onclick=\"getCFP('grate')\">grate</span>, '<span onclick=\"getCFP('she')\">she</span> <span onclick=\"getCFP('shall')\">shall</span> <span onclick=\"getCFP('feed')\">feed</span> <span onclick=\"getCFP('the')\">the</span> <span onclick=\"getCFP('birds')\">birds</span>.</span> <span><span onclick=\"getCFP('This')\">This</span> <span onclick=\"getCFP('big')\">big</span> <span onclick=\"getCFP('loaf')\">loaf</span> <span onclick=\"getCFP('is')\">is</span> <span onclick=\"getCFP('for')\">for</span> <span onclick=\"getCFP('Signor')\">Signor</span> <span onclick=\"getCFP('John')\">John</span> <span onclick=\"getCFP('Baptist')\">Baptist</span>.</span> <span><span onclick=\"getCFP('We')\">We</span> <span onclick=\"getCFP('must')\">must</span> <span onclick=\"getCFP('break')\">break</span> <span onclick=\"getCFP('it')\">it</span> <span onclick=\"getCFP('to')\">to</span> <span onclick=\"getCFP('get')\">get</span> <span onclick=\"getCFP('it')\">it</span> <span onclick=\"getCFP('through')\">through</span> <span onclick=\"getCFP('into')\">into</span> <span onclick=\"getCFP('the')\">the</span> <span onclick=\"getCFP('cage')\">cage</span>.</span> <span><span onclick=\"getCFP('So')\">So</span>, <span onclick=\"getCFP('there's')\">there's</span> <span onclick=\"getCFP('a')\">a</span> <span onclick=\"getCFP('tame')\">tame</span> <span onclick=\"getCFP('bird')\">bird</span> <span onclick=\"getCFP('to')\">to</span> <span onclick=\"getCFP('kiss')\">kiss</span> <span onclick=\"getCFP('the')\">the</span> <span onclick=\"getCFP('little')\">little</span> <span onclick=\"getCFP('hand')\">hand</span>!</span> <span><span onclick=\"getCFP('This')\">This</span> <span onclick=\"getCFP('sausage')\">sausage</span> <span onclick=\"getCFP('in')\">in</span> <span onclick=\"getCFP('a')\">a</span> <span onclick=\"getCFP('vine')\">vine</span> <span onclick=\"getCFP('leaf')\">leaf</span> <span onclick=\"getCFP('is')\">is</span> <span onclick=\"getCFP('for')\">for</span> <span onclick=\"getCFP('Monsieur')\">Monsieur</span> <span onclick=\"getCFP('Rigaud')\">Rigaud</span>.</span> <span><span onclick=\"getCFP('Again')\">Again</span>--<span onclick=\"getCFP('this')\">this</span> <span onclick=\"getCFP('veal')\">veal</span> <span onclick=\"getCFP('in')\">in</span> <span onclick=\"getCFP('savoury')\">savoury</span> <span onclick=\"getCFP('jelly')\">jelly</span> <span onclick=\"getCFP('is')\">is</span> <span onclick=\"getCFP('for')\">for</span> <span onclick=\"getCFP('Monsieur')\">Monsieur</span> <span onclick=\"getCFP('Rigaud')\">Rigaud</span>.</span> <span><span onclick=\"getCFP('Again')\">Again</span>--<span onclick=\"getCFP('these')\">these</span> <span onclick=\"getCFP('three')\">three</span> <span onclick=\"getCFP('white')\">white</span> <span onclick=\"getCFP('little')\">little</span> <span onclick=\"getCFP('loaves')\">loaves</span> <span onclick=\"getCFP('are')\">are</span> <span onclick=\"getCFP('for')\">for</span> <span onclick=\"getCFP('Monsieur')\">Monsieur</span> <span onclick=\"getCFP('Rigaud')\">Rigaud</span>.</span> <span><span onclick=\"getCFP('Again')\">Again</span>, <span onclick=\"getCFP('this')\">this</span> <span onclick=\"getCFP('cheese')\">cheese</span>--<span onclick=\"getCFP('again')\">again</span>, <span onclick=\"getCFP('this')\">this</span> <span onclick=\"getCFP('wine')\">wine</span>--<span onclick=\"getCFP('again')\">again</span>, <span onclick=\"getCFP('this')\">this</span> <span onclick=\"getCFP('tobacco')\">tobacco</span>--<span onclick=\"getCFP('all')\">all</span> <span onclick=\"getCFP('for')\">for</span> <span onclick=\"getCFP('Monsieur')\">Monsieur</span> <span onclick=\"getCFP('Rigaud')\">Rigaud</span>.</span> <span><span onclick=\"getCFP('Lucky')\">Lucky</span> <span onclick=\"getCFP('bird')\">bird</span>!'</span></p><p><span><span onclick=\"getCFP('The')\">The</span> <span onclick=\"getCFP('child')\">child</span> <span onclick=\"getCFP('put')\">put</span> <span onclick=\"getCFP('all')\">all</span> <span onclick=\"getCFP('these')\">these</span> <span onclick=\"getCFP('things')\">things</span> <span onclick=\"getCFP('between')\">between</span> <span onclick=\"getCFP('the')\">the</span> <span onclick=\"getCFP('bars')\">bars</span> <span onclick=\"getCFP('into')\">into</span> <span onclick=\"getCFP('the')\">the</span> <span onclick=\"getCFP('soft')\">soft</span>, <span onclick=\"getCFP('Smooth')\">Smooth</span>, <span onclick=\"getCFP('well-shaped')\">well-shaped</span> <span onclick=\"getCFP('hand')\">hand</span>, <span onclick=\"getCFP('with')\">with</span> <span onclick=\"getCFP('evident')\">evident</span> <span onclick=\"getCFP('dread')\">dread</span>--<span onclick=\"getCFP('more')\">more</span> <span onclick=\"getCFP('than')\">than</span> <span onclick=\"getCFP('once')\">once</span> <span onclick=\"getCFP('drawing')\">drawing</span> <span onclick=\"getCFP('back')\">back</span> <span onclick=\"getCFP('her')\">her</span> <span onclick=\"getCFP('own')\">own</span> <span onclick=\"getCFP('and')\">and</span> <span onclick=\"getCFP('looking')\">looking</span> <span onclick=\"getCFP('at')\">at</span> <span onclick=\"getCFP('the')\">the</span> <span onclick=\"getCFP('man')\">man</span> <span onclick=\"getCFP('with')\">with</span> <span onclick=\"getCFP('her')\">her</span> <span onclick=\"getCFP('fair')\">fair</span> <span onclick=\"getCFP('brow')\">brow</span> <span onclick=\"getCFP('roughened')\">roughened</span> <span onclick=\"getCFP('into')\">into</span> <span onclick=\"getCFP('an')\">an</span> <span onclick=\"getCFP('expression')\">expression</span> <span onclick=\"getCFP('half')\">half</span> <span onclick=\"getCFP('of')\">of</span> <span onclick=\"getCFP('fright')\">fright</span> <span onclick=\"getCFP('and')\">and</span> <span onclick=\"getCFP('half')\">half</span> <span onclick=\"getCFP('of')\">of</span> <span onclick=\"getCFP('anger')\">anger</span>.</span> <span><span onclick=\"getCFP('Whereas')\">Whereas</span> <span onclick=\"getCFP('she')\">she</span> <span onclick=\"getCFP('had')\">had</span> <span onclick=\"getCFP('put')\">put</span> <span onclick=\"getCFP('the')\">the</span> <span onclick=\"getCFP('lump')\">lump</span> <span onclick=\"getCFP('of')\">of</span> <span onclick=\"getCFP('coarse')\">coarse</span> <span onclick=\"getCFP('bread')\">bread</span> <span onclick=\"getCFP('into')\">into</span> <span onclick=\"getCFP('the')\">the</span> <span onclick=\"getCFP('swart')\">swart</span>, <span onclick=\"getCFP('scaled')\">scaled</span>, <span onclick=\"getCFP('knotted')\">knotted</span> <span onclick=\"getCFP('hands')\">hands</span> <span onclick=\"getCFP('of')\">of</span> <span onclick=\"getCFP('John')\">John</span> <span onclick=\"getCFP('Baptist')\">Baptist</span> (<span onclick=\"getCFP('who')\">who</span> <span onclick=\"getCFP('had')\">had</span> <span onclick=\"getCFP('scarcely')\">scarcely</span> <span onclick=\"getCFP('as')\">as</span> <span onclick=\"getCFP('much')\">much</span> <span onclick=\"getCFP('nail')\">nail</span> <span onclick=\"getCFP('on')\">on</span> <span onclick=\"getCFP('his')\">his</span> <span onclick=\"getCFP('eight')\">eight</span> <span onclick=\"getCFP('fingers')\">fingers</span> <span onclick=\"getCFP('and')\">and</span> <span onclick=\"getCFP('two')\">two</span> <span onclick=\"getCFP('thumbs')\">thumbs</span> <span onclick=\"getCFP('as')\">as</span> <span onclick=\"getCFP('would')\">would</span> <span onclick=\"getCFP('have')\">have</span> <span onclick=\"getCFP('made')\">made</span> <span onclick=\"getCFP('out')\">out</span> <span onclick=\"getCFP('one')\">one</span> <span onclick=\"getCFP('for')\">for</span> <span onclick=\"getCFP('Monsieur')\">Monsieur</span> <span onclick=\"getCFP('Rigaud')\">Rigaud</span>), <span onclick=\"getCFP('with')\">with</span> <span onclick=\"getCFP('ready')\">ready</span> <span onclick=\"getCFP('confidence')\">confidence</span>; <span onclick=\"getCFP('and')\">and</span>, <span onclick=\"getCFP('when')\">when</span> <span onclick=\"getCFP('he')\">he</span> <span onclick=\"getCFP('kissed')\">kissed</span> <span onclick=\"getCFP('her')\">her</span> <span onclick=\"getCFP('hand')\">hand</span>, <span onclick=\"getCFP('had')\">had</span> <span onclick=\"getCFP('herself')\">herself</span> <span onclick=\"getCFP('passed')\">passed</span> <span onclick=\"getCFP('it')\">it</span> <span onclick=\"getCFP('caressingly')\">caressingly</span> <span onclick=\"getCFP('over')\">over</span> <span onclick=\"getCFP('his')\">his</span> <span onclick=\"getCFP('face')\">face</span>.</span> <span><span onclick=\"getCFP('Monsieur')\">Monsieur</span> <span onclick=\"getCFP('Rigaud')\">Rigaud</span>, <span onclick=\"getCFP('indifferent')\">indifferent</span> <span onclick=\"getCFP('to')\">to</span> <span onclick=\"getCFP('this')\">this</span> <span onclick=\"getCFP('distinction')\">distinction</span>, <span onclick=\"getCFP('propitiated')\">propitiated</span> <span onclick=\"getCFP('the')\">the</span> <span onclick=\"getCFP('father')\">father</span> <span onclick=\"getCFP('by')\">by</span> <span onclick=\"getCFP('laughing')\">laughing</span> <span onclick=\"getCFP('and')\">and</span> <span onclick=\"getCFP('nodding')\">nodding</span> <span onclick=\"getCFP('at')\">at</span> <span onclick=\"getCFP('the')\">the</span> <span onclick=\"getCFP('daughter')\">daughter</span> <span onclick=\"getCFP('as')\">as</span> <span onclick=\"getCFP('often')\">often</span> <span onclick=\"getCFP('as')\">as</span> <span onclick=\"getCFP('she')\">she</span> <span onclick=\"getCFP('gave')\">gave</span> <span onclick=\"getCFP('him')\">him</span> <span onclick=\"getCFP('anything')\">anything</span>; <span onclick=\"getCFP('and')\">and</span>, <span onclick=\"getCFP('so')\">so</span> <span onclick=\"getCFP('soon')\">soon</span> <span onclick=\"getCFP('as')\">as</span> <span onclick=\"getCFP('he')\">he</span> <span onclick=\"getCFP('had')\">had</span> <span onclick=\"getCFP('all')\">all</span> <span onclick=\"getCFP('his')\">his</span> <span onclick=\"getCFP('viands')\">viands</span> <span onclick=\"getCFP('about')\">about</span> <span onclick=\"getCFP('him')\">him</span> <span onclick=\"getCFP('in')\">in</span> <span onclick=\"getCFP('convenient')\">convenient</span> <span onclick=\"getCFP('nooks')\">nooks</span> <span onclick=\"getCFP('of')\">of</span> <span onclick=\"getCFP('the')\">the</span> <span onclick=\"getCFP('ledge')\">ledge</span> <span onclick=\"getCFP('on')\">on</span> <span onclick=\"getCFP('which')\">which</span> <span onclick=\"getCFP('he')\">he</span> <span onclick=\"getCFP('rested')\">rested</span>, <span onclick=\"getCFP('began')\">began</span> <span onclick=\"getCFP('to')\">to</span> <span onclick=\"getCFP('eat')\">eat</span> <span onclick=\"getCFP('with')\">with</span> <span onclick=\"getCFP('an')\">an</span> <span onclick=\"getCFP('appetite')\">appetite</span>.</span></p>\n",
        "\n",
        "<p><span><span onclick=\"getCFP('When')\">When</span> <span onclick=\"getCFP('Monsieur')\">Monsieur</span> <span onclick=\"getCFP('Rigaud')\">Rigaud</span> <span onclick=\"getCFP('laughed')\">laughed</span>, <span onclick=\"getCFP('a')\">a</span> <span onclick=\"getCFP('change')\">change</span> <span onclick=\"getCFP('took')\">took</span> <span onclick=\"getCFP('place')\">place</span> <span onclick=\"getCFP('in')\">in</span> <span onclick=\"getCFP('his')\">his</span> <span onclick=\"getCFP('face')\">face</span>, <span onclick=\"getCFP('that')\">that</span> <span onclick=\"getCFP('was')\">was</span> <span onclick=\"getCFP('more')\">more</span> <span onclick=\"getCFP('remarkable')\">remarkable</span> <span onclick=\"getCFP('than')\">than</span> <span onclick=\"getCFP('prepossessing')\">prepossessing</span>.</span> <span><span onclick=\"getCFP('His')\">His</span> <span onclick=\"getCFP('moustache')\">moustache</span> <span onclick=\"getCFP('went')\">went</span> <span onclick=\"getCFP('up')\">up</span> <span onclick=\"getCFP('under')\">under</span> <span onclick=\"getCFP('his')\">his</span> <span onclick=\"getCFP('nose')\">nose</span>, <span onclick=\"getCFP('and')\">and</span> <span onclick=\"getCFP('his')\">his</span> <span onclick=\"getCFP('nose')\">nose</span> <span onclick=\"getCFP('came')\">came</span> <span onclick=\"getCFP('down')\">down</span> <span onclick=\"getCFP('over')\">over</span> <span onclick=\"getCFP('his')\">his</span> <span onclick=\"getCFP('moustache')\">moustache</span>, <span onclick=\"getCFP('in')\">in</span> <span onclick=\"getCFP('a')\">a</span> <span onclick=\"getCFP('very')\">very</span> <span onclick=\"getCFP('sinister')\">sinister</span> <span onclick=\"getCFP('and')\">and</span> <span onclick=\"getCFP('cruel')\">cruel</span> <span onclick=\"getCFP('manner')\">manner</span>.</span></p>\n",
        "\n",
        "<p><span>'<span onclick=\"getCFP('There')\">There</span>!' <span onclick=\"getCFP('said')\">said</span> <span onclick=\"getCFP('the')\">the</span> <span onclick=\"getCFP('jailer')\">jailer</span>, <span onclick=\"getCFP('turning')\">turning</span> <span onclick=\"getCFP('his')\">his</span> <span onclick=\"getCFP('basket')\">basket</span> <span onclick=\"getCFP('upside')\">upside</span> <span onclick=\"getCFP('down')\">down</span> <span onclick=\"getCFP('to')\">to</span> <span onclick=\"getCFP('beat')\">beat</span> <span onclick=\"getCFP('the')\">the</span> <span onclick=\"getCFP('crumbs')\">crumbs</span> <span onclick=\"getCFP('out')\">out</span>, '<span onclick=\"getCFP('I')\">I</span> <span onclick=\"getCFP('have')\">have</span> <span onclick=\"getCFP('expended')\">expended</span> <span onclick=\"getCFP('all')\">all</span> <span onclick=\"getCFP('the')\">the</span> <span onclick=\"getCFP('money')\">money</span> <span onclick=\"getCFP('I')\">I</span> <span onclick=\"getCFP('received')\">received</span>; <span onclick=\"getCFP('here')\">here</span> <span onclick=\"getCFP('is')\">is</span> <span onclick=\"getCFP('the')\">the</span> <span onclick=\"getCFP('note')\">note</span> <span onclick=\"getCFP('of')\">of</span> <span onclick=\"getCFP('it')\">it</span>, <span onclick=\"getCFP('and')\">and</span> <span onclick=\"getCFP('that's')\">that's</span> <span onclick=\"getCFP('a')\">a</span> <span onclick=\"getCFP('thing')\">thing</span> <span onclick=\"getCFP('accomplished')\">accomplished</span>.</span> <span><span onclick=\"getCFP('Monsieur')\">Monsieur</span> <span onclick=\"getCFP('Rigaud')\">Rigaud</span>, <span onclick=\"getCFP('as')\">as</span> <span onclick=\"getCFP('I')\">I</span> <span onclick=\"getCFP('expected')\">expected</span> <span onclick=\"getCFP('yesterday')\">yesterday</span>, <span onclick=\"getCFP('the')\">the</span> <span onclick=\"getCFP('President')\">President</span> <span onclick=\"getCFP('will')\">will</span> <span onclick=\"getCFP('look')\">look</span> <span onclick=\"getCFP('for')\">for</span> <span onclick=\"getCFP('the')\">the</span> <span onclick=\"getCFP('pleasure')\">pleasure</span> <span onclick=\"getCFP('of')\">of</span> <span onclick=\"getCFP('your')\">your</span> <span onclick=\"getCFP('society')\">society</span> <span onclick=\"getCFP('at')\">at</span> <span onclick=\"getCFP('an')\">an</span> <span onclick=\"getCFP('hour')\">hour</span> <span onclick=\"getCFP('after')\">after</span> <span onclick=\"getCFP('mid-day')\">mid-day</span>, <span onclick=\"getCFP('to-day')\">to-day</span>.'</span></p><p><span>'<span onclick=\"getCFP('To')\">To</span> <span onclick=\"getCFP('try')\">try</span> <span onclick=\"getCFP('me')\">me</span>, <span onclick=\"getCFP('eh')\">eh</span>?' <span onclick=\"getCFP('said')\">said</span> <span onclick=\"getCFP('Rigaud')\">Rigaud</span>, <span onclick=\"getCFP('pausing')\">pausing</span>, <span onclick=\"getCFP('knife')\">knife</span> <span onclick=\"getCFP('in')\">in</span> <span onclick=\"getCFP('hand')\">hand</span> <span onclick=\"getCFP('and')\">and</span> <span onclick=\"getCFP('morsel')\">morsel</span> <span onclick=\"getCFP('in')\">in</span> <span onclick=\"getCFP('mouth')\">mouth</span>.</span></p><p><span>'<span onclick=\"getCFP('You')\">You</span> <span onclick=\"getCFP('have')\">have</span> <span onclick=\"getCFP('said')\">said</span> <span onclick=\"getCFP('it')\">it</span>.</span> <span><span onclick=\"getCFP('To')\">To</span> <span onclick=\"getCFP('try')\">try</span> <span onclick=\"getCFP('you')\">you</span>.'</span></p><p><span>'<span onclick=\"getCFP('There')\">There</span> <span onclick=\"getCFP('is')\">is</span> <span onclick=\"getCFP('no')\">no</span> <span onclick=\"getCFP('news')\">news</span> <span onclick=\"getCFP('for')\">for</span> <span onclick=\"getCFP('me')\">me</span>?' <span onclick=\"getCFP('asked')\">asked</span> <span onclick=\"getCFP('John')\">John</span> <span onclick=\"getCFP('Baptist')\">Baptist</span>, <span onclick=\"getCFP('who')\">who</span> <span onclick=\"getCFP('had')\">had</span> <span onclick=\"getCFP('begun')\">begun</span>, <span onclick=\"getCFP('contentedly')\">contentedly</span>, <span onclick=\"getCFP('to')\">to</span> <span onclick=\"getCFP('munch')\">munch</span> <span onclick=\"getCFP('his')\">his</span> <span onclick=\"getCFP('bread')\">bread</span>.</span></p><p><span><span onclick=\"getCFP('The')\">The</span> <span onclick=\"getCFP('jailer')\">jailer</span> <span onclick=\"getCFP('shrugged')\">shrugged</span> <span onclick=\"getCFP('his')\">his</span> <span onclick=\"getCFP('shoulders')\">shoulders</span>.</span></p>\n",
        "\n",
        "<p><span>'<span onclick=\"getCFP('Lady')\">Lady</span> <span onclick=\"getCFP('of')\">of</span> <span onclick=\"getCFP('mine')\">mine</span>!</span> <span><span onclick=\"getCFP('Am')\">Am</span> <span onclick=\"getCFP('I')\">I</span> <span onclick=\"getCFP('to')\">to</span> <span onclick=\"getCFP('lie')\">lie</span> <span onclick=\"getCFP('here')\">here</span> <span onclick=\"getCFP('all')\">all</span> <span onclick=\"getCFP('my')\">my</span> <span onclick=\"getCFP('life')\">life</span>, <span onclick=\"getCFP('my')\">my</span> <span onclick=\"getCFP('father')\">father</span>?'</span></p><p><span>'<span onclick=\"getCFP('What')\">What</span> <span onclick=\"getCFP('do')\">do</span> <span onclick=\"getCFP('I')\">I</span> <span onclick=\"getCFP('know')\">know</span>!' <span onclick=\"getCFP('cried')\">cried</span> <span onclick=\"getCFP('the')\">the</span> <span onclick=\"getCFP('jailer')\">jailer</span>, <span onclick=\"getCFP('turning')\">turning</span> <span onclick=\"getCFP('upon')\">upon</span> <span onclick=\"getCFP('him')\">him</span> <span onclick=\"getCFP('with')\">with</span> <span onclick=\"getCFP('southern')\">southern</span> <span onclick=\"getCFP('quickness')\">quickness</span>, <span onclick=\"getCFP('and')\">and</span> <span onclick=\"getCFP('gesticulating')\">gesticulating</span> <span onclick=\"getCFP('with')\">with</span> <span onclick=\"getCFP('both')\">both</span> <span onclick=\"getCFP('his')\">his</span> <span onclick=\"getCFP('hands')\">hands</span> <span onclick=\"getCFP('and')\">and</span> <span onclick=\"getCFP('all')\">all</span> <span onclick=\"getCFP('his')\">his</span> <span onclick=\"getCFP('fingers')\">fingers</span>, <span onclick=\"getCFP('as')\">as</span> <span onclick=\"getCFP('if')\">if</span> <span onclick=\"getCFP('he')\">he</span> <span onclick=\"getCFP('were')\">were</span> <span onclick=\"getCFP('threatening')\">threatening</span> <span onclick=\"getCFP('to')\">to</span> <span onclick=\"getCFP('tear')\">tear</span> <span onclick=\"getCFP('him')\">him</span> <span onclick=\"getCFP('to')\">to</span> <span onclick=\"getCFP('pieces')\">pieces</span>.</span> <span>'<span onclick=\"getCFP('My')\">My</span> <span onclick=\"getCFP('friend')\">friend</span>, <span onclick=\"getCFP('how')\">how</span> <span onclick=\"getCFP('is')\">is</span> <span onclick=\"getCFP('it')\">it</span> <span onclick=\"getCFP('possible')\">possible</span> <span onclick=\"getCFP('for')\">for</span> <span onclick=\"getCFP('me')\">me</span> <span onclick=\"getCFP('to')\">to</span> <span onclick=\"getCFP('tell')\">tell</span> <span onclick=\"getCFP('how')\">how</span> <span onclick=\"getCFP('long')\">long</span> <span onclick=\"getCFP('you')\">you</span> <span onclick=\"getCFP('are')\">are</span> <span onclick=\"getCFP('to')\">to</span> <span onclick=\"getCFP('lie')\">lie</span> <span onclick=\"getCFP('here')\">here</span>?</span> <span><span onclick=\"getCFP('What')\">What</span> <span onclick=\"getCFP('do')\">do</span> <span onclick=\"getCFP('I')\">I</span> <span onclick=\"getCFP('know')\">know</span>, <span onclick=\"getCFP('John')\">John</span> <span onclick=\"getCFP('Baptist')\">Baptist</span> <span onclick=\"getCFP('Cavalletto')\">Cavalletto</span>?</span> <span><span onclick=\"getCFP('Death')\">Death</span> <span onclick=\"getCFP('of')\">of</span> <span onclick=\"getCFP('my')\">my</span> <span onclick=\"getCFP('life')\">life</span>!</span> <span><span onclick=\"getCFP('There')\">There</span> <span onclick=\"getCFP('are')\">are</span> <span onclick=\"getCFP('prisoners')\">prisoners</span> <span onclick=\"getCFP('here')\">here</span> <span onclick=\"getCFP('sometimes')\">sometimes</span>, <span onclick=\"getCFP('who')\">who</span> <span onclick=\"getCFP('are')\">are</span> <span onclick=\"getCFP('not')\">not</span> <span onclick=\"getCFP('in')\">in</span> <span onclick=\"getCFP('such')\">such</span> <span onclick=\"getCFP('a')\">a</span> <span onclick=\"getCFP('devil')\">devil</span> <span onclick=\"getCFP('of')\">of</span> <span onclick=\"getCFP('a')\">a</span> <span onclick=\"getCFP('hurry')\">hurry</span> <span onclick=\"getCFP('to')\">to</span> <span onclick=\"getCFP('be')\">be</span> <span onclick=\"getCFP('tried')\">tried</span>.'</span> <span><span onclick=\"getCFP('He')\">He</span> <span onclick=\"getCFP('seemed')\">seemed</span> <span onclick=\"getCFP('to')\">to</span> <span onclick=\"getCFP('glance')\">glance</span> <span onclick=\"getCFP('obliquely')\">obliquely</span> <span onclick=\"getCFP('at')\">at</span> <span onclick=\"getCFP('Monsieur')\">Monsieur</span> <span onclick=\"getCFP('Rigaud')\">Rigaud</span> <span onclick=\"getCFP('in')\">in</span> <span onclick=\"getCFP('this')\">this</span> <span onclick=\"getCFP('remark')\">remark</span>; <span onclick=\"getCFP('but')\">but</span> <span onclick=\"getCFP('Monsieur')\">Monsieur</span> <span onclick=\"getCFP('Rigaud')\">Rigaud</span> <span onclick=\"getCFP('had')\">had</span> <span onclick=\"getCFP('already')\">already</span> <span onclick=\"getCFP('resumed')\">resumed</span> <span onclick=\"getCFP('his')\">his</span> <span onclick=\"getCFP('meal')\">meal</span>, <span onclick=\"getCFP('though')\">though</span> <span onclick=\"getCFP('not')\">not</span> <span onclick=\"getCFP('with')\">with</span> <span onclick=\"getCFP('quite')\">quite</span> <span onclick=\"getCFP('so')\">so</span> <span onclick=\"getCFP('quick')\">quick</span> <span onclick=\"getCFP('an')\">an</span> <span onclick=\"getCFP('appetite')\">appetite</span> <span onclick=\"getCFP('as')\">as</span> <span onclick=\"getCFP('before')\">before</span>.</span></p><p><span>'<span onclick=\"getCFP('Adieu')\">Adieu</span>, <span onclick=\"getCFP('my')\">my</span> <span onclick=\"getCFP('birds')\">birds</span>!' <span onclick=\"getCFP('said')\">said</span> <span onclick=\"getCFP('the')\">the</span> <span onclick=\"getCFP('keeper')\">keeper</span> <span onclick=\"getCFP('of')\">of</span> <span onclick=\"getCFP('the')\">the</span> <span onclick=\"getCFP('prison')\">prison</span>, <span onclick=\"getCFP('taking')\">taking</span> <span onclick=\"getCFP('his')\">his</span> <span onclick=\"getCFP('pretty')\">pretty</span> <span onclick=\"getCFP('child')\">child</span> <span onclick=\"getCFP('in')\">in</span> <span onclick=\"getCFP('his')\">his</span> <span onclick=\"getCFP('arms')\">arms</span>, <span onclick=\"getCFP('and')\">and</span> <span onclick=\"getCFP('dictating')\">dictating</span> <span onclick=\"getCFP('the')\">the</span> <span onclick=\"getCFP('words')\">words</span> <span onclick=\"getCFP('with')\">with</span> <span onclick=\"getCFP('a')\">a</span> <span onclick=\"getCFP('kiss')\">kiss</span>.</span></p><p><span>'<span onclick=\"getCFP('Adieu')\">Adieu</span>, <span onclick=\"getCFP('my')\">my</span> <span onclick=\"getCFP('birds')\">birds</span>!' <span onclick=\"getCFP('the')\">the</span> <span onclick=\"getCFP('pretty')\">pretty</span> <span onclick=\"getCFP('child')\">child</span> <span onclick=\"getCFP('repeated')\">repeated</span>.</span></p><p><span><span onclick=\"getCFP('Her')\">Her</span> <span onclick=\"getCFP('innocent')\">innocent</span> <span onclick=\"getCFP('face')\">face</span> <span onclick=\"getCFP('looked')\">looked</span> <span onclick=\"getCFP('back')\">back</span> <span onclick=\"getCFP('so')\">so</span> <span onclick=\"getCFP('brightly')\">brightly</span> <span onclick=\"getCFP('over')\">over</span> <span onclick=\"getCFP('his')\">his</span> <span onclick=\"getCFP('shoulder')\">shoulder</span>, <span onclick=\"getCFP('as')\">as</span> <span onclick=\"getCFP('he')\">he</span> <span onclick=\"getCFP('walked')\">walked</span> <span onclick=\"getCFP('away')\">away</span> <span onclick=\"getCFP('with')\">with</span> <span onclick=\"getCFP('her')\">her</span>, <span onclick=\"getCFP('singing')\">singing</span> <span onclick=\"getCFP('her')\">her</span> <span onclick=\"getCFP('the')\">the</span> <span onclick=\"getCFP('song')\">song</span> <span onclick=\"getCFP('of')\">of</span> <span onclick=\"getCFP('the')\">the</span> <span onclick=\"getCFP('child's')\">child's</span> <span onclick=\"getCFP('game')\">game</span>:</span></p>\n",
        "\n",
        "<p><span>'<span onclick=\"getCFP('Who')\">Who</span> <span onclick=\"getCFP('passes')\">passes</span> <span onclick=\"getCFP('by')\">by</span> <span onclick=\"getCFP('this')\">this</span> <span onclick=\"getCFP('road')\">road</span> <span onclick=\"getCFP('so')\">so</span> <span onclick=\"getCFP('late')\">late</span>?</span> <span><span onclick=\"getCFP('Compagnon')\">Compagnon</span> <span onclick=\"getCFP('de')\">de</span> <span onclick=\"getCFP('la')\">la</span> <span onclick=\"getCFP('Majolaine')\">Majolaine</span>!</span> <span><span onclick=\"getCFP('Who')\">Who</span> <span onclick=\"getCFP('passes')\">passes</span> <span onclick=\"getCFP('by')\">by</span> <span onclick=\"getCFP('this')\">this</span> <span onclick=\"getCFP('road')\">road</span> <span onclick=\"getCFP('so')\">so</span> <span onclick=\"getCFP('late')\">late</span>?</span> <span><span onclick=\"getCFP('Always')\">Always</span> <span onclick=\"getCFP('gay')\">gay</span>!'</span></p><p><span><span onclick=\"getCFP('that')\">that</span> <span onclick=\"getCFP('John')\">John</span> <span onclick=\"getCFP('Baptist')\">Baptist</span> <span onclick=\"getCFP('felt')\">felt</span> <span onclick=\"getCFP('it')\">it</span> <span onclick=\"getCFP('a')\">a</span> <span onclick=\"getCFP('point')\">point</span> <span onclick=\"getCFP('of')\">of</span> <span onclick=\"getCFP('honour')\">honour</span> <span onclick=\"getCFP('to')\">to</span> <span onclick=\"getCFP('reply')\">reply</span> <span onclick=\"getCFP('at')\">at</span> <span onclick=\"getCFP('the')\">the</span> <span onclick=\"getCFP('grate')\">grate</span>, <span onclick=\"getCFP('and')\">and</span> <span onclick=\"getCFP('in')\">in</span> <span onclick=\"getCFP('good')\">good</span> <span onclick=\"getCFP('time')\">time</span> <span onclick=\"getCFP('and')\">and</span> <span onclick=\"getCFP('tune')\">tune</span>, <span onclick=\"getCFP('though')\">though</span> <span onclick=\"getCFP('a')\">a</span> <span onclick=\"getCFP('little')\">little</span> <span onclick=\"getCFP('hoarsely')\">hoarsely</span>:</span></p>\n",
        "\n",
        "<p><span>'<span onclick=\"getCFP('Of')\">Of</span> <span onclick=\"getCFP('all')\">all</span> <span onclick=\"getCFP('the')\">the</span> <span onclick=\"getCFP('king's')\">king's</span> <span onclick=\"getCFP('knights')\">knights</span> '<span onclick=\"getCFP('tis')\">tis</span> <span onclick=\"getCFP('the')\">the</span> <span onclick=\"getCFP('flower')\">flower</span>, <span onclick=\"getCFP('Compagnon')\">Compagnon</span> <span onclick=\"getCFP('de')\">de</span> <span onclick=\"getCFP('la')\">la</span> <span onclick=\"getCFP('Majolaine')\">Majolaine</span>!</span> <span><span onclick=\"getCFP('Of')\">Of</span> <span onclick=\"getCFP('all')\">all</span> <span onclick=\"getCFP('the')\">the</span> <span onclick=\"getCFP('king's')\">king's</span> <span onclick=\"getCFP('knights')\">knights</span> '<span onclick=\"getCFP('tis')\">tis</span> <span onclick=\"getCFP('the')\">the</span> <span onclick=\"getCFP('flower')\">flower</span>, <span onclick=\"getCFP('Always')\">Always</span> <span onclick=\"getCFP('gay')\">gay</span>!'</span></p><p><span><span onclick=\"getCFP('which')\">which</span> <span onclick=\"getCFP('accompanied')\">accompanied</span> <span onclick=\"getCFP('them')\">them</span> <span onclick=\"getCFP('so')\">so</span> <span onclick=\"getCFP('far')\">far</span> <span onclick=\"getCFP('down')\">down</span> <span onclick=\"getCFP('the')\">the</span> <span onclick=\"getCFP('few')\">few</span> <span onclick=\"getCFP('steep')\">steep</span> <span onclick=\"getCFP('stairs')\">stairs</span>, <span onclick=\"getCFP('that')\">that</span> <span onclick=\"getCFP('the')\">the</span> <span onclick=\"getCFP('prison-keeper')\">prison-keeper</span> <span onclick=\"getCFP('had')\">had</span> <span onclick=\"getCFP('to')\">to</span> <span onclick=\"getCFP('stop')\">stop</span> <span onclick=\"getCFP('at')\">at</span> <span onclick=\"getCFP('last')\">last</span> <span onclick=\"getCFP('for')\">for</span> <span onclick=\"getCFP('his')\">his</span> <span onclick=\"getCFP('little')\">little</span> <span onclick=\"getCFP('daughter')\">daughter</span> <span onclick=\"getCFP('to')\">to</span> <span onclick=\"getCFP('hear')\">hear</span> <span onclick=\"getCFP('the')\">the</span> <span onclick=\"getCFP('song')\">song</span> <span onclick=\"getCFP('out')\">out</span>, <span onclick=\"getCFP('and')\">and</span> <span onclick=\"getCFP('repeat')\">repeat</span> <span onclick=\"getCFP('the')\">the</span> <span onclick=\"getCFP('Refrain')\">Refrain</span> <span onclick=\"getCFP('while')\">while</span> <span onclick=\"getCFP('they')\">they</span> <span onclick=\"getCFP('were')\">were</span> <span onclick=\"getCFP('yet')\">yet</span> <span onclick=\"getCFP('in')\">in</span> <span onclick=\"getCFP('sight')\">sight</span>.</span> <span><span onclick=\"getCFP('Then')\">Then</span> <span onclick=\"getCFP('the')\">the</span> <span onclick=\"getCFP('child's')\">child's</span> <span onclick=\"getCFP('head')\">head</span> <span onclick=\"getCFP('disappeared')\">disappeared</span>, <span onclick=\"getCFP('and')\">and</span> <span onclick=\"getCFP('the')\">the</span> <span onclick=\"getCFP('prison-keeper's')\">prison-keeper's</span> <span onclick=\"getCFP('head')\">head</span> <span onclick=\"getCFP('disappeared')\">disappeared</span>, <span onclick=\"getCFP('but')\">but</span> <span onclick=\"getCFP('the')\">the</span> <span onclick=\"getCFP('little')\">little</span> <span onclick=\"getCFP('voice')\">voice</span> <span onclick=\"getCFP('prolonged')\">prolonged</span> <span onclick=\"getCFP('the')\">the</span> <span onclick=\"getCFP('strain')\">strain</span> <span onclick=\"getCFP('until')\">until</span> <span onclick=\"getCFP('the')\">the</span> <span onclick=\"getCFP('door')\">door</span> <span onclick=\"getCFP('clashed')\">clashed</span>.</span></p>\n",
        "\n",
        "<p><span><span onclick=\"getCFP('Monsieur')\">Monsieur</span> <span onclick=\"getCFP('Rigaud')\">Rigaud</span>, <span onclick=\"getCFP('finding')\">finding</span> <span onclick=\"getCFP('the')\">the</span> <span onclick=\"getCFP('listening')\">listening</span> <span onclick=\"getCFP('John')\">John</span> <span onclick=\"getCFP('Baptist')\">Baptist</span> <span onclick=\"getCFP('in')\">in</span> <span onclick=\"getCFP('his')\">his</span> <span onclick=\"getCFP('way')\">way</span> <span onclick=\"getCFP('before')\">before</span> <span onclick=\"getCFP('the')\">the</span> <span onclick=\"getCFP('echoes')\">echoes</span> <span onclick=\"getCFP('had')\">had</span> <span onclick=\"getCFP('ceased')\">ceased</span> (<span onclick=\"getCFP('even')\">even</span> <span onclick=\"getCFP('the')\">the</span> <span onclick=\"getCFP('echoes')\">echoes</span> <span onclick=\"getCFP('were')\">were</span> <span onclick=\"getCFP('the')\">the</span> <span onclick=\"getCFP('weaker')\">weaker</span> <span onclick=\"getCFP('for')\">for</span> <span onclick=\"getCFP('imprisonment')\">imprisonment</span>, <span onclick=\"getCFP('and')\">and</span> <span onclick=\"getCFP('seemed')\">seemed</span> <span onclick=\"getCFP('to')\">to</span> <span onclick=\"getCFP('lag')\">lag</span>), <span onclick=\"getCFP('reminded')\">reminded</span> <span onclick=\"getCFP('him')\">him</span> <span onclick=\"getCFP('with')\">with</span> <span onclick=\"getCFP('a')\">a</span> <span onclick=\"getCFP('push')\">push</span> <span onclick=\"getCFP('of')\">of</span> <span onclick=\"getCFP('his')\">his</span> <span onclick=\"getCFP('foot')\">foot</span> <span onclick=\"getCFP('that')\">that</span> <span onclick=\"getCFP('he')\">he</span> <span onclick=\"getCFP('had')\">had</span> <span onclick=\"getCFP('better')\">better</span> <span onclick=\"getCFP('resume')\">resume</span> <span onclick=\"getCFP('his')\">his</span> <span onclick=\"getCFP('own')\">own</span> <span onclick=\"getCFP('darker')\">darker</span> <span onclick=\"getCFP('place')\">place</span>.</span> <span><span onclick=\"getCFP('The')\">The</span> <span onclick=\"getCFP('little')\">little</span> <span onclick=\"getCFP('man')\">man</span> <span onclick=\"getCFP('sat')\">sat</span> <span onclick=\"getCFP('down')\">down</span> <span onclick=\"getCFP('again')\">again</span> <span onclick=\"getCFP('upon')\">upon</span> <span onclick=\"getCFP('the')\">the</span> <span onclick=\"getCFP('pavement')\">pavement</span> <span onclick=\"getCFP('with')\">with</span> <span onclick=\"getCFP('the')\">the</span> <span onclick=\"getCFP('negligent')\">negligent</span> <span onclick=\"getCFP('ease')\">ease</span> <span onclick=\"getCFP('of')\">of</span> <span onclick=\"getCFP('one')\">one</span> <span onclick=\"getCFP('who')\">who</span> <span onclick=\"getCFP('was')\">was</span> <span onclick=\"getCFP('thoroughly')\">thoroughly</span> <span onclick=\"getCFP('accustomed')\">accustomed</span> <span onclick=\"getCFP('to')\">to</span> <span onclick=\"getCFP('pavements')\">pavements</span>; <span onclick=\"getCFP('and')\">and</span> <span onclick=\"getCFP('placing')\">placing</span> <span onclick=\"getCFP('three')\">three</span> <span onclick=\"getCFP('hunks')\">hunks</span> <span onclick=\"getCFP('of')\">of</span> <span onclick=\"getCFP('coarse')\">coarse</span> <span onclick=\"getCFP('bread')\">bread</span> <span onclick=\"getCFP('before')\">before</span> <span onclick=\"getCFP('himself')\">himself</span>, <span onclick=\"getCFP('and')\">and</span> <span onclick=\"getCFP('falling')\">falling</span> <span onclick=\"getCFP('to')\">to</span> <span onclick=\"getCFP('upon')\">upon</span> <span onclick=\"getCFP('a')\">a</span> <span onclick=\"getCFP('fourth')\">fourth</span>, <span onclick=\"getCFP('began')\">began</span> <span onclick=\"getCFP('contentedly')\">contentedly</span> <span onclick=\"getCFP('to')\">to</span> <span onclick=\"getCFP('work')\">work</span> <span onclick=\"getCFP('his')\">his</span> <span onclick=\"getCFP('way')\">way</span> <span onclick=\"getCFP('through')\">through</span> <span onclick=\"getCFP('them')\">them</span> <span onclick=\"getCFP('as')\">as</span> <span onclick=\"getCFP('if')\">if</span> <span onclick=\"getCFP('to')\">to</span> <span onclick=\"getCFP('clear')\">clear</span> <span onclick=\"getCFP('them')\">them</span> <span onclick=\"getCFP('off')\">off</span> <span onclick=\"getCFP('were')\">were</span> <span onclick=\"getCFP('a')\">a</span> <span onclick=\"getCFP('sort')\">sort</span> <span onclick=\"getCFP('of')\">of</span> <span onclick=\"getCFP('game')\">game</span>.</span></p>\n",
        "\n",
        "<p><span><span onclick=\"getCFP('Perhaps')\">Perhaps</span> <span onclick=\"getCFP('he')\">he</span> <span onclick=\"getCFP('glanced')\">glanced</span> <span onclick=\"getCFP('at')\">at</span> <span onclick=\"getCFP('the')\">the</span> <span onclick=\"getCFP('Lyons')\">Lyons</span> <span onclick=\"getCFP('sausage')\">sausage</span>, <span onclick=\"getCFP('and')\">and</span> <span onclick=\"getCFP('perhaps')\">perhaps</span> <span onclick=\"getCFP('he')\">he</span> <span onclick=\"getCFP('glanced')\">glanced</span> <span onclick=\"getCFP('at')\">at</span> <span onclick=\"getCFP('the')\">the</span> <span onclick=\"getCFP('veal')\">veal</span> <span onclick=\"getCFP('in')\">in</span> <span onclick=\"getCFP('savoury')\">savoury</span> <span onclick=\"getCFP('jelly')\">jelly</span>, <span onclick=\"getCFP('but')\">but</span> <span onclick=\"getCFP('they')\">they</span> <span onclick=\"getCFP('were')\">were</span> <span onclick=\"getCFP('not')\">not</span> <span onclick=\"getCFP('there')\">there</span> <span onclick=\"getCFP('long')\">long</span>, <span onclick=\"getCFP('to')\">to</span> <span onclick=\"getCFP('make')\">make</span> <span onclick=\"getCFP('his')\">his</span> <span onclick=\"getCFP('mouth')\">mouth</span> <span onclick=\"getCFP('water')\">water</span>; <span onclick=\"getCFP('Monsieur')\">Monsieur</span> <span onclick=\"getCFP('Rigaud')\">Rigaud</span> <span onclick=\"getCFP('soon')\">soon</span> <span onclick=\"getCFP('dispatched')\">dispatched</span> <span onclick=\"getCFP('them')\">them</span>, <span onclick=\"getCFP('in')\">in</span> <span onclick=\"getCFP('spite')\">spite</span> <span onclick=\"getCFP('of')\">of</span> <span onclick=\"getCFP('the')\">the</span> <span onclick=\"getCFP('president')\">president</span> <span onclick=\"getCFP('and')\">and</span> <span onclick=\"getCFP('tribunal')\">tribunal</span>, <span onclick=\"getCFP('and')\">and</span> <span onclick=\"getCFP('proceeded')\">proceeded</span> <span onclick=\"getCFP('to')\">to</span> <span onclick=\"getCFP('suck')\">suck</span> <span onclick=\"getCFP('his')\">his</span> <span onclick=\"getCFP('fingers')\">fingers</span> <span onclick=\"getCFP('as')\">as</span> <span onclick=\"getCFP('clean')\">clean</span> <span onclick=\"getCFP('as')\">as</span> <span onclick=\"getCFP('he')\">he</span> <span onclick=\"getCFP('could')\">could</span>, <span onclick=\"getCFP('and')\">and</span> <span onclick=\"getCFP('to')\">to</span> <span onclick=\"getCFP('wipe')\">wipe</span> <span onclick=\"getCFP('them')\">them</span> <span onclick=\"getCFP('on')\">on</span> <span onclick=\"getCFP('his')\">his</span> <span onclick=\"getCFP('vine')\">vine</span> <span onclick=\"getCFP('leaves')\">leaves</span>.</span> <span><span onclick=\"getCFP('Then')\">Then</span>, <span onclick=\"getCFP('as')\">as</span> <span onclick=\"getCFP('he')\">he</span> <span onclick=\"getCFP('paused')\">paused</span> <span onclick=\"getCFP('in')\">in</span> <span onclick=\"getCFP('his')\">his</span> <span onclick=\"getCFP('drink')\">drink</span> <span onclick=\"getCFP('to')\">to</span> <span onclick=\"getCFP('contemplate')\">contemplate</span> <span onclick=\"getCFP('his')\">his</span> <span onclick=\"getCFP('fellow-prisoner')\">fellow-prisoner</span>, <span onclick=\"getCFP('his')\">his</span> <span onclick=\"getCFP('moustache')\">moustache</span> <span onclick=\"getCFP('went')\">went</span> <span onclick=\"getCFP('up')\">up</span>, <span onclick=\"getCFP('and')\">and</span> <span onclick=\"getCFP('his')\">his</span> <span onclick=\"getCFP('nose')\">nose</span> <span onclick=\"getCFP('came')\">came</span> <span onclick=\"getCFP('down')\">down</span>.</span></p>\n",
        "\n",
        "<p><span>'<span onclick=\"getCFP('How')\">How</span> <span onclick=\"getCFP('do')\">do</span> <span onclick=\"getCFP('you')\">you</span> <span onclick=\"getCFP('find')\">find</span> <span onclick=\"getCFP('the')\">the</span> <span onclick=\"getCFP('bread')\">bread</span>?'</span></p><p><span>'<span onclick=\"getCFP('A')\">A</span> <span onclick=\"getCFP('little')\">little</span> <span onclick=\"getCFP('dry')\">dry</span>, <span onclick=\"getCFP('but')\">but</span> <span onclick=\"getCFP('I')\">I</span> <span onclick=\"getCFP('have')\">have</span> <span onclick=\"getCFP('my')\">my</span> <span onclick=\"getCFP('old')\">old</span> <span onclick=\"getCFP('sauce')\">sauce</span> <span onclick=\"getCFP('here')\">here</span>,' <span onclick=\"getCFP('returned')\">returned</span> <span onclick=\"getCFP('John')\">John</span> <span onclick=\"getCFP('Baptist')\">Baptist</span>, <span onclick=\"getCFP('holding')\">holding</span> <span onclick=\"getCFP('up')\">up</span> <span onclick=\"getCFP('his')\">his</span> <span onclick=\"getCFP('knife')\">knife</span>.</span> <span>'<span onclick=\"getCFP('How')\">How</span> <span onclick=\"getCFP('sauce')\">sauce</span>?'</span></p><p><span>'<span onclick=\"getCFP('I')\">I</span> <span onclick=\"getCFP('can')\">can</span> <span onclick=\"getCFP('cut')\">cut</span> <span onclick=\"getCFP('my')\">my</span> <span onclick=\"getCFP('bread')\">bread</span> <span onclick=\"getCFP('so')\">so</span>--<span onclick=\"getCFP('like')\">like</span> <span onclick=\"getCFP('a')\">a</span> <span onclick=\"getCFP('melon')\">melon</span>.</span> <span><span onclick=\"getCFP('Or')\">Or</span> <span onclick=\"getCFP('so')\">so</span>--<span onclick=\"getCFP('like')\">like</span> <span onclick=\"getCFP('an')\">an</span> <span onclick=\"getCFP('omelette')\">omelette</span>.</span> <span><span onclick=\"getCFP('Or')\">Or</span> <span onclick=\"getCFP('so')\">so</span>--<span onclick=\"getCFP('like')\">like</span> <span onclick=\"getCFP('a')\">a</span> <span onclick=\"getCFP('fried')\">fried</span> <span onclick=\"getCFP('fish')\">fish</span>.</span> <span><span onclick=\"getCFP('Or')\">Or</span> <span onclick=\"getCFP('so')\">so</span>--<span onclick=\"getCFP('like')\">like</span> <span onclick=\"getCFP('Lyons')\">Lyons</span> <span onclick=\"getCFP('sausage')\">sausage</span>,' <span onclick=\"getCFP('said')\">said</span> <span onclick=\"getCFP('John')\">John</span> <span onclick=\"getCFP('Baptist')\">Baptist</span>, <span onclick=\"getCFP('demonstrating')\">demonstrating</span> <span onclick=\"getCFP('the')\">the</span> <span onclick=\"getCFP('various')\">various</span> <span onclick=\"getCFP('cuts')\">cuts</span> <span onclick=\"getCFP('on')\">on</span> <span onclick=\"getCFP('the')\">the</span> <span onclick=\"getCFP('bread')\">bread</span> <span onclick=\"getCFP('he')\">he</span> <span onclick=\"getCFP('held')\">held</span>, <span onclick=\"getCFP('and')\">and</span> <span onclick=\"getCFP('soberly')\">soberly</span> <span onclick=\"getCFP('chewing')\">chewing</span> <span onclick=\"getCFP('what')\">what</span> <span onclick=\"getCFP('he')\">he</span> <span onclick=\"getCFP('had')\">had</span> <span onclick=\"getCFP('in')\">in</span> <span onclick=\"getCFP('his')\">his</span> <span onclick=\"getCFP('mouth')\">mouth</span>.</span></p><p><span>'<span onclick=\"getCFP('Here')\">Here</span>!' <span onclick=\"getCFP('cried')\">cried</span> <span onclick=\"getCFP('Monsieur')\">Monsieur</span> <span onclick=\"getCFP('Rigaud')\">Rigaud</span>.</span> <span>'<span onclick=\"getCFP('You')\">You</span> <span onclick=\"getCFP('may')\">may</span> <span onclick=\"getCFP('drink')\">drink</span>.</span> <span><span onclick=\"getCFP('You')\">You</span> <span onclick=\"getCFP('may')\">may</span> <span onclick=\"getCFP('finish')\">finish</span> <span onclick=\"getCFP('this')\">this</span>.'</span></p><p><span><span onclick=\"getCFP('It')\">It</span> <span onclick=\"getCFP('was')\">was</span> <span onclick=\"getCFP('no')\">no</span> <span onclick=\"getCFP('great')\">great</span> <span onclick=\"getCFP('gift')\">gift</span>, <span onclick=\"getCFP('for')\">for</span> <span onclick=\"getCFP('there')\">there</span> <span onclick=\"getCFP('was')\">was</span> <span onclick=\"getCFP('mighty')\">mighty</span> <span onclick=\"getCFP('little')\">little</span> <span onclick=\"getCFP('wine')\">wine</span> <span onclick=\"getCFP('left')\">left</span>; <span onclick=\"getCFP('but')\">but</span> <span onclick=\"getCFP('Signor')\">Signor</span> <span onclick=\"getCFP('Cavalletto')\">Cavalletto</span>, <span onclick=\"getCFP('jumping')\">jumping</span> <span onclick=\"getCFP('to')\">to</span> <span onclick=\"getCFP('his')\">his</span> <span onclick=\"getCFP('feet')\">feet</span>, <span onclick=\"getCFP('received')\">received</span> <span onclick=\"getCFP('the')\">the</span> <span onclick=\"getCFP('bottle')\">bottle</span> <span onclick=\"getCFP('gratefully')\">gratefully</span>, <span onclick=\"getCFP('turned')\">turned</span> <span onclick=\"getCFP('it')\">it</span> <span onclick=\"getCFP('upside')\">upside</span> <span onclick=\"getCFP('down')\">down</span> <span onclick=\"getCFP('at')\">at</span> <span onclick=\"getCFP('his')\">his</span> <span onclick=\"getCFP('mouth')\">mouth</span>, <span onclick=\"getCFP('and')\">and</span> <span onclick=\"getCFP('smacked')\">smacked</span> <span onclick=\"getCFP('his')\">his</span> <span onclick=\"getCFP('lips')\">lips</span>.</span></p>\n",
        "\n",
        "<p><span>'<span onclick=\"getCFP('Put')\">Put</span> <span onclick=\"getCFP('the')\">the</span> <span onclick=\"getCFP('bottle')\">bottle</span> <span onclick=\"getCFP('by')\">by</span> <span onclick=\"getCFP('with')\">with</span> <span onclick=\"getCFP('the')\">the</span> <span onclick=\"getCFP('rest')\">rest</span>,' <span onclick=\"getCFP('said')\">said</span> <span onclick=\"getCFP('Rigaud')\">Rigaud</span>.</span></p><p><span><span onclick=\"getCFP('The')\">The</span> <span onclick=\"getCFP('little')\">little</span> <span onclick=\"getCFP('man')\">man</span> <span onclick=\"getCFP('obeyed')\">obeyed</span> <span onclick=\"getCFP('his')\">his</span> <span onclick=\"getCFP('orders')\">orders</span>, <span onclick=\"getCFP('and')\">and</span> <span onclick=\"getCFP('stood')\">stood</span> <span onclick=\"getCFP('ready')\">ready</span> <span onclick=\"getCFP('to')\">to</span> <span onclick=\"getCFP('give')\">give</span> <span onclick=\"getCFP('him')\">him</span> <span onclick=\"getCFP('a')\">a</span> <span onclick=\"getCFP('lighted')\">lighted</span> <span onclick=\"getCFP('match')\">match</span>; <span onclick=\"getCFP('for')\">for</span> <span onclick=\"getCFP('he')\">he</span> <span onclick=\"getCFP('was')\">was</span> <span onclick=\"getCFP('now')\">now</span> <span onclick=\"getCFP('rolling')\">rolling</span> <span onclick=\"getCFP('his')\">his</span> <span onclick=\"getCFP('tobacco')\">tobacco</span> <span onclick=\"getCFP('into')\">into</span> <span onclick=\"getCFP('cigarettes')\">cigarettes</span> <span onclick=\"getCFP('by')\">by</span> <span onclick=\"getCFP('the')\">the</span> <span onclick=\"getCFP('aid')\">aid</span> <span onclick=\"getCFP('of')\">of</span> <span onclick=\"getCFP('little')\">little</span> <span onclick=\"getCFP('squares')\">squares</span> <span onclick=\"getCFP('of')\">of</span> <span onclick=\"getCFP('paper')\">paper</span> <span onclick=\"getCFP('which')\">which</span> <span onclick=\"getCFP('had')\">had</span> <span onclick=\"getCFP('been')\">been</span> <span onclick=\"getCFP('brought')\">brought</span> <span onclick=\"getCFP('in')\">in</span> <span onclick=\"getCFP('with')\">with</span> <span onclick=\"getCFP('it')\">it</span>.</span></p>\n",
        "\n",
        "<p><span>'<span onclick=\"getCFP('Here')\">Here</span>!</span> <span><span onclick=\"getCFP('You')\">You</span> <span onclick=\"getCFP('may')\">may</span> <span onclick=\"getCFP('have')\">have</span> <span onclick=\"getCFP('one')\">one</span>.'</span></p><p><span>'<span onclick=\"getCFP('A')\">A</span> <span onclick=\"getCFP('thousand')\">thousand</span> <span onclick=\"getCFP('thanks')\">thanks</span>, <span onclick=\"getCFP('my')\">my</span> <span onclick=\"getCFP('master')\">master</span>!'</span> <span><span onclick=\"getCFP('John')\">John</span> <span onclick=\"getCFP('Baptist')\">Baptist</span> <span onclick=\"getCFP('said')\">said</span> <span onclick=\"getCFP('in')\">in</span> <span onclick=\"getCFP('his')\">his</span> <span onclick=\"getCFP('own')\">own</span> <span onclick=\"getCFP('language')\">language</span>, <span onclick=\"getCFP('and')\">and</span> <span onclick=\"getCFP('with')\">with</span> <span onclick=\"getCFP('the')\">the</span> <span onclick=\"getCFP('quick')\">quick</span> <span onclick=\"getCFP('conciliatory')\">conciliatory</span> <span onclick=\"getCFP('manner')\">manner</span> <span onclick=\"getCFP('of')\">of</span> <span onclick=\"getCFP('his')\">his</span> <span onclick=\"getCFP('own')\">own</span> <span onclick=\"getCFP('countrymen')\">countrymen</span>.</span></p><p><span><span onclick=\"getCFP('Monsieur')\">Monsieur</span> <span onclick=\"getCFP('Rigaud')\">Rigaud</span> <span onclick=\"getCFP('arose')\">arose</span>, <span onclick=\"getCFP('lighted')\">lighted</span> <span onclick=\"getCFP('a')\">a</span> <span onclick=\"getCFP('cigarette')\">cigarette</span>, <span onclick=\"getCFP('put')\">put</span> <span onclick=\"getCFP('the')\">the</span> <span onclick=\"getCFP('rest')\">rest</span> <span onclick=\"getCFP('of')\">of</span> <span onclick=\"getCFP('his')\">his</span> <span onclick=\"getCFP('stock')\">stock</span> <span onclick=\"getCFP('into')\">into</span> <span onclick=\"getCFP('a')\">a</span> <span onclick=\"getCFP('breast-pocket')\">breast-pocket</span>, <span onclick=\"getCFP('and')\">and</span> <span onclick=\"getCFP('stretched')\">stretched</span> <span onclick=\"getCFP('himself')\">himself</span> <span onclick=\"getCFP('out')\">out</span> <span onclick=\"getCFP('at')\">at</span> <span onclick=\"getCFP('full')\">full</span> <span onclick=\"getCFP('length')\">length</span> <span onclick=\"getCFP('upon')\">upon</span> <span onclick=\"getCFP('the')\">the</span> <span onclick=\"getCFP('bench')\">bench</span>.</span> <span><span onclick=\"getCFP('Cavalletto')\">Cavalletto</span> <span onclick=\"getCFP('sat')\">sat</span> <span onclick=\"getCFP('down')\">down</span> <span onclick=\"getCFP('on')\">on</span> <span onclick=\"getCFP('the')\">the</span> <span onclick=\"getCFP('pavement')\">pavement</span>, <span onclick=\"getCFP('holding')\">holding</span> <span onclick=\"getCFP('one')\">one</span> <span onclick=\"getCFP('of')\">of</span> <span onclick=\"getCFP('his')\">his</span> <span onclick=\"getCFP('ankles')\">ankles</span> <span onclick=\"getCFP('in')\">in</span> <span onclick=\"getCFP('each')\">each</span> <span onclick=\"getCFP('hand')\">hand</span>, <span onclick=\"getCFP('and')\">and</span> <span onclick=\"getCFP('smoking')\">smoking</span> <span onclick=\"getCFP('peacefully')\">peacefully</span>.</span> <span><span onclick=\"getCFP('There')\">There</span> <span onclick=\"getCFP('seemed')\">seemed</span> <span onclick=\"getCFP('to')\">to</span> <span onclick=\"getCFP('be')\">be</span> <span onclick=\"getCFP('some')\">some</span> <span onclick=\"getCFP('uncomfortable')\">uncomfortable</span> <span onclick=\"getCFP('attraction')\">attraction</span> <span onclick=\"getCFP('of')\">of</span> <span onclick=\"getCFP('Monsieur')\">Monsieur</span> <span onclick=\"getCFP('Rigaud's')\">Rigaud's</span> <span onclick=\"getCFP('eyes')\">eyes</span> <span onclick=\"getCFP('to')\">to</span> <span onclick=\"getCFP('the')\">the</span> <span onclick=\"getCFP('immediate')\">immediate</span> <span onclick=\"getCFP('neighbourhood')\">neighbourhood</span> <span onclick=\"getCFP('of')\">of</span> <span onclick=\"getCFP('that')\">that</span> <span onclick=\"getCFP('part')\">part</span> <span onclick=\"getCFP('of')\">of</span> <span onclick=\"getCFP('the')\">the</span> <span onclick=\"getCFP('pavement')\">pavement</span> <span onclick=\"getCFP('where')\">where</span> <span onclick=\"getCFP('the')\">the</span> <span onclick=\"getCFP('thumb')\">thumb</span> <span onclick=\"getCFP('had')\">had</span> <span onclick=\"getCFP('been')\">been</span> <span onclick=\"getCFP('in')\">in</span> <span onclick=\"getCFP('the')\">the</span> <span onclick=\"getCFP('plan')\">plan</span>.</span> <span><span onclick=\"getCFP('They')\">They</span> <span onclick=\"getCFP('were')\">were</span> <span onclick=\"getCFP('so')\">so</span> <span onclick=\"getCFP('drawn')\">drawn</span> <span onclick=\"getCFP('in')\">in</span> <span onclick=\"getCFP('that')\">that</span> <span onclick=\"getCFP('direction')\">direction</span>, <span onclick=\"getCFP('that')\">that</span> <span onclick=\"getCFP('the')\">the</span> <span onclick=\"getCFP('Italian')\">Italian</span> <span onclick=\"getCFP('more')\">more</span> <span onclick=\"getCFP('than')\">than</span> <span onclick=\"getCFP('once')\">once</span> <span onclick=\"getCFP('followed')\">followed</span> <span onclick=\"getCFP('them')\">them</span> <span onclick=\"getCFP('to')\">to</span> <span onclick=\"getCFP('and')\">and</span> <span onclick=\"getCFP('back')\">back</span> <span onclick=\"getCFP('from')\">from</span> <span onclick=\"getCFP('the')\">the</span> <span onclick=\"getCFP('pavement')\">pavement</span> <span onclick=\"getCFP('in')\">in</span> <span onclick=\"getCFP('some')\">some</span> <span onclick=\"getCFP('surprise')\">surprise</span>.</span></p>\n",
        "\n",
        "<p><span>'<span onclick=\"getCFP('What')\">What</span> <span onclick=\"getCFP('an')\">an</span> <span onclick=\"getCFP('infernal')\">infernal</span> <span onclick=\"getCFP('hole')\">hole</span> <span onclick=\"getCFP('this')\">this</span> <span onclick=\"getCFP('is')\">is</span>!' <span onclick=\"getCFP('said')\">said</span> <span onclick=\"getCFP('Monsieur')\">Monsieur</span> <span onclick=\"getCFP('Rigaud')\">Rigaud</span>, <span onclick=\"getCFP('breaking')\">breaking</span> <span onclick=\"getCFP('a')\">a</span> <span onclick=\"getCFP('long')\">long</span> <span onclick=\"getCFP('pause')\">pause</span>.</span> <span>'<span onclick=\"getCFP('Look')\">Look</span> <span onclick=\"getCFP('at')\">at</span> <span onclick=\"getCFP('the')\">the</span> <span onclick=\"getCFP('light')\">light</span> <span onclick=\"getCFP('of')\">of</span> <span onclick=\"getCFP('day')\">day</span>.</span> <span><span onclick=\"getCFP('Day')\">Day</span>? <span onclick=\"getCFP('the')\">the</span> <span onclick=\"getCFP('light')\">light</span> <span onclick=\"getCFP('of')\">of</span> <span onclick=\"getCFP('yesterday')\">yesterday</span> <span onclick=\"getCFP('week')\">week</span>, <span onclick=\"getCFP('the')\">the</span> <span onclick=\"getCFP('light')\">light</span> <span onclick=\"getCFP('of')\">of</span> <span onclick=\"getCFP('six')\">six</span> <span onclick=\"getCFP('months')\">months</span> <span onclick=\"getCFP('ago')\">ago</span>, <span onclick=\"getCFP('the')\">the</span> <span onclick=\"getCFP('light')\">light</span> <span onclick=\"getCFP('of')\">of</span> <span onclick=\"getCFP('six')\">six</span> <span onclick=\"getCFP('years')\">years</span> <span onclick=\"getCFP('ago')\">ago</span>.</span> <span><span onclick=\"getCFP('So')\">So</span> <span onclick=\"getCFP('slack')\">slack</span> <span onclick=\"getCFP('and')\">and</span> <span onclick=\"getCFP('dead')\">dead</span>!'</span></p><p><span><span onclick=\"getCFP('It')\">It</span> <span onclick=\"getCFP('came')\">came</span> <span onclick=\"getCFP('languishing')\">languishing</span> <span onclick=\"getCFP('down')\">down</span> <span onclick=\"getCFP('a')\">a</span> <span onclick=\"getCFP('square')\">square</span> <span onclick=\"getCFP('funnel')\">funnel</span> <span onclick=\"getCFP('that')\">that</span> <span onclick=\"getCFP('blinded')\">blinded</span> <span onclick=\"getCFP('a')\">a</span> <span onclick=\"getCFP('window')\">window</span> <span onclick=\"getCFP('in')\">in</span> <span onclick=\"getCFP('the')\">the</span> <span onclick=\"getCFP('staircase')\">staircase</span> <span onclick=\"getCFP('wall')\">wall</span>, <span onclick=\"getCFP('through')\">through</span> <span onclick=\"getCFP('which')\">which</span> <span onclick=\"getCFP('the')\">the</span> <span onclick=\"getCFP('sky')\">sky</span> <span onclick=\"getCFP('was')\">was</span> <span onclick=\"getCFP('never')\">never</span> <span onclick=\"getCFP('seen')\">seen</span>--<span onclick=\"getCFP('nor')\">nor</span> <span onclick=\"getCFP('anything')\">anything</span> <span onclick=\"getCFP('else')\">else</span>.</span></p>\n",
        "\n",
        "<p><span>'<span onclick=\"getCFP('Cavalletto')\">Cavalletto</span>,' <span onclick=\"getCFP('said')\">said</span> <span onclick=\"getCFP('Monsieur')\">Monsieur</span> <span onclick=\"getCFP('Rigaud')\">Rigaud</span>, <span onclick=\"getCFP('suddenly')\">suddenly</span> <span onclick=\"getCFP('withdrawing')\">withdrawing</span> <span onclick=\"getCFP('his')\">his</span> <span onclick=\"getCFP('gaze')\">gaze</span> <span onclick=\"getCFP('from')\">from</span> <span onclick=\"getCFP('this')\">this</span> <span onclick=\"getCFP('funnel')\">funnel</span> <span onclick=\"getCFP('to')\">to</span> <span onclick=\"getCFP('which')\">which</span> <span onclick=\"getCFP('they')\">they</span> <span onclick=\"getCFP('had')\">had</span> <span onclick=\"getCFP('both')\">both</span> <span onclick=\"getCFP('involuntarily')\">involuntarily</span> <span onclick=\"getCFP('turned')\">turned</span> <span onclick=\"getCFP('their')\">their</span> <span onclick=\"getCFP('eyes')\">eyes</span>, '<span onclick=\"getCFP('you')\">you</span> <span onclick=\"getCFP('know')\">know</span> <span onclick=\"getCFP('me')\">me</span> <span onclick=\"getCFP('for')\">for</span> <span onclick=\"getCFP('a')\">a</span> <span onclick=\"getCFP('gentleman')\">gentleman</span>?'</span></p><p><span>'<span onclick=\"getCFP('Surely')\">Surely</span>, <span onclick=\"getCFP('surely')\">surely</span>!'</span></p><p><span>'<span onclick=\"getCFP('How')\">How</span> <span onclick=\"getCFP('long')\">long</span> <span onclick=\"getCFP('have')\">have</span> <span onclick=\"getCFP('we')\">we</span> <span onclick=\"getCFP('been')\">been</span> <span onclick=\"getCFP('here')\">here</span>?'</span> <span>'<span onclick=\"getCFP('I')\">I</span>, <span onclick=\"getCFP('eleven')\">eleven</span> <span onclick=\"getCFP('weeks')\">weeks</span>, <span onclick=\"getCFP('to-morrow')\">to-morrow</span> <span onclick=\"getCFP('night')\">night</span> <span onclick=\"getCFP('at')\">at</span> <span onclick=\"getCFP('midnight')\">midnight</span>.</span> <span><span onclick=\"getCFP('You')\">You</span>, <span onclick=\"getCFP('nine')\">nine</span> <span onclick=\"getCFP('weeks')\">weeks</span> <span onclick=\"getCFP('and')\">and</span> <span onclick=\"getCFP('three')\">three</span> <span onclick=\"getCFP('days')\">days</span>, <span onclick=\"getCFP('at')\">at</span> <span onclick=\"getCFP('five')\">five</span> <span onclick=\"getCFP('this')\">this</span> <span onclick=\"getCFP('afternoon')\">afternoon</span>.'</span></p><p><span>'<span onclick=\"getCFP('Have')\">Have</span> <span onclick=\"getCFP('I')\">I</span> <span onclick=\"getCFP('ever')\">ever</span> <span onclick=\"getCFP('done')\">done</span> <span onclick=\"getCFP('anything')\">anything</span> <span onclick=\"getCFP('here')\">here</span>?</span> <span><span onclick=\"getCFP('Ever')\">Ever</span> <span onclick=\"getCFP('touched')\">touched</span> <span onclick=\"getCFP('the')\">the</span> <span onclick=\"getCFP('broom')\">broom</span>, <span onclick=\"getCFP('or')\">or</span> <span onclick=\"getCFP('spread')\">spread</span> <span onclick=\"getCFP('the')\">the</span> <span onclick=\"getCFP('mats')\">mats</span>, <span onclick=\"getCFP('or')\">or</span> <span onclick=\"getCFP('rolled')\">rolled</span> <span onclick=\"getCFP('them')\">them</span> <span onclick=\"getCFP('up')\">up</span>, <span onclick=\"getCFP('or')\">or</span> <span onclick=\"getCFP('found')\">found</span> <span onclick=\"getCFP('the')\">the</span> <span onclick=\"getCFP('draughts')\">draughts</span>, <span onclick=\"getCFP('or')\">or</span> <span onclick=\"getCFP('collected')\">collected</span> <span onclick=\"getCFP('the')\">the</span> <span onclick=\"getCFP('dominoes')\">dominoes</span>, <span onclick=\"getCFP('or')\">or</span> <span onclick=\"getCFP('put')\">put</span> <span onclick=\"getCFP('my')\">my</span> <span onclick=\"getCFP('hand')\">hand</span> <span onclick=\"getCFP('to')\">to</span> <span onclick=\"getCFP('any')\">any</span> <span onclick=\"getCFP('kind')\">kind</span> <span onclick=\"getCFP('of')\">of</span> <span onclick=\"getCFP('work')\">work</span>?'</span></p><p><span>'<span onclick=\"getCFP('Never')\">Never</span>!'</span></p><p><span>'<span onclick=\"getCFP('Have')\">Have</span> <span onclick=\"getCFP('you')\">you</span> <span onclick=\"getCFP('ever')\">ever</span> <span onclick=\"getCFP('thought')\">thought</span> <span onclick=\"getCFP('of')\">of</span> <span onclick=\"getCFP('looking')\">looking</span> <span onclick=\"getCFP('to')\">to</span> <span onclick=\"getCFP('me')\">me</span> <span onclick=\"getCFP('to')\">to</span> <span onclick=\"getCFP('do')\">do</span> <span onclick=\"getCFP('any')\">any</span> <span onclick=\"getCFP('kind')\">kind</span> <span onclick=\"getCFP('of')\">of</span> <span onclick=\"getCFP('work')\">work</span>?'</span></p><p><span><span onclick=\"getCFP('John')\">John</span> <span onclick=\"getCFP('Baptist')\">Baptist</span> <span onclick=\"getCFP('answered')\">answered</span> <span onclick=\"getCFP('with')\">with</span> <span onclick=\"getCFP('that')\">that</span> <span onclick=\"getCFP('peculiar')\">peculiar</span> <span onclick=\"getCFP('back-handed')\">back-handed</span> <span onclick=\"getCFP('shake')\">shake</span> <span onclick=\"getCFP('of')\">of</span> <span onclick=\"getCFP('the')\">the</span> <span onclick=\"getCFP('right')\">right</span> <span onclick=\"getCFP('forefinger')\">forefinger</span> <span onclick=\"getCFP('which')\">which</span> <span onclick=\"getCFP('is')\">is</span> <span onclick=\"getCFP('the')\">the</span> <span onclick=\"getCFP('most')\">most</span> <span onclick=\"getCFP('expressive')\">expressive</span> <span onclick=\"getCFP('negative')\">negative</span> <span onclick=\"getCFP('in')\">in</span> <span onclick=\"getCFP('the')\">the</span> <span onclick=\"getCFP('Italian')\">Italian</span> <span onclick=\"getCFP('language')\">language</span>.</span></p>\n",
        "\n",
        "<p><span>'<span onclick=\"getCFP('No')\">No</span>!</span> <span><span onclick=\"getCFP('You')\">You</span> <span onclick=\"getCFP('knew')\">knew</span> <span onclick=\"getCFP('from')\">from</span> <span onclick=\"getCFP('the')\">the</span> <span onclick=\"getCFP('first')\">first</span> <span onclick=\"getCFP('moment')\">moment</span> <span onclick=\"getCFP('when')\">when</span> <span onclick=\"getCFP('you')\">you</span> <span onclick=\"getCFP('saw')\">saw</span> <span onclick=\"getCFP('me')\">me</span> <span onclick=\"getCFP('here')\">here</span>, <span onclick=\"getCFP('that')\">that</span> <span onclick=\"getCFP('I')\">I</span> <span onclick=\"getCFP('was')\">was</span> <span onclick=\"getCFP('a')\">a</span> <span onclick=\"getCFP('gentleman')\">gentleman</span>?'</span></p><p><span>'<span onclick=\"getCFP('ALTRO')\">ALTRO</span>!' <span onclick=\"getCFP('returned')\">returned</span> <span onclick=\"getCFP('John')\">John</span> <span onclick=\"getCFP('Baptist')\">Baptist</span>, <span onclick=\"getCFP('closing')\">closing</span> <span onclick=\"getCFP('his')\">his</span> <span onclick=\"getCFP('eyes')\">eyes</span> <span onclick=\"getCFP('and')\">and</span> <span onclick=\"getCFP('giving')\">giving</span> <span onclick=\"getCFP('his')\">his</span> <span onclick=\"getCFP('head')\">head</span> <span onclick=\"getCFP('a')\">a</span> <span onclick=\"getCFP('most')\">most</span> <span onclick=\"getCFP('vehement')\">vehement</span> <span onclick=\"getCFP('toss')\">toss</span>.</span> <span><span onclick=\"getCFP('The')\">The</span> <span onclick=\"getCFP('word')\">word</span> <span onclick=\"getCFP('being')\">being</span>, <span onclick=\"getCFP('according')\">according</span> <span onclick=\"getCFP('to')\">to</span> <span onclick=\"getCFP('its')\">its</span> <span onclick=\"getCFP('Genoese')\">Genoese</span> <span onclick=\"getCFP('emphasis')\">emphasis</span>, <span onclick=\"getCFP('a')\">a</span> <span onclick=\"getCFP('confirmation')\">confirmation</span>, <span onclick=\"getCFP('a')\">a</span> <span onclick=\"getCFP('contradiction')\">contradiction</span>, <span onclick=\"getCFP('an')\">an</span> <span onclick=\"getCFP('assertion')\">assertion</span>, <span onclick=\"getCFP('a')\">a</span> <span onclick=\"getCFP('denial')\">denial</span>, <span onclick=\"getCFP('a')\">a</span> <span onclick=\"getCFP('taunt')\">taunt</span>, <span onclick=\"getCFP('a')\">a</span> <span onclick=\"getCFP('compliment')\">compliment</span>, <span onclick=\"getCFP('a')\">a</span> <span onclick=\"getCFP('joke')\">joke</span>, <span onclick=\"getCFP('and')\">and</span> <span onclick=\"getCFP('fifty')\">fifty</span> <span onclick=\"getCFP('other')\">other</span> <span onclick=\"getCFP('things')\">things</span>, <span onclick=\"getCFP('became')\">became</span> <span onclick=\"getCFP('in')\">in</span> <span onclick=\"getCFP('the')\">the</span> <span onclick=\"getCFP('present')\">present</span> <span onclick=\"getCFP('instance')\">instance</span>, <span onclick=\"getCFP('with')\">with</span> <span onclick=\"getCFP('a')\">a</span> <span onclick=\"getCFP('significance')\">significance</span> <span onclick=\"getCFP('beyond')\">beyond</span> <span onclick=\"getCFP('all')\">all</span> <span onclick=\"getCFP('power')\">power</span> <span onclick=\"getCFP('of')\">of</span> <span onclick=\"getCFP('written')\">written</span> <span onclick=\"getCFP('expression')\">expression</span>, <span onclick=\"getCFP('our')\">our</span> <span onclick=\"getCFP('familiar')\">familiar</span> <span onclick=\"getCFP('English')\">English</span> '<span onclick=\"getCFP('I')\">I</span> <span onclick=\"getCFP('believe')\">believe</span> <span onclick=\"getCFP('you')\">you</span>!'</span></p><p><span>'<span onclick=\"getCFP('Haha')\">Haha</span>!</span> <span><span onclick=\"getCFP('You')\">You</span> <span onclick=\"getCFP('are')\">are</span> <span onclick=\"getCFP('right')\">right</span>!</span> <span><span onclick=\"getCFP('A')\">A</span> <span onclick=\"getCFP('gentleman')\">gentleman</span> <span onclick=\"getCFP('I')\">I</span> <span onclick=\"getCFP('am')\">am</span>!</span> <span><span onclick=\"getCFP('And')\">And</span> <span onclick=\"getCFP('a')\">a</span> <span onclick=\"getCFP('gentleman')\">gentleman</span> <span onclick=\"getCFP('I'll')\">I'll</span> <span onclick=\"getCFP('live')\">live</span>, <span onclick=\"getCFP('and')\">and</span> <span onclick=\"getCFP('a')\">a</span> <span onclick=\"getCFP('gentleman')\">gentleman</span> <span onclick=\"getCFP('I'll')\">I'll</span> <span onclick=\"getCFP('die')\">die</span>!</span> <span><span onclick=\"getCFP('It's')\">It's</span> <span onclick=\"getCFP('my')\">my</span> <span onclick=\"getCFP('intent')\">intent</span> <span onclick=\"getCFP('to')\">to</span> <span onclick=\"getCFP('be')\">be</span> <span onclick=\"getCFP('a')\">a</span> <span onclick=\"getCFP('gentleman')\">gentleman</span>.</span> <span><span onclick=\"getCFP('It's')\">It's</span> <span onclick=\"getCFP('my')\">my</span> <span onclick=\"getCFP('game')\">game</span>.</span> <span><span onclick=\"getCFP('Death')\">Death</span> <span onclick=\"getCFP('of')\">of</span> <span onclick=\"getCFP('my')\">my</span> <span onclick=\"getCFP('soul')\">soul</span>, <span onclick=\"getCFP('I')\">I</span> <span onclick=\"getCFP('play')\">play</span> <span onclick=\"getCFP('it')\">it</span> <span onclick=\"getCFP('out')\">out</span> <span onclick=\"getCFP('wherever')\">wherever</span> <span onclick=\"getCFP('I')\">I</span> <span onclick=\"getCFP('go')\">go</span>!'</span></p><p><span><span onclick=\"getCFP('He')\">He</span> <span onclick=\"getCFP('changed')\">changed</span> <span onclick=\"getCFP('his')\">his</span> <span onclick=\"getCFP('posture')\">posture</span> <span onclick=\"getCFP('to')\">to</span> <span onclick=\"getCFP('a')\">a</span> <span onclick=\"getCFP('sitting')\">sitting</span> <span onclick=\"getCFP('one')\">one</span>, <span onclick=\"getCFP('crying')\">crying</span> <span onclick=\"getCFP('with')\">with</span> <span onclick=\"getCFP('a')\">a</span> <span onclick=\"getCFP('triumphant')\">triumphant</span> <span onclick=\"getCFP('air')\">air</span>:</span></p>\n",
        "\n",
        "<p><span>'<span onclick=\"getCFP('Here')\">Here</span> <span onclick=\"getCFP('I')\">I</span> <span onclick=\"getCFP('am')\">am</span>!</span> <span><span onclick=\"getCFP('See')\">See</span> <span onclick=\"getCFP('me')\">me</span>!</span> <span><span onclick=\"getCFP('Shaken')\">Shaken</span> <span onclick=\"getCFP('out')\">out</span> <span onclick=\"getCFP('of')\">of</span> <span onclick=\"getCFP('destiny's')\">destiny's</span> <span onclick=\"getCFP('dice-box')\">dice-box</span> <span onclick=\"getCFP('into')\">into</span> <span onclick=\"getCFP('the')\">the</span> <span onclick=\"getCFP('company')\">company</span> <span onclick=\"getCFP('of')\">of</span> <span onclick=\"getCFP('a')\">a</span> <span onclick=\"getCFP('mere')\">mere</span> <span onclick=\"getCFP('smuggler')\">smuggler</span>;--<span onclick=\"getCFP('shut')\">shut</span> <span onclick=\"getCFP('up')\">up</span> <span onclick=\"getCFP('with')\">with</span> <span onclick=\"getCFP('a')\">a</span> <span onclick=\"getCFP('poor')\">poor</span> <span onclick=\"getCFP('little')\">little</span> <span onclick=\"getCFP('contraband')\">contraband</span> <span onclick=\"getCFP('trader')\">trader</span>, <span onclick=\"getCFP('whose')\">whose</span> <span onclick=\"getCFP('papers')\">papers</span> <span onclick=\"getCFP('are')\">are</span> <span onclick=\"getCFP('wrong')\">wrong</span>, <span onclick=\"getCFP('and')\">and</span> <span onclick=\"getCFP('whom')\">whom</span> <span onclick=\"getCFP('the')\">the</span> <span onclick=\"getCFP('police')\">police</span> <span onclick=\"getCFP('lay')\">lay</span> <span onclick=\"getCFP('hold')\">hold</span> <span onclick=\"getCFP('of')\">of</span> <span onclick=\"getCFP('besides')\">besides</span>, <span onclick=\"getCFP('for')\">for</span> <span onclick=\"getCFP('placing')\">placing</span> <span onclick=\"getCFP('his')\">his</span> <span onclick=\"getCFP('boat')\">boat</span> (<span onclick=\"getCFP('as')\">as</span> <span onclick=\"getCFP('a')\">a</span> <span onclick=\"getCFP('means')\">means</span> <span onclick=\"getCFP('of')\">of</span> <span onclick=\"getCFP('getting')\">getting</span> <span onclick=\"getCFP('beyond')\">beyond</span> <span onclick=\"getCFP('the')\">the</span> <span onclick=\"getCFP('frontier')\">frontier</span>) <span onclick=\"getCFP('at')\">at</span> <span onclick=\"getCFP('the')\">the</span> <span onclick=\"getCFP('disposition')\">disposition</span> <span onclick=\"getCFP('of')\">of</span> <span onclick=\"getCFP('other')\">other</span> <span onclick=\"getCFP('little')\">little</span> <span onclick=\"getCFP('people')\">people</span> <span onclick=\"getCFP('whose')\">whose</span> <span onclick=\"getCFP('papers')\">papers</span> <span onclick=\"getCFP('are')\">are</span> <span onclick=\"getCFP('wrong')\">wrong</span>; <span onclick=\"getCFP('and')\">and</span> <span onclick=\"getCFP('he')\">he</span> <span onclick=\"getCFP('instinctively')\">instinctively</span> <span onclick=\"getCFP('recognises')\">recognises</span> <span onclick=\"getCFP('my')\">my</span> <span onclick=\"getCFP('position')\">position</span>, <span onclick=\"getCFP('even')\">even</span> <span onclick=\"getCFP('by')\">by</span> <span onclick=\"getCFP('this')\">this</span> <span onclick=\"getCFP('light')\">light</span> <span onclick=\"getCFP('and')\">and</span> <span onclick=\"getCFP('in')\">in</span> <span onclick=\"getCFP('this')\">this</span> <span onclick=\"getCFP('place')\">place</span>.</span> <span><span onclick=\"getCFP('It's')\">It's</span> <span onclick=\"getCFP('well')\">well</span> <span onclick=\"getCFP('done')\">done</span>!</span> <span><span onclick=\"getCFP('By')\">By</span> <span onclick=\"getCFP('Heaven')\">Heaven</span>!</span> <span><span onclick=\"getCFP('I')\">I</span> <span onclick=\"getCFP('win')\">win</span>, <span onclick=\"getCFP('however')\">however</span> <span onclick=\"getCFP('the')\">the</span> <span onclick=\"getCFP('game')\">game</span> <span onclick=\"getCFP('goes')\">goes</span>.'</span></p><p><span><span onclick=\"getCFP('Again')\">Again</span> <span onclick=\"getCFP('his')\">his</span> <span onclick=\"getCFP('moustache')\">moustache</span> <span onclick=\"getCFP('went')\">went</span> <span onclick=\"getCFP('up')\">up</span>, <span onclick=\"getCFP('and')\">and</span> <span onclick=\"getCFP('his')\">his</span> <span onclick=\"getCFP('nose')\">nose</span> <span onclick=\"getCFP('came')\">came</span> <span onclick=\"getCFP('down')\">down</span>.</span></p>\n",
        "\n",
        "<p><span>'<span onclick=\"getCFP('What's')\">What's</span> <span onclick=\"getCFP('the')\">the</span> <span onclick=\"getCFP('hour')\">hour</span> <span onclick=\"getCFP('now')\">now</span>?' <span onclick=\"getCFP('he')\">he</span> <span onclick=\"getCFP('asked')\">asked</span>, <span onclick=\"getCFP('with')\">with</span> <span onclick=\"getCFP('a')\">a</span> <span onclick=\"getCFP('dry')\">dry</span> <span onclick=\"getCFP('hot')\">hot</span> <span onclick=\"getCFP('pallor')\">pallor</span> <span onclick=\"getCFP('upon')\">upon</span> <span onclick=\"getCFP('him')\">him</span>, <span onclick=\"getCFP('rather')\">rather</span> <span onclick=\"getCFP('difficult')\">difficult</span> <span onclick=\"getCFP('of')\">of</span> <span onclick=\"getCFP('association')\">association</span> <span onclick=\"getCFP('with')\">with</span> <span onclick=\"getCFP('merriment')\">merriment</span>.</span></p><p><span>'<span onclick=\"getCFP('A')\">A</span> <span onclick=\"getCFP('little')\">little</span> <span onclick=\"getCFP('half-hour')\">half-hour</span> <span onclick=\"getCFP('after')\">after</span> <span onclick=\"getCFP('mid-day')\">mid-day</span>.'</span></p><p><span>'<span onclick=\"getCFP('Good')\">Good</span>!</span> <span><span onclick=\"getCFP('The')\">The</span> <span onclick=\"getCFP('President')\">President</span> <span onclick=\"getCFP('will')\">will</span> <span onclick=\"getCFP('have')\">have</span> <span onclick=\"getCFP('a')\">a</span> <span onclick=\"getCFP('gentleman')\">gentleman</span> <span onclick=\"getCFP('before')\">before</span> <span onclick=\"getCFP('him')\">him</span> <span onclick=\"getCFP('soon')\">soon</span>.</span> <span><span onclick=\"getCFP('Come')\">Come</span>!</span></p>\n",
        "\n",
        "<p><span><span onclick=\"getCFP('Shall')\">Shall</span> <span onclick=\"getCFP('I')\">I</span> <span onclick=\"getCFP('tell')\">tell</span> <span onclick=\"getCFP('you')\">you</span> <span onclick=\"getCFP('on')\">on</span> <span onclick=\"getCFP('what')\">what</span> <span onclick=\"getCFP('accusation')\">accusation</span>?</span> <span><span onclick=\"getCFP('It')\">It</span> <span onclick=\"getCFP('must')\">must</span> <span onclick=\"getCFP('be')\">be</span> <span onclick=\"getCFP('now')\">now</span>, <span onclick=\"getCFP('or')\">or</span> <span onclick=\"getCFP('never')\">never</span>, <span onclick=\"getCFP('for')\">for</span> <span onclick=\"getCFP('I')\">I</span> <span onclick=\"getCFP('shall')\">shall</span> <span onclick=\"getCFP('not')\">not</span> <span onclick=\"getCFP('return')\">return</span> <span onclick=\"getCFP('here')\">here</span>.</span> <span><span onclick=\"getCFP('Either')\">Either</span> <span onclick=\"getCFP('I')\">I</span> <span onclick=\"getCFP('shall')\">shall</span> <span onclick=\"getCFP('go')\">go</span> <span onclick=\"getCFP('free')\">free</span>, <span onclick=\"getCFP('or')\">or</span> <span onclick=\"getCFP('I')\">I</span> <span onclick=\"getCFP('shall')\">shall</span> <span onclick=\"getCFP('go')\">go</span> <span onclick=\"getCFP('to')\">to</span> <span onclick=\"getCFP('be')\">be</span> <span onclick=\"getCFP('made')\">made</span> <span onclick=\"getCFP('ready')\">ready</span> <span onclick=\"getCFP('for')\">for</span> <span onclick=\"getCFP('shaving')\">shaving</span>.</span> <span><span onclick=\"getCFP('You')\">You</span> <span onclick=\"getCFP('know')\">know</span> <span onclick=\"getCFP('where')\">where</span> <span onclick=\"getCFP('they')\">they</span> <span onclick=\"getCFP('keep')\">keep</span> <span onclick=\"getCFP('the')\">the</span> <span onclick=\"getCFP('razor')\">razor</span>.'</span></p>\n",
        "\n",
        "<p><span><span onclick=\"getCFP('Signor')\">Signor</span> <span onclick=\"getCFP('Cavalletto')\">Cavalletto</span> <span onclick=\"getCFP('took')\">took</span> <span onclick=\"getCFP('his')\">his</span> <span onclick=\"getCFP('cigarette')\">cigarette</span> <span onclick=\"getCFP('from')\">from</span> <span onclick=\"getCFP('between')\">between</span> <span onclick=\"getCFP('his')\">his</span> <span onclick=\"getCFP('parted')\">parted</span> <span onclick=\"getCFP('lips')\">lips</span>, <span onclick=\"getCFP('and')\">and</span> <span onclick=\"getCFP('showed')\">showed</span> <span onclick=\"getCFP('more')\">more</span> <span onclick=\"getCFP('momentary')\">momentary</span> <span onclick=\"getCFP('discomfiture')\">discomfiture</span> <span onclick=\"getCFP('than')\">than</span> <span onclick=\"getCFP('might')\">might</span> <span onclick=\"getCFP('have')\">have</span> <span onclick=\"getCFP('been')\">been</span> <span onclick=\"getCFP('expected')\">expected</span>.</span></p>\n",
        "\n",
        "<p><span>'<span onclick=\"getCFP('I')\">I</span> <span onclick=\"getCFP('am')\">am</span> <span onclick=\"getCFP('a')\">a</span>'--<span onclick=\"getCFP('Monsieur')\">Monsieur</span> <span onclick=\"getCFP('Rigaud')\">Rigaud</span> <span onclick=\"getCFP('stood')\">stood</span> <span onclick=\"getCFP('up')\">up</span> <span onclick=\"getCFP('to')\">to</span> <span onclick=\"getCFP('say')\">say</span> <span onclick=\"getCFP('it')\">it</span>--'<span onclick=\"getCFP('I')\">I</span> <span onclick=\"getCFP('am')\">am</span> <span onclick=\"getCFP('a')\">a</span> <span onclick=\"getCFP('cosmopolitan')\">cosmopolitan</span> <span onclick=\"getCFP('gentleman')\">gentleman</span>.</span> <span><span onclick=\"getCFP('I')\">I</span> <span onclick=\"getCFP('own')\">own</span> <span onclick=\"getCFP('no')\">no</span> <span onclick=\"getCFP('particular')\">particular</span> <span onclick=\"getCFP('country')\">country</span>.</span> <span><span onclick=\"getCFP('My')\">My</span> <span onclick=\"getCFP('father')\">father</span> <span onclick=\"getCFP('was')\">was</span> <span onclick=\"getCFP('Swiss')\">Swiss</span>-- <span onclick=\"getCFP('Canton')\">Canton</span> <span onclick=\"getCFP('de')\">de</span> <span onclick=\"getCFP('Vaud')\">Vaud</span>.</span> <span><span onclick=\"getCFP('My')\">My</span> <span onclick=\"getCFP('mother')\">mother</span> <span onclick=\"getCFP('was')\">was</span> <span onclick=\"getCFP('French')\">French</span> <span onclick=\"getCFP('by')\">by</span> <span onclick=\"getCFP('blood')\">blood</span>, <span onclick=\"getCFP('English')\">English</span> <span onclick=\"getCFP('by')\">by</span> <span onclick=\"getCFP('birth')\">birth</span>.</span> <span><span onclick=\"getCFP('I')\">I</span> <span onclick=\"getCFP('myself')\">myself</span> <span onclick=\"getCFP('was')\">was</span> <span onclick=\"getCFP('born')\">born</span> <span onclick=\"getCFP('in')\">in</span> <span onclick=\"getCFP('Belgium')\">Belgium</span>.</span> <span><span onclick=\"getCFP('I')\">I</span> <span onclick=\"getCFP('am')\">am</span> <span onclick=\"getCFP('a')\">a</span> <span onclick=\"getCFP('citizen')\">citizen</span> <span onclick=\"getCFP('of')\">of</span> <span onclick=\"getCFP('the')\">the</span> <span onclick=\"getCFP('world')\">world</span>.'</span></p><p><span><span onclick=\"getCFP('His')\">His</span> <span onclick=\"getCFP('theatrical')\">theatrical</span> <span onclick=\"getCFP('air')\">air</span>, <span onclick=\"getCFP('as')\">as</span> <span onclick=\"getCFP('he')\">he</span> <span onclick=\"getCFP('stood')\">stood</span> <span onclick=\"getCFP('with')\">with</span> <span onclick=\"getCFP('one')\">one</span> <span onclick=\"getCFP('arm')\">arm</span> <span onclick=\"getCFP('on')\">on</span> <span onclick=\"getCFP('his')\">his</span> <span onclick=\"getCFP('hip')\">hip</span> <span onclick=\"getCFP('within')\">within</span> <span onclick=\"getCFP('the')\">the</span> <span onclick=\"getCFP('folds')\">folds</span> <span onclick=\"getCFP('of')\">of</span> <span onclick=\"getCFP('his')\">his</span> <span onclick=\"getCFP('cloak')\">cloak</span>, <span onclick=\"getCFP('together')\">together</span> <span onclick=\"getCFP('with')\">with</span> <span onclick=\"getCFP('his')\">his</span> <span onclick=\"getCFP('manner')\">manner</span> <span onclick=\"getCFP('of')\">of</span> <span onclick=\"getCFP('disregarding')\">disregarding</span> <span onclick=\"getCFP('his')\">his</span> <span onclick=\"getCFP('companion')\">companion</span> <span onclick=\"getCFP('and')\">and</span> <span onclick=\"getCFP('addressing')\">addressing</span> <span onclick=\"getCFP('the')\">the</span> <span onclick=\"getCFP('opposite')\">opposite</span> <span onclick=\"getCFP('wall')\">wall</span> <span onclick=\"getCFP('instead')\">instead</span>, <span onclick=\"getCFP('seemed')\">seemed</span> <span onclick=\"getCFP('to')\">to</span> <span onclick=\"getCFP('intimate')\">intimate</span> <span onclick=\"getCFP('that')\">that</span> <span onclick=\"getCFP('he')\">he</span> <span onclick=\"getCFP('was')\">was</span> <span onclick=\"getCFP('rehearsing')\">rehearsing</span> <span onclick=\"getCFP('for')\">for</span> <span onclick=\"getCFP('the')\">the</span> <span onclick=\"getCFP('President')\">President</span>, <span onclick=\"getCFP('whose')\">whose</span> <span onclick=\"getCFP('examination')\">examination</span> <span onclick=\"getCFP('he')\">he</span> <span onclick=\"getCFP('was')\">was</span> <span onclick=\"getCFP('shortly')\">shortly</span> <span onclick=\"getCFP('to')\">to</span> <span onclick=\"getCFP('undergo')\">undergo</span>, <span onclick=\"getCFP('rather')\">rather</span> <span onclick=\"getCFP('than')\">than</span> <span onclick=\"getCFP('troubling')\">troubling</span> <span onclick=\"getCFP('himself')\">himself</span> <span onclick=\"getCFP('merely')\">merely</span> <span onclick=\"getCFP('to')\">to</span> <span onclick=\"getCFP('enlighten')\">enlighten</span> <span onclick=\"getCFP('so')\">so</span> <span onclick=\"getCFP('small')\">small</span> <span onclick=\"getCFP('a')\">a</span> <span onclick=\"getCFP('person')\">person</span> <span onclick=\"getCFP('as')\">as</span> <span onclick=\"getCFP('John')\">John</span> <span onclick=\"getCFP('Baptist')\">Baptist</span> <span onclick=\"getCFP('Cavalletto')\">Cavalletto</span>.</span></p>\n",
        "\n",
        "<p><span>'<span onclick=\"getCFP('Call')\">Call</span> <span onclick=\"getCFP('me')\">me</span> <span onclick=\"getCFP('five-and-thirty')\">five-and-thirty</span> <span onclick=\"getCFP('years')\">years</span> <span onclick=\"getCFP('of')\">of</span> <span onclick=\"getCFP('age')\">age</span>.</span> <span><span onclick=\"getCFP('I')\">I</span> <span onclick=\"getCFP('have')\">have</span> <span onclick=\"getCFP('seen')\">seen</span> <span onclick=\"getCFP('the')\">the</span> <span onclick=\"getCFP('world')\">world</span>.</span> <span><span onclick=\"getCFP('I')\">I</span> <span onclick=\"getCFP('have')\">have</span> <span onclick=\"getCFP('lived')\">lived</span> <span onclick=\"getCFP('here')\">here</span>, <span onclick=\"getCFP('and')\">and</span> <span onclick=\"getCFP('lived')\">lived</span> <span onclick=\"getCFP('there')\">there</span>, <span onclick=\"getCFP('and')\">and</span> <span onclick=\"getCFP('lived')\">lived</span> <span onclick=\"getCFP('like')\">like</span> <span onclick=\"getCFP('a')\">a</span> <span onclick=\"getCFP('gentleman')\">gentleman</span> <span onclick=\"getCFP('everywhere')\">everywhere</span>.</span> <span><span onclick=\"getCFP('I')\">I</span> <span onclick=\"getCFP('have')\">have</span> <span onclick=\"getCFP('been')\">been</span> <span onclick=\"getCFP('treated')\">treated</span> <span onclick=\"getCFP('and')\">and</span> <span onclick=\"getCFP('respected')\">respected</span> <span onclick=\"getCFP('as')\">as</span> <span onclick=\"getCFP('a')\">a</span> <span onclick=\"getCFP('gentleman')\">gentleman</span> <span onclick=\"getCFP('universally')\">universally</span>.</span> <span><span onclick=\"getCFP('If')\">If</span> <span onclick=\"getCFP('you')\">you</span> <span onclick=\"getCFP('try')\">try</span> <span onclick=\"getCFP('to')\">to</span> <span onclick=\"getCFP('prejudice')\">prejudice</span> <span onclick=\"getCFP('me')\">me</span> <span onclick=\"getCFP('by')\">by</span> <span onclick=\"getCFP('making')\">making</span> <span onclick=\"getCFP('out')\">out</span> <span onclick=\"getCFP('that')\">that</span> <span onclick=\"getCFP('I')\">I</span> <span onclick=\"getCFP('have')\">have</span> <span onclick=\"getCFP('lived')\">lived</span> <span onclick=\"getCFP('by')\">by</span> <span onclick=\"getCFP('my')\">my</span> <span onclick=\"getCFP('wits')\">wits</span>--<span onclick=\"getCFP('how')\">how</span> <span onclick=\"getCFP('do')\">do</span> <span onclick=\"getCFP('your')\">your</span> <span onclick=\"getCFP('lawyers')\">lawyers</span> <span onclick=\"getCFP('live')\">live</span>--<span onclick=\"getCFP('your')\">your</span> <span onclick=\"getCFP('politicians')\">politicians</span>--<span onclick=\"getCFP('your')\">your</span> <span onclick=\"getCFP('intriguers')\">intriguers</span>--<span onclick=\"getCFP('your')\">your</span> <span onclick=\"getCFP('men')\">men</span> <span onclick=\"getCFP('of')\">of</span> <span onclick=\"getCFP('the')\">the</span> <span onclick=\"getCFP('Exchange')\">Exchange</span>?'</span></p><p><span><span onclick=\"getCFP('He')\">He</span> <span onclick=\"getCFP('kept')\">kept</span> <span onclick=\"getCFP('his')\">his</span> <span onclick=\"getCFP('small')\">small</span> <span onclick=\"getCFP('smooth')\">smooth</span> <span onclick=\"getCFP('hand')\">hand</span> <span onclick=\"getCFP('in')\">in</span> <span onclick=\"getCFP('constant')\">constant</span> <span onclick=\"getCFP('requisition')\">requisition</span>, <span onclick=\"getCFP('as')\">as</span> <span onclick=\"getCFP('if')\">if</span> <span onclick=\"getCFP('it')\">it</span> <span onclick=\"getCFP('were')\">were</span> <span onclick=\"getCFP('a')\">a</span> <span onclick=\"getCFP('witness')\">witness</span> <span onclick=\"getCFP('to')\">to</span> <span onclick=\"getCFP('his')\">his</span> <span onclick=\"getCFP('gentility')\">gentility</span> <span onclick=\"getCFP('that')\">that</span> <span onclick=\"getCFP('had')\">had</span> <span onclick=\"getCFP('often')\">often</span> <span onclick=\"getCFP('done')\">done</span> <span onclick=\"getCFP('him')\">him</span> <span onclick=\"getCFP('good')\">good</span> <span onclick=\"getCFP('service')\">service</span> <span onclick=\"getCFP('before')\">before</span>.</span></p>\n",
        "\n",
        "<p><span>'<span onclick=\"getCFP('Two')\">Two</span> <span onclick=\"getCFP('years')\">years</span> <span onclick=\"getCFP('ago')\">ago</span> <span onclick=\"getCFP('I')\">I</span> <span onclick=\"getCFP('came')\">came</span> <span onclick=\"getCFP('to')\">to</span> <span onclick=\"getCFP('Marseilles')\">Marseilles</span>.</span> <span><span onclick=\"getCFP('I')\">I</span> <span onclick=\"getCFP('admit')\">admit</span> <span onclick=\"getCFP('that')\">that</span> <span onclick=\"getCFP('I')\">I</span> <span onclick=\"getCFP('was')\">was</span> <span onclick=\"getCFP('poor')\">poor</span>; <span onclick=\"getCFP('I')\">I</span> <span onclick=\"getCFP('had')\">had</span> <span onclick=\"getCFP('been')\">been</span> <span onclick=\"getCFP('ill')\">ill</span>. <span onclick=\"getCFP('When')\">When</span> <span onclick=\"getCFP('your')\">your</span> <span onclick=\"getCFP('lawyers')\">lawyers</span>, <span onclick=\"getCFP('your')\">your</span> <span onclick=\"getCFP('politicians')\">politicians</span>, <span onclick=\"getCFP('your')\">your</span> <span onclick=\"getCFP('intriguers')\">intriguers</span>, <span onclick=\"getCFP('your')\">your</span> <span onclick=\"getCFP('men')\">men</span> <span onclick=\"getCFP('of')\">of</span> <span onclick=\"getCFP('the')\">the</span> <span onclick=\"getCFP('Exchange')\">Exchange</span> <span onclick=\"getCFP('fall')\">fall</span> <span onclick=\"getCFP('ill')\">ill</span>, <span onclick=\"getCFP('and')\">and</span> <span onclick=\"getCFP('have')\">have</span> <span onclick=\"getCFP('not')\">not</span> <span onclick=\"getCFP('scraped')\">scraped</span> <span onclick=\"getCFP('money')\">money</span> <span onclick=\"getCFP('together')\">together</span>, <span onclick=\"getCFP('they')\">they</span> <span onclick=\"getCFP('become')\">become</span> <span onclick=\"getCFP('poor')\">poor</span>.</span> <span><span onclick=\"getCFP('I')\">I</span> <span onclick=\"getCFP('put')\">put</span> <span onclick=\"getCFP('up')\">up</span> <span onclick=\"getCFP('at')\">at</span> <span onclick=\"getCFP('the')\">the</span> <span onclick=\"getCFP('Cross')\">Cross</span> <span onclick=\"getCFP('of')\">of</span> <span onclick=\"getCFP('Gold')\">Gold</span>,-- <span onclick=\"getCFP('kept')\">kept</span> <span onclick=\"getCFP('then')\">then</span> <span onclick=\"getCFP('by')\">by</span> <span onclick=\"getCFP('Monsieur')\">Monsieur</span> <span onclick=\"getCFP('Henri')\">Henri</span> <span onclick=\"getCFP('Barronneau')\">Barronneau</span>--<span onclick=\"getCFP('sixty-five')\">sixty-five</span> <span onclick=\"getCFP('at')\">at</span> <span onclick=\"getCFP('least')\">least</span>, <span onclick=\"getCFP('and')\">and</span> <span onclick=\"getCFP('in')\">in</span> <span onclick=\"getCFP('a')\">a</span> <span onclick=\"getCFP('failing')\">failing</span> <span onclick=\"getCFP('state')\">state</span> <span onclick=\"getCFP('of')\">of</span> <span onclick=\"getCFP('health')\">health</span>.</span> <span><span onclick=\"getCFP('I')\">I</span> <span onclick=\"getCFP('had')\">had</span> <span onclick=\"getCFP('lived')\">lived</span> <span onclick=\"getCFP('in')\">in</span> <span onclick=\"getCFP('the')\">the</span> <span onclick=\"getCFP('house')\">house</span> <span onclick=\"getCFP('some')\">some</span> <span onclick=\"getCFP('four')\">four</span> <span onclick=\"getCFP('months')\">months</span> <span onclick=\"getCFP('when')\">when</span> <span onclick=\"getCFP('Monsieur')\">Monsieur</span> <span onclick=\"getCFP('Henri')\">Henri</span> <span onclick=\"getCFP('Barronneau')\">Barronneau</span> <span onclick=\"getCFP('had')\">had</span> <span onclick=\"getCFP('the')\">the</span> <span onclick=\"getCFP('misfortune')\">misfortune</span> <span onclick=\"getCFP('to')\">to</span> <span onclick=\"getCFP('die')\">die</span>;-- <span onclick=\"getCFP('at')\">at</span> <span onclick=\"getCFP('any')\">any</span> <span onclick=\"getCFP('rate')\">rate</span>, <span onclick=\"getCFP('not')\">not</span> <span onclick=\"getCFP('a')\">a</span> <span onclick=\"getCFP('rare')\">rare</span> <span onclick=\"getCFP('misfortune')\">misfortune</span>, <span onclick=\"getCFP('that')\">that</span>.</span> <span><span onclick=\"getCFP('It')\">It</span> <span onclick=\"getCFP('happens')\">happens</span> <span onclick=\"getCFP('without')\">without</span> <span onclick=\"getCFP('any')\">any</span> <span onclick=\"getCFP('aid')\">aid</span> <span onclick=\"getCFP('of')\">of</span> <span onclick=\"getCFP('mine')\">mine</span>, <span onclick=\"getCFP('pretty')\">pretty</span> <span onclick=\"getCFP('often')\">often</span>.'</span></p><p><span><span onclick=\"getCFP('John')\">John</span> <span onclick=\"getCFP('Baptist')\">Baptist</span> <span onclick=\"getCFP('having')\">having</span> <span onclick=\"getCFP('smoked')\">smoked</span> <span onclick=\"getCFP('his')\">his</span> <span onclick=\"getCFP('cigarette')\">cigarette</span> <span onclick=\"getCFP('down')\">down</span> <span onclick=\"getCFP('to')\">to</span> <span onclick=\"getCFP('his')\">his</span> <span onclick=\"getCFP('fingers')\">fingers</span>' <span onclick=\"getCFP('ends')\">ends</span>, <span onclick=\"getCFP('Monsieur')\">Monsieur</span> <span onclick=\"getCFP('Rigaud')\">Rigaud</span> <span onclick=\"getCFP('had')\">had</span> <span onclick=\"getCFP('the')\">the</span> <span onclick=\"getCFP('magnanimity')\">magnanimity</span> <span onclick=\"getCFP('to')\">to</span> <span onclick=\"getCFP('throw')\">throw</span> <span onclick=\"getCFP('him')\">him</span> <span onclick=\"getCFP('another')\">another</span>.</span> <span><span onclick=\"getCFP('He')\">He</span> <span onclick=\"getCFP('lighted')\">lighted</span> <span onclick=\"getCFP('the')\">the</span> <span onclick=\"getCFP('second')\">second</span> <span onclick=\"getCFP('at')\">at</span> <span onclick=\"getCFP('the')\">the</span> <span onclick=\"getCFP('ashes')\">ashes</span> <span onclick=\"getCFP('of')\">of</span> <span onclick=\"getCFP('the')\">the</span> <span onclick=\"getCFP('first')\">first</span>, <span onclick=\"getCFP('and')\">and</span> <span onclick=\"getCFP('smoked')\">smoked</span> <span onclick=\"getCFP('on')\">on</span>, <span onclick=\"getCFP('looking')\">looking</span> <span onclick=\"getCFP('sideways')\">sideways</span> <span onclick=\"getCFP('at')\">at</span> <span onclick=\"getCFP('his')\">his</span> <span onclick=\"getCFP('companion')\">companion</span>, <span onclick=\"getCFP('who')\">who</span>, <span onclick=\"getCFP('preoccupied')\">preoccupied</span> <span onclick=\"getCFP('with')\">with</span> <span onclick=\"getCFP('his')\">his</span> <span onclick=\"getCFP('own')\">own</span> <span onclick=\"getCFP('case')\">case</span>, <span onclick=\"getCFP('hardly')\">hardly</span> <span onclick=\"getCFP('looked')\">looked</span> <span onclick=\"getCFP('at')\">at</span> <span onclick=\"getCFP('him')\">him</span>.</span></p>\n",
        "\n",
        "<p><span>'<span onclick=\"getCFP('Monsieur')\">Monsieur</span> <span onclick=\"getCFP('Barronneau')\">Barronneau</span> <span onclick=\"getCFP('left')\">left</span> <span onclick=\"getCFP('a')\">a</span> <span onclick=\"getCFP('widow')\">widow</span>.</span> <span><span onclick=\"getCFP('She')\">She</span> <span onclick=\"getCFP('was')\">was</span> <span onclick=\"getCFP('two-and-twenty')\">two-and-twenty</span>.</span> <span><span onclick=\"getCFP('She')\">She</span> <span onclick=\"getCFP('had')\">had</span> <span onclick=\"getCFP('gained')\">gained</span> <span onclick=\"getCFP('a')\">a</span> <span onclick=\"getCFP('reputation')\">reputation</span> <span onclick=\"getCFP('for')\">for</span> <span onclick=\"getCFP('beauty')\">beauty</span>, <span onclick=\"getCFP('and')\">and</span> (<span onclick=\"getCFP('which')\">which</span> <span onclick=\"getCFP('is')\">is</span> <span onclick=\"getCFP('often')\">often</span> <span onclick=\"getCFP('another')\">another</span> <span onclick=\"getCFP('thing')\">thing</span>) <span onclick=\"getCFP('was')\">was</span> <span onclick=\"getCFP('beautiful')\">beautiful</span>.</span> <span><span onclick=\"getCFP('I')\">I</span> <span onclick=\"getCFP('continued')\">continued</span> <span onclick=\"getCFP('to')\">to</span> <span onclick=\"getCFP('live')\">live</span> <span onclick=\"getCFP('at')\">at</span> <span onclick=\"getCFP('the')\">the</span> <span onclick=\"getCFP('Cross')\">Cross</span> <span onclick=\"getCFP('of')\">of</span> <span onclick=\"getCFP('Gold')\">Gold</span>.</span> <span><span onclick=\"getCFP('I')\">I</span> <span onclick=\"getCFP('married')\">married</span> <span onclick=\"getCFP('Madame')\">Madame</span> <span onclick=\"getCFP('Barronneau')\">Barronneau</span>.</span> <span><span onclick=\"getCFP('It')\">It</span> <span onclick=\"getCFP('is')\">is</span> <span onclick=\"getCFP('not')\">not</span> <span onclick=\"getCFP('for')\">for</span> <span onclick=\"getCFP('me')\">me</span> <span onclick=\"getCFP('to')\">to</span> <span onclick=\"getCFP('say')\">say</span> <span onclick=\"getCFP('whether')\">whether</span> <span onclick=\"getCFP('there')\">there</span> <span onclick=\"getCFP('was')\">was</span> <span onclick=\"getCFP('any')\">any</span> <span onclick=\"getCFP('great')\">great</span> <span onclick=\"getCFP('disparity')\">disparity</span> <span onclick=\"getCFP('in')\">in</span> <span onclick=\"getCFP('such')\">such</span> <span onclick=\"getCFP('a')\">a</span> <span onclick=\"getCFP('match')\">match</span>.</span> <span><span onclick=\"getCFP('Here')\">Here</span> <span onclick=\"getCFP('I')\">I</span> <span onclick=\"getCFP('stand')\">stand</span>, <span onclick=\"getCFP('with')\">with</span> <span onclick=\"getCFP('the')\">the</span> <span onclick=\"getCFP('contamination')\">contamination</span> <span onclick=\"getCFP('of')\">of</span> <span onclick=\"getCFP('a')\">a</span> <span onclick=\"getCFP('jail')\">jail</span> <span onclick=\"getCFP('upon')\">upon</span> <span onclick=\"getCFP('me')\">me</span>; <span onclick=\"getCFP('but')\">but</span> <span onclick=\"getCFP('it')\">it</span> <span onclick=\"getCFP('is')\">is</span> <span onclick=\"getCFP('possible')\">possible</span> <span onclick=\"getCFP('that')\">that</span> <span onclick=\"getCFP('you')\">you</span> <span onclick=\"getCFP('may')\">may</span> <span onclick=\"getCFP('think')\">think</span> <span onclick=\"getCFP('me')\">me</span> <span onclick=\"getCFP('better')\">better</span> <span onclick=\"getCFP('suited')\">suited</span> <span onclick=\"getCFP('to')\">to</span> <span onclick=\"getCFP('her')\">her</span> <span onclick=\"getCFP('than')\">than</span> <span onclick=\"getCFP('her')\">her</span> <span onclick=\"getCFP('former')\">former</span> <span onclick=\"getCFP('husband')\">husband</span> <span onclick=\"getCFP('was')\">was</span>.'</span></p><p><span><span onclick=\"getCFP('He')\">He</span> <span onclick=\"getCFP('had')\">had</span> <span onclick=\"getCFP('a')\">a</span> <span onclick=\"getCFP('certain')\">certain</span> <span onclick=\"getCFP('air')\">air</span> <span onclick=\"getCFP('of')\">of</span> <span onclick=\"getCFP('being')\">being</span> <span onclick=\"getCFP('a')\">a</span> <span onclick=\"getCFP('handsome')\">handsome</span> <span onclick=\"getCFP('man')\">man</span>--<span onclick=\"getCFP('which')\">which</span> <span onclick=\"getCFP('he')\">he</span> <span onclick=\"getCFP('was')\">was</span> <span onclick=\"getCFP('not')\">not</span>; <span onclick=\"getCFP('and')\">and</span> <span onclick=\"getCFP('a')\">a</span> <span onclick=\"getCFP('certain')\">certain</span> <span onclick=\"getCFP('air')\">air</span> <span onclick=\"getCFP('of')\">of</span> <span onclick=\"getCFP('being')\">being</span> <span onclick=\"getCFP('a')\">a</span> <span onclick=\"getCFP('well-bred')\">well-bred</span> <span onclick=\"getCFP('man')\">man</span>--<span onclick=\"getCFP('which')\">which</span> <span onclick=\"getCFP('he')\">he</span> <span onclick=\"getCFP('was')\">was</span> <span onclick=\"getCFP('not')\">not</span>.</span> <span><span onclick=\"getCFP('It')\">It</span> <span onclick=\"getCFP('was')\">was</span> <span onclick=\"getCFP('mere')\">mere</span> <span onclick=\"getCFP('swagger')\">swagger</span> <span onclick=\"getCFP('and')\">and</span> <span onclick=\"getCFP('challenge')\">challenge</span>; <span onclick=\"getCFP('but')\">but</span> <span onclick=\"getCFP('in')\">in</span> <span onclick=\"getCFP('this')\">this</span> <span onclick=\"getCFP('particular')\">particular</span>, <span onclick=\"getCFP('as')\">as</span> <span onclick=\"getCFP('in')\">in</span> <span onclick=\"getCFP('many')\">many</span> <span onclick=\"getCFP('others')\">others</span>, <span onclick=\"getCFP('blustering')\">blustering</span> <span onclick=\"getCFP('assertion')\">assertion</span> <span onclick=\"getCFP('goes')\">goes</span> <span onclick=\"getCFP('for')\">for</span> <span onclick=\"getCFP('proof')\">proof</span>, <span onclick=\"getCFP('half')\">half</span> <span onclick=\"getCFP('over')\">over</span> <span onclick=\"getCFP('the')\">the</span> <span onclick=\"getCFP('world')\">world</span>.</span></p>\n",
        "\n",
        "<p><span>'<span onclick=\"getCFP('Be')\">Be</span> <span onclick=\"getCFP('it')\">it</span> <span onclick=\"getCFP('as')\">as</span> <span onclick=\"getCFP('it')\">it</span> <span onclick=\"getCFP('may')\">may</span>, <span onclick=\"getCFP('Madame')\">Madame</span> <span onclick=\"getCFP('Barronneau')\">Barronneau</span> <span onclick=\"getCFP('approved')\">approved</span> <span onclick=\"getCFP('of')\">of</span> <span onclick=\"getCFP('me')\">me</span>.</span> <span><span onclick=\"getCFP('That')\">That</span> <span onclick=\"getCFP('is')\">is</span> <span onclick=\"getCFP('not')\">not</span> <span onclick=\"getCFP('to')\">to</span> <span onclick=\"getCFP('prejudice')\">prejudice</span> <span onclick=\"getCFP('me')\">me</span>, <span onclick=\"getCFP('I')\">I</span> <span onclick=\"getCFP('hope')\">hope</span>?'</span></p><p><span><span onclick=\"getCFP('His')\">His</span> <span onclick=\"getCFP('eye')\">eye</span> <span onclick=\"getCFP('happening')\">happening</span> <span onclick=\"getCFP('to')\">to</span> <span onclick=\"getCFP('light')\">light</span> <span onclick=\"getCFP('upon')\">upon</span> <span onclick=\"getCFP('John')\">John</span> <span onclick=\"getCFP('Baptist')\">Baptist</span> <span onclick=\"getCFP('with')\">with</span> <span onclick=\"getCFP('this')\">this</span> <span onclick=\"getCFP('inquiry')\">inquiry</span>, <span onclick=\"getCFP('that')\">that</span> <span onclick=\"getCFP('little')\">little</span> <span onclick=\"getCFP('man')\">man</span> <span onclick=\"getCFP('briskly')\">briskly</span> <span onclick=\"getCFP('shook')\">shook</span> <span onclick=\"getCFP('his')\">his</span> <span onclick=\"getCFP('head')\">head</span> <span onclick=\"getCFP('in')\">in</span> <span onclick=\"getCFP('the')\">the</span> <span onclick=\"getCFP('negative')\">negative</span>, <span onclick=\"getCFP('and')\">and</span> <span onclick=\"getCFP('repeated')\">repeated</span> <span onclick=\"getCFP('in')\">in</span> <span onclick=\"getCFP('an')\">an</span> <span onclick=\"getCFP('argumentative')\">argumentative</span> <span onclick=\"getCFP('tone')\">tone</span> <span onclick=\"getCFP('under')\">under</span> <span onclick=\"getCFP('his')\">his</span> <span onclick=\"getCFP('breath')\">breath</span>, <span onclick=\"getCFP('altro')\">altro</span>, <span onclick=\"getCFP('altro')\">altro</span>, <span onclick=\"getCFP('altro')\">altro</span>, <span onclick=\"getCFP('altro')\">altro</span>--<span onclick=\"getCFP('an')\">an</span> <span onclick=\"getCFP('infinite')\">infinite</span> <span onclick=\"getCFP('number')\">number</span> <span onclick=\"getCFP('of')\">of</span> <span onclick=\"getCFP('times')\">times</span>.</span></p>\n",
        "\n",
        "<p><span>' <span onclick=\"getCFP('Now')\">Now</span> <span onclick=\"getCFP('came')\">came</span> <span onclick=\"getCFP('the')\">the</span> <span onclick=\"getCFP('difficulties')\">difficulties</span> <span onclick=\"getCFP('of')\">of</span> <span onclick=\"getCFP('our')\">our</span> <span onclick=\"getCFP('position')\">position</span>.</span> <span><span onclick=\"getCFP('I')\">I</span> <span onclick=\"getCFP('am')\">am</span> <span onclick=\"getCFP('proud')\">proud</span>.</span> <span><span onclick=\"getCFP('I')\">I</span> <span onclick=\"getCFP('say')\">say</span> <span onclick=\"getCFP('nothing')\">nothing</span> <span onclick=\"getCFP('in')\">in</span> <span onclick=\"getCFP('defence')\">defence</span> <span onclick=\"getCFP('of')\">of</span> <span onclick=\"getCFP('pride')\">pride</span>, <span onclick=\"getCFP('but')\">but</span> <span onclick=\"getCFP('I')\">I</span> <span onclick=\"getCFP('am')\">am</span> <span onclick=\"getCFP('proud')\">proud</span>.</span> <span><span onclick=\"getCFP('It')\">It</span> <span onclick=\"getCFP('is')\">is</span> <span onclick=\"getCFP('also')\">also</span> <span onclick=\"getCFP('my')\">my</span> <span onclick=\"getCFP('character')\">character</span> <span onclick=\"getCFP('to')\">to</span> <span onclick=\"getCFP('govern')\">govern</span>.</span> <span><span onclick=\"getCFP('I')\">I</span> <span onclick=\"getCFP('can't')\">can't</span> <span onclick=\"getCFP('submit')\">submit</span>; <span onclick=\"getCFP('I')\">I</span> <span onclick=\"getCFP('must')\">must</span> <span onclick=\"getCFP('govern')\">govern</span>.</span> <span><span onclick=\"getCFP('Unfortunately')\">Unfortunately</span>, <span onclick=\"getCFP('the')\">the</span> <span onclick=\"getCFP('property')\">property</span> <span onclick=\"getCFP('of')\">of</span> <span onclick=\"getCFP('Madame')\">Madame</span> <span onclick=\"getCFP('Rigaud')\">Rigaud</span> <span onclick=\"getCFP('was')\">was</span> <span onclick=\"getCFP('settled')\">settled</span> <span onclick=\"getCFP('upon')\">upon</span> <span onclick=\"getCFP('herself')\">herself</span>.</span> <span><span onclick=\"getCFP('Such')\">Such</span> <span onclick=\"getCFP('was')\">was</span> <span onclick=\"getCFP('the')\">the</span> <span onclick=\"getCFP('insane')\">insane</span> <span onclick=\"getCFP('act')\">act</span> <span onclick=\"getCFP('of')\">of</span> <span onclick=\"getCFP('her')\">her</span> <span onclick=\"getCFP('late')\">late</span> <span onclick=\"getCFP('husband')\">husband</span>.</span> <span><span onclick=\"getCFP('More')\">More</span> <span onclick=\"getCFP('unfortunately')\">unfortunately</span> <span onclick=\"getCFP('still')\">still</span>, <span onclick=\"getCFP('she')\">she</span> <span onclick=\"getCFP('had')\">had</span> <span onclick=\"getCFP('relations')\">relations</span>.</span> <span><span onclick=\"getCFP('When')\">When</span> <span onclick=\"getCFP('a')\">a</span> <span onclick=\"getCFP('wife's')\">wife's</span> <span onclick=\"getCFP('relations')\">relations</span> <span onclick=\"getCFP('interpose')\">interpose</span> <span onclick=\"getCFP('against')\">against</span> <span onclick=\"getCFP('a')\">a</span> <span onclick=\"getCFP('husband')\">husband</span> <span onclick=\"getCFP('who')\">who</span> <span onclick=\"getCFP('is')\">is</span> <span onclick=\"getCFP('a')\">a</span> <span onclick=\"getCFP('gentleman')\">gentleman</span>, <span onclick=\"getCFP('who')\">who</span> <span onclick=\"getCFP('is')\">is</span> <span onclick=\"getCFP('proud')\">proud</span>, <span onclick=\"getCFP('and')\">and</span> <span onclick=\"getCFP('who')\">who</span> <span onclick=\"getCFP('must')\">must</span> <span onclick=\"getCFP('govern')\">govern</span>, <span onclick=\"getCFP('the')\">the</span> <span onclick=\"getCFP('consequences')\">consequences</span> <span onclick=\"getCFP('are')\">are</span> <span onclick=\"getCFP('inimical')\">inimical</span> <span onclick=\"getCFP('to')\">to</span> <span onclick=\"getCFP('peace')\">peace</span>.</span> <span><span onclick=\"getCFP('There')\">There</span> <span onclick=\"getCFP('was')\">was</span> <span onclick=\"getCFP('yet')\">yet</span> <span onclick=\"getCFP('another')\">another</span> <span onclick=\"getCFP('source')\">source</span> <span onclick=\"getCFP('of')\">of</span> <span onclick=\"getCFP('difference')\">difference</span> <span onclick=\"getCFP('between')\">between</span> <span onclick=\"getCFP('us')\">us</span>.</span> <span><span onclick=\"getCFP('Madame')\">Madame</span> <span onclick=\"getCFP('Rigaud')\">Rigaud</span> <span onclick=\"getCFP('was')\">was</span> <span onclick=\"getCFP('unfortunately')\">unfortunately</span> <span onclick=\"getCFP('a')\">a</span> <span onclick=\"getCFP('little')\">little</span> <span onclick=\"getCFP('vulgar')\">vulgar</span>.</span> <span><span onclick=\"getCFP('I')\">I</span> <span onclick=\"getCFP('sought')\">sought</span> <span onclick=\"getCFP('to')\">to</span> <span onclick=\"getCFP('improve')\">improve</span> <span onclick=\"getCFP('her')\">her</span> <span onclick=\"getCFP('manners')\">manners</span> <span onclick=\"getCFP('and')\">and</span> <span onclick=\"getCFP('ameliorate')\">ameliorate</span> <span onclick=\"getCFP('her')\">her</span> <span onclick=\"getCFP('general')\">general</span> <span onclick=\"getCFP('tone')\">tone</span>; <span onclick=\"getCFP('she')\">she</span> (<span onclick=\"getCFP('supported')\">supported</span> <span onclick=\"getCFP('in')\">in</span> <span onclick=\"getCFP('this')\">this</span> <span onclick=\"getCFP('likewise')\">likewise</span> <span onclick=\"getCFP('by')\">by</span> <span onclick=\"getCFP('her')\">her</span> <span onclick=\"getCFP('relations')\">relations</span>) <span onclick=\"getCFP('resented')\">resented</span> <span onclick=\"getCFP('my')\">my</span> <span onclick=\"getCFP('endeavours')\">endeavours</span>.</span> <span><span onclick=\"getCFP('Quarrels')\">Quarrels</span> <span onclick=\"getCFP('began')\">began</span> <span onclick=\"getCFP('to')\">to</span> <span onclick=\"getCFP('arise')\">arise</span> <span onclick=\"getCFP('between')\">between</span> <span onclick=\"getCFP('us')\">us</span>; <span onclick=\"getCFP('and')\">and</span>, <span onclick=\"getCFP('propagated')\">propagated</span> <span onclick=\"getCFP('and')\">and</span> <span onclick=\"getCFP('exaggerated')\">exaggerated</span> <span onclick=\"getCFP('by')\">by</span> <span onclick=\"getCFP('the')\">the</span> <span onclick=\"getCFP('slanders')\">slanders</span> <span onclick=\"getCFP('of')\">of</span> <span onclick=\"getCFP('the')\">the</span> <span onclick=\"getCFP('relations')\">relations</span> <span onclick=\"getCFP('of')\">of</span> <span onclick=\"getCFP('Madame')\">Madame</span> <span onclick=\"getCFP('Rigaud')\">Rigaud</span>, <span onclick=\"getCFP('to')\">to</span> <span onclick=\"getCFP('become')\">become</span> <span onclick=\"getCFP('notorious')\">notorious</span> <span onclick=\"getCFP('to')\">to</span> <span onclick=\"getCFP('the')\">the</span> <span onclick=\"getCFP('neighbours')\">neighbours</span>.</span> <span><span onclick=\"getCFP('It')\">It</span> <span onclick=\"getCFP('has')\">has</span> <span onclick=\"getCFP('been')\">been</span> <span onclick=\"getCFP('said')\">said</span> <span onclick=\"getCFP('that')\">that</span> <span onclick=\"getCFP('I')\">I</span> <span onclick=\"getCFP('treated')\">treated</span> <span onclick=\"getCFP('Madame')\">Madame</span> <span onclick=\"getCFP('Rigaud')\">Rigaud</span> <span onclick=\"getCFP('with')\">with</span> <span onclick=\"getCFP('cruelty')\">cruelty</span>.</span> <span><span onclick=\"getCFP('I')\">I</span> <span onclick=\"getCFP('may')\">may</span> <span onclick=\"getCFP('have')\">have</span> <span onclick=\"getCFP('been')\">been</span> <span onclick=\"getCFP('seen')\">seen</span> <span onclick=\"getCFP('to')\">to</span> <span onclick=\"getCFP('slap')\">slap</span> <span onclick=\"getCFP('her')\">her</span> <span onclick=\"getCFP('face')\">face</span>--<span onclick=\"getCFP('nothing')\">nothing</span> <span onclick=\"getCFP('more')\">more</span>.</span> <span><span onclick=\"getCFP('I')\">I</span> <span onclick=\"getCFP('have')\">have</span> <span onclick=\"getCFP('a')\">a</span> <span onclick=\"getCFP('light')\">light</span> <span onclick=\"getCFP('hand')\">hand</span>; <span onclick=\"getCFP('and')\">and</span> <span onclick=\"getCFP('if')\">if</span> <span onclick=\"getCFP('I')\">I</span> <span onclick=\"getCFP('have')\">have</span> <span onclick=\"getCFP('been')\">been</span> <span onclick=\"getCFP('seen')\">seen</span> <span onclick=\"getCFP('apparently')\">apparently</span> <span onclick=\"getCFP('to')\">to</span> <span onclick=\"getCFP('correct')\">correct</span> <span onclick=\"getCFP('Madame')\">Madame</span> <span onclick=\"getCFP('Rigaud')\">Rigaud</span> <span onclick=\"getCFP('in')\">in</span> <span onclick=\"getCFP('that')\">that</span> <span onclick=\"getCFP('manner')\">manner</span>, <span onclick=\"getCFP('I')\">I</span> <span onclick=\"getCFP('have')\">have</span> <span onclick=\"getCFP('done')\">done</span> <span onclick=\"getCFP('it')\">it</span> <span onclick=\"getCFP('almost')\">almost</span> <span onclick=\"getCFP('playfully')\">playfully</span>.'</span></p><p><span><span onclick=\"getCFP('If')\">If</span> <span onclick=\"getCFP('the')\">the</span> <span onclick=\"getCFP('playfulness')\">playfulness</span> <span onclick=\"getCFP('of')\">of</span> <span onclick=\"getCFP('Monsieur')\">Monsieur</span> <span onclick=\"getCFP('Rigaud')\">Rigaud</span> <span onclick=\"getCFP('were')\">were</span> <span onclick=\"getCFP('at')\">at</span> <span onclick=\"getCFP('all')\">all</span> <span onclick=\"getCFP('expressed')\">expressed</span> <span onclick=\"getCFP('by')\">by</span> <span onclick=\"getCFP('his')\">his</span> <span onclick=\"getCFP('smile')\">smile</span> <span onclick=\"getCFP('at')\">at</span> <span onclick=\"getCFP('this')\">this</span> <span onclick=\"getCFP('point')\">point</span>, <span onclick=\"getCFP('the')\">the</span> <span onclick=\"getCFP('relations')\">relations</span> <span onclick=\"getCFP('of')\">of</span> <span onclick=\"getCFP('Madame')\">Madame</span> <span onclick=\"getCFP('Rigaud')\">Rigaud</span> <span onclick=\"getCFP('might')\">might</span> <span onclick=\"getCFP('have')\">have</span> <span onclick=\"getCFP('said')\">said</span> <span onclick=\"getCFP('that')\">that</span> <span onclick=\"getCFP('they')\">they</span> <span onclick=\"getCFP('would')\">would</span> <span onclick=\"getCFP('have')\">have</span> <span onclick=\"getCFP('much')\">much</span> <span onclick=\"getCFP('preferred')\">preferred</span> <span onclick=\"getCFP('his')\">his</span> <span onclick=\"getCFP('correcting')\">correcting</span> <span onclick=\"getCFP('that')\">that</span> <span onclick=\"getCFP('unfortunate')\">unfortunate</span> <span onclick=\"getCFP('woman')\">woman</span> <span onclick=\"getCFP('seriously')\">seriously</span>.</span></p>\n",
        "\n",
        "<p><span>'<span onclick=\"getCFP('I')\">I</span> <span onclick=\"getCFP('am')\">am</span> <span onclick=\"getCFP('sensitive')\">sensitive</span> <span onclick=\"getCFP('and')\">and</span> <span onclick=\"getCFP('brave')\">brave</span>.</span> <span><span onclick=\"getCFP('I')\">I</span> <span onclick=\"getCFP('do')\">do</span> <span onclick=\"getCFP('not')\">not</span> <span onclick=\"getCFP('advance')\">advance</span> <span onclick=\"getCFP('it')\">it</span> <span onclick=\"getCFP('as')\">as</span> <span onclick=\"getCFP('a')\">a</span> <span onclick=\"getCFP('merit')\">merit</span> <span onclick=\"getCFP('to')\">to</span> <span onclick=\"getCFP('be')\">be</span> <span onclick=\"getCFP('sensitive')\">sensitive</span> <span onclick=\"getCFP('and')\">and</span> <span onclick=\"getCFP('brave')\">brave</span>, <span onclick=\"getCFP('but')\">but</span> <span onclick=\"getCFP('it')\">it</span> <span onclick=\"getCFP('is')\">is</span> <span onclick=\"getCFP('my')\">my</span> <span onclick=\"getCFP('character')\">character</span>.</span> <span><span onclick=\"getCFP('If')\">If</span> <span onclick=\"getCFP('the')\">the</span> <span onclick=\"getCFP('male')\">male</span> <span onclick=\"getCFP('relations')\">relations</span> <span onclick=\"getCFP('of')\">of</span> <span onclick=\"getCFP('Madame')\">Madame</span> <span onclick=\"getCFP('Rigaud')\">Rigaud</span> <span onclick=\"getCFP('had')\">had</span> <span onclick=\"getCFP('put')\">put</span> <span onclick=\"getCFP('themselves')\">themselves</span> <span onclick=\"getCFP('forward')\">forward</span> <span onclick=\"getCFP('openly')\">openly</span>, <span onclick=\"getCFP('I')\">I</span> <span onclick=\"getCFP('should')\">should</span> <span onclick=\"getCFP('have')\">have</span> <span onclick=\"getCFP('known')\">known</span> <span onclick=\"getCFP('how')\">how</span> <span onclick=\"getCFP('to')\">to</span> <span onclick=\"getCFP('deal')\">deal</span> <span onclick=\"getCFP('with')\">with</span> <span onclick=\"getCFP('them')\">them</span>.</span> <span><span onclick=\"getCFP('They')\">They</span> <span onclick=\"getCFP('knew')\">knew</span> <span onclick=\"getCFP('that')\">that</span>, <span onclick=\"getCFP('and')\">and</span> <span onclick=\"getCFP('their')\">their</span> <span onclick=\"getCFP('machinations')\">machinations</span> <span onclick=\"getCFP('were')\">were</span> <span onclick=\"getCFP('conducted')\">conducted</span> <span onclick=\"getCFP('in')\">in</span> <span onclick=\"getCFP('secret')\">secret</span>; <span onclick=\"getCFP('consequently')\">consequently</span>, <span onclick=\"getCFP('Madame')\">Madame</span> <span onclick=\"getCFP('Rigaud')\">Rigaud</span> <span onclick=\"getCFP('and')\">and</span> <span onclick=\"getCFP('I')\">I</span> <span onclick=\"getCFP('were')\">were</span> <span onclick=\"getCFP('brought')\">brought</span> <span onclick=\"getCFP('into')\">into</span> <span onclick=\"getCFP('frequent')\">frequent</span> <span onclick=\"getCFP('and')\">and</span> <span onclick=\"getCFP('unfortunate')\">unfortunate</span> <span onclick=\"getCFP('collision')\">collision</span>.</span> <span><span onclick=\"getCFP('Even')\">Even</span> <span onclick=\"getCFP('when')\">when</span> <span onclick=\"getCFP('I')\">I</span> <span onclick=\"getCFP('wanted')\">wanted</span> <span onclick=\"getCFP('any')\">any</span> <span onclick=\"getCFP('little')\">little</span> <span onclick=\"getCFP('sum')\">sum</span> <span onclick=\"getCFP('of')\">of</span> <span onclick=\"getCFP('money')\">money</span> <span onclick=\"getCFP('for')\">for</span> <span onclick=\"getCFP('my')\">my</span> <span onclick=\"getCFP('personal')\">personal</span> <span onclick=\"getCFP('expenses')\">expenses</span>, <span onclick=\"getCFP('I')\">I</span> <span onclick=\"getCFP('could')\">could</span> <span onclick=\"getCFP('not')\">not</span> <span onclick=\"getCFP('obtain')\">obtain</span> <span onclick=\"getCFP('it')\">it</span> <span onclick=\"getCFP('without')\">without</span> <span onclick=\"getCFP('collision')\">collision</span>--<span onclick=\"getCFP('and')\">and</span> <span onclick=\"getCFP('I')\">I</span>, <span onclick=\"getCFP('too')\">too</span>, <span onclick=\"getCFP('a')\">a</span> <span onclick=\"getCFP('man')\">man</span> <span onclick=\"getCFP('whose')\">whose</span> <span onclick=\"getCFP('character')\">character</span> <span onclick=\"getCFP('it')\">it</span> <span onclick=\"getCFP('is')\">is</span> <span onclick=\"getCFP('to')\">to</span> <span onclick=\"getCFP('govern')\">govern</span>!</span> <span><span onclick=\"getCFP('One')\">One</span> <span onclick=\"getCFP('night')\">night</span>, <span onclick=\"getCFP('Madame')\">Madame</span> <span onclick=\"getCFP('Rigaud')\">Rigaud</span> <span onclick=\"getCFP('and')\">and</span> <span onclick=\"getCFP('myself')\">myself</span> <span onclick=\"getCFP('were')\">were</span> <span onclick=\"getCFP('walking')\">walking</span> <span onclick=\"getCFP('amicably')\">amicably</span>--<span onclick=\"getCFP('I')\">I</span> <span onclick=\"getCFP('may')\">may</span> <span onclick=\"getCFP('say')\">say</span> <span onclick=\"getCFP('like')\">like</span> <span onclick=\"getCFP('lovers')\">lovers</span>--<span onclick=\"getCFP('on')\">on</span> <span onclick=\"getCFP('a')\">a</span> <span onclick=\"getCFP('height')\">height</span> <span onclick=\"getCFP('overhanging')\">overhanging</span> <span onclick=\"getCFP('the')\">the</span> <span onclick=\"getCFP('sea')\">sea</span>.</span> <span><span onclick=\"getCFP('An')\">An</span> <span onclick=\"getCFP('evil')\">evil</span> <span onclick=\"getCFP('star')\">star</span> <span onclick=\"getCFP('occasioned')\">occasioned</span> <span onclick=\"getCFP('Madame')\">Madame</span> <span onclick=\"getCFP('Rigaud')\">Rigaud</span> <span onclick=\"getCFP('to')\">to</span> <span onclick=\"getCFP('advert')\">advert</span> <span onclick=\"getCFP('to')\">to</span> <span onclick=\"getCFP('her')\">her</span> <span onclick=\"getCFP('relations')\">relations</span>; <span onclick=\"getCFP('I')\">I</span> <span onclick=\"getCFP('reasoned')\">reasoned</span> <span onclick=\"getCFP('with')\">with</span> <span onclick=\"getCFP('her')\">her</span> <span onclick=\"getCFP('on')\">on</span> <span onclick=\"getCFP('that')\">that</span> <span onclick=\"getCFP('subject')\">subject</span>, <span onclick=\"getCFP('and')\">and</span> <span onclick=\"getCFP('remonstrated')\">remonstrated</span> <span onclick=\"getCFP('on')\">on</span> <span onclick=\"getCFP('the')\">the</span> <span onclick=\"getCFP('want')\">want</span> <span onclick=\"getCFP('of')\">of</span> <span onclick=\"getCFP('duty')\">duty</span> <span onclick=\"getCFP('and')\">and</span> <span onclick=\"getCFP('devotion')\">devotion</span> <span onclick=\"getCFP('manifested')\">manifested</span> <span onclick=\"getCFP('in')\">in</span> <span onclick=\"getCFP('her')\">her</span> <span onclick=\"getCFP('allowing')\">allowing</span> <span onclick=\"getCFP('herself')\">herself</span> <span onclick=\"getCFP('to')\">to</span> <span onclick=\"getCFP('be')\">be</span> <span onclick=\"getCFP('influenced')\">influenced</span> <span onclick=\"getCFP('by')\">by</span> <span onclick=\"getCFP('their')\">their</span> <span onclick=\"getCFP('jealous')\">jealous</span> <span onclick=\"getCFP('animosity')\">animosity</span> <span onclick=\"getCFP('towards')\">towards</span> <span onclick=\"getCFP('her')\">her</span> <span onclick=\"getCFP('husband')\">husband</span>.</span> <span><span onclick=\"getCFP('Madame')\">Madame</span> <span onclick=\"getCFP('Rigaud')\">Rigaud</span> <span onclick=\"getCFP('retorted')\">retorted</span>; <span onclick=\"getCFP('I')\">I</span> <span onclick=\"getCFP('retorted')\">retorted</span>; <span onclick=\"getCFP('Madame')\">Madame</span> <span onclick=\"getCFP('Rigaud')\">Rigaud</span> <span onclick=\"getCFP('grew')\">grew</span> <span onclick=\"getCFP('warm')\">warm</span>; <span onclick=\"getCFP('I')\">I</span> <span onclick=\"getCFP('grew')\">grew</span> <span onclick=\"getCFP('warm')\">warm</span>, <span onclick=\"getCFP('and')\">and</span> <span onclick=\"getCFP('provoked')\">provoked</span> <span onclick=\"getCFP('her')\">her</span>.</span> <span><span onclick=\"getCFP('I')\">I</span> <span onclick=\"getCFP('admit')\">admit</span> <span onclick=\"getCFP('it')\">it</span>.</span> <span><span onclick=\"getCFP('Frankness')\">Frankness</span> <span onclick=\"getCFP('is')\">is</span> <span onclick=\"getCFP('a')\">a</span> <span onclick=\"getCFP('part')\">part</span> <span onclick=\"getCFP('of')\">of</span> <span onclick=\"getCFP('my')\">my</span> <span onclick=\"getCFP('character')\">character</span>.</span> <span><span onclick=\"getCFP('At')\">At</span> <span onclick=\"getCFP('length')\">length</span>, <span onclick=\"getCFP('Madame')\">Madame</span> <span onclick=\"getCFP('Rigaud')\">Rigaud</span>, <span onclick=\"getCFP('in')\">in</span> <span onclick=\"getCFP('an')\">an</span> <span onclick=\"getCFP('access')\">access</span> <span onclick=\"getCFP('of')\">of</span> <span onclick=\"getCFP('fury')\">fury</span> <span onclick=\"getCFP('that')\">that</span> <span onclick=\"getCFP('I')\">I</span> <span onclick=\"getCFP('must')\">must</span> <span onclick=\"getCFP('ever')\">ever</span> <span onclick=\"getCFP('deplore')\">deplore</span>, <span onclick=\"getCFP('threw')\">threw</span> <span onclick=\"getCFP('herself')\">herself</span> <span onclick=\"getCFP('upon')\">upon</span> <span onclick=\"getCFP('me')\">me</span> <span onclick=\"getCFP('with')\">with</span> <span onclick=\"getCFP('screams')\">screams</span> <span onclick=\"getCFP('of')\">of</span> <span onclick=\"getCFP('passion')\">passion</span> (<span onclick=\"getCFP('no')\">no</span> <span onclick=\"getCFP('doubt')\">doubt</span> <span onclick=\"getCFP('those')\">those</span> <span onclick=\"getCFP('that')\">that</span> <span onclick=\"getCFP('were')\">were</span> <span onclick=\"getCFP('overheard')\">overheard</span> <span onclick=\"getCFP('at')\">at</span> <span onclick=\"getCFP('some')\">some</span> <span onclick=\"getCFP('distance')\">distance</span>), <span onclick=\"getCFP('tore')\">tore</span> <span onclick=\"getCFP('my')\">my</span> <span onclick=\"getCFP('clothes')\">clothes</span>, <span onclick=\"getCFP('tore')\">tore</span> <span onclick=\"getCFP('my')\">my</span> <span onclick=\"getCFP('hair')\">hair</span>, <span onclick=\"getCFP('lacerated')\">lacerated</span> <span onclick=\"getCFP('my')\">my</span> <span onclick=\"getCFP('hands')\">hands</span>, <span onclick=\"getCFP('trampled')\">trampled</span> <span onclick=\"getCFP('and')\">and</span> <span onclick=\"getCFP('trod')\">trod</span> <span onclick=\"getCFP('the')\">the</span> <span onclick=\"getCFP('dust')\">dust</span>, <span onclick=\"getCFP('and')\">and</span> <span onclick=\"getCFP('finally')\">finally</span> <span onclick=\"getCFP('leaped')\">leaped</span> <span onclick=\"getCFP('over')\">over</span>, <span onclick=\"getCFP('dashing')\">dashing</span> <span onclick=\"getCFP('herself')\">herself</span> <span onclick=\"getCFP('to')\">to</span> <span onclick=\"getCFP('death')\">death</span> <span onclick=\"getCFP('upon')\">upon</span> <span onclick=\"getCFP('the')\">the</span> <span onclick=\"getCFP('rocks')\">rocks</span> <span onclick=\"getCFP('below')\">below</span>.</span> <span><span onclick=\"getCFP('Such')\">Such</span> <span onclick=\"getCFP('is')\">is</span> <span onclick=\"getCFP('the')\">the</span> <span onclick=\"getCFP('train')\">train</span> <span onclick=\"getCFP('of')\">of</span> <span onclick=\"getCFP('incidents')\">incidents</span> <span onclick=\"getCFP('which')\">which</span> <span onclick=\"getCFP('malice')\">malice</span> <span onclick=\"getCFP('has')\">has</span> <span onclick=\"getCFP('perverted')\">perverted</span> <span onclick=\"getCFP('into')\">into</span> <span onclick=\"getCFP('my')\">my</span> <span onclick=\"getCFP('endeavouring')\">endeavouring</span> <span onclick=\"getCFP('to')\">to</span> <span onclick=\"getCFP('force')\">force</span> <span onclick=\"getCFP('from')\">from</span> <span onclick=\"getCFP('Madame')\">Madame</span> <span onclick=\"getCFP('Rigaud')\">Rigaud</span> <span onclick=\"getCFP('a')\">a</span> <span onclick=\"getCFP('relinquishment')\">relinquishment</span> <span onclick=\"getCFP('of')\">of</span> <span onclick=\"getCFP('her')\">her</span> <span onclick=\"getCFP('rights')\">rights</span>; <span onclick=\"getCFP('and')\">and</span>, <span onclick=\"getCFP('on')\">on</span> <span onclick=\"getCFP('her')\">her</span> <span onclick=\"getCFP('persistence')\">persistence</span> <span onclick=\"getCFP('in')\">in</span> <span onclick=\"getCFP('a')\">a</span> <span onclick=\"getCFP('refusal')\">refusal</span> <span onclick=\"getCFP('to')\">to</span> <span onclick=\"getCFP('make')\">make</span> <span onclick=\"getCFP('the')\">the</span> <span onclick=\"getCFP('concession')\">concession</span> <span onclick=\"getCFP('I')\">I</span> <span onclick=\"getCFP('required')\">required</span>, <span onclick=\"getCFP('struggling')\">struggling</span> <span onclick=\"getCFP('with')\">with</span> <span onclick=\"getCFP('her')\">her</span>--<span onclick=\"getCFP('assassinating')\">assassinating</span> <span onclick=\"getCFP('her')\">her</span>!'</span></p><p><span><span onclick=\"getCFP('He')\">He</span> <span onclick=\"getCFP('stepped')\">stepped</span> <span onclick=\"getCFP('aside')\">aside</span> <span onclick=\"getCFP('to')\">to</span> <span onclick=\"getCFP('the')\">the</span> <span onclick=\"getCFP('ledge')\">ledge</span> <span onclick=\"getCFP('where')\">where</span> <span onclick=\"getCFP('the')\">the</span> <span onclick=\"getCFP('vine')\">vine</span> <span onclick=\"getCFP('leaves')\">leaves</span> <span onclick=\"getCFP('yet')\">yet</span> <span onclick=\"getCFP('lay')\">lay</span> <span onclick=\"getCFP('strewn')\">strewn</span> <span onclick=\"getCFP('about')\">about</span>, <span onclick=\"getCFP('collected')\">collected</span> <span onclick=\"getCFP('two')\">two</span> <span onclick=\"getCFP('or')\">or</span> <span onclick=\"getCFP('three')\">three</span>, <span onclick=\"getCFP('and')\">and</span> <span onclick=\"getCFP('stood')\">stood</span> <span onclick=\"getCFP('wiping')\">wiping</span> <span onclick=\"getCFP('his')\">his</span> <span onclick=\"getCFP('hands')\">hands</span> <span onclick=\"getCFP('upon')\">upon</span> <span onclick=\"getCFP('them')\">them</span>, <span onclick=\"getCFP('with')\">with</span> <span onclick=\"getCFP('his')\">his</span> <span onclick=\"getCFP('back')\">back</span> <span onclick=\"getCFP('to')\">to</span> <span onclick=\"getCFP('the')\">the</span> <span onclick=\"getCFP('light')\">light</span>.</span></p>\n",
        "\n",
        "<p><span>'<span onclick=\"getCFP('Well')\">Well</span>,' <span onclick=\"getCFP('he')\">he</span> <span onclick=\"getCFP('demanded')\">demanded</span> <span onclick=\"getCFP('after')\">after</span> <span onclick=\"getCFP('a')\">a</span> <span onclick=\"getCFP('silence')\">silence</span>, '<span onclick=\"getCFP('have')\">have</span> <span onclick=\"getCFP('you')\">you</span> <span onclick=\"getCFP('nothing')\">nothing</span> <span onclick=\"getCFP('to')\">to</span> <span onclick=\"getCFP('say')\">say</span> <span onclick=\"getCFP('to')\">to</span> <span onclick=\"getCFP('all')\">all</span> <span onclick=\"getCFP('that')\">that</span>?'</span></p><p><span>'<span onclick=\"getCFP('It's')\">It's</span> <span onclick=\"getCFP('ugly')\">ugly</span>,' <span onclick=\"getCFP('returned')\">returned</span> <span onclick=\"getCFP('the')\">the</span> <span onclick=\"getCFP('little')\">little</span> <span onclick=\"getCFP('man')\">man</span>, <span onclick=\"getCFP('who')\">who</span> <span onclick=\"getCFP('had')\">had</span> <span onclick=\"getCFP('risen')\">risen</span>, <span onclick=\"getCFP('and')\">and</span> <span onclick=\"getCFP('was')\">was</span> <span onclick=\"getCFP('brightening')\">brightening</span> <span onclick=\"getCFP('his')\">his</span> <span onclick=\"getCFP('knife')\">knife</span> <span onclick=\"getCFP('upon')\">upon</span> <span onclick=\"getCFP('his')\">his</span> <span onclick=\"getCFP('shoe')\">shoe</span>, <span onclick=\"getCFP('as')\">as</span> <span onclick=\"getCFP('he')\">he</span> <span onclick=\"getCFP('leaned')\">leaned</span> <span onclick=\"getCFP('an')\">an</span> <span onclick=\"getCFP('arm')\">arm</span> <span onclick=\"getCFP('against')\">against</span> <span onclick=\"getCFP('the')\">the</span> <span onclick=\"getCFP('wall')\">wall</span>.</span></p><p><span>'<span onclick=\"getCFP('What')\">What</span> <span onclick=\"getCFP('do')\">do</span> <span onclick=\"getCFP('you')\">you</span> <span onclick=\"getCFP('mean')\">mean</span>?'</span> <span><span onclick=\"getCFP('John')\">John</span> <span onclick=\"getCFP('Baptist')\">Baptist</span> <span onclick=\"getCFP('polished')\">polished</span> <span onclick=\"getCFP('his')\">his</span> <span onclick=\"getCFP('knife')\">knife</span> <span onclick=\"getCFP('in')\">in</span> <span onclick=\"getCFP('silence')\">silence</span>.</span></p><p><span>'<span onclick=\"getCFP('Do')\">Do</span> <span onclick=\"getCFP('you')\">you</span> <span onclick=\"getCFP('mean')\">mean</span> <span onclick=\"getCFP('that')\">that</span> <span onclick=\"getCFP('I')\">I</span> <span onclick=\"getCFP('have')\">have</span> <span onclick=\"getCFP('not')\">not</span> <span onclick=\"getCFP('represented')\">represented</span> <span onclick=\"getCFP('the')\">the</span> <span onclick=\"getCFP('case')\">case</span> <span onclick=\"getCFP('correctly')\">correctly</span>?'</span></p><p><span>'<span onclick=\"getCFP('Al-tro')\">Al-tro</span>!' <span onclick=\"getCFP('returned')\">returned</span> <span onclick=\"getCFP('John')\">John</span> <span onclick=\"getCFP('Baptist')\">Baptist</span>.</span> <span><span onclick=\"getCFP('The')\">The</span> <span onclick=\"getCFP('word')\">word</span> <span onclick=\"getCFP('was')\">was</span> <span onclick=\"getCFP('an')\">an</span> <span onclick=\"getCFP('apology')\">apology</span> <span onclick=\"getCFP('now')\">now</span>, <span onclick=\"getCFP('and')\">and</span> <span onclick=\"getCFP('stood')\">stood</span> <span onclick=\"getCFP('for')\">for</span> '<span onclick=\"getCFP('Oh')\">Oh</span>, <span onclick=\"getCFP('by')\">by</span> <span onclick=\"getCFP('no')\">no</span> <span onclick=\"getCFP('means')\">means</span>!'</span></p><p><span>'<span onclick=\"getCFP('What')\">What</span> <span onclick=\"getCFP('then')\">then</span>?'</span></p><p><span>'<span onclick=\"getCFP('Presidents')\">Presidents</span> <span onclick=\"getCFP('and')\">and</span> <span onclick=\"getCFP('tribunals')\">tribunals</span> <span onclick=\"getCFP('are')\">are</span> <span onclick=\"getCFP('so')\">so</span> <span onclick=\"getCFP('prejudiced')\">prejudiced</span>.'</span></p><p><span>'<span onclick=\"getCFP('Well')\">Well</span>,' <span onclick=\"getCFP('cried')\">cried</span> <span onclick=\"getCFP('the')\">the</span> <span onclick=\"getCFP('other')\">other</span>, <span onclick=\"getCFP('uneasily')\">uneasily</span> <span onclick=\"getCFP('flinging')\">flinging</span> <span onclick=\"getCFP('the')\">the</span> <span onclick=\"getCFP('end')\">end</span> <span onclick=\"getCFP('of')\">of</span> <span onclick=\"getCFP('his')\">his</span> <span onclick=\"getCFP('cloak')\">cloak</span> <span onclick=\"getCFP('over')\">over</span> <span onclick=\"getCFP('his')\">his</span> <span onclick=\"getCFP('shoulder')\">shoulder</span> <span onclick=\"getCFP('with')\">with</span> <span onclick=\"getCFP('an')\">an</span> <span onclick=\"getCFP('oath')\">oath</span>, '<span onclick=\"getCFP('let')\">let</span> <span onclick=\"getCFP('them')\">them</span> <span onclick=\"getCFP('do')\">do</span> <span onclick=\"getCFP('their')\">their</span> <span onclick=\"getCFP('worst')\">worst</span>!'</span></p><p><span>'<span onclick=\"getCFP('Truly')\">Truly</span> <span onclick=\"getCFP('I')\">I</span> <span onclick=\"getCFP('think')\">think</span> <span onclick=\"getCFP('they')\">they</span> <span onclick=\"getCFP('will')\">will</span>,' <span onclick=\"getCFP('murmured')\">murmured</span> <span onclick=\"getCFP('John')\">John</span> <span onclick=\"getCFP('Baptist')\">Baptist</span> <span onclick=\"getCFP('to')\">to</span> <span onclick=\"getCFP('himself')\">himself</span>, <span onclick=\"getCFP('as')\">as</span> <span onclick=\"getCFP('he')\">he</span> <span onclick=\"getCFP('bent')\">bent</span> <span onclick=\"getCFP('his')\">his</span> <span onclick=\"getCFP('head')\">head</span> <span onclick=\"getCFP('to')\">to</span> <span onclick=\"getCFP('put')\">put</span> <span onclick=\"getCFP('his')\">his</span> <span onclick=\"getCFP('knife')\">knife</span> <span onclick=\"getCFP('in')\">in</span> <span onclick=\"getCFP('his')\">his</span> <span onclick=\"getCFP('sash')\">sash</span>.</span></p><p><span><span onclick=\"getCFP('Nothing')\">Nothing</span> <span onclick=\"getCFP('more')\">more</span> <span onclick=\"getCFP('was')\">was</span> <span onclick=\"getCFP('said')\">said</span> <span onclick=\"getCFP('on')\">on</span> <span onclick=\"getCFP('either')\">either</span> <span onclick=\"getCFP('side')\">side</span>, <span onclick=\"getCFP('though')\">though</span> <span onclick=\"getCFP('they')\">they</span> <span onclick=\"getCFP('both')\">both</span> <span onclick=\"getCFP('began')\">began</span> <span onclick=\"getCFP('walking')\">walking</span> <span onclick=\"getCFP('to')\">to</span> <span onclick=\"getCFP('and')\">and</span> <span onclick=\"getCFP('fro')\">fro</span>, <span onclick=\"getCFP('and')\">and</span> <span onclick=\"getCFP('necessarily')\">necessarily</span> <span onclick=\"getCFP('crossed')\">crossed</span> <span onclick=\"getCFP('at')\">at</span> <span onclick=\"getCFP('every')\">every</span> <span onclick=\"getCFP('turn')\">turn</span>.</span> <span><span onclick=\"getCFP('Monsieur')\">Monsieur</span> <span onclick=\"getCFP('Rigaud')\">Rigaud</span> <span onclick=\"getCFP('sometimes')\">sometimes</span> <span onclick=\"getCFP('stopped')\">stopped</span>, <span onclick=\"getCFP('as')\">as</span> <span onclick=\"getCFP('if')\">if</span> <span onclick=\"getCFP('he')\">he</span> <span onclick=\"getCFP('were')\">were</span> <span onclick=\"getCFP('going')\">going</span> <span onclick=\"getCFP('to')\">to</span> <span onclick=\"getCFP('put')\">put</span> <span onclick=\"getCFP('his')\">his</span> <span onclick=\"getCFP('case')\">case</span> <span onclick=\"getCFP('in')\">in</span> <span onclick=\"getCFP('a')\">a</span> <span onclick=\"getCFP('new')\">new</span> <span onclick=\"getCFP('light')\">light</span>, <span onclick=\"getCFP('or')\">or</span> <span onclick=\"getCFP('make')\">make</span> <span onclick=\"getCFP('some')\">some</span> <span onclick=\"getCFP('irate')\">irate</span> <span onclick=\"getCFP('remonstrance')\">remonstrance</span>; <span onclick=\"getCFP('but')\">but</span> <span onclick=\"getCFP('Signor')\">Signor</span> <span onclick=\"getCFP('Cavalletto')\">Cavalletto</span> <span onclick=\"getCFP('continuing')\">continuing</span> <span onclick=\"getCFP('to')\">to</span> <span onclick=\"getCFP('go')\">go</span> <span onclick=\"getCFP('slowly')\">slowly</span> <span onclick=\"getCFP('to')\">to</span> <span onclick=\"getCFP('and')\">and</span> <span onclick=\"getCFP('fro')\">fro</span> <span onclick=\"getCFP('at')\">at</span> <span onclick=\"getCFP('a')\">a</span> <span onclick=\"getCFP('grotesque')\">grotesque</span> <span onclick=\"getCFP('kind')\">kind</span> <span onclick=\"getCFP('of')\">of</span> <span onclick=\"getCFP('jog-trot')\">jog-trot</span> <span onclick=\"getCFP('pace')\">pace</span> <span onclick=\"getCFP('with')\">with</span> <span onclick=\"getCFP('his')\">his</span> <span onclick=\"getCFP('eyes')\">eyes</span> <span onclick=\"getCFP('turned')\">turned</span> <span onclick=\"getCFP('downward')\">downward</span>, <span onclick=\"getCFP('nothing')\">nothing</span> <span onclick=\"getCFP('came')\">came</span> <span onclick=\"getCFP('of')\">of</span> <span onclick=\"getCFP('these')\">these</span> <span onclick=\"getCFP('inclinings')\">inclinings</span>.</span></p>\n",
        "\n",
        "<p><span><span onclick=\"getCFP('By-and-by')\">By-and-by</span> <span onclick=\"getCFP('the')\">the</span> <span onclick=\"getCFP('noise')\">noise</span> <span onclick=\"getCFP('of')\">of</span> <span onclick=\"getCFP('the')\">the</span> <span onclick=\"getCFP('key')\">key</span> <span onclick=\"getCFP('in')\">in</span> <span onclick=\"getCFP('the')\">the</span> <span onclick=\"getCFP('lock')\">lock</span> <span onclick=\"getCFP('arrested')\">arrested</span> <span onclick=\"getCFP('them')\">them</span> <span onclick=\"getCFP('both')\">both</span>.</span> <span><span onclick=\"getCFP('The')\">The</span> <span onclick=\"getCFP('sound')\">sound</span> <span onclick=\"getCFP('of')\">of</span> <span onclick=\"getCFP('voices')\">voices</span> <span onclick=\"getCFP('succeeded')\">succeeded</span>, <span onclick=\"getCFP('and')\">and</span> <span onclick=\"getCFP('the')\">the</span> <span onclick=\"getCFP('tread')\">tread</span> <span onclick=\"getCFP('of')\">of</span> <span onclick=\"getCFP('feet')\">feet</span>.</span> <span><span onclick=\"getCFP('The')\">The</span> <span onclick=\"getCFP('door')\">door</span> <span onclick=\"getCFP('clashed')\">clashed</span>, <span onclick=\"getCFP('the')\">the</span> <span onclick=\"getCFP('voices')\">voices</span> <span onclick=\"getCFP('and')\">and</span> <span onclick=\"getCFP('the')\">the</span> <span onclick=\"getCFP('feet')\">feet</span> <span onclick=\"getCFP('came')\">came</span> <span onclick=\"getCFP('on')\">on</span>, <span onclick=\"getCFP('and')\">and</span> <span onclick=\"getCFP('the')\">the</span> <span onclick=\"getCFP('prison-keeper')\">prison-keeper</span> <span onclick=\"getCFP('slowly')\">slowly</span> <span onclick=\"getCFP('ascended')\">ascended</span> <span onclick=\"getCFP('the')\">the</span> <span onclick=\"getCFP('stairs')\">stairs</span>, <span onclick=\"getCFP('followed')\">followed</span> <span onclick=\"getCFP('by')\">by</span> <span onclick=\"getCFP('a')\">a</span> <span onclick=\"getCFP('guard')\">guard</span> <span onclick=\"getCFP('of')\">of</span> <span onclick=\"getCFP('soldiers')\">soldiers</span>.</span></p>\n",
        "\n",
        "<p><span>'<span onclick=\"getCFP('Now')\">Now</span>, <span onclick=\"getCFP('Monsieur')\">Monsieur</span> <span onclick=\"getCFP('Rigaud')\">Rigaud</span>,' <span onclick=\"getCFP('said')\">said</span> <span onclick=\"getCFP('he')\">he</span>, <span onclick=\"getCFP('pausing')\">pausing</span> <span onclick=\"getCFP('for')\">for</span> <span onclick=\"getCFP('a')\">a</span> <span onclick=\"getCFP('moment')\">moment</span> <span onclick=\"getCFP('at')\">at</span> <span onclick=\"getCFP('the')\">the</span> <span onclick=\"getCFP('grate')\">grate</span>, <span onclick=\"getCFP('with')\">with</span> <span onclick=\"getCFP('his')\">his</span> <span onclick=\"getCFP('keys')\">keys</span> <span onclick=\"getCFP('in')\">in</span> <span onclick=\"getCFP('his')\">his</span> <span onclick=\"getCFP('hands')\">hands</span>, '<span onclick=\"getCFP('have')\">have</span> <span onclick=\"getCFP('the')\">the</span> <span onclick=\"getCFP('goodness')\">goodness</span> <span onclick=\"getCFP('to')\">to</span> <span onclick=\"getCFP('come')\">come</span> <span onclick=\"getCFP('out')\">out</span>.'</span></p><p><span>'<span onclick=\"getCFP('I')\">I</span> <span onclick=\"getCFP('am')\">am</span> <span onclick=\"getCFP('to')\">to</span> <span onclick=\"getCFP('depart')\">depart</span> <span onclick=\"getCFP('in')\">in</span> <span onclick=\"getCFP('state')\">state</span>, <span onclick=\"getCFP('I')\">I</span> <span onclick=\"getCFP('see')\">see</span>?'</span> <span>'<span onclick=\"getCFP('Why')\">Why</span>, <span onclick=\"getCFP('unless')\">unless</span> <span onclick=\"getCFP('you')\">you</span> <span onclick=\"getCFP('did')\">did</span>,' <span onclick=\"getCFP('returned')\">returned</span> <span onclick=\"getCFP('the')\">the</span> <span onclick=\"getCFP('jailer')\">jailer</span>, '<span onclick=\"getCFP('you')\">you</span> <span onclick=\"getCFP('might')\">might</span> <span onclick=\"getCFP('depart')\">depart</span> <span onclick=\"getCFP('in')\">in</span> <span onclick=\"getCFP('so')\">so</span> <span onclick=\"getCFP('many')\">many</span> <span onclick=\"getCFP('pieces')\">pieces</span> <span onclick=\"getCFP('that')\">that</span> <span onclick=\"getCFP('it')\">it</span> <span onclick=\"getCFP('would')\">would</span> <span onclick=\"getCFP('be')\">be</span> <span onclick=\"getCFP('difficult')\">difficult</span> <span onclick=\"getCFP('to')\">to</span> <span onclick=\"getCFP('get')\">get</span> <span onclick=\"getCFP('you')\">you</span> <span onclick=\"getCFP('together')\">together</span> <span onclick=\"getCFP('again')\">again</span>.</span> <span><span onclick=\"getCFP('There's')\">There's</span> <span onclick=\"getCFP('a')\">a</span> <span onclick=\"getCFP('crowd')\">crowd</span>, <span onclick=\"getCFP('Monsieur')\">Monsieur</span> <span onclick=\"getCFP('Rigaud')\">Rigaud</span>, <span onclick=\"getCFP('and')\">and</span> <span onclick=\"getCFP('it')\">it</span> <span onclick=\"getCFP('doesn't')\">doesn't</span> <span onclick=\"getCFP('love')\">love</span> <span onclick=\"getCFP('you')\">you</span>.'</span></p><p><span><span onclick=\"getCFP('He')\">He</span> <span onclick=\"getCFP('passed')\">passed</span> <span onclick=\"getCFP('on')\">on</span> <span onclick=\"getCFP('out')\">out</span> <span onclick=\"getCFP('of')\">of</span> <span onclick=\"getCFP('sight')\">sight</span>, <span onclick=\"getCFP('and')\">and</span> <span onclick=\"getCFP('unlocked')\">unlocked</span> <span onclick=\"getCFP('and')\">and</span> <span onclick=\"getCFP('unbarred')\">unbarred</span> <span onclick=\"getCFP('a')\">a</span> <span onclick=\"getCFP('low')\">low</span> <span onclick=\"getCFP('door')\">door</span> <span onclick=\"getCFP('in')\">in</span> <span onclick=\"getCFP('the')\">the</span> <span onclick=\"getCFP('corner')\">corner</span> <span onclick=\"getCFP('of')\">of</span> <span onclick=\"getCFP('the')\">the</span> <span onclick=\"getCFP('chamber')\">chamber</span>.</span> <span>'<span onclick=\"getCFP('Now')\">Now</span>,' <span onclick=\"getCFP('said')\">said</span> <span onclick=\"getCFP('he')\">he</span>, <span onclick=\"getCFP('as')\">as</span> <span onclick=\"getCFP('he')\">he</span> <span onclick=\"getCFP('opened')\">opened</span> <span onclick=\"getCFP('it')\">it</span> <span onclick=\"getCFP('and')\">and</span> <span onclick=\"getCFP('appeared')\">appeared</span> <span onclick=\"getCFP('within')\">within</span>, '<span onclick=\"getCFP('come')\">come</span> <span onclick=\"getCFP('out')\">out</span>.'</span></p><p><span><span onclick=\"getCFP('There')\">There</span> <span onclick=\"getCFP('is')\">is</span> <span onclick=\"getCFP('no')\">no</span> <span onclick=\"getCFP('sort')\">sort</span> <span onclick=\"getCFP('of')\">of</span> <span onclick=\"getCFP('whiteness')\">whiteness</span> <span onclick=\"getCFP('in')\">in</span> <span onclick=\"getCFP('all')\">all</span> <span onclick=\"getCFP('the')\">the</span> <span onclick=\"getCFP('hues')\">hues</span> <span onclick=\"getCFP('under')\">under</span> <span onclick=\"getCFP('the')\">the</span> <span onclick=\"getCFP('sun')\">sun</span> <span onclick=\"getCFP('at')\">at</span> <span onclick=\"getCFP('all')\">all</span> <span onclick=\"getCFP('like')\">like</span> <span onclick=\"getCFP('the')\">the</span> <span onclick=\"getCFP('whiteness')\">whiteness</span> <span onclick=\"getCFP('of')\">of</span> <span onclick=\"getCFP('Monsieur')\">Monsieur</span> <span onclick=\"getCFP('Rigaud's')\">Rigaud's</span> <span onclick=\"getCFP('face')\">face</span> <span onclick=\"getCFP('as')\">as</span> <span onclick=\"getCFP('it')\">it</span> <span onclick=\"getCFP('was')\">was</span> <span onclick=\"getCFP('then')\">then</span>.</span> <span><span onclick=\"getCFP('Neither')\">Neither</span> <span onclick=\"getCFP('is')\">is</span> <span onclick=\"getCFP('there')\">there</span> <span onclick=\"getCFP('any')\">any</span> <span onclick=\"getCFP('expression')\">expression</span> <span onclick=\"getCFP('of')\">of</span> <span onclick=\"getCFP('the')\">the</span> <span onclick=\"getCFP('human')\">human</span> <span onclick=\"getCFP('countenance')\">countenance</span> <span onclick=\"getCFP('at')\">at</span> <span onclick=\"getCFP('all')\">all</span> <span onclick=\"getCFP('like')\">like</span> <span onclick=\"getCFP('that')\">that</span> <span onclick=\"getCFP('expression')\">expression</span> <span onclick=\"getCFP('in')\">in</span> <span onclick=\"getCFP('every')\">every</span> <span onclick=\"getCFP('little')\">little</span> <span onclick=\"getCFP('line')\">line</span> <span onclick=\"getCFP('of')\">of</span> <span onclick=\"getCFP('which')\">which</span> <span onclick=\"getCFP('the')\">the</span> <span onclick=\"getCFP('frightened')\">frightened</span> <span onclick=\"getCFP('heart')\">heart</span> <span onclick=\"getCFP('is')\">is</span> <span onclick=\"getCFP('seen')\">seen</span> <span onclick=\"getCFP('to')\">to</span> <span onclick=\"getCFP('beat')\">beat</span>.</span> <span><span onclick=\"getCFP('Both')\">Both</span> <span onclick=\"getCFP('are')\">are</span> <span onclick=\"getCFP('conventionally')\">conventionally</span> <span onclick=\"getCFP('compared')\">compared</span> <span onclick=\"getCFP('with')\">with</span> <span onclick=\"getCFP('death')\">death</span>; <span onclick=\"getCFP('but')\">but</span> <span onclick=\"getCFP('the')\">the</span> <span onclick=\"getCFP('difference')\">difference</span> <span onclick=\"getCFP('is')\">is</span> <span onclick=\"getCFP('the')\">the</span> <span onclick=\"getCFP('whole')\">whole</span> <span onclick=\"getCFP('deep')\">deep</span> <span onclick=\"getCFP('gulf')\">gulf</span> <span onclick=\"getCFP('between')\">between</span> <span onclick=\"getCFP('the')\">the</span> <span onclick=\"getCFP('struggle')\">struggle</span> <span onclick=\"getCFP('done')\">done</span>, <span onclick=\"getCFP('and')\">and</span> <span onclick=\"getCFP('the')\">the</span> <span onclick=\"getCFP('fight')\">fight</span> <span onclick=\"getCFP('at')\">at</span> <span onclick=\"getCFP('its')\">its</span> <span onclick=\"getCFP('most')\">most</span> <span onclick=\"getCFP('desperate')\">desperate</span> <span onclick=\"getCFP('extremity')\">extremity</span>.</span></p>\n",
        "\n",
        "<p><span><span onclick=\"getCFP('He')\">He</span> <span onclick=\"getCFP('lighted')\">lighted</span> <span onclick=\"getCFP('another')\">another</span> <span onclick=\"getCFP('of')\">of</span> <span onclick=\"getCFP('his')\">his</span> <span onclick=\"getCFP('paper')\">paper</span> <span onclick=\"getCFP('cigars')\">cigars</span> <span onclick=\"getCFP('at')\">at</span> <span onclick=\"getCFP('his')\">his</span> <span onclick=\"getCFP('companion's')\">companion's</span>; <span onclick=\"getCFP('put')\">put</span> <span onclick=\"getCFP('it')\">it</span> <span onclick=\"getCFP('tightly')\">tightly</span> <span onclick=\"getCFP('between')\">between</span> <span onclick=\"getCFP('his')\">his</span> <span onclick=\"getCFP('teeth')\">teeth</span>; <span onclick=\"getCFP('covered')\">covered</span> <span onclick=\"getCFP('his')\">his</span> <span onclick=\"getCFP('head')\">head</span> <span onclick=\"getCFP('with')\">with</span> <span onclick=\"getCFP('a')\">a</span> <span onclick=\"getCFP('soft')\">soft</span> <span onclick=\"getCFP('slouched')\">slouched</span> <span onclick=\"getCFP('hat')\">hat</span>; <span onclick=\"getCFP('threw')\">threw</span> <span onclick=\"getCFP('the')\">the</span> <span onclick=\"getCFP('end')\">end</span> <span onclick=\"getCFP('of')\">of</span> <span onclick=\"getCFP('his')\">his</span> <span onclick=\"getCFP('cloak')\">cloak</span> <span onclick=\"getCFP('over')\">over</span> <span onclick=\"getCFP('his')\">his</span> <span onclick=\"getCFP('shoulder')\">shoulder</span> <span onclick=\"getCFP('again')\">again</span>; <span onclick=\"getCFP('and')\">and</span> <span onclick=\"getCFP('walked')\">walked</span> <span onclick=\"getCFP('out')\">out</span> <span onclick=\"getCFP('into')\">into</span> <span onclick=\"getCFP('the')\">the</span> <span onclick=\"getCFP('side')\">side</span> <span onclick=\"getCFP('gallery')\">gallery</span> <span onclick=\"getCFP('on')\">on</span> <span onclick=\"getCFP('which')\">which</span> <span onclick=\"getCFP('the')\">the</span> <span onclick=\"getCFP('door')\">door</span> <span onclick=\"getCFP('opened')\">opened</span>, <span onclick=\"getCFP('without')\">without</span> <span onclick=\"getCFP('taking')\">taking</span> <span onclick=\"getCFP('any')\">any</span> <span onclick=\"getCFP('further')\">further</span> <span onclick=\"getCFP('notice')\">notice</span> <span onclick=\"getCFP('of')\">of</span> <span onclick=\"getCFP('Signor')\">Signor</span> <span onclick=\"getCFP('Cavalletto')\">Cavalletto</span>.</span> <span><span onclick=\"getCFP('As')\">As</span> <span onclick=\"getCFP('to')\">to</span> <span onclick=\"getCFP('that')\">that</span> <span onclick=\"getCFP('little')\">little</span> <span onclick=\"getCFP('man')\">man</span> <span onclick=\"getCFP('himself')\">himself</span>, <span onclick=\"getCFP('his')\">his</span> <span onclick=\"getCFP('whole')\">whole</span> <span onclick=\"getCFP('attention')\">attention</span> <span onclick=\"getCFP('had')\">had</span> <span onclick=\"getCFP('become')\">become</span> <span onclick=\"getCFP('absorbed')\">absorbed</span> <span onclick=\"getCFP('in')\">in</span> <span onclick=\"getCFP('getting')\">getting</span> <span onclick=\"getCFP('near')\">near</span> <span onclick=\"getCFP('the')\">the</span> <span onclick=\"getCFP('door')\">door</span> <span onclick=\"getCFP('and')\">and</span> <span onclick=\"getCFP('looking')\">looking</span> <span onclick=\"getCFP('out')\">out</span> <span onclick=\"getCFP('at')\">at</span> <span onclick=\"getCFP('it')\">it</span>.</span> <span><span onclick=\"getCFP('Precisely')\">Precisely</span> <span onclick=\"getCFP('as')\">as</span> <span onclick=\"getCFP('a')\">a</span> <span onclick=\"getCFP('beast')\">beast</span> <span onclick=\"getCFP('might')\">might</span> <span onclick=\"getCFP('approach')\">approach</span> <span onclick=\"getCFP('the')\">the</span> <span onclick=\"getCFP('opened')\">opened</span> <span onclick=\"getCFP('gate')\">gate</span> <span onclick=\"getCFP('of')\">of</span> <span onclick=\"getCFP('his')\">his</span> <span onclick=\"getCFP('den')\">den</span> <span onclick=\"getCFP('and')\">and</span> <span onclick=\"getCFP('eye')\">eye</span> <span onclick=\"getCFP('the')\">the</span> <span onclick=\"getCFP('freedom')\">freedom</span> <span onclick=\"getCFP('beyond')\">beyond</span>, <span onclick=\"getCFP('he')\">he</span> <span onclick=\"getCFP('passed')\">passed</span> <span onclick=\"getCFP('those')\">those</span> <span onclick=\"getCFP('few')\">few</span> <span onclick=\"getCFP('moments')\">moments</span> <span onclick=\"getCFP('in')\">in</span> <span onclick=\"getCFP('watching')\">watching</span> <span onclick=\"getCFP('and')\">and</span> <span onclick=\"getCFP('peering')\">peering</span>, <span onclick=\"getCFP('until')\">until</span> <span onclick=\"getCFP('the')\">the</span> <span onclick=\"getCFP('door')\">door</span> <span onclick=\"getCFP('was')\">was</span> <span onclick=\"getCFP('closed')\">closed</span> <span onclick=\"getCFP('upon')\">upon</span> <span onclick=\"getCFP('him')\">him</span>.</span></p>\n",
        "\n",
        "<p><span><span onclick=\"getCFP('There')\">There</span> <span onclick=\"getCFP('was')\">was</span> <span onclick=\"getCFP('an')\">an</span> <span onclick=\"getCFP('officer')\">officer</span> <span onclick=\"getCFP('in')\">in</span> <span onclick=\"getCFP('command')\">command</span> <span onclick=\"getCFP('of')\">of</span> <span onclick=\"getCFP('the')\">the</span> <span onclick=\"getCFP('soldiers')\">soldiers</span>; <span onclick=\"getCFP('a')\">a</span> <span onclick=\"getCFP('stout')\">stout</span>, <span onclick=\"getCFP('serviceable')\">serviceable</span>, <span onclick=\"getCFP('profoundly')\">profoundly</span> <span onclick=\"getCFP('calm')\">calm</span> <span onclick=\"getCFP('man')\">man</span>, <span onclick=\"getCFP('with')\">with</span> <span onclick=\"getCFP('his')\">his</span> <span onclick=\"getCFP('drawn')\">drawn</span> <span onclick=\"getCFP('sword')\">sword</span> <span onclick=\"getCFP('in')\">in</span> <span onclick=\"getCFP('his')\">his</span> <span onclick=\"getCFP('hand')\">hand</span>, <span onclick=\"getCFP('smoking')\">smoking</span> <span onclick=\"getCFP('a')\">a</span> <span onclick=\"getCFP('cigar')\">cigar</span>.</span> <span><span onclick=\"getCFP('He')\">He</span> <span onclick=\"getCFP('very')\">very</span> <span onclick=\"getCFP('briefly')\">briefly</span> <span onclick=\"getCFP('directed')\">directed</span> <span onclick=\"getCFP('the')\">the</span> <span onclick=\"getCFP('placing')\">placing</span> <span onclick=\"getCFP('of')\">of</span> <span onclick=\"getCFP('Monsieur')\">Monsieur</span> <span onclick=\"getCFP('Rigaud')\">Rigaud</span> <span onclick=\"getCFP('in')\">in</span> <span onclick=\"getCFP('the')\">the</span> <span onclick=\"getCFP('midst')\">midst</span> <span onclick=\"getCFP('of')\">of</span> <span onclick=\"getCFP('the')\">the</span> <span onclick=\"getCFP('party')\">party</span>, <span onclick=\"getCFP('put')\">put</span> <span onclick=\"getCFP('himself')\">himself</span> <span onclick=\"getCFP('with')\">with</span> <span onclick=\"getCFP('consummate')\">consummate</span> <span onclick=\"getCFP('indifference')\">indifference</span> <span onclick=\"getCFP('at')\">at</span> <span onclick=\"getCFP('their')\">their</span> <span onclick=\"getCFP('head')\">head</span>, <span onclick=\"getCFP('gave')\">gave</span> <span onclick=\"getCFP('the')\">the</span> <span onclick=\"getCFP('word')\">word</span> '<span onclick=\"getCFP('march')\">march</span>!' <span onclick=\"getCFP('and')\">and</span> <span onclick=\"getCFP('so')\">so</span> <span onclick=\"getCFP('they')\">they</span> <span onclick=\"getCFP('all')\">all</span> <span onclick=\"getCFP('went')\">went</span> <span onclick=\"getCFP('jingling')\">jingling</span> <span onclick=\"getCFP('down')\">down</span> <span onclick=\"getCFP('the')\">the</span> <span onclick=\"getCFP('staircase')\">staircase</span>.</span> <span><span onclick=\"getCFP('The')\">The</span> <span onclick=\"getCFP('door')\">door</span> <span onclick=\"getCFP('clashed')\">clashed</span>--<span onclick=\"getCFP('the')\">the</span> <span onclick=\"getCFP('key')\">key</span> <span onclick=\"getCFP('turned')\">turned</span>--<span onclick=\"getCFP('and')\">and</span> <span onclick=\"getCFP('a')\">a</span> <span onclick=\"getCFP('ray')\">ray</span> <span onclick=\"getCFP('of')\">of</span> <span onclick=\"getCFP('unusual')\">unusual</span> <span onclick=\"getCFP('light')\">light</span>, <span onclick=\"getCFP('and')\">and</span> <span onclick=\"getCFP('a')\">a</span> <span onclick=\"getCFP('breath')\">breath</span> <span onclick=\"getCFP('of')\">of</span> <span onclick=\"getCFP('unusual')\">unusual</span> <span onclick=\"getCFP('air')\">air</span>, <span onclick=\"getCFP('seemed')\">seemed</span> <span onclick=\"getCFP('to')\">to</span> <span onclick=\"getCFP('have')\">have</span> <span onclick=\"getCFP('passed')\">passed</span> <span onclick=\"getCFP('through')\">through</span> <span onclick=\"getCFP('the')\">the</span> <span onclick=\"getCFP('jail')\">jail</span>, <span onclick=\"getCFP('vanishing')\">vanishing</span> <span onclick=\"getCFP('in')\">in</span> <span onclick=\"getCFP('a')\">a</span> <span onclick=\"getCFP('tiny')\">tiny</span> <span onclick=\"getCFP('wreath')\">wreath</span> <span onclick=\"getCFP('of')\">of</span> <span onclick=\"getCFP('smoke')\">smoke</span> <span onclick=\"getCFP('from')\">from</span> <span onclick=\"getCFP('the')\">the</span> <span onclick=\"getCFP('cigar')\">cigar</span>.</span></p><p><span><span onclick=\"getCFP('Still')\">Still</span>, <span onclick=\"getCFP('in')\">in</span> <span onclick=\"getCFP('his')\">his</span> <span onclick=\"getCFP('captivity')\">captivity</span>, <span onclick=\"getCFP('like')\">like</span> <span onclick=\"getCFP('a')\">a</span> <span onclick=\"getCFP('lower')\">lower</span> <span onclick=\"getCFP('animal')\">animal</span>--<span onclick=\"getCFP('like')\">like</span> <span onclick=\"getCFP('some')\">some</span> <span onclick=\"getCFP('impatient')\">impatient</span> <span onclick=\"getCFP('ape')\">ape</span>, <span onclick=\"getCFP('or')\">or</span> <span onclick=\"getCFP('roused')\">roused</span> <span onclick=\"getCFP('bear')\">bear</span> <span onclick=\"getCFP('of')\">of</span> <span onclick=\"getCFP('the')\">the</span> <span onclick=\"getCFP('smaller')\">smaller</span> <span onclick=\"getCFP('species')\">species</span>--<span onclick=\"getCFP('the')\">the</span> <span onclick=\"getCFP('prisoner')\">prisoner</span>, <span onclick=\"getCFP('now')\">now</span> <span onclick=\"getCFP('left')\">left</span> <span onclick=\"getCFP('solitary')\">solitary</span>, <span onclick=\"getCFP('had')\">had</span> <span onclick=\"getCFP('jumped')\">jumped</span> <span onclick=\"getCFP('upon')\">upon</span> <span onclick=\"getCFP('the')\">the</span> <span onclick=\"getCFP('ledge')\">ledge</span>, <span onclick=\"getCFP('to')\">to</span> <span onclick=\"getCFP('lose')\">lose</span> <span onclick=\"getCFP('no')\">no</span> <span onclick=\"getCFP('glimpse')\">glimpse</span> <span onclick=\"getCFP('of')\">of</span> <span onclick=\"getCFP('this')\">this</span> <span onclick=\"getCFP('departure')\">departure</span>.</span> <span><span onclick=\"getCFP('As')\">As</span> <span onclick=\"getCFP('he')\">he</span> <span onclick=\"getCFP('yet')\">yet</span> <span onclick=\"getCFP('stood')\">stood</span> <span onclick=\"getCFP('clasping')\">clasping</span> <span onclick=\"getCFP('the')\">the</span> <span onclick=\"getCFP('grate')\">grate</span> <span onclick=\"getCFP('with')\">with</span> <span onclick=\"getCFP('both')\">both</span> <span onclick=\"getCFP('hands')\">hands</span>, <span onclick=\"getCFP('an')\">an</span> <span onclick=\"getCFP('uproar')\">uproar</span> <span onclick=\"getCFP('broke')\">broke</span> <span onclick=\"getCFP('upon')\">upon</span> <span onclick=\"getCFP('his')\">his</span> <span onclick=\"getCFP('hearing')\">hearing</span>; <span onclick=\"getCFP('yells')\">yells</span>, <span onclick=\"getCFP('shrieks')\">shrieks</span>, <span onclick=\"getCFP('oaths')\">oaths</span>, <span onclick=\"getCFP('threats')\">threats</span>, <span onclick=\"getCFP('execrations')\">execrations</span>, <span onclick=\"getCFP('all')\">all</span> <span onclick=\"getCFP('comprehended')\">comprehended</span> <span onclick=\"getCFP('in')\">in</span> <span onclick=\"getCFP('it')\">it</span>, <span onclick=\"getCFP('though')\">though</span> (<span onclick=\"getCFP('as')\">as</span> <span onclick=\"getCFP('in')\">in</span> <span onclick=\"getCFP('a')\">a</span> <span onclick=\"getCFP('storm')\">storm</span>) <span onclick=\"getCFP('nothing')\">nothing</span> <span onclick=\"getCFP('but')\">but</span> <span onclick=\"getCFP('a')\">a</span> <span onclick=\"getCFP('raging')\">raging</span> <span onclick=\"getCFP('swell')\">swell</span> <span onclick=\"getCFP('of')\">of</span> <span onclick=\"getCFP('sound')\">sound</span> <span onclick=\"getCFP('distinctly')\">distinctly</span> <span onclick=\"getCFP('heard')\">heard</span>.</span></p>\n",
        "\n",
        "<p><span><span onclick=\"getCFP('Excited')\">Excited</span> <span onclick=\"getCFP('into')\">into</span> <span onclick=\"getCFP('a')\">a</span> <span onclick=\"getCFP('still')\">still</span> <span onclick=\"getCFP('greater')\">greater</span> <span onclick=\"getCFP('resemblance')\">resemblance</span> <span onclick=\"getCFP('to')\">to</span> <span onclick=\"getCFP('a')\">a</span> <span onclick=\"getCFP('caged')\">caged</span> <span onclick=\"getCFP('wild')\">wild</span> <span onclick=\"getCFP('animal')\">animal</span> <span onclick=\"getCFP('by')\">by</span> <span onclick=\"getCFP('his')\">his</span> <span onclick=\"getCFP('anxiety')\">anxiety</span> <span onclick=\"getCFP('to')\">to</span> <span onclick=\"getCFP('know')\">know</span> <span onclick=\"getCFP('more')\">more</span>, <span onclick=\"getCFP('the')\">the</span> <span onclick=\"getCFP('prisoner')\">prisoner</span> <span onclick=\"getCFP('leaped')\">leaped</span> <span onclick=\"getCFP('nimbly')\">nimbly</span> <span onclick=\"getCFP('down')\">down</span>, <span onclick=\"getCFP('ran')\">ran</span> <span onclick=\"getCFP('round')\">round</span> <span onclick=\"getCFP('the')\">the</span> <span onclick=\"getCFP('chamber')\">chamber</span>, <span onclick=\"getCFP('leaped')\">leaped</span> <span onclick=\"getCFP('nimbly')\">nimbly</span> <span onclick=\"getCFP('up')\">up</span> <span onclick=\"getCFP('again')\">again</span>, <span onclick=\"getCFP('clasped')\">clasped</span> <span onclick=\"getCFP('the')\">the</span> <span onclick=\"getCFP('grate')\">grate</span> <span onclick=\"getCFP('and')\">and</span> <span onclick=\"getCFP('tried')\">tried</span> <span onclick=\"getCFP('to')\">to</span> <span onclick=\"getCFP('shake')\">shake</span> <span onclick=\"getCFP('it')\">it</span>, <span onclick=\"getCFP('leaped')\">leaped</span> <span onclick=\"getCFP('down')\">down</span> <span onclick=\"getCFP('and')\">and</span> <span onclick=\"getCFP('ran')\">ran</span>, <span onclick=\"getCFP('leaped')\">leaped</span> <span onclick=\"getCFP('up')\">up</span> <span onclick=\"getCFP('and')\">and</span> <span onclick=\"getCFP('listened')\">listened</span>, <span onclick=\"getCFP('and')\">and</span> <span onclick=\"getCFP('never')\">never</span> <span onclick=\"getCFP('rested')\">rested</span> <span onclick=\"getCFP('until')\">until</span> <span onclick=\"getCFP('the')\">the</span> <span onclick=\"getCFP('noise')\">noise</span>, <span onclick=\"getCFP('becoming')\">becoming</span> <span onclick=\"getCFP('more')\">more</span> <span onclick=\"getCFP('and')\">and</span> <span onclick=\"getCFP('more')\">more</span> <span onclick=\"getCFP('distant')\">distant</span>, <span onclick=\"getCFP('had')\">had</span> <span onclick=\"getCFP('died')\">died</span> <span onclick=\"getCFP('away')\">away</span>.</span> <span><span onclick=\"getCFP('How')\">How</span> <span onclick=\"getCFP('many')\">many</span> <span onclick=\"getCFP('better')\">better</span> <span onclick=\"getCFP('prisoners')\">prisoners</span> <span onclick=\"getCFP('have')\">have</span> <span onclick=\"getCFP('worn')\">worn</span> <span onclick=\"getCFP('their')\">their</span> <span onclick=\"getCFP('noble')\">noble</span> <span onclick=\"getCFP('hearts')\">hearts</span> <span onclick=\"getCFP('out')\">out</span> <span onclick=\"getCFP('so')\">so</span>; <span onclick=\"getCFP('no')\">no</span> <span onclick=\"getCFP('man')\">man</span> <span onclick=\"getCFP('thinking')\">thinking</span> <span onclick=\"getCFP('of')\">of</span> <span onclick=\"getCFP('it')\">it</span>; <span onclick=\"getCFP('not')\">not</span> <span onclick=\"getCFP('even')\">even</span> <span onclick=\"getCFP('the')\">the</span> <span onclick=\"getCFP('beloved')\">beloved</span> <span onclick=\"getCFP('of')\">of</span> <span onclick=\"getCFP('their')\">their</span> <span onclick=\"getCFP('souls')\">souls</span> <span onclick=\"getCFP('realising')\">realising</span> <span onclick=\"getCFP('it')\">it</span>; <span onclick=\"getCFP('great')\">great</span> <span onclick=\"getCFP('kings')\">kings</span> <span onclick=\"getCFP('and')\">and</span> <span onclick=\"getCFP('governors')\">governors</span>, <span onclick=\"getCFP('who')\">who</span> <span onclick=\"getCFP('had')\">had</span> <span onclick=\"getCFP('made')\">made</span> <span onclick=\"getCFP('them')\">them</span> <span onclick=\"getCFP('captive')\">captive</span>, <span onclick=\"getCFP('careering')\">careering</span> <span onclick=\"getCFP('in')\">in</span> <span onclick=\"getCFP('the')\">the</span> <span onclick=\"getCFP('sunlight')\">sunlight</span> <span onclick=\"getCFP('jauntily')\">jauntily</span>, <span onclick=\"getCFP('and')\">and</span> <span onclick=\"getCFP('men')\">men</span> <span onclick=\"getCFP('cheering')\">cheering</span> <span onclick=\"getCFP('them')\">them</span> <span onclick=\"getCFP('on')\">on</span>.</span> <span><span onclick=\"getCFP('Even')\">Even</span> <span onclick=\"getCFP('the')\">the</span> <span onclick=\"getCFP('said')\">said</span> <span onclick=\"getCFP('great')\">great</span> <span onclick=\"getCFP('personages')\">personages</span> <span onclick=\"getCFP('dying')\">dying</span> <span onclick=\"getCFP('in')\">in</span> <span onclick=\"getCFP('bed')\">bed</span>, <span onclick=\"getCFP('making')\">making</span> <span onclick=\"getCFP('exemplary')\">exemplary</span> <span onclick=\"getCFP('ends')\">ends</span> <span onclick=\"getCFP('and')\">and</span> <span onclick=\"getCFP('sounding')\">sounding</span> <span onclick=\"getCFP('speeches')\">speeches</span>; <span onclick=\"getCFP('and')\">and</span> <span onclick=\"getCFP('polite')\">polite</span> <span onclick=\"getCFP('history')\">history</span>, <span onclick=\"getCFP('more')\">more</span> <span onclick=\"getCFP('servile')\">servile</span> <span onclick=\"getCFP('than')\">than</span> <span onclick=\"getCFP('their')\">their</span> <span onclick=\"getCFP('instruments')\">instruments</span>, <span onclick=\"getCFP('embalming')\">embalming</span> <span onclick=\"getCFP('them')\">them</span>!</span></p>\n",
        "\n",
        "<p><span><span onclick=\"getCFP('At')\">At</span> <span onclick=\"getCFP('last')\">last</span>, <span onclick=\"getCFP('John')\">John</span> <span onclick=\"getCFP('Baptist')\">Baptist</span>, <span onclick=\"getCFP('now')\">now</span> <span onclick=\"getCFP('able')\">able</span> <span onclick=\"getCFP('to')\">to</span> <span onclick=\"getCFP('choose')\">choose</span> <span onclick=\"getCFP('his')\">his</span> <span onclick=\"getCFP('own')\">own</span> <span onclick=\"getCFP('spot')\">spot</span> <span onclick=\"getCFP('within')\">within</span> <span onclick=\"getCFP('the')\">the</span> <span onclick=\"getCFP('compass')\">compass</span> <span onclick=\"getCFP('of')\">of</span> <span onclick=\"getCFP('those')\">those</span> <span onclick=\"getCFP('walls')\">walls</span> <span onclick=\"getCFP('for')\">for</span> <span onclick=\"getCFP('the')\">the</span> <span onclick=\"getCFP('exercise')\">exercise</span> <span onclick=\"getCFP('of')\">of</span> <span onclick=\"getCFP('his')\">his</span> <span onclick=\"getCFP('faculty')\">faculty</span> <span onclick=\"getCFP('of')\">of</span> <span onclick=\"getCFP('going')\">going</span> <span onclick=\"getCFP('to')\">to</span> <span onclick=\"getCFP('sleep')\">sleep</span> <span onclick=\"getCFP('when')\">when</span> <span onclick=\"getCFP('he')\">he</span> <span onclick=\"getCFP('would')\">would</span>, <span onclick=\"getCFP('lay')\">lay</span> <span onclick=\"getCFP('down')\">down</span> <span onclick=\"getCFP('upon')\">upon</span> <span onclick=\"getCFP('the')\">the</span> <span onclick=\"getCFP('bench')\">bench</span>, <span onclick=\"getCFP('with')\">with</span> <span onclick=\"getCFP('his')\">his</span> <span onclick=\"getCFP('face')\">face</span> <span onclick=\"getCFP('turned')\">turned</span> <span onclick=\"getCFP('over')\">over</span> <span onclick=\"getCFP('on')\">on</span> <span onclick=\"getCFP('his')\">his</span> <span onclick=\"getCFP('crossed')\">crossed</span> <span onclick=\"getCFP('arms')\">arms</span>, <span onclick=\"getCFP('and')\">and</span> <span onclick=\"getCFP('slumbered')\">slumbered</span>.</span> <span><span onclick=\"getCFP('In')\">In</span> <span onclick=\"getCFP('his')\">his</span> <span onclick=\"getCFP('submission')\">submission</span>, <span onclick=\"getCFP('in')\">in</span> <span onclick=\"getCFP('his')\">his</span> <span onclick=\"getCFP('lightness')\">lightness</span>, <span onclick=\"getCFP('in')\">in</span> <span onclick=\"getCFP('his')\">his</span> <span onclick=\"getCFP('good')\">good</span> <span onclick=\"getCFP('humour')\">humour</span>, <span onclick=\"getCFP('in')\">in</span> <span onclick=\"getCFP('his')\">his</span> <span onclick=\"getCFP('short-lived')\">short-lived</span> <span onclick=\"getCFP('passion')\">passion</span>, <span onclick=\"getCFP('in')\">in</span> <span onclick=\"getCFP('his')\">his</span> <span onclick=\"getCFP('easy')\">easy</span> <span onclick=\"getCFP('contentment')\">contentment</span> <span onclick=\"getCFP('with')\">with</span> <span onclick=\"getCFP('hard')\">hard</span> <span onclick=\"getCFP('bread')\">bread</span> <span onclick=\"getCFP('and')\">and</span> <span onclick=\"getCFP('hard')\">hard</span> <span onclick=\"getCFP('stones')\">stones</span>, <span onclick=\"getCFP('in')\">in</span> <span onclick=\"getCFP('his')\">his</span> <span onclick=\"getCFP('ready')\">ready</span> <span onclick=\"getCFP('sleep')\">sleep</span>, <span onclick=\"getCFP('in')\">in</span> <span onclick=\"getCFP('his')\">his</span> <span onclick=\"getCFP('fits')\">fits</span> <span onclick=\"getCFP('and')\">and</span> <span onclick=\"getCFP('starts')\">starts</span>, <span onclick=\"getCFP('altogether')\">altogether</span> <span onclick=\"getCFP('a')\">a</span> <span onclick=\"getCFP('true')\">true</span> <span onclick=\"getCFP('son')\">son</span> <span onclick=\"getCFP('of')\">of</span> <span onclick=\"getCFP('the')\">the</span> <span onclick=\"getCFP('land')\">land</span> <span onclick=\"getCFP('that')\">that</span> <span onclick=\"getCFP('gave')\">gave</span> <span onclick=\"getCFP('him')\">him</span> <span onclick=\"getCFP('birth')\">birth</span>.</span></p>\n",
        "\n",
        "<p><span><span onclick=\"getCFP('The')\">The</span> <span onclick=\"getCFP('wide')\">wide</span> <span onclick=\"getCFP('stare')\">stare</span> <span onclick=\"getCFP('stared')\">stared</span> <span onclick=\"getCFP('itself')\">itself</span> <span onclick=\"getCFP('out')\">out</span> <span onclick=\"getCFP('for')\">for</span> <span onclick=\"getCFP('one')\">one</span> <span onclick=\"getCFP('while')\">while</span>; <span onclick=\"getCFP('the')\">the</span> <span onclick=\"getCFP('Sun')\">Sun</span> <span onclick=\"getCFP('went')\">went</span> <span onclick=\"getCFP('down')\">down</span> <span onclick=\"getCFP('in')\">in</span> <span onclick=\"getCFP('a')\">a</span> <span onclick=\"getCFP('red')\">red</span>, <span onclick=\"getCFP('green')\">green</span>, <span onclick=\"getCFP('golden')\">golden</span> <span onclick=\"getCFP('glory')\">glory</span>; <span onclick=\"getCFP('the')\">the</span> <span onclick=\"getCFP('stars')\">stars</span> <span onclick=\"getCFP('came')\">came</span> <span onclick=\"getCFP('out')\">out</span> <span onclick=\"getCFP('in')\">in</span> <span onclick=\"getCFP('the')\">the</span> <span onclick=\"getCFP('heavens')\">heavens</span>, <span onclick=\"getCFP('and')\">and</span> <span onclick=\"getCFP('the')\">the</span> <span onclick=\"getCFP('fire-flies')\">fire-flies</span> <span onclick=\"getCFP('mimicked')\">mimicked</span> <span onclick=\"getCFP('them')\">them</span> <span onclick=\"getCFP('in')\">in</span> <span onclick=\"getCFP('the')\">the</span> <span onclick=\"getCFP('lower')\">lower</span> <span onclick=\"getCFP('air')\">air</span>, <span onclick=\"getCFP('as')\">as</span> <span onclick=\"getCFP('men')\">men</span> <span onclick=\"getCFP('may')\">may</span> <span onclick=\"getCFP('feebly')\">feebly</span> <span onclick=\"getCFP('imitate')\">imitate</span> <span onclick=\"getCFP('the')\">the</span> <span onclick=\"getCFP('goodness')\">goodness</span> <span onclick=\"getCFP('of')\">of</span> <span onclick=\"getCFP('a')\">a</span> <span onclick=\"getCFP('better')\">better</span> <span onclick=\"getCFP('order')\">order</span> <span onclick=\"getCFP('of')\">of</span> <span onclick=\"getCFP('beings')\">beings</span>; <span onclick=\"getCFP('the')\">the</span> <span onclick=\"getCFP('long')\">long</span> <span onclick=\"getCFP('dusty')\">dusty</span> <span onclick=\"getCFP('roads')\">roads</span> <span onclick=\"getCFP('and')\">and</span> <span onclick=\"getCFP('the')\">the</span> <span onclick=\"getCFP('interminable')\">interminable</span> <span onclick=\"getCFP('plains')\">plains</span> <span onclick=\"getCFP('were')\">were</span> <span onclick=\"getCFP('in')\">in</span> <span onclick=\"getCFP('repose')\">repose</span>--<span onclick=\"getCFP('and')\">and</span> <span onclick=\"getCFP('so')\">so</span> <span onclick=\"getCFP('deep')\">deep</span> <span onclick=\"getCFP('a')\">a</span> <span onclick=\"getCFP('hush')\">hush</span> <span onclick=\"getCFP('was')\">was</span> <span onclick=\"getCFP('on')\">on</span> <span onclick=\"getCFP('the')\">the</span> <span onclick=\"getCFP('sea')\">sea</span>, <span onclick=\"getCFP('that')\">that</span> <span onclick=\"getCFP('it')\">it</span> <span onclick=\"getCFP('scarcely')\">scarcely</span> <span onclick=\"getCFP('whispered')\">whispered</span> <span onclick=\"getCFP('of')\">of</span> <span onclick=\"getCFP('the')\">the</span> <span onclick=\"getCFP('time')\">time</span> <span onclick=\"getCFP('when')\">when</span> <span onclick=\"getCFP('it')\">it</span> <span onclick=\"getCFP('shall')\">shall</span> <span onclick=\"getCFP('give')\">give</span> <span onclick=\"getCFP('up')\">up</span> <span onclick=\"getCFP('its')\">its</span> <span onclick=\"getCFP('dead')\">dead</span>.</span></p></div>\n",
        "\n"
       ]
      }
     ],
     "prompt_number": 32
    },
    {
     "cell_type": "code",
     "collapsed": false,
     "input": [
      "#FIXME How can you get immediately query for a chapter, \n",
      "# rather than getting all chapters of a book first?\n",
      "query = qf.get_query(session, 'c3.book-idx \"LD\" and div.id = \"LD.1\"')"
     ],
     "language": "python",
     "metadata": {},
     "outputs": [
      {
       "ename": "Diagnostic",
       "evalue": "info:srw/diagnostic/1/10 [Malformed Query]: Unprocessed tokens remain: u'div.id'",
       "output_type": "pyerr",
       "traceback": [
        "\u001b[0;31m---------------------------------------------------------------------------\u001b[0m\n\u001b[0;31mDiagnostic\u001b[0m                                Traceback (most recent call last)",
        "\u001b[0;32m<ipython-input-33-df5402a3a5fc>\u001b[0m in \u001b[0;36m<module>\u001b[0;34m()\u001b[0m\n\u001b[1;32m      1\u001b[0m \u001b[0;31m#FIXME How can you get immediately query for a chapter,\u001b[0m\u001b[0;34m\u001b[0m\u001b[0;34m\u001b[0m\u001b[0m\n\u001b[1;32m      2\u001b[0m \u001b[0;31m# rather than getting all chapters of a book first?\u001b[0m\u001b[0;34m\u001b[0m\u001b[0;34m\u001b[0m\u001b[0m\n\u001b[0;32m----> 3\u001b[0;31m \u001b[0mquery\u001b[0m \u001b[0;34m=\u001b[0m \u001b[0mqf\u001b[0m\u001b[0;34m.\u001b[0m\u001b[0mget_query\u001b[0m\u001b[0;34m(\u001b[0m\u001b[0msession\u001b[0m\u001b[0;34m,\u001b[0m \u001b[0;34m'c3.book-idx \"LD\" and div.id = \"LD.1\"'\u001b[0m\u001b[0;34m)\u001b[0m\u001b[0;34m\u001b[0m\u001b[0m\n\u001b[0m",
        "\u001b[0;32m/home/jdejoode/.virtualenvs/clic/lib/python2.7/site-packages/cheshire3/queryFactory.pyc\u001b[0m in \u001b[0;36mget_query\u001b[0;34m(self, session, data, format, codec, db)\u001b[0m\n\u001b[1;32m    164\u001b[0m             \u001b[0;32mraise\u001b[0m \u001b[0mValueError\u001b[0m\u001b[0;34m(\u001b[0m\u001b[0;34m\"Unknown format: %s\"\u001b[0m \u001b[0;34m%\u001b[0m \u001b[0mformat\u001b[0m\u001b[0;34m)\u001b[0m\u001b[0;34m\u001b[0m\u001b[0m\n\u001b[1;32m    165\u001b[0m \u001b[0;34m\u001b[0m\u001b[0m\n\u001b[0;32m--> 166\u001b[0;31m         \u001b[0mquery\u001b[0m \u001b[0;34m=\u001b[0m \u001b[0mstrm\u001b[0m\u001b[0;34m.\u001b[0m\u001b[0mparse\u001b[0m\u001b[0;34m(\u001b[0m\u001b[0msession\u001b[0m\u001b[0;34m,\u001b[0m \u001b[0mdata\u001b[0m\u001b[0;34m,\u001b[0m \u001b[0mcodec\u001b[0m\u001b[0;34m,\u001b[0m \u001b[0mdb\u001b[0m\u001b[0;34m)\u001b[0m\u001b[0;34m\u001b[0m\u001b[0m\n\u001b[0m\u001b[1;32m    167\u001b[0m         \u001b[0;32mreturn\u001b[0m \u001b[0mquery\u001b[0m\u001b[0;34m\u001b[0m\u001b[0m\n\u001b[1;32m    168\u001b[0m \u001b[0;34m\u001b[0m\u001b[0m\n",
        "\u001b[0;32m/home/jdejoode/.virtualenvs/clic/lib/python2.7/site-packages/cheshire3/queryFactory.pyc\u001b[0m in \u001b[0;36mparse\u001b[0;34m(self, session, data, codec, db)\u001b[0m\n\u001b[1;32m     13\u001b[0m     \u001b[0;32mdef\u001b[0m \u001b[0mparse\u001b[0m\u001b[0;34m(\u001b[0m\u001b[0mself\u001b[0m\u001b[0;34m,\u001b[0m \u001b[0msession\u001b[0m\u001b[0;34m,\u001b[0m \u001b[0mdata\u001b[0m\u001b[0;34m,\u001b[0m \u001b[0mcodec\u001b[0m\u001b[0;34m,\u001b[0m \u001b[0mdb\u001b[0m\u001b[0;34m)\u001b[0m\u001b[0;34m:\u001b[0m\u001b[0;34m\u001b[0m\u001b[0m\n\u001b[1;32m     14\u001b[0m         \u001b[0;31m# XXX check codec, turn into unicode first\u001b[0m\u001b[0;34m\u001b[0m\u001b[0;34m\u001b[0m\u001b[0m\n\u001b[0;32m---> 15\u001b[0;31m         \u001b[0;32mreturn\u001b[0m \u001b[0mcql\u001b[0m\u001b[0;34m.\u001b[0m\u001b[0mparse\u001b[0m\u001b[0;34m(\u001b[0m\u001b[0mdata\u001b[0m\u001b[0;34m)\u001b[0m\u001b[0;34m\u001b[0m\u001b[0m\n\u001b[0m\u001b[1;32m     16\u001b[0m \u001b[0;34m\u001b[0m\u001b[0m\n\u001b[1;32m     17\u001b[0m \u001b[0;34m\u001b[0m\u001b[0m\n",
        "\u001b[0;32m/home/jdejoode/.virtualenvs/clic/lib/python2.7/site-packages/cheshire3/cqlParser.pyc\u001b[0m in \u001b[0;36mparse\u001b[0;34m(query)\u001b[0m\n\u001b[1;32m    918\u001b[0m         diag.details = (\"Unprocessed tokens remain: \" +\n\u001b[1;32m    919\u001b[0m                         repr(parser.currentToken))\n\u001b[0;32m--> 920\u001b[0;31m         \u001b[0;32mraise\u001b[0m \u001b[0mdiag\u001b[0m\u001b[0;34m\u001b[0m\u001b[0m\n\u001b[0m\u001b[1;32m    921\u001b[0m     \u001b[0;32melse\u001b[0m\u001b[0;34m:\u001b[0m\u001b[0;34m\u001b[0m\u001b[0m\n\u001b[1;32m    922\u001b[0m         \u001b[0;32mdel\u001b[0m \u001b[0mlexer\u001b[0m\u001b[0;34m\u001b[0m\u001b[0m\n",
        "\u001b[0;31mDiagnostic\u001b[0m: info:srw/diagnostic/1/10 [Malformed Query]: Unprocessed tokens remain: u'div.id'"
       ]
      }
     ],
     "prompt_number": 33
    },
    {
     "cell_type": "code",
     "collapsed": false,
     "input": [
      "result_set = db.search(session, query)"
     ],
     "language": "python",
     "metadata": {},
     "outputs": [],
     "prompt_number": 34
    },
    {
     "cell_type": "code",
     "collapsed": false,
     "input": [
      "len(result_set)"
     ],
     "language": "python",
     "metadata": {},
     "outputs": [
      {
       "metadata": {},
       "output_type": "pyout",
       "prompt_number": 35,
       "text": [
        "70"
       ]
      }
     ],
     "prompt_number": 35
    },
    {
     "cell_type": "code",
     "collapsed": false,
     "input": [
      "#TODO if recordStore's are unique AND they represent chapters, it could also be possible to simply \n",
      "# get a particular recordStore from Cheshire (without querying the database again).\n"
     ],
     "language": "python",
     "metadata": {},
     "outputs": [],
     "prompt_number": 36
    },
    {
     "cell_type": "markdown",
     "metadata": {},
     "source": [
      "# Searching in a specific book"
     ]
    },
    {
     "cell_type": "code",
     "collapsed": false,
     "input": [
      "query = qf.get_query(session, 'c3.subcorpus-idx = \"dickens\" and c3.chapter-idx = \"fog\" and c3.book-idx = \"BH\"')\n",
      "result_set = db.search(session, query)\n",
      "len(result_set)"
     ],
     "language": "python",
     "metadata": {},
     "outputs": [
      {
       "metadata": {},
       "output_type": "pyout",
       "prompt_number": 37,
       "text": [
        "7"
       ]
      }
     ],
     "prompt_number": 37
    },
    {
     "cell_type": "markdown",
     "metadata": {},
     "source": [
      "# Messing around"
     ]
    },
    {
     "cell_type": "code",
     "collapsed": false,
     "input": [
      "query = qf.get_query(session, 'c3.subcorpus-idx = \"dickens\" \\\n",
      "                            and/cql.proxinfo c3.chapter-idx = \"dense fog\" \\\n",
      "                            ') #and c3.chapter-idx = \"dense\"')"
     ],
     "language": "python",
     "metadata": {},
     "outputs": [],
     "prompt_number": 38
    },
    {
     "cell_type": "code",
     "collapsed": false,
     "input": [
      "rs = db.search(session, query)"
     ],
     "language": "python",
     "metadata": {},
     "outputs": [],
     "prompt_number": 39
    },
    {
     "cell_type": "code",
     "collapsed": false,
     "input": [
      "len(rs)"
     ],
     "language": "python",
     "metadata": {},
     "outputs": [
      {
       "metadata": {},
       "output_type": "pyout",
       "prompt_number": 40,
       "text": [
        "3"
       ]
      }
     ],
     "prompt_number": 40
    },
    {
     "cell_type": "code",
     "collapsed": false,
     "input": [
      "for result in rs:\n",
      "    print result.proxInfo\n",
      "    #FIXME it seems that occurences cannot be trusted?\n",
      "    print result.occurences"
     ],
     "language": "python",
     "metadata": {},
     "outputs": [
      {
       "output_type": "stream",
       "stream": "stdout",
       "text": [
        "[[[0, 391, 2242, 10255], [0, 392, 2248, 15292]]]\n",
        "22\n",
        "[[[0, 1075, 5840, 10255], [0, 1076, 5846, 15292]]]\n",
        "1\n",
        "[[[0, 2640, 14808, 10255], [0, 2641, 14814, 15292]]]\n",
        "2\n"
       ]
      }
     ],
     "prompt_number": 41
    },
    {
     "cell_type": "code",
     "collapsed": false,
     "input": [
      "query = qf.get_query(session, 'c3.subcorpus-idx = \"dickens\" \\\n",
      "                            and/cql.proxinfo c3.chapter-idx = \"the\" \\\n",
      "                            ')"
     ],
     "language": "python",
     "metadata": {},
     "outputs": [],
     "prompt_number": 42
    },
    {
     "cell_type": "code",
     "collapsed": false,
     "input": [
      "query.addPrefix(query, 'test')"
     ],
     "language": "python",
     "metadata": {},
     "outputs": [],
     "prompt_number": 43
    },
    {
     "cell_type": "code",
     "collapsed": false,
     "input": [
      "query.toCQL()"
     ],
     "language": "python",
     "metadata": {},
     "outputs": [
      {
       "metadata": {},
       "output_type": "pyout",
       "prompt_number": 44,
       "text": [
        "u'(><cheshire3.cqlParser.Triple instance at 0x7fba34200830>=\"test\" c3.subcorpus-idx = \"dickens\" and/cql.proxinfo c3.chapter-idx = \"the\")'"
       ]
      }
     ],
     "prompt_number": 44
    },
    {
     "cell_type": "markdown",
     "metadata": {},
     "source": [
      "Phrase search"
     ]
    },
    {
     "cell_type": "code",
     "collapsed": false,
     "input": [
      "query = qf.get_query(session, 'c3.subcorpus-idx = \"dickens\" \\\n",
      "                            and/proxinfo c3.chapter-idx = \"dense fog\" \\\n",
      "                            ')"
     ],
     "language": "python",
     "metadata": {},
     "outputs": [],
     "prompt_number": 45
    },
    {
     "cell_type": "code",
     "collapsed": false,
     "input": [
      "rs = db.search(session, query)"
     ],
     "language": "python",
     "metadata": {},
     "outputs": [],
     "prompt_number": 46
    },
    {
     "cell_type": "code",
     "collapsed": false,
     "input": [
      "total = 0\n",
      "for result in rs:\n",
      "    total += len(result.proxInfo)"
     ],
     "language": "python",
     "metadata": {},
     "outputs": [],
     "prompt_number": 47
    },
    {
     "cell_type": "code",
     "collapsed": false,
     "input": [
      "total"
     ],
     "language": "python",
     "metadata": {},
     "outputs": [
      {
       "metadata": {},
       "output_type": "pyout",
       "prompt_number": 48,
       "text": [
        "3"
       ]
      }
     ],
     "prompt_number": 48
    },
    {
     "cell_type": "markdown",
     "metadata": {},
     "source": [
      "And search"
     ]
    },
    {
     "cell_type": "code",
     "collapsed": false,
     "input": [
      "query = qf.get_query(session, 'c3.subcorpus-idx = \"dickens\" \\\n",
      "                            and/cql.proxinfo c3.chapter-idx = \"fog\" \\\n",
      "                            and c3.chapter-idx = \"dense\"')"
     ],
     "language": "python",
     "metadata": {},
     "outputs": [],
     "prompt_number": 49
    },
    {
     "cell_type": "code",
     "collapsed": false,
     "input": [
      "rs = db.search(session, query)"
     ],
     "language": "python",
     "metadata": {},
     "outputs": [],
     "prompt_number": 50
    },
    {
     "cell_type": "code",
     "collapsed": false,
     "input": [
      "len(rs)"
     ],
     "language": "python",
     "metadata": {},
     "outputs": [
      {
       "metadata": {},
       "output_type": "pyout",
       "prompt_number": 51,
       "text": [
        "8"
       ]
      }
     ],
     "prompt_number": 51
    },
    {
     "cell_type": "markdown",
     "metadata": {},
     "source": [
      "Or search"
     ]
    },
    {
     "cell_type": "code",
     "collapsed": false,
     "input": [
      "query = qf.get_query(session, 'c3.subcorpus-idx = \"dickens\" \\\n",
      "                            and/cql.proxinfo c3.chapter-idx = \"fog\" \\\n",
      "                            or c3.chapter-idx = \"dense\"')\n",
      "rs = db.search(session, query)\n",
      "len(rs)"
     ],
     "language": "python",
     "metadata": {},
     "outputs": [
      {
       "metadata": {},
       "output_type": "pyout",
       "prompt_number": 58,
       "text": [
        "73"
       ]
      }
     ],
     "prompt_number": 58
    },
    {
     "cell_type": "code",
     "collapsed": false,
     "input": [
      "query = qf.get_query(session, 'c3.subcorpus-idx = \"dickens\" \\\n",
      "                               and c3.book-idx = \"LD\"')\n",
      "rs = db.search(session, query)\n",
      "len(rs)"
     ],
     "language": "python",
     "metadata": {},
     "outputs": [
      {
       "metadata": {},
       "output_type": "pyout",
       "prompt_number": 53,
       "text": [
        "70"
       ]
      }
     ],
     "prompt_number": 53
    },
    {
     "cell_type": "code",
     "collapsed": false,
     "input": [
      "query = qf.get_query(session, 'c3.subcorpus-idx = \"dickens\" \\\n",
      "                               and c3.chapter-idx = \"he\" prox/distance=1/unordered c3.chapter-idx = \"said\" \\\n",
      "                               or c3.chapter-idx = \"did\" or c3.chapter-idx = \"wanted\"')\n",
      "rs = db.search(session, query)\n",
      "len(rs)"
     ],
     "language": "python",
     "metadata": {},
     "outputs": [
      {
       "metadata": {},
       "output_type": "pyout",
       "prompt_number": 54,
       "text": [
        "863"
       ]
      }
     ],
     "prompt_number": 54
    },
    {
     "cell_type": "code",
     "collapsed": false,
     "input": [
      "#TODO not\n",
      "#TODO wildcards"
     ],
     "language": "python",
     "metadata": {},
     "outputs": [],
     "prompt_number": 55
    },
    {
     "cell_type": "code",
     "collapsed": false,
     "input": [
      "query = qf.get_query(session, 'c3.subcorpus-idx = \"dickens\" \\\n",
      "                               and c3.chapter-idx window/distance<5/unordered \"low voice\"')\n",
      "rs = db.search(session, query)\n",
      "len(rs)"
     ],
     "language": "python",
     "metadata": {},
     "outputs": [
      {
       "metadata": {},
       "output_type": "pyout",
       "prompt_number": 56,
       "text": [
        "225"
       ]
      }
     ],
     "prompt_number": 56
    },
    {
     "cell_type": "code",
     "collapsed": false,
     "input": [
      "for result in rs:\n",
      "    print result.proxInfo"
     ],
     "language": "python",
     "metadata": {},
     "outputs": [
      {
       "output_type": "stream",
       "stream": "stdout",
       "text": [
        "[[[0, 1192, 5995, 23235], [0, 1193, 5999, 42329]], [[0, 7112, 37499, 23235], [0, 7113, 37503, 42329]], [[0, 7147, 37693, 23235], [0, 7148, 37697, 42329]]]\n",
        "[[[0, 2863, 15852, 23235], [0, 2864, 15856, 42329]]]\n",
        "[[[0, 4664, 25227, 23235], [0, 4665, 25231, 42329]]]\n",
        "[[[0, 166, 890, 23235], [0, 167, 894, 42329]]]\n",
        "[[[0, 6983, 37063, 23235], [0, 6984, 37067, 42329]], [[0, 7198, 38186, 23235], [0, 7199, 38190, 42329]]]\n",
        "[[[0, 324, 1866, 23235], [0, 321, 1849, 42329]]]\n",
        "[[[0, 1300, 6921, 23235], [0, 1301, 6925, 42329]]]\n",
        "[[[0, 4939, 26070, 23235], [0, 4941, 26084, 42329]]]\n",
        "[[[0, 2033, 10839, 23235], [0, 2034, 10843, 42329]]]\n",
        "[[[0, 371, 2046, 23235], [0, 372, 2050, 42329]]]\n",
        "[[[0, 2869, 15413, 23235], [0, 2870, 15417, 42329]]]\n",
        "[[[0, 5276, 28599, 23235], [0, 5278, 28613, 42329]]]\n",
        "[[[0, 2860, 15866, 23235], [0, 2861, 15870, 42329]]]\n",
        "[[[0, 3341, 18932, 23235], [0, 3342, 18936, 42329]]]\n",
        "[[[0, 1318, 7394, 23235], [0, 1319, 7398, 42329]]]\n",
        "[[[0, 219, 1132, 23235], [0, 220, 1136, 42329]]]\n",
        "[[[0, 2683, 14283, 23235], [0, 2684, 14287, 42329]]]\n",
        "[[[0, 1086, 5745, 23235], [0, 1088, 5756, 42329]]]\n",
        "[[[0, 4502, 25269, 23235], [0, 4503, 25273, 42329]]]\n",
        "[[[0, 1305, 7183, 23235], [0, 1307, 7196, 42329]]]\n",
        "[[[0, 493, 2620, 23235], [0, 494, 2624, 42329]], [[0, 3488, 18862, 23235], [0, 3489, 18866, 42329]]]\n",
        "[[[0, 3216, 17102, 23235], [0, 3217, 17106, 42329]]]\n",
        "[[[0, 2469, 13541, 23235], [0, 2470, 13545, 42329]]]\n",
        "[[[0, 573, 3172, 23235], [0, 574, 3176, 42329]]]\n",
        "[[[0, 2364, 13230, 23235], [0, 2365, 13234, 42329]]]\n",
        "[[[0, 2556, 14216, 23235], [0, 2557, 14220, 42329]]]\n",
        "[[[0, 1294, 7155, 23235], [0, 1295, 7159, 42329]]]\n",
        "[[[0, 1405, 7986, 23235], [0, 1406, 7990, 42329]]]\n",
        "[[[0, 1976, 11045, 23235], [0, 1977, 11049, 42329]]]\n",
        "[[[0, 977, 5445, 23235], [0, 978, 5449, 42329]]]\n",
        "[[[0, 951, 5416, 23235], [0, 952, 5420, 42329]]]\n",
        "[[[0, 977, 5371, 23235], [0, 978, 5375, 42329]]]\n",
        "[[[0, 740, 4104, 23235], [0, 741, 4108, 42329]], [[0, 1213, 6766, 23235], [0, 1214, 6770, 42329]]]\n",
        "[[[0, 421, 2330, 23235], [0, 422, 2334, 42329]]]\n",
        "[[[0, 796, 4244, 23235], [0, 798, 4256, 42329]]]\n",
        "[[[0, 3247, 17641, 23235], [0, 3248, 17645, 42329]]]\n",
        "[[[0, 1264, 6978, 23235], [0, 1267, 6990, 42329]]]\n",
        "[[[0, 2609, 14508, 23235], [0, 2611, 14517, 42329]]]\n",
        "[[[0, 2007, 10878, 23235], [0, 2008, 10882, 42329]]]\n",
        "[[[0, 4041, 21907, 23235], [0, 4042, 21911, 42329]]]\n",
        "[[[0, 4917, 26124, 23235], [0, 4919, 26134, 42329]]]\n",
        "[[[0, 2732, 14564, 23235], [0, 2733, 14568, 42329]], [[0, 8018, 42465, 23235], [0, 8019, 42469, 42329]]]\n",
        "[[[0, 1769, 9383, 23235], [0, 1770, 9387, 42329]]]\n",
        "[[[0, 5868, 31731, 23235], [0, 5869, 31735, 42329]]]\n",
        "[[[0, 2996, 16034, 23235], [0, 2997, 16038, 42329]], [[0, 8811, 47303, 23235], [0, 8812, 47307, 42329]]]\n",
        "[[[0, 7040, 39117, 23235], [0, 7041, 39121, 42329]]]\n",
        "[[[0, 2402, 13033, 23235], [0, 2406, 13051, 42329]]]\n",
        "[[[0, 2609, 13846, 23235], [0, 2611, 13860, 42329]], [[0, 3037, 15980, 23235], [0, 3038, 15984, 42329]]]\n",
        "[[[0, 5642, 29591, 23235], [0, 5643, 29595, 42329]]]\n",
        "[[[0, 1357, 7457, 23235], [0, 1358, 7461, 42329]]]\n",
        "[[[0, 6234, 33379, 23235], [0, 6235, 33383, 42329]]]\n",
        "[[[0, 2552, 13031, 23235], [0, 2553, 13035, 42329]]]\n",
        "[[[0, 2906, 16514, 23235], [0, 2904, 16505, 42329]]]\n",
        "[[[0, 4792, 25315, 23235], [0, 4793, 25319, 42329]]]\n",
        "[[[0, 3933, 21574, 23235], [0, 3936, 21598, 42329]]]\n",
        "[[[0, 4232, 22718, 23235], [0, 4234, 22734, 42329]]]\n",
        "[[[0, 2617, 13908, 23235], [0, 2618, 13912, 42329]]]\n",
        "[[[0, 4074, 21571, 23235], [0, 4076, 21585, 42329]]]\n",
        "[[[0, 6989, 36223, 23235], [0, 6990, 36227, 42329]]]\n",
        "[[[0, 2878, 15763, 23235], [0, 2879, 15767, 42329]], [[0, 3769, 20618, 23235], [0, 3770, 20622, 42329]]]\n",
        "[[[0, 2298, 12726, 23235], [0, 2300, 12743, 42329]]]\n",
        "[[[0, 1894, 9980, 23235], [0, 1895, 9984, 42329]]]\n",
        "[[[0, 2631, 14805, 23235], [0, 2632, 14809, 42329]], [[0, 3143, 17692, 23235], [0, 3144, 17696, 42329]]]\n",
        "[[[0, 4087, 22852, 23235], [0, 4088, 22856, 42329]]]\n",
        "[[[0, 2098, 11771, 23235], [0, 2099, 11775, 42329]], [[0, 4192, 23471, 23235], [0, 4193, 23475, 42329]]]\n",
        "[[[0, 3523, 20061, 23235], [0, 3524, 20065, 42329]]]\n",
        "[[[0, 5294, 29908, 23235], [0, 5295, 29912, 42329]]]\n",
        "[[[0, 1725, 9606, 23235], [0, 1726, 9610, 42329]], [[0, 2485, 13940, 23235], [0, 2487, 13956, 42329]]]\n",
        "[[[0, 3078, 17405, 23235], [0, 3079, 17409, 42329]], [[0, 3691, 20807, 23235], [0, 3692, 20811, 42329]]]\n",
        "[[[0, 873, 4753, 23235], [0, 874, 4757, 42329]], [[0, 3481, 19080, 23235], [0, 3482, 19084, 42329]]]\n",
        "[[[0, 3982, 22695, 23235], [0, 3983, 22699, 42329]], [[0, 5893, 33579, 23235], [0, 5894, 33583, 42329]]]\n",
        "[[[0, 5617, 31843, 23235], [0, 5618, 31847, 42329]]]\n",
        "[[[0, 5698, 31930, 23235], [0, 5700, 31941, 42329]]]\n",
        "[[[0, 3604, 20011, 23235], [0, 3605, 20015, 42329]]]\n",
        "[[[0, 1275, 7169, 23235], [0, 1276, 7173, 42329]], [[0, 945, 5391, 23235], [0, 946, 5395, 42329]]]\n",
        "[[[0, 2718, 14995, 23235], [0, 2719, 14999, 42329]], [[0, 3714, 20164, 23235], [0, 3716, 20174, 42329]], [[0, 5923, 32726, 23235], [0, 5924, 32730, 42329]]]\n",
        "[[[0, 3104, 16864, 23235], [0, 3105, 16868, 42329]]]\n",
        "[[[0, 405, 2251, 23235], [0, 406, 2255, 42329]], [[0, 2754, 14879, 23235], [0, 2755, 14883, 42329]]]\n",
        "[[[0, 755, 4260, 23235], [0, 756, 4264, 42329]], [[0, 2339, 12971, 23235], [0, 2340, 12975, 42329]]]\n",
        "[[[0, 491, 2727, 23235], [0, 492, 2731, 42329]]]\n",
        "[[[0, 2460, 13495, 23235], [0, 2461, 13499, 42329]], [[0, 3267, 17944, 23235], [0, 3268, 17948, 42329]]]\n",
        "[[[0, 4728, 26185, 23235], [0, 4730, 26201, 42329]], [[0, 6813, 38119, 23235], [0, 6814, 38123, 42329]]]\n",
        "[[[0, 510, 2874, 23235], [0, 511, 2878, 42329]]]\n",
        "[[[0, 653, 3460, 23235], [0, 651, 3451, 42329]], [[0, 840, 4427, 23235], [0, 841, 4431, 42329]], [[0, 4346, 23627, 23235], [0, 4347, 23631, 42329]]]\n",
        "[[[0, 3230, 17645, 23235], [0, 3231, 17649, 42329]]]\n",
        "[[[0, 3603, 20299, 23235], [0, 3604, 20303, 42329]], [[0, 4468, 25022, 23235], [0, 4471, 25035, 42329]]]\n",
        "[[[0, 1484, 8530, 23235], [0, 1487, 8548, 42329]]]\n",
        "[[[0, 3768, 20534, 23235], [0, 3769, 20538, 42329]]]\n",
        "[[[0, 4516, 24929, 23235], [0, 4517, 24933, 42329]]]\n",
        "[[[0, 1337, 7221, 23235], [0, 1340, 7247, 42329]]]\n",
        "[[[0, 1090, 5936, 23235], [0, 1091, 5940, 42329]]]\n",
        "[[[0, 3680, 20016, 23235], [0, 3681, 20020, 42329]]]\n",
        "[[[0, 1721, 9410, 23235], [0, 1723, 9426, 42329]]]\n",
        "[[[0, 1079, 5877, 23235], [0, 1081, 5890, 42329]]]\n",
        "[[[0, 2487, 13525, 23235], [0, 2488, 13529, 42329]]]\n",
        "[[[0, 1626, 8683, 23235], [0, 1627, 8687, 42329]]]\n",
        "[[[0, 1713, 9191, 23235], [0, 1714, 9195, 42329]]]\n",
        "[[[0, 2330, 12627, 23235], [0, 2331, 12631, 42329]]]\n",
        "[[[0, 416, 2175, 23235], [0, 417, 2179, 42329]], [[0, 3432, 17818, 23235], [0, 3434, 17829, 42329]]]\n",
        "[[[0, 2438, 12896, 23235], [0, 2439, 12900, 42329]], [[0, 4189, 22116, 23235], [0, 4190, 22120, 42329]]]\n",
        "[[[0, 345, 1791, 23235], [0, 348, 1811, 42329]], [[0, 2500, 13029, 23235], [0, 2501, 13033, 42329]]]\n",
        "[[[0, 1611, 9065, 23235], [0, 1612, 9069, 42329]]]\n",
        "[[[0, 2304, 13052, 23235], [0, 2305, 13056, 42329]]]\n",
        "[[[0, 2060, 11174, 23235], [0, 2062, 11184, 42329]]]\n",
        "[[[0, 2138, 12060, 23235], [0, 2139, 12064, 42329]]]\n",
        "[[[0, 983, 5430, 23235], [0, 984, 5434, 42329]]]\n",
        "[[[0, 2063, 11330, 23235], [0, 2064, 11334, 42329]]]\n",
        "[[[0, 2826, 15275, 23235], [0, 2827, 15279, 42329]]]\n",
        "[[[0, 3492, 18767, 23235], [0, 3493, 18771, 42329]]]\n",
        "[[[0, 4493, 24851, 23235], [0, 4495, 24862, 42329]], [[0, 4842, 26793, 23235], [0, 4844, 26806, 42329]]]\n",
        "[[[0, 1943, 11143, 23235], [0, 1945, 11152, 42329]]]\n",
        "[[[0, 3014, 16910, 23235], [0, 3016, 16924, 42329]]]\n",
        "[[[0, 4521, 25392, 23235], [0, 4522, 25396, 42329]]]\n",
        "[[[0, 4794, 26494, 23235], [0, 4795, 26498, 42329]]]\n",
        "[[[0, 3433, 19002, 23235], [0, 3434, 19006, 42329]], [[0, 5171, 28454, 23235], [0, 5172, 28458, 42329]]]\n",
        "[[[0, 2051, 11064, 23235], [0, 2052, 11068, 42329]]]\n",
        "[[[0, 3103, 17660, 23235], [0, 3104, 17664, 42329]]]\n",
        "[[[0, 1959, 10993, 23235], [0, 1957, 10983, 42329]], [[0, 2607, 14567, 23235], [0, 2609, 14573, 42329]]]\n",
        "[[[0, 5102, 28253, 23235], [0, 5103, 28257, 42329]]]\n",
        "[[[0, 7590, 42334, 23235], [0, 7591, 42338, 42329]]]\n",
        "[[[0, 2984, 16452, 23235], [0, 2985, 16456, 42329]], [[0, 8788, 48455, 23235], [0, 8789, 48459, 42329]]]\n",
        "[[[0, 876, 4882, 23235], [0, 879, 4894, 42329]], [[0, 1822, 10207, 23235], [0, 1823, 10211, 42329]]]\n",
        "[[[0, 3967, 22459, 23235], [0, 3968, 22463, 42329]]]\n",
        "[[[0, 370, 2001, 23235], [0, 368, 1991, 42329]]]\n",
        "[[[0, 5584, 30859, 23235], [0, 5585, 30863, 42329]]]\n",
        "[[[0, 4583, 25988, 23235], [0, 4584, 25992, 42329]], [[0, 5446, 30638, 23235], [0, 5447, 30642, 42329]]]\n",
        "[[[0, 3012, 16902, 23235], [0, 3013, 16906, 42329]]]\n",
        "[[[0, 4051, 23009, 23235], [0, 4049, 22999, 42329]]]\n",
        "[[[0, 3345, 18043, 23235], [0, 3346, 18047, 42329]]]\n",
        "[[[0, 6827, 37555, 23235], [0, 6828, 37559, 42329]]]\n",
        "[[[0, 1206, 6450, 23235], [0, 1207, 6454, 42329]], [[0, 4647, 24879, 23235], [0, 4650, 24897, 42329]]]\n",
        "[[[0, 1328, 7072, 23235], [0, 1329, 7076, 42329]]]\n",
        "[[[0, 838, 4895, 23235], [0, 839, 4899, 42329]]]\n",
        "[[[0, 360, 2126, 23235], [0, 361, 2130, 42329]]]\n",
        "[[[0, 4349, 24318, 23235], [0, 4350, 24322, 42329]]]\n",
        "[[[0, 4825, 27600, 23235], [0, 4826, 27604, 42329]]]\n",
        "[[[0, 708, 4090, 23235], [0, 709, 4094, 42329]]]\n",
        "[[[0, 1259, 7323, 23235], [0, 1262, 7335, 42329]]]\n",
        "[[[0, 3817, 22061, 23235], [0, 3818, 22065, 42329]]]\n",
        "[[[0, 3192, 17575, 23235], [0, 3193, 17579, 42329]]]\n",
        "[[[0, 1707, 10167, 23235], [0, 1708, 10171, 42329, 42329]], [[0, 1711, 10185, 23235], [0, 1708, 10171, 42329, 42329]]]\n",
        "[[[0, 3146, 18576, 23235], [0, 3147, 18580, 42329]]]\n",
        "[[[0, 1915, 10761, 23235], [0, 1918, 10773, 42329]]]\n",
        "[[[0, 1662, 9279, 23235], [0, 1665, 9291, 42329]]]\n",
        "[[[0, 1681, 9713, 23235], [0, 1682, 9717, 42329]]]\n",
        "[[[0, 4813, 26880, 23235], [0, 4814, 26884, 42329]]]\n",
        "[[[0, 2806, 15775, 23235], [0, 2807, 15779, 42329]]]\n",
        "[[[0, 1863, 10576, 23235], [0, 1864, 10580, 42329]]]\n",
        "[[[0, 1300, 7272, 23235], [0, 1303, 7288, 42329]], [[0, 1501, 8365, 23235], [0, 1502, 8369, 42329]], [[0, 2957, 16488, 23235], [0, 2959, 16497, 42329]], [[0, 3626, 19968, 23235], [0, 3627, 19972, 42329]]]\n",
        "[[[0, 1335, 7373, 23235], [0, 1336, 7377, 42329]], [[0, 1808, 9946, 23235], [0, 1804, 9928, 42329]]]\n",
        "[[[0, 4028, 21919, 23235], [0, 4029, 21923, 42329]]]\n",
        "[[[0, 4294, 22820, 23235], [0, 4295, 22824, 42329]]]\n",
        "[[[0, 1874, 10446, 23235], [0, 1875, 10450, 42329]]]\n",
        "[[[0, 2043, 11334, 23235], [0, 2044, 11338, 42329]]]\n",
        "[[[0, 2613, 14723, 23235], [0, 2614, 14727, 42329]]]\n",
        "[[[0, 1593, 9108, 23235], [0, 1596, 9120, 42329]]]\n",
        "[[[0, 1098, 6150, 23235], [0, 1096, 6139, 42329]]]\n",
        "[[[0, 3070, 17251, 23235], [0, 3071, 17255, 42329]]]\n",
        "[[[0, 581, 3271, 23235], [0, 582, 3275, 42329]]]\n",
        "[[[0, 160, 952, 23235], [0, 163, 970, 42329]]]\n",
        "[[[0, 2249, 12393, 23235], [0, 2250, 12397, 42329]]]\n",
        "[[[0, 2831, 15513, 23235], [0, 2832, 15517, 42329]]]\n",
        "[[[0, 3042, 16884, 23235], [0, 3043, 16888, 42329]]]\n",
        "[[[0, 4506, 25116, 23235], [0, 4508, 25129, 42329]]]\n",
        "[[[0, 2491, 13585, 23235], [0, 2487, 13563, 42329]]]\n",
        "[[[0, 4281, 24212, 23235], [0, 4282, 24216, 42329]]]\n",
        "[[[0, 3018, 16928, 23235], [0, 3019, 16932, 42329]]]\n",
        "[[[0, 979, 5558, 23235], [0, 980, 5562, 42329]]]\n",
        "[[[0, 233, 1357, 23235], [0, 234, 1361, 42329]], [[0, 4256, 23791, 23235], [0, 4257, 23795, 42329]], [[0, 4510, 25099, 23235], [0, 4511, 25103, 42329]]]\n",
        "[[[0, 3684, 20573, 23235], [0, 3686, 20588, 42329]], [[0, 5795, 32138, 23235], [0, 5796, 32142, 42329]]]\n",
        "[[[0, 6077, 32052, 23235], [0, 6078, 32056, 42329]]]\n",
        "[[[0, 1791, 10222, 23235], [0, 1792, 10226, 42329]], [[0, 3375, 19286, 23235], [0, 3376, 19290, 42329]]]\n",
        "[[[0, 1693, 9453, 23235], [0, 1694, 9457, 42329]], [[0, 1798, 9990, 23235], [0, 1799, 9994, 42329]]]\n",
        "[[[0, 1400, 7937, 23235], [0, 1401, 7941, 42329]]]\n",
        "[[[0, 4240, 22832, 23235], [0, 4237, 22820, 42329]]]\n",
        "[[[0, 2941, 16277, 23235], [0, 2942, 16281, 42329]]]\n",
        "[[[0, 3133, 17536, 23235], [0, 3134, 17540, 42329]]]\n",
        "[[[0, 2968, 16301, 23235], [0, 2969, 16305, 42329]]]\n",
        "[[[0, 2277, 12411, 23235], [0, 2278, 12415, 42329]]]\n",
        "[[[0, 1756, 9618, 23235], [0, 1757, 9622, 42329]], [[0, 4397, 24107, 23235], [0, 4399, 24117, 42329]]]\n",
        "[[[0, 3114, 17105, 23235], [0, 3116, 17117, 42329]]]\n",
        "[[[0, 4032, 21996, 23235], [0, 4034, 22006, 42329]]]\n",
        "[[[0, 3286, 18196, 23235], [0, 3287, 18200, 42329]]]\n",
        "[[[0, 2420, 13718, 23235], [0, 2423, 13737, 42329]]]\n",
        "[[[0, 2063, 11767, 23235], [0, 2064, 11771, 42329]]]\n",
        "[[[0, 1699, 9656, 23235], [0, 1701, 9671, 42329]]]\n",
        "[[[0, 1862, 10578, 23235], [0, 1863, 10582, 42329]]]\n",
        "[[[0, 1675, 9158, 23235], [0, 1676, 9162, 42329]]]\n",
        "[[[0, 1515, 8181, 23235], [0, 1516, 8185, 42329]]]\n",
        "[[[0, 879, 4847, 23235], [0, 880, 4851, 42329]]]\n",
        "[[[0, 960, 5180, 23235], [0, 963, 5195, 42329]]]\n",
        "[[[0, 652, 3630, 23235], [0, 653, 3634, 42329]]]\n",
        "[[[0, 191, 1077, 23235], [0, 192, 1081, 42329]], [[0, 2454, 13779, 23235], [0, 2455, 13783, 42329]]]\n",
        "[[[0, 2832, 15724, 23235], [0, 2835, 15739, 42329]]]\n",
        "[[[0, 1868, 10348, 23235], [0, 1869, 10352, 42329]]]\n",
        "[[[0, 419, 2353, 23235], [0, 420, 2357, 42329]]]\n",
        "[[[0, 2171, 12012, 23235], [0, 2169, 12003, 42329]]]\n",
        "[[[0, 2032, 11122, 23235], [0, 2033, 11126, 42329]]]\n",
        "[[[0, 3359, 18481, 23235], [0, 3360, 18485, 42329]]]\n",
        "[[[0, 2928, 15950, 23235], [0, 2929, 15954, 42329]]]\n",
        "[[[0, 2285, 12730, 23235], [0, 2286, 12734, 42329]]]\n",
        "[[[0, 3726, 21678, 23235], [0, 3727, 21682, 42329]]]\n",
        "[[[0, 1351, 7848, 23235], [0, 1353, 7858, 42329]]]\n",
        "[[[0, 2015, 11498, 23235], [0, 2017, 11513, 42329]]]\n",
        "[[[0, 6473, 35993, 23235], [0, 6474, 35997, 42329]]]\n",
        "[[[0, 4110, 23638, 23235], [0, 4111, 23642, 42329]]]\n",
        "[[[0, 2825, 16123, 23235], [0, 2826, 16127, 42329]]]\n",
        "[[[0, 3807, 21196, 23235], [0, 3808, 21200, 42329]]]\n",
        "[[[0, 2592, 14701, 23235], [0, 2596, 14720, 42329]]]\n",
        "[[[0, 680, 3975, 23235], [0, 681, 3979, 42329]]]\n",
        "[[[0, 3630, 19946, 23235], [0, 3633, 19974, 42329]]]\n",
        "[[[0, 2776, 15687, 23235], [0, 2777, 15691, 42329]]]\n",
        "[[[0, 2243, 11846, 23235], [0, 2244, 11850, 42329]]]\n",
        "[[[0, 2824, 15922, 23235], [0, 2825, 15926, 42329]]]\n",
        "[[[0, 114, 688, 23235], [0, 116, 698, 42329]]]\n",
        "[[[0, 3450, 19435, 23235], [0, 3453, 19447, 42329]]]\n",
        "[[[0, 1783, 9750, 23235], [0, 1784, 9754, 42329]]]\n",
        "[[[0, 3284, 18569, 23235], [0, 3285, 18573, 42329]]]\n",
        "[[[0, 1924, 10447, 23235], [0, 1925, 10451, 42329]]]\n",
        "[[[0, 850, 4763, 23235], [0, 851, 4767, 42329]], [[0, 904, 5073, 23235], [0, 905, 5077, 42329]], [[0, 1515, 8396, 23235], [0, 1516, 8400, 42329]]]\n",
        "[[[0, 591, 3355, 23235], [0, 592, 3359, 42329]]]\n",
        "[[[0, 2166, 12361, 23235], [0, 2167, 12365, 42329]]]\n",
        "[[[0, 586, 3325, 23235], [0, 582, 3306, 42329]]]\n",
        "[[[0, 1440, 7950, 23235], [0, 1441, 7954, 42329]]]\n",
        "[[[0, 654, 3666, 23235], [0, 655, 3670, 42329]]]\n"
       ]
      }
     ],
     "prompt_number": 57
    },
    {
     "cell_type": "code",
     "collapsed": false,
     "input": [
      "query = qf.get_query(session, 'c3.subcorpus-idx = \"dickens\" \\\n",
      "                               and c3.chapter-idx window/distance<5/unordered \"voice low\"')\n",
      "rs = db.search(session, query)\n",
      "len(rs)"
     ],
     "language": "python",
     "metadata": {},
     "outputs": [
      {
       "metadata": {},
       "output_type": "pyout",
       "prompt_number": 59,
       "text": [
        "225"
       ]
      }
     ],
     "prompt_number": 59
    },
    {
     "cell_type": "code",
     "collapsed": false,
     "input": [
      "query = qf.get_query(session, 'c3.subcorpus-idx = \"dickens\" \\\n",
      "                               and c3.chapter-idx window/distance<5/unordered \"low high\"')\n",
      "rs = db.search(session, query)\n",
      "len(rs)"
     ],
     "language": "python",
     "metadata": {},
     "outputs": [
      {
       "metadata": {},
       "output_type": "pyout",
       "prompt_number": 60,
       "text": [
        "23"
       ]
      }
     ],
     "prompt_number": 60
    },
    {
     "cell_type": "code",
     "collapsed": false,
     "input": [
      "query = qf.get_query(session, 'c3.subcorpus-idx = \"dickens\" \\\n",
      "                               and c3.chapter-idx window/distance<3 \"Mr Arthur said\"')\n",
      "rs = db.search(session, query)\n",
      "len(rs)"
     ],
     "language": "python",
     "metadata": {},
     "outputs": [
      {
       "metadata": {},
       "output_type": "pyout",
       "prompt_number": 61,
       "text": [
        "2"
       ]
      }
     ],
     "prompt_number": 61
    },
    {
     "cell_type": "code",
     "collapsed": false,
     "input": [],
     "language": "python",
     "metadata": {},
     "outputs": []
    }
   ],
   "metadata": {}
  }
 ]
}