{
 "metadata": {
  "name": "",
  "signature": "sha256:70569c2ac752b78d83093cc1725c9c809b1ebf4120b8729957907313268f2d70"
 },
 "nbformat": 3,
 "nbformat_minor": 0,
 "worksheets": [
  {
   "cells": [
    {
     "cell_type": "heading",
     "level": 1,
     "metadata": {},
     "source": [
      "Basic setup"
     ]
    },
    {
     "cell_type": "code",
     "collapsed": false,
     "input": [
      "# coding: utf-8\n",
      "\n",
      "import os\n",
      "\n",
      "from cheshire3.baseObjects import Session\n",
      "from cheshire3.document import StringDocument\n",
      "from cheshire3.internal import cheshire3Root\n",
      "from cheshire3.server import SimpleServer   \n",
      "\n",
      "session = Session()\n",
      "session.database = 'db_dickens'\n",
      "serv = SimpleServer(session, os.path.join(cheshire3Root, 'configs', 'serverConfig.xml'))\n",
      "db = serv.get_object(session, session.database)\n",
      "qf = db.get_object(session, 'defaultQueryFactory')\n",
      "resultSetStore = db.get_object(session, 'resultSetStore')\n",
      "idxStore = db.get_object(session, 'indexStore')"
     ],
     "language": "python",
     "metadata": {},
     "outputs": [],
     "prompt_number": 1
    },
    {
     "cell_type": "markdown",
     "metadata": {},
     "source": [
      "## The problems\n",
      "When using the *any* search function to search for two different terms, the results are wrong.\n",
      "\n",
      "Problem 1: searching for **`fog OR dense`** is not the same as **`dense OR fog`**.\n",
      "\n",
      "Problem 2: Second, the counts for **`fog OR dense`** are off. \n",
      "\n",
      "Currently, there are 150 results for **`fog OR dense`** and 221 for **`dense OR fog`**, but there should be many more (142 or 144 if one counts compound nouns)."
     ]
    },
    {
     "cell_type": "code",
     "collapsed": false,
     "input": [
      "# This is the query that is currently being used.\n",
      "# The count is the number of chapters\n",
      "\n",
      "query = qf.get_query(session, \"\"\"              \n",
      "                     ((c3.subcorpus-idx all \"dickens\" and/cql.proxinfo c3.chapter-idx = \"fog\") or c3.chapter-idx = \"dense\")\n",
      "                     \"\"\")\n",
      "result_set = db.search(session, query)\n",
      "print len(result_set)"
     ],
     "language": "python",
     "metadata": {},
     "outputs": [
      {
       "output_type": "stream",
       "stream": "stdout",
       "text": [
        "112\n"
       ]
      }
     ],
     "prompt_number": 6
    },
    {
     "cell_type": "code",
     "collapsed": false,
     "input": [
      "# To get a  more speficic count one also needs to include the numbers of hits \n",
      "# in the different chapters\n",
      "\n",
      "def count_total(result_set):\n",
      "    \"\"\"\n",
      "    Helper function to count the total number of hits\n",
      "    in the search results\n",
      "    \"\"\"\n",
      "    count = 0 \n",
      "    for result in result_set:\n",
      "        count += len(result.proxInfo)\n",
      "    return count"
     ],
     "language": "python",
     "metadata": {},
     "outputs": [],
     "prompt_number": 8
    },
    {
     "cell_type": "code",
     "collapsed": false,
     "input": [
      "count_total(result_set)"
     ],
     "language": "python",
     "metadata": {},
     "outputs": [
      {
       "metadata": {},
       "output_type": "pyout",
       "prompt_number": 9,
       "text": [
        "150"
       ]
      }
     ],
     "prompt_number": 9
    },
    {
     "cell_type": "code",
     "collapsed": false,
     "input": [
      "def try_query(query):\n",
      "    \"\"\"\n",
      "    Another helper function to take a query and return\n",
      "    the total number of hits\n",
      "    \"\"\"\n",
      "    query = qf.get_query(session, query)\n",
      "    result_set = db.search(session, query)\n",
      "    return count_total(result_set)"
     ],
     "language": "python",
     "metadata": {},
     "outputs": [],
     "prompt_number": 11
    },
    {
     "cell_type": "markdown",
     "metadata": {},
     "source": [
      "## Solving problem 1"
     ]
    },
    {
     "cell_type": "markdown",
     "metadata": {},
     "source": [
      "This query gets wrong results because it the OR query is poorly constructed"
     ]
    },
    {
     "cell_type": "code",
     "collapsed": false,
     "input": [
      "try_query(\"\"\"\n",
      "           ((c3.subcorpus-idx all \"dickens\" and/cql.proxinfo c3.chapter-idx = \"dense\") or c3.chapter-idx = \"fog\")\n",
      "           \"\"\"\n",
      "           )"
     ],
     "language": "python",
     "metadata": {},
     "outputs": [
      {
       "metadata": {},
       "output_type": "pyout",
       "prompt_number": 13,
       "text": [
        "221"
       ]
      }
     ],
     "prompt_number": 13
    },
    {
     "cell_type": "markdown",
     "metadata": {},
     "source": [
      "Properly structuring the OR clause takes away the problem of having different results for\n",
      "\n",
      "    for OR dense\n",
      "    dense OR fog"
     ]
    },
    {
     "cell_type": "markdown",
     "metadata": {},
     "source": [
      "Option 1"
     ]
    },
    {
     "cell_type": "code",
     "collapsed": false,
     "input": [
      "try_query(\"\"\"\n",
      "           (c3.subcorpus-idx all \"dickens\" and/cql.proxinfo (c3.chapter-idx = \"dense\" or c3.chapter-idx = \"fog\"))\n",
      "           \"\"\"\n",
      "           )"
     ],
     "language": "python",
     "metadata": {},
     "outputs": [
      {
       "metadata": {},
       "output_type": "pyout",
       "prompt_number": 14,
       "text": [
        "107"
       ]
      }
     ],
     "prompt_number": 14
    },
    {
     "cell_type": "markdown",
     "metadata": {},
     "source": [
      "Option 2"
     ]
    },
    {
     "cell_type": "code",
     "collapsed": false,
     "input": [
      "try_query(\"\"\"\n",
      "           (c3.subcorpus-idx all \"dickens\" and/cql.proxinfo c3.chapter-idx any \"dense fog\")\n",
      "           \"\"\"\n",
      "           )"
     ],
     "language": "python",
     "metadata": {},
     "outputs": [
      {
       "metadata": {},
       "output_type": "pyout",
       "prompt_number": 9,
       "text": [
        "107"
       ]
      }
     ],
     "prompt_number": 9
    },
    {
     "cell_type": "code",
     "collapsed": false,
     "input": [
      "try_query(\"\"\"\n",
      "           (c3.subcorpus-idx all \"dickens\" and/cql.proxinfo c3.chapter-idx any \"fog dense\")\n",
      "           \"\"\"\n",
      "           )"
     ],
     "language": "python",
     "metadata": {},
     "outputs": [
      {
       "metadata": {},
       "output_type": "pyout",
       "prompt_number": 10,
       "text": [
        "107"
       ]
      }
     ],
     "prompt_number": 10
    },
    {
     "cell_type": "markdown",
     "metadata": {},
     "source": [
      "Option 3: the verbose one"
     ]
    },
    {
     "cell_type": "code",
     "collapsed": false,
     "input": [
      "try_query(\"\"\"\n",
      "           ((c3.subcorpus-idx all \"dickens\" and/cql.proxinfo c3.chapter-idx = \"dense\") or \n",
      "           (c3.subcorpus-idx all \"dickens\" and/cql.proxinfo c3.chapter-idx = \"fog\"))\n",
      "           \"\"\"\n",
      "           )"
     ],
     "language": "python",
     "metadata": {},
     "outputs": [
      {
       "metadata": {},
       "output_type": "pyout",
       "prompt_number": 35,
       "text": [
        "107"
       ]
      }
     ],
     "prompt_number": 35
    },
    {
     "cell_type": "heading",
     "level": 2,
     "metadata": {},
     "source": [
      "Solving problem 2"
     ]
    },
    {
     "cell_type": "markdown",
     "metadata": {},
     "source": [
      "To really get the right results, though, one should not just use\n",
      "any, but rather any/cql.proxinfo.  "
     ]
    },
    {
     "cell_type": "code",
     "collapsed": false,
     "input": [
      "try_query(\"\"\"\n",
      "           (c3.subcorpus-idx all \"dickens\" and/proxinfo (c3.chapter-idx = \"dense\" or/proxinfo c3.chapter-idx = \"fog\"))\n",
      "           \"\"\"\n",
      "           )"
     ],
     "language": "python",
     "metadata": {},
     "outputs": [
      {
       "metadata": {},
       "output_type": "pyout",
       "prompt_number": 11,
       "text": [
        "142"
       ]
      }
     ],
     "prompt_number": 11
    },
    {
     "cell_type": "markdown",
     "metadata": {},
     "source": [
      "Or in its simpler form:"
     ]
    },
    {
     "cell_type": "code",
     "collapsed": false,
     "input": [
      "try_query(\"\"\"\n",
      "           (c3.subcorpus-idx all \"dickens\" and/cql.proxinfo c3.chapter-idx any/proxinfo \"fog dense\")\n",
      "           \"\"\"\n",
      "           )"
     ],
     "language": "python",
     "metadata": {},
     "outputs": [
      {
       "metadata": {},
       "output_type": "pyout",
       "prompt_number": 30,
       "text": [
        "142"
       ]
      }
     ],
     "prompt_number": 30
    },
    {
     "cell_type": "markdown",
     "metadata": {},
     "source": [
      "This does not seem to be affected by whether you mention cql or not (that is a cql specification, if I am not wrong)."
     ]
    },
    {
     "cell_type": "code",
     "collapsed": false,
     "input": [
      "try_query(\"\"\"\n",
      "           (c3.subcorpus-idx all \"dickens\" and/cql.proxinfo c3.chapter-idx any/cql.proxinfo \"fog dense\")\n",
      "           \"\"\"\n",
      "           )"
     ],
     "language": "python",
     "metadata": {},
     "outputs": [
      {
       "metadata": {},
       "output_type": "pyout",
       "prompt_number": 31,
       "text": [
        "142"
       ]
      }
     ],
     "prompt_number": 31
    },
    {
     "cell_type": "markdown",
     "metadata": {},
     "source": [
      "The counts are now correct:"
     ]
    },
    {
     "cell_type": "code",
     "collapsed": false,
     "input": [
      "dense = try_query(\"\"\"(c3.subcorpus-idx all \"dickens\" and/cql.proxinfo c3.chapter-idx = \"dense\")\"\"\")\n",
      "print dense"
     ],
     "language": "python",
     "metadata": {},
     "outputs": [
      {
       "output_type": "stream",
       "stream": "stdout",
       "text": [
        "48\n"
       ]
      }
     ],
     "prompt_number": 22
    },
    {
     "cell_type": "code",
     "collapsed": false,
     "input": [
      "fog = try_query(\"\"\"(c3.subcorpus-idx all \"dickens\" and/cql.proxinfo c3.chapter-idx = \"fog\")\"\"\")\n",
      "print fog"
     ],
     "language": "python",
     "metadata": {},
     "outputs": [
      {
       "output_type": "stream",
       "stream": "stdout",
       "text": [
        "94\n"
       ]
      }
     ],
     "prompt_number": 24
    },
    {
     "cell_type": "code",
     "collapsed": false,
     "input": [
      "dense + fog"
     ],
     "language": "python",
     "metadata": {},
     "outputs": [
      {
       "metadata": {},
       "output_type": "pyout",
       "prompt_number": 25,
       "text": [
        "142"
       ]
      }
     ],
     "prompt_number": 25
    },
    {
     "cell_type": "heading",
     "level": 1,
     "metadata": {},
     "source": [
      "More exploration"
     ]
    },
    {
     "cell_type": "heading",
     "level": 2,
     "metadata": {},
     "source": [
      "'And' or 'All' searches"
     ]
    },
    {
     "cell_type": "code",
     "collapsed": false,
     "input": [
      "# Chapters in which both terms occur [I don't know how far one from the other, cf. #TODO above]\n",
      "try_query(\"\"\"\n",
      "           (c3.subcorpus-idx all \"dickens\" and/cql.proxinfo c3.chapter-idx all/cql.proxinfo \"fog dense\")\n",
      "           \"\"\"\n",
      "           )"
     ],
     "language": "python",
     "metadata": {},
     "outputs": [
      {
       "metadata": {},
       "output_type": "pyout",
       "prompt_number": 50,
       "text": [
        "44"
       ]
      }
     ],
     "prompt_number": 50
    },
    {
     "cell_type": "heading",
     "level": 2,
     "metadata": {},
     "source": [
      "Searching the entire corpus"
     ]
    },
    {
     "cell_type": "code",
     "collapsed": false,
     "input": [
      "# Occurences for fog in the entire corpus\n",
      "try_query(\"\"\"(c3.chapter-idx = \"fog\")\"\"\")"
     ],
     "language": "python",
     "metadata": {},
     "outputs": [
      {
       "metadata": {},
       "output_type": "pyout",
       "prompt_number": 56,
       "text": [
        "182"
       ]
      }
     ],
     "prompt_number": 56
    },
    {
     "cell_type": "code",
     "collapsed": false,
     "input": [
      "fog_in_dickens = try_query(\"\"\"(c3.subcorpus-idx all \"dickens\" and/cql.proxinfo c3.chapter-idx = \"fog\")\"\"\")\n",
      "print fog_in_dickens"
     ],
     "language": "python",
     "metadata": {},
     "outputs": [
      {
       "output_type": "stream",
       "stream": "stdout",
       "text": [
        "94\n"
       ]
      }
     ],
     "prompt_number": 57
    },
    {
     "cell_type": "code",
     "collapsed": false,
     "input": [
      "fog_in_ntc = try_query(\"\"\"(c3.subcorpus-idx all \"ntc\" and/cql.proxinfo c3.chapter-idx = \"fog\")\"\"\")\n",
      "print fog_in_ntc"
     ],
     "language": "python",
     "metadata": {},
     "outputs": [
      {
       "output_type": "stream",
       "stream": "stdout",
       "text": [
        "88\n"
       ]
      }
     ],
     "prompt_number": 58
    },
    {
     "cell_type": "code",
     "collapsed": false,
     "input": [
      "fog_in_dickens + fog_in_ntc"
     ],
     "language": "python",
     "metadata": {},
     "outputs": [
      {
       "metadata": {},
       "output_type": "pyout",
       "prompt_number": 59,
       "text": [
        "182"
       ]
      }
     ],
     "prompt_number": 59
    },
    {
     "cell_type": "heading",
     "level": 2,
     "metadata": {},
     "source": [
      "'Not' searches"
     ]
    },
    {
     "cell_type": "markdown",
     "metadata": {},
     "source": [
      "If we'd want to know where dense occurs, but without fog:"
     ]
    },
    {
     "cell_type": "code",
     "collapsed": false,
     "input": [
      "try_query(\"\"\"\n",
      "           (c3.subcorpus-idx all \"dickens\" and/cql.proxinfo c3.chapter-idx = \"dense\" not c3.chapter-idx = \"fog\")\n",
      "           \"\"\"\n",
      "           )"
     ],
     "language": "python",
     "metadata": {},
     "outputs": [
      {
       "metadata": {},
       "output_type": "pyout",
       "prompt_number": 55,
       "text": [
        "39"
       ]
      }
     ],
     "prompt_number": 55
    },
    {
     "cell_type": "heading",
     "level": 2,
     "metadata": {},
     "source": [
      "Phrase searching"
     ]
    },
    {
     "cell_type": "code",
     "collapsed": false,
     "input": [
      "# searching for a phrase\n",
      "try_query(\"\"\"\n",
      "           (c3.subcorpus-idx ALL \"dickens\" and/cql.proxinfo (c3.chapter-idx = \"dense fog\"))\n",
      "           \"\"\"\n",
      "           )"
     ],
     "language": "python",
     "metadata": {},
     "outputs": [
      {
       "metadata": {},
       "output_type": "pyout",
       "prompt_number": 61,
       "text": [
        "3"
       ]
      }
     ],
     "prompt_number": 61
    },
    {
     "cell_type": "code",
     "collapsed": false,
     "input": [
      "# not sure what difference the any here makes...\n",
      "try_query(\"\"\"\n",
      "           (c3.subcorpus-idx ANY \"dickens\" and/cql.proxinfo (c3.chapter-idx = \"dense fog\"))\n",
      "           \"\"\"\n",
      "           )"
     ],
     "language": "python",
     "metadata": {},
     "outputs": [
      {
       "metadata": {},
       "output_type": "pyout",
       "prompt_number": 67,
       "text": [
        "3"
       ]
      }
     ],
     "prompt_number": 67
    }
   ],
   "metadata": {}
  }
 ]
}